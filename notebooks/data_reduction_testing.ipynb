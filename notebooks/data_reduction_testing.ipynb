{
 "cells": [
  {
   "cell_type": "code",
   "execution_count": null,
   "id": "77c15897",
   "metadata": {},
   "outputs": [],
   "source": [
    "import numpy as np\n",
    "from scipy.stats import pearsonr\n",
    "import sys\n",
    "sys.path.append('')\n",
    "\n",
    "from data.data_retriever import Dataretreiver"
   ]
  },
  {
   "cell_type": "code",
   "execution_count": 3,
   "id": "da758b75",
   "metadata": {},
   "outputs": [],
   "source": [
    "%load_ext autoreload\n",
    "%autoreload 2"
   ]
  },
  {
   "cell_type": "code",
   "execution_count": null,
   "id": "2aa525bc",
   "metadata": {},
   "outputs": [],
   "source": [
    "data = Dataretreiver(reduce='pca_pure', debug=True)\n"
   ]
  },
  {
   "cell_type": "code",
   "execution_count": null,
   "id": "b7cbbb0d",
   "metadata": {},
   "outputs": [],
   "source": [
    "last_date = wind_df.index[-1]\n",
    "elec_df = elec_df[:last_date]\n",
    "wind_df.tail(), elec_df.tail()"
   ]
  },
  {
   "cell_type": "code",
   "execution_count": null,
   "id": "7298811c",
   "metadata": {},
   "outputs": [],
   "source": [
    "correlations = {}\n",
    "for col in wind_df.columns:\n",
    "    corr, _ = pearsonr(wind_df[col], elec_df['price'])\n",
    "    correlations[col] = corr\n",
    "\n",
    "sorted_cols = sorted(correlations.items(), key=lambda x: abs(x[1]), reverse=True)\n",
    "\n",
    "n_points = 10 \n",
    "top_columns = [col for col, corr in sorted_cols[:n_points]]\n",
    "print(sorted_cols)\n",
    "print(f\"Top {n_points} wind points most correlated with price:\")\n",
    "for col in top_columns:\n",
    "    print(f\"{col}: correlation = {correlations[col]:.4f}\")\n",
    "\n",
    "reduced_data = wind_df[top_columns]\n",
    "\n",
    "full_training_data = reduced_data.join(elec_df)\n",
    "\n",
    "print(\"\\nReduced feature set (head):\")\n",
    "print(full_training_data.head())\n"
   ]
  },
  {
   "cell_type": "code",
   "execution_count": null,
   "id": "1114baba",
   "metadata": {},
   "outputs": [],
   "source": [
    "import numpy as np\n",
    "import pandas as pd\n",
    "from sklearn.decomposition import PCA\n",
    "from sklearn.cluster import KMeans\n",
    "from sklearn.preprocessing import StandardScaler\n",
    "import matplotlib.pyplot as plt\n",
    "\n",
    "scaler = StandardScaler()\n",
    "data_scaled = pd.DataFrame(\n",
    "    scaler.fit_transform(wind_df),\n",
    "    index=wind_df.index,\n",
    "    columns=wind_df.columns\n",
    ")\n",
    "\n",
    "n_pca_components = 10 \n",
    "pca = PCA(n_components=n_pca_components)\n",
    "pca_features = pca.fit_transform(data_scaled.T)  \n",
    "\n",
    "print(f\"PCA explained variance ratio: {pca.explained_variance_ratio_.sum():.2%} total variance retained\")\n",
    "\n",
    "n_clusters = 10 \n",
    "kmeans = KMeans(n_clusters=n_clusters, random_state=42)\n",
    "labels = kmeans.fit_predict(pca_features)\n",
    "\n",
    "representatives = []\n",
    "for cluster_id in range(n_clusters):\n",
    "    cluster_indices = np.where(labels == cluster_id)[0]\n",
    "    cluster_points = pca_features[cluster_indices]\n",
    "    center = kmeans.cluster_centers_[cluster_id]\n",
    "    closest_idx = cluster_indices[np.argmin(np.linalg.norm(cluster_points - center, axis=1))]\n",
    "    representatives.append(wind_df.columns[closest_idx])\n",
    "\n",
    "print(\"\\nSelected representative wind points:\")\n",
    "print(representatives)\n",
    "\n",
    "reduced_data = wind_df[representatives]\n",
    "\n",
    "full_training_data = reduced_data.join(elec_df)\n",
    "\n",
    "print(\"\\nReduced feature set (head):\")\n",
    "print(full_training_data.head())\n",
    "\n",
    "plt.figure(figsize=(8, 6))\n",
    "for label in np.unique(labels):\n",
    "    idx = labels == label\n",
    "    plt.scatter(pca_features[idx, 0], pca_features[idx, 1], label=f'Cluster {label}')\n",
    "plt.scatter(kmeans.cluster_centers_[:, 0], kmeans.cluster_centers_[:, 1], color='black', marker='x', label='Centers')\n",
    "plt.title('Wind points clustered in PCA space')\n",
    "plt.xlabel('PCA Component 1')\n",
    "plt.ylabel('PCA Component 2')\n",
    "plt.legend()\n",
    "plt.show()\n"
   ]
  }
 ],
 "metadata": {
  "kernelspec": {
   "display_name": ".venv",
   "language": "python",
   "name": "python3"
  },
  "language_info": {
   "codemirror_mode": {
    "name": "ipython",
    "version": 3
   },
   "file_extension": ".py",
   "mimetype": "text/x-python",
   "name": "python",
   "nbconvert_exporter": "python",
   "pygments_lexer": "ipython3",
   "version": "3.13.3"
  }
 },
 "nbformat": 4,
 "nbformat_minor": 5
}
