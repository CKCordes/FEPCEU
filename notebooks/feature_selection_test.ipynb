{
 "cells": [
  {
   "cell_type": "code",
   "execution_count": 1,
   "id": "2d122780",
   "metadata": {},
   "outputs": [],
   "source": [
    "%load_ext autoreload\n",
    "%autoreload 2"
   ]
  },
  {
   "cell_type": "code",
   "execution_count": 2,
   "id": "41ff34bb",
   "metadata": {},
   "outputs": [
    {
     "name": "stderr",
     "output_type": "stream",
     "text": [
      "/home/sedroc/Bachelor/FEPCEU/.venv/lib/python3.13/site-packages/tqdm/auto.py:21: TqdmWarning: IProgress not found. Please update jupyter and ipywidgets. See https://ipywidgets.readthedocs.io/en/stable/user_install.html\n",
      "  from .autonotebook import tqdm as notebook_tqdm\n",
      "Importing plotly failed. Interactive plots will not work.\n",
      "Importing plotly failed. Interactive plots will not work.\n"
     ]
    }
   ],
   "source": [
    "import sys\n",
    "sys.path.append('/home/sedroc/Bachelor/FEPCEU')\n",
    "from enhanced_experiment import EnhancedTimeSeriesExperiment\n",
    "from models.arima import Arima\n",
    "from models.baseline import Baseline\n",
    "from models.chronos import Chronos\n",
    "from models.lgbm import LGBM\n",
    "from models.neuralproph import Neuralprophet\n",
    "\n",
    "from data.data_retriever import Dataretreiver"
   ]
  },
  {
   "cell_type": "code",
   "execution_count": 3,
   "id": "d0a4401f",
   "metadata": {},
   "outputs": [],
   "source": [
    "data = Dataretreiver()\n",
    "df = data.combined"
   ]
  },
  {
   "cell_type": "code",
   "execution_count": 19,
   "id": "250a6adb",
   "metadata": {},
   "outputs": [],
   "source": [
    "# Define models\n",
    "models = {\n",
    "    #'BASELINE': Baseline(),\n",
    "    #'LGBM': LGBM(),\n",
    "    #'ARIMA': Arima(order=[1,1,1], seasonal_order=[1,1,1,24]),\n",
    "    #'CHRONOS': Chronos(),\n",
    "    'NEURALPROPHET': Neuralprophet()\n",
    "}"
   ]
  },
  {
   "cell_type": "code",
   "execution_count": 20,
   "id": "3d645273",
   "metadata": {},
   "outputs": [
    {
     "name": "stdout",
     "output_type": "stream",
     "text": [
      "Identified area columns: {'sun': {1: 'sun_area_1', 10: 'sun_area_10', 11: 'sun_area_11', 12: 'sun_area_12', 13: 'sun_area_13', 14: 'sun_area_14', 15: 'sun_area_15', 16: 'sun_area_16', 17: 'sun_area_17', 18: 'sun_area_18', 19: 'sun_area_19', 2: 'sun_area_2', 20: 'sun_area_20', 21: 'sun_area_21', 22: 'sun_area_22', 23: 'sun_area_23', 24: 'sun_area_24', 25: 'sun_area_25', 26: 'sun_area_26', 27: 'sun_area_27', 28: 'sun_area_28', 29: 'sun_area_29', 3: 'sun_area_3', 30: 'sun_area_30', 31: 'sun_area_31', 32: 'sun_area_32', 33: 'sun_area_33', 34: 'sun_area_34', 35: 'sun_area_35', 36: 'sun_area_36', 37: 'sun_area_37', 38: 'sun_area_38', 39: 'sun_area_39', 4: 'sun_area_4', 40: 'sun_area_40', 5: 'sun_area_5', 6: 'sun_area_6', 7: 'sun_area_7', 8: 'sun_area_8', 9: 'sun_area_9'}, 'wind': {1: 'wind_area_1', 10: 'wind_area_10', 11: 'wind_area_11', 12: 'wind_area_12', 13: 'wind_area_13', 14: 'wind_area_14', 15: 'wind_area_15', 16: 'wind_area_16', 17: 'wind_area_17', 18: 'wind_area_18', 19: 'wind_area_19', 2: 'wind_area_2', 20: 'wind_area_20', 21: 'wind_area_21', 22: 'wind_area_22', 23: 'wind_area_23', 24: 'wind_area_24', 25: 'wind_area_25', 26: 'wind_area_26', 27: 'wind_area_27', 28: 'wind_area_28', 29: 'wind_area_29', 3: 'wind_area_3', 30: 'wind_area_30', 31: 'wind_area_31', 32: 'wind_area_32', 33: 'wind_area_33', 34: 'wind_area_34', 35: 'wind_area_35', 36: 'wind_area_36', 37: 'wind_area_37', 38: 'wind_area_38', 39: 'wind_area_39', 4: 'wind_area_4', 40: 'wind_area_40', 5: 'wind_area_5', 6: 'wind_area_6', 7: 'wind_area_7', 8: 'wind_area_8', 9: 'wind_area_9'}, 'temp': {1: 'temp_area_1', 10: 'temp_area_10', 11: 'temp_area_11', 12: 'temp_area_12', 13: 'temp_area_13', 14: 'temp_area_14', 15: 'temp_area_15', 16: 'temp_area_16', 17: 'temp_area_17', 18: 'temp_area_18', 19: 'temp_area_19', 2: 'temp_area_2', 20: 'temp_area_20', 21: 'temp_area_21', 22: 'temp_area_22', 23: 'temp_area_23', 24: 'temp_area_24', 25: 'temp_area_25', 26: 'temp_area_26', 27: 'temp_area_27', 28: 'temp_area_28', 29: 'temp_area_29', 3: 'temp_area_3', 30: 'temp_area_30', 31: 'temp_area_31', 32: 'temp_area_32', 33: 'temp_area_33', 34: 'temp_area_34', 35: 'temp_area_35', 36: 'temp_area_36', 37: 'temp_area_37', 38: 'temp_area_38', 39: 'temp_area_39', 4: 'temp_area_4', 40: 'temp_area_40', 5: 'temp_area_5', 6: 'temp_area_6', 7: 'temp_area_7', 8: 'temp_area_8', 9: 'temp_area_9'}}\n",
      "Cross-validation splits:\n",
      "Split 1: Train end = 2024-06-29 20:00:00 (index 4340), Test end = 2024-07-06 19:00:00 (index 4507)\n",
      "\n",
      "================================================================================\n",
      "Running experiment for feature group: base_only\n",
      "Using columns: []\n",
      "Running CV split 1/1 for feature group base_only\n"
     ]
    },
    {
     "name": "stderr",
     "output_type": "stream",
     "text": [
      "Finding best initial lr: 100%|██████████| 241/241 [00:02<00:00, 97.62it/s] \n",
      "WARNING - (py.warnings._showwarnmsg) - /home/sedroc/Bachelor/FEPCEU/.venv/lib/python3.13/site-packages/lightning_fabric/utilities/cloud_io.py:51: UserWarning:\n",
      "\n",
      "Environment variable TORCH_FORCE_NO_WEIGHTS_ONLY_LOAD detected, since the`weights_only` argument was not explicitly passed to `torch.load`, forcing weights_only=False.\n",
      "\n",
      "\n"
     ]
    },
    {
     "name": "stdout",
     "output_type": "stream",
     "text": [
      "Epoch 70: 100%|██████████| 70/70 [00:00<00:00, 124.22it/s, loss=0.0375, v_num=13, MAE=164.0, RMSE=204.0, Loss=0.0388, RegLoss=0.000]  \n",
      "Predicting DataLoader 0: 100%|██████████| 5/5 [00:00<00:00, 117.57it/s]\n",
      "                      ds           y       yhat1  yhat1 5.0%  yhat1 95.0%  \\\n",
      "0    2024-01-01 00:00:00  126.660004  560.517822  172.415253   781.198242   \n",
      "1    2024-01-01 01:00:00  209.779999  545.697876  151.114166   775.637451   \n",
      "2    2024-01-01 02:00:00  198.740005  539.537231  149.547211   763.993042   \n",
      "3    2024-01-01 03:00:00   30.860001  534.259033  147.134064   750.516724   \n",
      "4    2024-01-01 04:00:00   -0.220000  540.174072  154.647614   755.693604   \n",
      "...                  ...         ...         ...         ...          ...   \n",
      "4503 2024-07-06 15:00:00         NaN  287.665009   46.838470   592.077515   \n",
      "4504 2024-07-06 16:00:00         NaN  344.381866   88.869598   650.681152   \n",
      "4505 2024-07-06 17:00:00         NaN  451.164642  193.554718   723.160156   \n",
      "4506 2024-07-06 18:00:00         NaN  569.839844  298.237274   851.004395   \n",
      "4507 2024-07-06 19:00:00         NaN  652.519409  345.638214  1010.286499   \n",
      "\n",
      "           trend  season_weekly  season_daily  \n",
      "0     592.498901     -37.861549      5.880436  \n",
      "1     592.604980     -26.691566    -20.215672  \n",
      "2     592.711182     -16.092308    -37.081764  \n",
      "3     592.817261      -4.602951    -53.955334  \n",
      "4     592.923462       6.655127    -59.404537  \n",
      "...          ...            ...           ...  \n",
      "4503  563.291016    -109.468277   -166.157715  \n",
      "4504  563.425659    -116.346252   -102.697487  \n",
      "4505  563.560547    -123.654449     11.258553  \n",
      "4506  563.695190    -130.137299    136.281937  \n",
      "4507  563.829834    -136.553391    225.242905  \n",
      "\n",
      "[4508 rows x 8 columns]\n",
      "Error processing model NEURALPROPHET in split 1: Use the standard plot function for models without lags.\n"
     ]
    }
   ],
   "source": [
    "# Initialize the experiment\n",
    "experiment = EnhancedTimeSeriesExperiment(\n",
    "    models=models,\n",
    "    target_column='price',\n",
    "    forecast_horizon=168,\n",
    "    n_splits=1\n",
    ")\n",
    "\n",
    "\n",
    "# Define custom combinations of different measurement types with different areas\n",
    "custom_combinations = [\n",
    "    # Combination 1: temp area 1, wind area 1, sun areas 1,2,3\n",
    "    #{\n",
    "    #    'temp': {1},\n",
    "    #    'wind': {1},\n",
    "    #    'sun': {1, 2, 3}\n",
    "    #},\n",
    "    # Combination 2: temp areas 1,2, wind area 1, sun area 1\n",
    "    #{\n",
    "    #    'temp': {1, 2},\n",
    "    #    'wind': {1},\n",
    "    #    'sun': {1}\n",
    "    #},\n",
    "    # Add more combinations as needed...\n",
    "]\n",
    "\n",
    "# Run the experiments with these custom combinations\n",
    "experiment.run_feature_group_experiments(\n",
    "    df=df,\n",
    "    custom_feature_combinations=custom_combinations\n",
    ")"
   ]
  },
  {
   "cell_type": "code",
   "execution_count": 6,
   "id": "448e2dc2",
   "metadata": {},
   "outputs": [
    {
     "name": "stdout",
     "output_type": "stream",
     "text": [
      "          NEURALPROPHET\n",
      "base_only           N/A\n"
     ]
    },
    {
     "data": {
      "application/vnd.plotly.v1+json": {
       "config": {
        "plotlyServerURL": "https://plot.ly"
       },
       "data": [
        {
         "error_y": {
          "array": [
           null
          ],
          "type": "data",
          "visible": true
         },
         "name": "NEURALPROPHET",
         "type": "bar",
         "x": [
          "base_only"
         ],
         "y": [
          null
         ]
        }
       ],
       "layout": {
        "barmode": "group",
        "height": 500,
        "hovermode": "closest",
        "margin": {
         "b": 120,
         "l": 20,
         "r": 20,
         "t": 35
        },
        "template": {
         "data": {
          "bar": [
           {
            "error_x": {
             "color": "#2a3f5f"
            },
            "error_y": {
             "color": "#2a3f5f"
            },
            "marker": {
             "line": {
              "color": "#E5ECF6",
              "width": 0.5
             },
             "pattern": {
              "fillmode": "overlay",
              "size": 10,
              "solidity": 0.2
             }
            },
            "type": "bar"
           }
          ],
          "barpolar": [
           {
            "marker": {
             "line": {
              "color": "#E5ECF6",
              "width": 0.5
             },
             "pattern": {
              "fillmode": "overlay",
              "size": 10,
              "solidity": 0.2
             }
            },
            "type": "barpolar"
           }
          ],
          "carpet": [
           {
            "aaxis": {
             "endlinecolor": "#2a3f5f",
             "gridcolor": "white",
             "linecolor": "white",
             "minorgridcolor": "white",
             "startlinecolor": "#2a3f5f"
            },
            "baxis": {
             "endlinecolor": "#2a3f5f",
             "gridcolor": "white",
             "linecolor": "white",
             "minorgridcolor": "white",
             "startlinecolor": "#2a3f5f"
            },
            "type": "carpet"
           }
          ],
          "choropleth": [
           {
            "colorbar": {
             "outlinewidth": 0,
             "ticks": ""
            },
            "type": "choropleth"
           }
          ],
          "contour": [
           {
            "colorbar": {
             "outlinewidth": 0,
             "ticks": ""
            },
            "colorscale": [
             [
              0,
              "#0d0887"
             ],
             [
              0.1111111111111111,
              "#46039f"
             ],
             [
              0.2222222222222222,
              "#7201a8"
             ],
             [
              0.3333333333333333,
              "#9c179e"
             ],
             [
              0.4444444444444444,
              "#bd3786"
             ],
             [
              0.5555555555555556,
              "#d8576b"
             ],
             [
              0.6666666666666666,
              "#ed7953"
             ],
             [
              0.7777777777777778,
              "#fb9f3a"
             ],
             [
              0.8888888888888888,
              "#fdca26"
             ],
             [
              1,
              "#f0f921"
             ]
            ],
            "type": "contour"
           }
          ],
          "contourcarpet": [
           {
            "colorbar": {
             "outlinewidth": 0,
             "ticks": ""
            },
            "type": "contourcarpet"
           }
          ],
          "heatmap": [
           {
            "colorbar": {
             "outlinewidth": 0,
             "ticks": ""
            },
            "colorscale": [
             [
              0,
              "#0d0887"
             ],
             [
              0.1111111111111111,
              "#46039f"
             ],
             [
              0.2222222222222222,
              "#7201a8"
             ],
             [
              0.3333333333333333,
              "#9c179e"
             ],
             [
              0.4444444444444444,
              "#bd3786"
             ],
             [
              0.5555555555555556,
              "#d8576b"
             ],
             [
              0.6666666666666666,
              "#ed7953"
             ],
             [
              0.7777777777777778,
              "#fb9f3a"
             ],
             [
              0.8888888888888888,
              "#fdca26"
             ],
             [
              1,
              "#f0f921"
             ]
            ],
            "type": "heatmap"
           }
          ],
          "heatmapgl": [
           {
            "colorbar": {
             "outlinewidth": 0,
             "ticks": ""
            },
            "colorscale": [
             [
              0,
              "#0d0887"
             ],
             [
              0.1111111111111111,
              "#46039f"
             ],
             [
              0.2222222222222222,
              "#7201a8"
             ],
             [
              0.3333333333333333,
              "#9c179e"
             ],
             [
              0.4444444444444444,
              "#bd3786"
             ],
             [
              0.5555555555555556,
              "#d8576b"
             ],
             [
              0.6666666666666666,
              "#ed7953"
             ],
             [
              0.7777777777777778,
              "#fb9f3a"
             ],
             [
              0.8888888888888888,
              "#fdca26"
             ],
             [
              1,
              "#f0f921"
             ]
            ],
            "type": "heatmapgl"
           }
          ],
          "histogram": [
           {
            "marker": {
             "pattern": {
              "fillmode": "overlay",
              "size": 10,
              "solidity": 0.2
             }
            },
            "type": "histogram"
           }
          ],
          "histogram2d": [
           {
            "colorbar": {
             "outlinewidth": 0,
             "ticks": ""
            },
            "colorscale": [
             [
              0,
              "#0d0887"
             ],
             [
              0.1111111111111111,
              "#46039f"
             ],
             [
              0.2222222222222222,
              "#7201a8"
             ],
             [
              0.3333333333333333,
              "#9c179e"
             ],
             [
              0.4444444444444444,
              "#bd3786"
             ],
             [
              0.5555555555555556,
              "#d8576b"
             ],
             [
              0.6666666666666666,
              "#ed7953"
             ],
             [
              0.7777777777777778,
              "#fb9f3a"
             ],
             [
              0.8888888888888888,
              "#fdca26"
             ],
             [
              1,
              "#f0f921"
             ]
            ],
            "type": "histogram2d"
           }
          ],
          "histogram2dcontour": [
           {
            "colorbar": {
             "outlinewidth": 0,
             "ticks": ""
            },
            "colorscale": [
             [
              0,
              "#0d0887"
             ],
             [
              0.1111111111111111,
              "#46039f"
             ],
             [
              0.2222222222222222,
              "#7201a8"
             ],
             [
              0.3333333333333333,
              "#9c179e"
             ],
             [
              0.4444444444444444,
              "#bd3786"
             ],
             [
              0.5555555555555556,
              "#d8576b"
             ],
             [
              0.6666666666666666,
              "#ed7953"
             ],
             [
              0.7777777777777778,
              "#fb9f3a"
             ],
             [
              0.8888888888888888,
              "#fdca26"
             ],
             [
              1,
              "#f0f921"
             ]
            ],
            "type": "histogram2dcontour"
           }
          ],
          "mesh3d": [
           {
            "colorbar": {
             "outlinewidth": 0,
             "ticks": ""
            },
            "type": "mesh3d"
           }
          ],
          "parcoords": [
           {
            "line": {
             "colorbar": {
              "outlinewidth": 0,
              "ticks": ""
             }
            },
            "type": "parcoords"
           }
          ],
          "pie": [
           {
            "automargin": true,
            "type": "pie"
           }
          ],
          "scatter": [
           {
            "fillpattern": {
             "fillmode": "overlay",
             "size": 10,
             "solidity": 0.2
            },
            "type": "scatter"
           }
          ],
          "scatter3d": [
           {
            "line": {
             "colorbar": {
              "outlinewidth": 0,
              "ticks": ""
             }
            },
            "marker": {
             "colorbar": {
              "outlinewidth": 0,
              "ticks": ""
             }
            },
            "type": "scatter3d"
           }
          ],
          "scattercarpet": [
           {
            "marker": {
             "colorbar": {
              "outlinewidth": 0,
              "ticks": ""
             }
            },
            "type": "scattercarpet"
           }
          ],
          "scattergeo": [
           {
            "marker": {
             "colorbar": {
              "outlinewidth": 0,
              "ticks": ""
             }
            },
            "type": "scattergeo"
           }
          ],
          "scattergl": [
           {
            "marker": {
             "colorbar": {
              "outlinewidth": 0,
              "ticks": ""
             }
            },
            "type": "scattergl"
           }
          ],
          "scattermapbox": [
           {
            "marker": {
             "colorbar": {
              "outlinewidth": 0,
              "ticks": ""
             }
            },
            "type": "scattermapbox"
           }
          ],
          "scatterpolar": [
           {
            "marker": {
             "colorbar": {
              "outlinewidth": 0,
              "ticks": ""
             }
            },
            "type": "scatterpolar"
           }
          ],
          "scatterpolargl": [
           {
            "marker": {
             "colorbar": {
              "outlinewidth": 0,
              "ticks": ""
             }
            },
            "type": "scatterpolargl"
           }
          ],
          "scatterternary": [
           {
            "marker": {
             "colorbar": {
              "outlinewidth": 0,
              "ticks": ""
             }
            },
            "type": "scatterternary"
           }
          ],
          "surface": [
           {
            "colorbar": {
             "outlinewidth": 0,
             "ticks": ""
            },
            "colorscale": [
             [
              0,
              "#0d0887"
             ],
             [
              0.1111111111111111,
              "#46039f"
             ],
             [
              0.2222222222222222,
              "#7201a8"
             ],
             [
              0.3333333333333333,
              "#9c179e"
             ],
             [
              0.4444444444444444,
              "#bd3786"
             ],
             [
              0.5555555555555556,
              "#d8576b"
             ],
             [
              0.6666666666666666,
              "#ed7953"
             ],
             [
              0.7777777777777778,
              "#fb9f3a"
             ],
             [
              0.8888888888888888,
              "#fdca26"
             ],
             [
              1,
              "#f0f921"
             ]
            ],
            "type": "surface"
           }
          ],
          "table": [
           {
            "cells": {
             "fill": {
              "color": "#EBF0F8"
             },
             "line": {
              "color": "white"
             }
            },
            "header": {
             "fill": {
              "color": "#C8D4E3"
             },
             "line": {
              "color": "white"
             }
            },
            "type": "table"
           }
          ]
         },
         "layout": {
          "annotationdefaults": {
           "arrowcolor": "#2a3f5f",
           "arrowhead": 0,
           "arrowwidth": 1
          },
          "autotypenumbers": "strict",
          "coloraxis": {
           "colorbar": {
            "outlinewidth": 0,
            "ticks": ""
           }
          },
          "colorscale": {
           "diverging": [
            [
             0,
             "#8e0152"
            ],
            [
             0.1,
             "#c51b7d"
            ],
            [
             0.2,
             "#de77ae"
            ],
            [
             0.3,
             "#f1b6da"
            ],
            [
             0.4,
             "#fde0ef"
            ],
            [
             0.5,
             "#f7f7f7"
            ],
            [
             0.6,
             "#e6f5d0"
            ],
            [
             0.7,
             "#b8e186"
            ],
            [
             0.8,
             "#7fbc41"
            ],
            [
             0.9,
             "#4d9221"
            ],
            [
             1,
             "#276419"
            ]
           ],
           "sequential": [
            [
             0,
             "#0d0887"
            ],
            [
             0.1111111111111111,
             "#46039f"
            ],
            [
             0.2222222222222222,
             "#7201a8"
            ],
            [
             0.3333333333333333,
             "#9c179e"
            ],
            [
             0.4444444444444444,
             "#bd3786"
            ],
            [
             0.5555555555555556,
             "#d8576b"
            ],
            [
             0.6666666666666666,
             "#ed7953"
            ],
            [
             0.7777777777777778,
             "#fb9f3a"
            ],
            [
             0.8888888888888888,
             "#fdca26"
            ],
            [
             1,
             "#f0f921"
            ]
           ],
           "sequentialminus": [
            [
             0,
             "#0d0887"
            ],
            [
             0.1111111111111111,
             "#46039f"
            ],
            [
             0.2222222222222222,
             "#7201a8"
            ],
            [
             0.3333333333333333,
             "#9c179e"
            ],
            [
             0.4444444444444444,
             "#bd3786"
            ],
            [
             0.5555555555555556,
             "#d8576b"
            ],
            [
             0.6666666666666666,
             "#ed7953"
            ],
            [
             0.7777777777777778,
             "#fb9f3a"
            ],
            [
             0.8888888888888888,
             "#fdca26"
            ],
            [
             1,
             "#f0f921"
            ]
           ]
          },
          "colorway": [
           "#636efa",
           "#EF553B",
           "#00cc96",
           "#ab63fa",
           "#FFA15A",
           "#19d3f3",
           "#FF6692",
           "#B6E880",
           "#FF97FF",
           "#FECB52"
          ],
          "font": {
           "color": "#2a3f5f"
          },
          "geo": {
           "bgcolor": "white",
           "lakecolor": "white",
           "landcolor": "#E5ECF6",
           "showlakes": true,
           "showland": true,
           "subunitcolor": "white"
          },
          "hoverlabel": {
           "align": "left"
          },
          "hovermode": "closest",
          "mapbox": {
           "style": "light"
          },
          "paper_bgcolor": "white",
          "plot_bgcolor": "#E5ECF6",
          "polar": {
           "angularaxis": {
            "gridcolor": "white",
            "linecolor": "white",
            "ticks": ""
           },
           "bgcolor": "#E5ECF6",
           "radialaxis": {
            "gridcolor": "white",
            "linecolor": "white",
            "ticks": ""
           }
          },
          "scene": {
           "xaxis": {
            "backgroundcolor": "#E5ECF6",
            "gridcolor": "white",
            "gridwidth": 2,
            "linecolor": "white",
            "showbackground": true,
            "ticks": "",
            "zerolinecolor": "white"
           },
           "yaxis": {
            "backgroundcolor": "#E5ECF6",
            "gridcolor": "white",
            "gridwidth": 2,
            "linecolor": "white",
            "showbackground": true,
            "ticks": "",
            "zerolinecolor": "white"
           },
           "zaxis": {
            "backgroundcolor": "#E5ECF6",
            "gridcolor": "white",
            "gridwidth": 2,
            "linecolor": "white",
            "showbackground": true,
            "ticks": "",
            "zerolinecolor": "white"
           }
          },
          "shapedefaults": {
           "line": {
            "color": "#2a3f5f"
           }
          },
          "ternary": {
           "aaxis": {
            "gridcolor": "white",
            "linecolor": "white",
            "ticks": ""
           },
           "baxis": {
            "gridcolor": "white",
            "linecolor": "white",
            "ticks": ""
           },
           "bgcolor": "#E5ECF6",
           "caxis": {
            "gridcolor": "white",
            "linecolor": "white",
            "ticks": ""
           }
          },
          "title": {
           "x": 0.05
          },
          "xaxis": {
           "automargin": true,
           "gridcolor": "white",
           "linecolor": "white",
           "ticks": "",
           "title": {
            "standoff": 15
           },
           "zerolinecolor": "white",
           "zerolinewidth": 2
          },
          "yaxis": {
           "automargin": true,
           "gridcolor": "white",
           "linecolor": "white",
           "ticks": "",
           "title": {
            "standoff": 15
           },
           "zerolinecolor": "white",
           "zerolinewidth": 2
          }
         }
        },
        "title": {
         "text": "Feature Group Comparison - MAE"
        },
        "width": 1000,
        "xaxis": {
         "tickangle": -45,
         "title": {
          "text": "Feature Group"
         }
        },
        "yaxis": {
         "title": {
          "text": "MAE"
         }
        }
       }
      }
     },
     "metadata": {},
     "output_type": "display_data"
    }
   ],
   "source": [
    "# Get a table of results\n",
    "results_df = experiment.summarize_feature_group_results(metric='MAE')\n",
    "print(results_df)\n",
    "\n",
    "# Plot the results\n",
    "experiment.plot_feature_group_results(metric='MAE')"
   ]
  },
  {
   "cell_type": "code",
   "execution_count": 7,
   "id": "6b6d472e",
   "metadata": {},
   "outputs": [
    {
     "name": "stdout",
     "output_type": "stream",
     "text": [
      "No predictions available for model NEURALPROPHET in feature group custom_temp:[1]_wind:[1]_sun:[1,2,3], fold 0\n"
     ]
    }
   ],
   "source": [
    "# Plot predictions for the 'sun_areas_1_2_3' feature group\n",
    "experiment.plot_feature_group_predictions(\n",
    "    df=df,\n",
    "    feature_group='custom_temp:[1]_wind:[1]_sun:[1,2,3]',\n",
    "    fold_index=0  # First CV fold\n",
    ")"
   ]
  }
 ],
 "metadata": {
  "kernelspec": {
   "display_name": ".venv",
   "language": "python",
   "name": "python3"
  },
  "language_info": {
   "codemirror_mode": {
    "name": "ipython",
    "version": 3
   },
   "file_extension": ".py",
   "mimetype": "text/x-python",
   "name": "python",
   "nbconvert_exporter": "python",
   "pygments_lexer": "ipython3",
   "version": "3.13.3"
  }
 },
 "nbformat": 4,
 "nbformat_minor": 5
}
