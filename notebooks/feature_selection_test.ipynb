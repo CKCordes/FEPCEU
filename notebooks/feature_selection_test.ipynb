{
 "cells": [
  {
   "cell_type": "code",
   "execution_count": 36,
   "id": "2d122780",
   "metadata": {},
   "outputs": [
    {
     "name": "stdout",
     "output_type": "stream",
     "text": [
      "The autoreload extension is already loaded. To reload it, use:\n",
      "  %reload_ext autoreload\n"
     ]
    }
   ],
   "source": [
    "%load_ext autoreload\n",
    "%autoreload 2"
   ]
  },
  {
   "cell_type": "code",
   "execution_count": 37,
   "id": "41ff34bb",
   "metadata": {},
   "outputs": [],
   "source": [
    "import sys\n",
    "sys.path.append('C:/Users/au723200/FEPCEU')\n",
    "from enhanced_experiment import EnhancedTimeSeriesExperiment\n",
    "from models.arima import Arima\n",
    "from models.baseline import Baseline\n",
    "from models.chronos import Chronos\n",
    "from models.lgbm import LGBM\n",
    "from models.neuralproph import Neuralprophet\n",
    "\n",
    "from data.data_retriever import Dataretreiver"
   ]
  },
  {
   "cell_type": "code",
   "execution_count": 38,
   "id": "7b0adfcc",
   "metadata": {},
   "outputs": [],
   "source": [
    "import warnings\n",
    "warnings.filterwarnings(\"ignore\")"
   ]
  },
  {
   "cell_type": "code",
   "execution_count": 39,
   "id": "d0a4401f",
   "metadata": {},
   "outputs": [],
   "source": [
    "data = Dataretreiver(reduce='pca')\n",
    "df = data.combined"
   ]
  },
  {
   "cell_type": "code",
   "execution_count": 40,
   "id": "250a6adb",
   "metadata": {},
   "outputs": [],
   "source": [
    "# Define models\n",
    "models = {\n",
    "    'BASELINE': Baseline(),\n",
    "    #'LGBM': LGBM(),\n",
    "    #'ARIMA': Arima(order=[1,1,1], seasonal_order=[1,1,1,24]),\n",
    "    #'NEURALPROPHET': Neuralprophet()\n",
    "}"
   ]
  },
  {
   "cell_type": "code",
   "execution_count": 41,
   "id": "3d645273",
   "metadata": {},
   "outputs": [
    {
     "name": "stdout",
     "output_type": "stream",
     "text": [
      "Identified area columns: {'sun': {22: 'sun_area_22', 8: 'sun_area_8', 39: 'sun_area_39', 9: 'sun_area_9', 16: 'sun_area_16', 31: 'sun_area_31', 30: 'sun_area_30', 32: 'sun_area_32', 6: 'sun_area_6', 19: 'sun_area_19'}, 'wind': {22: 'wind_area_22', 34: 'wind_area_34', 7: 'wind_area_7', 10: 'wind_area_10', 16: 'wind_area_16', 32: 'wind_area_32', 24: 'wind_area_24', 31: 'wind_area_31', 1: 'wind_area_1', 4: 'wind_area_4'}, 'temp': {22: 'temp_area_22', 2: 'temp_area_2', 26: 'temp_area_26', 40: 'temp_area_40', 15: 'temp_area_15', 28: 'temp_area_28', 24: 'temp_area_24', 37: 'temp_area_37', 5: 'temp_area_5', 36: 'temp_area_36'}}\n",
      "Cross-validation splits:\n",
      "Split 1: Train end = 2024-06-29 20:00:00 (index 4340), Test end = 2024-07-07 19:00:00 (index 4531)\n",
      "Split 2: Train end = 2024-07-07 20:00:00 (index 4532), Test end = 2024-07-15 19:00:00 (index 4723)\n",
      "Split 3: Train end = 2024-07-15 20:00:00 (index 4724), Test end = 2024-07-23 19:00:00 (index 4915)\n",
      "Split 4: Train end = 2024-07-23 20:00:00 (index 4916), Test end = 2024-07-31 19:00:00 (index 5107)\n",
      "Split 5: Train end = 2024-07-31 20:00:00 (index 5108), Test end = 2024-08-08 19:00:00 (index 5299)\n",
      "Split 6: Train end = 2024-08-08 20:00:00 (index 5300), Test end = 2024-08-16 19:00:00 (index 5491)\n",
      "Split 7: Train end = 2024-08-16 20:00:00 (index 5492), Test end = 2024-08-24 19:00:00 (index 5683)\n",
      "Split 8: Train end = 2024-08-24 20:00:00 (index 5684), Test end = 2024-09-01 19:00:00 (index 5875)\n",
      "Split 9: Train end = 2024-09-01 20:00:00 (index 5876), Test end = 2024-09-09 19:00:00 (index 6067)\n",
      "Split 10: Train end = 2024-09-09 20:00:00 (index 6068), Test end = 2024-09-17 19:00:00 (index 6259)\n",
      "\n",
      "================================================================================\n",
      "Running experiment for feature group: base_only\n",
      "Using columns: []\n",
      "Running CV split 1/10 for feature group base_only\n",
      "feature group cv results:\n",
      " {'MSE': [169189.32010510928], 'MAE': [333.506767140625], 'MAPE': [1167182903427075.2], 'R2': [-1.0127381092670071], 'elapsed_time': 0.13325020000047516}\n",
      "Running CV split 2/10 for feature group base_only\n",
      "feature group cv results:\n",
      " {'MSE': [169189.32010510928, 301179.9215150028], 'MAE': [333.506767140625, 472.4975516510417], 'MAPE': [1167182903427075.2, 22.316879047541136], 'R2': [-1.0127381092670071, -2.048834868446423], 'elapsed_time': 0.13191870000446215}\n",
      "Running CV split 3/10 for feature group base_only\n",
      "feature group cv results:\n",
      " {'MSE': [169189.32010510928, 301179.9215150028, 56853.3513039031], 'MAE': [333.506767140625, 472.4975516510417, 184.13874840104165], 'MAPE': [1167182903427075.2, 22.316879047541136, 1975954289596341.8], 'R2': [-1.0127381092670071, -2.048834868446423, 0.3614940447784125], 'elapsed_time': 0.1316778999971575}\n",
      "Running CV split 4/10 for feature group base_only\n",
      "feature group cv results:\n",
      " {'MSE': [169189.32010510928, 301179.9215150028, 56853.3513039031, 49171.28474607412], 'MAE': [333.506767140625, 472.4975516510417, 184.13874840104165, 169.03931972395833], 'MAPE': [1167182903427075.2, 22.316879047541136, 1975954289596341.8, 1.2054399806795774e+16], 'R2': [-1.0127381092670071, -2.048834868446423, 0.3614940447784125, 0.476462186567325], 'elapsed_time': 0.1383466999977827}\n",
      "Running CV split 5/10 for feature group base_only\n",
      "feature group cv results:\n",
      " {'MSE': [169189.32010510928, 301179.9215150028, 56853.3513039031, 49171.28474607412, 33590.498584519046], 'MAE': [333.506767140625, 472.4975516510417, 184.13874840104165, 169.03931972395833, 137.45307151041666], 'MAPE': [1167182903427075.2, 22.316879047541136, 1975954289596341.8, 1.2054399806795774e+16, 21.613929567381977], 'R2': [-1.0127381092670071, -2.048834868446423, 0.3614940447784125, 0.476462186567325, 0.6120960009658314], 'elapsed_time': 0.1341829000011785}\n",
      "Running CV split 6/10 for feature group base_only\n",
      "feature group cv results:\n",
      " {'MSE': [169189.32010510928, 301179.9215150028, 56853.3513039031, 49171.28474607412, 33590.498584519046, 142858.28878962467], 'MAE': [333.506767140625, 472.4975516510417, 184.13874840104165, 169.03931972395833, 137.45307151041666, 280.14802416666663], 'MAPE': [1167182903427075.2, 22.316879047541136, 1975954289596341.8, 1.2054399806795774e+16, 21.613929567381977, 1.8702605460858316e+16], 'R2': [-1.0127381092670071, -2.048834868446423, 0.3614940447784125, 0.476462186567325, 0.6120960009658314, 0.18424002198507072], 'elapsed_time': 0.1339587999973446}\n",
      "Running CV split 7/10 for feature group base_only\n",
      "feature group cv results:\n",
      " {'MSE': [169189.32010510928, 301179.9215150028, 56853.3513039031, 49171.28474607412, 33590.498584519046, 142858.28878962467, 192265.94573916434], 'MAE': [333.506767140625, 472.4975516510417, 184.13874840104165, 169.03931972395833, 137.45307151041666, 280.14802416666663, 338.40728989062495], 'MAPE': [1167182903427075.2, 22.316879047541136, 1975954289596341.8, 1.2054399806795774e+16, 21.613929567381977, 1.8702605460858316e+16, 1.047251109445689e+16], 'R2': [-1.0127381092670071, -2.048834868446423, 0.3614940447784125, 0.476462186567325, 0.6120960009658314, 0.18424002198507072, -0.5067780087448117], 'elapsed_time': 0.13429290000203764}\n",
      "Running CV split 8/10 for feature group base_only\n",
      "feature group cv results:\n",
      " {'MSE': [169189.32010510928, 301179.9215150028, 56853.3513039031, 49171.28474607412, 33590.498584519046, 142858.28878962467, 192265.94573916434, 250482.29457236358], 'MAE': [333.506767140625, 472.4975516510417, 184.13874840104165, 169.03931972395833, 137.45307151041666, 280.14802416666663, 338.40728989062495, 382.05656086458333], 'MAPE': [1167182903427075.2, 22.316879047541136, 1975954289596341.8, 1.2054399806795774e+16, 21.613929567381977, 1.8702605460858316e+16, 1.047251109445689e+16, 135.2106386064282], 'R2': [-1.0127381092670071, -2.048834868446423, 0.3614940447784125, 0.476462186567325, 0.6120960009658314, 0.18424002198507072, -0.5067780087448117, -0.5046578492640694], 'elapsed_time': 0.13710189999983413}\n",
      "Running CV split 9/10 for feature group base_only\n",
      "feature group cv results:\n",
      " {'MSE': [169189.32010510928, 301179.9215150028, 56853.3513039031, 49171.28474607412, 33590.498584519046, 142858.28878962467, 192265.94573916434, 250482.29457236358, 166981.21042179022], 'MAE': [333.506767140625, 472.4975516510417, 184.13874840104165, 169.03931972395833, 137.45307151041666, 280.14802416666663, 338.40728989062495, 382.05656086458333, 289.120311625], 'MAPE': [1167182903427075.2, 22.316879047541136, 1975954289596341.8, 1.2054399806795774e+16, 21.613929567381977, 1.8702605460858316e+16, 1.047251109445689e+16, 135.2106386064282, 17.391636803890798], 'R2': [-1.0127381092670071, -2.048834868446423, 0.3614940447784125, 0.476462186567325, 0.6120960009658314, 0.18424002198507072, -0.5067780087448117, -0.5046578492640694, -0.018047002237541854], 'elapsed_time': 0.12432320000516484}\n",
      "Running CV split 10/10 for feature group base_only\n",
      "feature group cv results:\n",
      " {'MSE': [169189.32010510928, 301179.9215150028, 56853.3513039031, 49171.28474607412, 33590.498584519046, 142858.28878962467, 192265.94573916434, 250482.29457236358, 166981.21042179022, 143089.3335640815], 'MAE': [333.506767140625, 472.4975516510417, 184.13874840104165, 169.03931972395833, 137.45307151041666, 280.14802416666663, 338.40728989062495, 382.05656086458333, 289.120311625, 276.62978929166667], 'MAPE': [1167182903427075.2, 22.316879047541136, 1975954289596341.8, 1.2054399806795774e+16, 21.613929567381977, 1.8702605460858316e+16, 1.047251109445689e+16, 135.2106386064282, 17.391636803890798, 4.653766431275021e+16], 'R2': [-1.0127381092670071, -2.048834868446423, 0.3614940447784125, 0.476462186567325, 0.6120960009658314, 0.18424002198507072, -0.5067780087448117, -0.5046578492640694, -0.018047002237541854, -0.2992977080534651], 'elapsed_time': 0.13097810000181198}\n",
      "\n",
      "================================================================================\n",
      "Running experiment for feature group: all_areas\n",
      "Using columns: ['sun_area_22', 'sun_area_8', 'sun_area_39', 'sun_area_9', 'sun_area_16', 'sun_area_31', 'sun_area_30', 'sun_area_32', 'sun_area_6', 'sun_area_19', 'wind_area_22', 'wind_area_34', 'wind_area_7', 'wind_area_10', 'wind_area_16', 'wind_area_32', 'wind_area_24', 'wind_area_31', 'wind_area_1', 'wind_area_4', 'temp_area_22', 'temp_area_2', 'temp_area_26', 'temp_area_40', 'temp_area_15', 'temp_area_28', 'temp_area_24', 'temp_area_37', 'temp_area_5', 'temp_area_36']\n",
      "Running CV split 1/10 for feature group all_areas\n",
      "feature group cv results:\n",
      " {'MSE': [169189.32010510928], 'MAE': [333.506767140625], 'MAPE': [1167182903427075.2], 'R2': [-1.0127381092670071], 'elapsed_time': 0.1271718999996665}\n",
      "Running CV split 2/10 for feature group all_areas\n",
      "feature group cv results:\n",
      " {'MSE': [169189.32010510928, 301179.9215150028], 'MAE': [333.506767140625, 472.4975516510417], 'MAPE': [1167182903427075.2, 22.316879047541136], 'R2': [-1.0127381092670071, -2.048834868446423], 'elapsed_time': 0.12790429999586195}\n",
      "Running CV split 3/10 for feature group all_areas\n",
      "feature group cv results:\n",
      " {'MSE': [169189.32010510928, 301179.9215150028, 56853.3513039031], 'MAE': [333.506767140625, 472.4975516510417, 184.13874840104165], 'MAPE': [1167182903427075.2, 22.316879047541136, 1975954289596341.8], 'R2': [-1.0127381092670071, -2.048834868446423, 0.3614940447784125], 'elapsed_time': 0.1319604000018444}\n",
      "Running CV split 4/10 for feature group all_areas\n",
      "feature group cv results:\n",
      " {'MSE': [169189.32010510928, 301179.9215150028, 56853.3513039031, 49171.28474607412], 'MAE': [333.506767140625, 472.4975516510417, 184.13874840104165, 169.03931972395833], 'MAPE': [1167182903427075.2, 22.316879047541136, 1975954289596341.8, 1.2054399806795774e+16], 'R2': [-1.0127381092670071, -2.048834868446423, 0.3614940447784125, 0.476462186567325], 'elapsed_time': 0.13350530000025174}\n",
      "Running CV split 5/10 for feature group all_areas\n",
      "feature group cv results:\n",
      " {'MSE': [169189.32010510928, 301179.9215150028, 56853.3513039031, 49171.28474607412, 33590.498584519046], 'MAE': [333.506767140625, 472.4975516510417, 184.13874840104165, 169.03931972395833, 137.45307151041666], 'MAPE': [1167182903427075.2, 22.316879047541136, 1975954289596341.8, 1.2054399806795774e+16, 21.613929567381977], 'R2': [-1.0127381092670071, -2.048834868446423, 0.3614940447784125, 0.476462186567325, 0.6120960009658314], 'elapsed_time': 0.13699959999939892}\n",
      "Running CV split 6/10 for feature group all_areas\n",
      "feature group cv results:\n",
      " {'MSE': [169189.32010510928, 301179.9215150028, 56853.3513039031, 49171.28474607412, 33590.498584519046, 142858.28878962467], 'MAE': [333.506767140625, 472.4975516510417, 184.13874840104165, 169.03931972395833, 137.45307151041666, 280.14802416666663], 'MAPE': [1167182903427075.2, 22.316879047541136, 1975954289596341.8, 1.2054399806795774e+16, 21.613929567381977, 1.8702605460858316e+16], 'R2': [-1.0127381092670071, -2.048834868446423, 0.3614940447784125, 0.476462186567325, 0.6120960009658314, 0.18424002198507072], 'elapsed_time': 0.13838530000066385}\n",
      "Running CV split 7/10 for feature group all_areas\n",
      "feature group cv results:\n",
      " {'MSE': [169189.32010510928, 301179.9215150028, 56853.3513039031, 49171.28474607412, 33590.498584519046, 142858.28878962467, 192265.94573916434], 'MAE': [333.506767140625, 472.4975516510417, 184.13874840104165, 169.03931972395833, 137.45307151041666, 280.14802416666663, 338.40728989062495], 'MAPE': [1167182903427075.2, 22.316879047541136, 1975954289596341.8, 1.2054399806795774e+16, 21.613929567381977, 1.8702605460858316e+16, 1.047251109445689e+16], 'R2': [-1.0127381092670071, -2.048834868446423, 0.3614940447784125, 0.476462186567325, 0.6120960009658314, 0.18424002198507072, -0.5067780087448117], 'elapsed_time': 0.13558889999694657}\n",
      "Running CV split 8/10 for feature group all_areas\n",
      "feature group cv results:\n",
      " {'MSE': [169189.32010510928, 301179.9215150028, 56853.3513039031, 49171.28474607412, 33590.498584519046, 142858.28878962467, 192265.94573916434, 250482.29457236358], 'MAE': [333.506767140625, 472.4975516510417, 184.13874840104165, 169.03931972395833, 137.45307151041666, 280.14802416666663, 338.40728989062495, 382.05656086458333], 'MAPE': [1167182903427075.2, 22.316879047541136, 1975954289596341.8, 1.2054399806795774e+16, 21.613929567381977, 1.8702605460858316e+16, 1.047251109445689e+16, 135.2106386064282], 'R2': [-1.0127381092670071, -2.048834868446423, 0.3614940447784125, 0.476462186567325, 0.6120960009658314, 0.18424002198507072, -0.5067780087448117, -0.5046578492640694], 'elapsed_time': 0.13829860000259941}\n",
      "Running CV split 9/10 for feature group all_areas\n",
      "feature group cv results:\n",
      " {'MSE': [169189.32010510928, 301179.9215150028, 56853.3513039031, 49171.28474607412, 33590.498584519046, 142858.28878962467, 192265.94573916434, 250482.29457236358, 166981.21042179022], 'MAE': [333.506767140625, 472.4975516510417, 184.13874840104165, 169.03931972395833, 137.45307151041666, 280.14802416666663, 338.40728989062495, 382.05656086458333, 289.120311625], 'MAPE': [1167182903427075.2, 22.316879047541136, 1975954289596341.8, 1.2054399806795774e+16, 21.613929567381977, 1.8702605460858316e+16, 1.047251109445689e+16, 135.2106386064282, 17.391636803890798], 'R2': [-1.0127381092670071, -2.048834868446423, 0.3614940447784125, 0.476462186567325, 0.6120960009658314, 0.18424002198507072, -0.5067780087448117, -0.5046578492640694, -0.018047002237541854], 'elapsed_time': 0.1354228999989573}\n",
      "Running CV split 10/10 for feature group all_areas\n",
      "feature group cv results:\n",
      " {'MSE': [169189.32010510928, 301179.9215150028, 56853.3513039031, 49171.28474607412, 33590.498584519046, 142858.28878962467, 192265.94573916434, 250482.29457236358, 166981.21042179022, 143089.3335640815], 'MAE': [333.506767140625, 472.4975516510417, 184.13874840104165, 169.03931972395833, 137.45307151041666, 280.14802416666663, 338.40728989062495, 382.05656086458333, 289.120311625, 276.62978929166667], 'MAPE': [1167182903427075.2, 22.316879047541136, 1975954289596341.8, 1.2054399806795774e+16, 21.613929567381977, 1.8702605460858316e+16, 1.047251109445689e+16, 135.2106386064282, 17.391636803890798, 4.653766431275021e+16], 'R2': [-1.0127381092670071, -2.048834868446423, 0.3614940447784125, 0.476462186567325, 0.6120960009658314, 0.18424002198507072, -0.5067780087448117, -0.5046578492640694, -0.018047002237541854, -0.2992977080534651], 'elapsed_time': 0.13608749999548309}\n"
     ]
    }
   ],
   "source": [
    "# Initialize the experiment\n",
    "experiment = EnhancedTimeSeriesExperiment(\n",
    "    models=models,\n",
    "    target_column='price',\n",
    "    forecast_horizon=192, # Forecast 8 days to avoid weekly seasonality.\n",
    "    n_splits=10\n",
    ")\n",
    "\n",
    "\n",
    "# Define custom combinations of different measurement types with different areas\n",
    "custom_combinations = [\n",
    "    ## For adding all wind and sun columns in PCA reduced.\n",
    "    #{\n",
    "    #    'wind': {22, 34, 7, 10, 16, 32, 24, 31, 1, 4},\n",
    "    #},\n",
    "    #{\n",
    "    #    'wind': {22, 34, 7, 10, 16, 32, 24, 31, 1, 4},\n",
    "    #    'sun':  {23, 8, 39, 9, 21, 31, 30, 33, 6, 20}\n",
    "    #},\n",
    "]\n",
    "\n",
    "# Run the experiments with these custom combinations\n",
    "experiment.run_feature_group_experiments(\n",
    "    df=df,\n",
    "    custom_feature_combinations=custom_combinations,\n",
    "    add_all_columns=True\n",
    ")"
   ]
  },
  {
   "cell_type": "code",
   "execution_count": 42,
   "id": "448e2dc2",
   "metadata": {},
   "outputs": [
    {
     "name": "stdout",
     "output_type": "stream",
     "text": [
      "                   BASELINE\n",
      "base_only  0.1310 Â± 0.0000\n",
      "all_areas  0.1361 Â± 0.0000\n"
     ]
    },
    {
     "data": {
      "application/vnd.plotly.v1+json": {
       "config": {
        "plotlyServerURL": "https://plot.ly"
       },
       "data": [
        {
         "error_y": {
          "array": [
           0,
           0
          ],
          "type": "data",
          "visible": true
         },
         "name": "BASELINE",
         "type": "bar",
         "x": [
          "base_only",
          "all_areas"
         ],
         "y": [
          0.13097810000181198,
          0.13608749999548309
         ]
        }
       ],
       "layout": {
        "barmode": "group",
        "height": 500,
        "hovermode": "closest",
        "margin": {
         "b": 120,
         "l": 20,
         "r": 20,
         "t": 35
        },
        "template": {
         "data": {
          "bar": [
           {
            "error_x": {
             "color": "#2a3f5f"
            },
            "error_y": {
             "color": "#2a3f5f"
            },
            "marker": {
             "line": {
              "color": "#E5ECF6",
              "width": 0.5
             },
             "pattern": {
              "fillmode": "overlay",
              "size": 10,
              "solidity": 0.2
             }
            },
            "type": "bar"
           }
          ],
          "barpolar": [
           {
            "marker": {
             "line": {
              "color": "#E5ECF6",
              "width": 0.5
             },
             "pattern": {
              "fillmode": "overlay",
              "size": 10,
              "solidity": 0.2
             }
            },
            "type": "barpolar"
           }
          ],
          "carpet": [
           {
            "aaxis": {
             "endlinecolor": "#2a3f5f",
             "gridcolor": "white",
             "linecolor": "white",
             "minorgridcolor": "white",
             "startlinecolor": "#2a3f5f"
            },
            "baxis": {
             "endlinecolor": "#2a3f5f",
             "gridcolor": "white",
             "linecolor": "white",
             "minorgridcolor": "white",
             "startlinecolor": "#2a3f5f"
            },
            "type": "carpet"
           }
          ],
          "choropleth": [
           {
            "colorbar": {
             "outlinewidth": 0,
             "ticks": ""
            },
            "type": "choropleth"
           }
          ],
          "contour": [
           {
            "colorbar": {
             "outlinewidth": 0,
             "ticks": ""
            },
            "colorscale": [
             [
              0,
              "#0d0887"
             ],
             [
              0.1111111111111111,
              "#46039f"
             ],
             [
              0.2222222222222222,
              "#7201a8"
             ],
             [
              0.3333333333333333,
              "#9c179e"
             ],
             [
              0.4444444444444444,
              "#bd3786"
             ],
             [
              0.5555555555555556,
              "#d8576b"
             ],
             [
              0.6666666666666666,
              "#ed7953"
             ],
             [
              0.7777777777777778,
              "#fb9f3a"
             ],
             [
              0.8888888888888888,
              "#fdca26"
             ],
             [
              1,
              "#f0f921"
             ]
            ],
            "type": "contour"
           }
          ],
          "contourcarpet": [
           {
            "colorbar": {
             "outlinewidth": 0,
             "ticks": ""
            },
            "type": "contourcarpet"
           }
          ],
          "heatmap": [
           {
            "colorbar": {
             "outlinewidth": 0,
             "ticks": ""
            },
            "colorscale": [
             [
              0,
              "#0d0887"
             ],
             [
              0.1111111111111111,
              "#46039f"
             ],
             [
              0.2222222222222222,
              "#7201a8"
             ],
             [
              0.3333333333333333,
              "#9c179e"
             ],
             [
              0.4444444444444444,
              "#bd3786"
             ],
             [
              0.5555555555555556,
              "#d8576b"
             ],
             [
              0.6666666666666666,
              "#ed7953"
             ],
             [
              0.7777777777777778,
              "#fb9f3a"
             ],
             [
              0.8888888888888888,
              "#fdca26"
             ],
             [
              1,
              "#f0f921"
             ]
            ],
            "type": "heatmap"
           }
          ],
          "heatmapgl": [
           {
            "colorbar": {
             "outlinewidth": 0,
             "ticks": ""
            },
            "colorscale": [
             [
              0,
              "#0d0887"
             ],
             [
              0.1111111111111111,
              "#46039f"
             ],
             [
              0.2222222222222222,
              "#7201a8"
             ],
             [
              0.3333333333333333,
              "#9c179e"
             ],
             [
              0.4444444444444444,
              "#bd3786"
             ],
             [
              0.5555555555555556,
              "#d8576b"
             ],
             [
              0.6666666666666666,
              "#ed7953"
             ],
             [
              0.7777777777777778,
              "#fb9f3a"
             ],
             [
              0.8888888888888888,
              "#fdca26"
             ],
             [
              1,
              "#f0f921"
             ]
            ],
            "type": "heatmapgl"
           }
          ],
          "histogram": [
           {
            "marker": {
             "pattern": {
              "fillmode": "overlay",
              "size": 10,
              "solidity": 0.2
             }
            },
            "type": "histogram"
           }
          ],
          "histogram2d": [
           {
            "colorbar": {
             "outlinewidth": 0,
             "ticks": ""
            },
            "colorscale": [
             [
              0,
              "#0d0887"
             ],
             [
              0.1111111111111111,
              "#46039f"
             ],
             [
              0.2222222222222222,
              "#7201a8"
             ],
             [
              0.3333333333333333,
              "#9c179e"
             ],
             [
              0.4444444444444444,
              "#bd3786"
             ],
             [
              0.5555555555555556,
              "#d8576b"
             ],
             [
              0.6666666666666666,
              "#ed7953"
             ],
             [
              0.7777777777777778,
              "#fb9f3a"
             ],
             [
              0.8888888888888888,
              "#fdca26"
             ],
             [
              1,
              "#f0f921"
             ]
            ],
            "type": "histogram2d"
           }
          ],
          "histogram2dcontour": [
           {
            "colorbar": {
             "outlinewidth": 0,
             "ticks": ""
            },
            "colorscale": [
             [
              0,
              "#0d0887"
             ],
             [
              0.1111111111111111,
              "#46039f"
             ],
             [
              0.2222222222222222,
              "#7201a8"
             ],
             [
              0.3333333333333333,
              "#9c179e"
             ],
             [
              0.4444444444444444,
              "#bd3786"
             ],
             [
              0.5555555555555556,
              "#d8576b"
             ],
             [
              0.6666666666666666,
              "#ed7953"
             ],
             [
              0.7777777777777778,
              "#fb9f3a"
             ],
             [
              0.8888888888888888,
              "#fdca26"
             ],
             [
              1,
              "#f0f921"
             ]
            ],
            "type": "histogram2dcontour"
           }
          ],
          "mesh3d": [
           {
            "colorbar": {
             "outlinewidth": 0,
             "ticks": ""
            },
            "type": "mesh3d"
           }
          ],
          "parcoords": [
           {
            "line": {
             "colorbar": {
              "outlinewidth": 0,
              "ticks": ""
             }
            },
            "type": "parcoords"
           }
          ],
          "pie": [
           {
            "automargin": true,
            "type": "pie"
           }
          ],
          "scatter": [
           {
            "fillpattern": {
             "fillmode": "overlay",
             "size": 10,
             "solidity": 0.2
            },
            "type": "scatter"
           }
          ],
          "scatter3d": [
           {
            "line": {
             "colorbar": {
              "outlinewidth": 0,
              "ticks": ""
             }
            },
            "marker": {
             "colorbar": {
              "outlinewidth": 0,
              "ticks": ""
             }
            },
            "type": "scatter3d"
           }
          ],
          "scattercarpet": [
           {
            "marker": {
             "colorbar": {
              "outlinewidth": 0,
              "ticks": ""
             }
            },
            "type": "scattercarpet"
           }
          ],
          "scattergeo": [
           {
            "marker": {
             "colorbar": {
              "outlinewidth": 0,
              "ticks": ""
             }
            },
            "type": "scattergeo"
           }
          ],
          "scattergl": [
           {
            "marker": {
             "colorbar": {
              "outlinewidth": 0,
              "ticks": ""
             }
            },
            "type": "scattergl"
           }
          ],
          "scattermapbox": [
           {
            "marker": {
             "colorbar": {
              "outlinewidth": 0,
              "ticks": ""
             }
            },
            "type": "scattermapbox"
           }
          ],
          "scatterpolar": [
           {
            "marker": {
             "colorbar": {
              "outlinewidth": 0,
              "ticks": ""
             }
            },
            "type": "scatterpolar"
           }
          ],
          "scatterpolargl": [
           {
            "marker": {
             "colorbar": {
              "outlinewidth": 0,
              "ticks": ""
             }
            },
            "type": "scatterpolargl"
           }
          ],
          "scatterternary": [
           {
            "marker": {
             "colorbar": {
              "outlinewidth": 0,
              "ticks": ""
             }
            },
            "type": "scatterternary"
           }
          ],
          "surface": [
           {
            "colorbar": {
             "outlinewidth": 0,
             "ticks": ""
            },
            "colorscale": [
             [
              0,
              "#0d0887"
             ],
             [
              0.1111111111111111,
              "#46039f"
             ],
             [
              0.2222222222222222,
              "#7201a8"
             ],
             [
              0.3333333333333333,
              "#9c179e"
             ],
             [
              0.4444444444444444,
              "#bd3786"
             ],
             [
              0.5555555555555556,
              "#d8576b"
             ],
             [
              0.6666666666666666,
              "#ed7953"
             ],
             [
              0.7777777777777778,
              "#fb9f3a"
             ],
             [
              0.8888888888888888,
              "#fdca26"
             ],
             [
              1,
              "#f0f921"
             ]
            ],
            "type": "surface"
           }
          ],
          "table": [
           {
            "cells": {
             "fill": {
              "color": "#EBF0F8"
             },
             "line": {
              "color": "white"
             }
            },
            "header": {
             "fill": {
              "color": "#C8D4E3"
             },
             "line": {
              "color": "white"
             }
            },
            "type": "table"
           }
          ]
         },
         "layout": {
          "annotationdefaults": {
           "arrowcolor": "#2a3f5f",
           "arrowhead": 0,
           "arrowwidth": 1
          },
          "autotypenumbers": "strict",
          "coloraxis": {
           "colorbar": {
            "outlinewidth": 0,
            "ticks": ""
           }
          },
          "colorscale": {
           "diverging": [
            [
             0,
             "#8e0152"
            ],
            [
             0.1,
             "#c51b7d"
            ],
            [
             0.2,
             "#de77ae"
            ],
            [
             0.3,
             "#f1b6da"
            ],
            [
             0.4,
             "#fde0ef"
            ],
            [
             0.5,
             "#f7f7f7"
            ],
            [
             0.6,
             "#e6f5d0"
            ],
            [
             0.7,
             "#b8e186"
            ],
            [
             0.8,
             "#7fbc41"
            ],
            [
             0.9,
             "#4d9221"
            ],
            [
             1,
             "#276419"
            ]
           ],
           "sequential": [
            [
             0,
             "#0d0887"
            ],
            [
             0.1111111111111111,
             "#46039f"
            ],
            [
             0.2222222222222222,
             "#7201a8"
            ],
            [
             0.3333333333333333,
             "#9c179e"
            ],
            [
             0.4444444444444444,
             "#bd3786"
            ],
            [
             0.5555555555555556,
             "#d8576b"
            ],
            [
             0.6666666666666666,
             "#ed7953"
            ],
            [
             0.7777777777777778,
             "#fb9f3a"
            ],
            [
             0.8888888888888888,
             "#fdca26"
            ],
            [
             1,
             "#f0f921"
            ]
           ],
           "sequentialminus": [
            [
             0,
             "#0d0887"
            ],
            [
             0.1111111111111111,
             "#46039f"
            ],
            [
             0.2222222222222222,
             "#7201a8"
            ],
            [
             0.3333333333333333,
             "#9c179e"
            ],
            [
             0.4444444444444444,
             "#bd3786"
            ],
            [
             0.5555555555555556,
             "#d8576b"
            ],
            [
             0.6666666666666666,
             "#ed7953"
            ],
            [
             0.7777777777777778,
             "#fb9f3a"
            ],
            [
             0.8888888888888888,
             "#fdca26"
            ],
            [
             1,
             "#f0f921"
            ]
           ]
          },
          "colorway": [
           "#636efa",
           "#EF553B",
           "#00cc96",
           "#ab63fa",
           "#FFA15A",
           "#19d3f3",
           "#FF6692",
           "#B6E880",
           "#FF97FF",
           "#FECB52"
          ],
          "font": {
           "color": "#2a3f5f"
          },
          "geo": {
           "bgcolor": "white",
           "lakecolor": "white",
           "landcolor": "#E5ECF6",
           "showlakes": true,
           "showland": true,
           "subunitcolor": "white"
          },
          "hoverlabel": {
           "align": "left"
          },
          "hovermode": "closest",
          "mapbox": {
           "style": "light"
          },
          "paper_bgcolor": "white",
          "plot_bgcolor": "#E5ECF6",
          "polar": {
           "angularaxis": {
            "gridcolor": "white",
            "linecolor": "white",
            "ticks": ""
           },
           "bgcolor": "#E5ECF6",
           "radialaxis": {
            "gridcolor": "white",
            "linecolor": "white",
            "ticks": ""
           }
          },
          "scene": {
           "xaxis": {
            "backgroundcolor": "#E5ECF6",
            "gridcolor": "white",
            "gridwidth": 2,
            "linecolor": "white",
            "showbackground": true,
            "ticks": "",
            "zerolinecolor": "white"
           },
           "yaxis": {
            "backgroundcolor": "#E5ECF6",
            "gridcolor": "white",
            "gridwidth": 2,
            "linecolor": "white",
            "showbackground": true,
            "ticks": "",
            "zerolinecolor": "white"
           },
           "zaxis": {
            "backgroundcolor": "#E5ECF6",
            "gridcolor": "white",
            "gridwidth": 2,
            "linecolor": "white",
            "showbackground": true,
            "ticks": "",
            "zerolinecolor": "white"
           }
          },
          "shapedefaults": {
           "line": {
            "color": "#2a3f5f"
           }
          },
          "ternary": {
           "aaxis": {
            "gridcolor": "white",
            "linecolor": "white",
            "ticks": ""
           },
           "baxis": {
            "gridcolor": "white",
            "linecolor": "white",
            "ticks": ""
           },
           "bgcolor": "#E5ECF6",
           "caxis": {
            "gridcolor": "white",
            "linecolor": "white",
            "ticks": ""
           }
          },
          "title": {
           "x": 0.05
          },
          "xaxis": {
           "automargin": true,
           "gridcolor": "white",
           "linecolor": "white",
           "ticks": "",
           "title": {
            "standoff": 15
           },
           "zerolinecolor": "white",
           "zerolinewidth": 2
          },
          "yaxis": {
           "automargin": true,
           "gridcolor": "white",
           "linecolor": "white",
           "ticks": "",
           "title": {
            "standoff": 15
           },
           "zerolinecolor": "white",
           "zerolinewidth": 2
          }
         }
        },
        "title": {
         "text": "Feature Group Comparison - elapsed_time"
        },
        "width": 1000,
        "xaxis": {
         "tickangle": -45,
         "title": {
          "text": "Feature Group"
         }
        },
        "yaxis": {
         "title": {
          "text": "elapsed_time"
         }
        }
       }
      }
     },
     "metadata": {},
     "output_type": "display_data"
    }
   ],
   "source": [
    "# Get a table of results\n",
    "results_df = experiment.summarize_feature_group_results(metric='elapsed_time')\n",
    "print(results_df)\n",
    "\n",
    "# Plot the results\n",
    "experiment.plot_feature_group_results(metric='elapsed_time')"
   ]
  },
  {
   "cell_type": "code",
   "execution_count": 43,
   "id": "6b6d472e",
   "metadata": {},
   "outputs": [
    {
     "name": "stdout",
     "output_type": "stream",
     "text": [
      "No predictions available for model BASELINE in feature group custom_temp:[1]_wind:[7]_sun:[13], fold 0\n"
     ]
    }
   ],
   "source": [
    "# Plot predictions for the 'sun_areas_1_2_3' feature group\n",
    "experiment.plot_feature_group_predictions(\n",
    "    df=df,\n",
    "    feature_group='custom_temp:[1]_wind:[7]_sun:[13]',\n",
    "    fold_index=0  # First CV fold\n",
    ")"
   ]
  }
 ],
 "metadata": {
  "kernelspec": {
   "display_name": "Python 3",
   "language": "python",
   "name": "python3"
  },
  "language_info": {
   "codemirror_mode": {
    "name": "ipython",
    "version": 3
   },
   "file_extension": ".py",
   "mimetype": "text/x-python",
   "name": "python",
   "nbconvert_exporter": "python",
   "pygments_lexer": "ipython3",
   "version": "3.12.3"
  }
 },
 "nbformat": 4,
 "nbformat_minor": 5
}
