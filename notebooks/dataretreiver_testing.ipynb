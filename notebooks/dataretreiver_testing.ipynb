{
 "cells": [
  {
   "cell_type": "markdown",
   "id": "dde887ee",
   "metadata": {},
   "source": [
    "# Testing the data retriever"
   ]
  },
  {
   "cell_type": "code",
   "execution_count": null,
   "id": "7bf42c61",
   "metadata": {},
   "outputs": [],
   "source": [
    "import sys\n",
    "sys.path.append('')\n",
    "from data.data_retriever import Dataretreiver"
   ]
  },
  {
   "cell_type": "code",
   "execution_count": 2,
   "id": "bd109ae2",
   "metadata": {},
   "outputs": [],
   "source": [
    "%load_ext autoreload\n",
    "%autoreload 2"
   ]
  },
  {
   "cell_type": "code",
   "execution_count": null,
   "id": "1747fd91",
   "metadata": {},
   "outputs": [],
   "source": [
    "data = Dataretreiver()\n",
    "data.combined.head()"
   ]
  },
  {
   "cell_type": "code",
   "execution_count": null,
   "id": "7e38104e",
   "metadata": {},
   "outputs": [],
   "source": [
    "data.wind_df.head()"
   ]
  },
  {
   "cell_type": "code",
   "execution_count": null,
   "id": "76848998",
   "metadata": {},
   "outputs": [],
   "source": [
    "data.sun_df.head()"
   ]
  },
  {
   "cell_type": "code",
   "execution_count": null,
   "id": "e537f149",
   "metadata": {},
   "outputs": [],
   "source": [
    "data.temp_df.head()"
   ]
  }
 ],
 "metadata": {
  "kernelspec": {
   "display_name": ".venv",
   "language": "python",
   "name": "python3"
  },
  "language_info": {
   "codemirror_mode": {
    "name": "ipython",
    "version": 3
   },
   "file_extension": ".py",
   "mimetype": "text/x-python",
   "name": "python",
   "nbconvert_exporter": "python",
   "pygments_lexer": "ipython3",
   "version": "3.13.3"
  }
 },
 "nbformat": 4,
 "nbformat_minor": 5
}
