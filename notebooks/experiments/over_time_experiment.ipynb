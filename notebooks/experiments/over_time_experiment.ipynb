{
 "cells": [
  {
   "cell_type": "code",
   "execution_count": null,
   "id": "210c82e4",
   "metadata": {},
   "outputs": [],
   "source": [
    "%load_ext autoreload\n",
    "%autoreload 2"
   ]
  },
  {
   "cell_type": "code",
   "execution_count": null,
   "id": "def8e0ea",
   "metadata": {},
   "outputs": [],
   "source": [
    "import sys\n",
    "sys.path.append('/home/sedroc/Bachelor/FEPCEU')"
   ]
  },
  {
   "cell_type": "code",
   "execution_count": null,
   "id": "7044673f",
   "metadata": {},
   "outputs": [],
   "source": [
    "from enhanced_experiment import EnhancedTimeSeriesExperiment\n",
    "from models.arima import Arima\n",
    "from models.baseline import Baseline\n",
    "from models.lgbm import LGBM\n",
    "from models.neuralproph import Neuralprophet\n",
    "\n",
    "from data.data_retriever import Dataretreiver"
   ]
  },
  {
   "cell_type": "code",
   "execution_count": null,
   "id": "ea70a7fe",
   "metadata": {},
   "outputs": [],
   "source": [
    "# Define models\n",
    "models = {\n",
    "    'BASELINE': Baseline(),\n",
    "    'LGBM': LGBM(),\n",
    "    'ARIMA': Arima(order=[1,1,1], seasonal_order=[1,1,1,24]),\n",
    "    'NEURALPROPHET': Neuralprophet()\n",
    "}\n",
    "\n",
    "custom_combinations = [\n",
    "    {\n",
    "        #'temp': {1},\n",
    "        'wind': {2,3,7,8,23,24,28,29,13,31,32,36,37,26},\n",
    "        'sun': {13,14,18,19,8,9,17,16,22,26,27,28,31,32,33}\n",
    "    },\n",
    "]\n",
    "\n",
    "# Initialize the experiment\n",
    "experiment = EnhancedTimeSeriesExperiment(\n",
    "    models=models,\n",
    "    target_column='price',\n",
    "    forecast_horizon=192,\n",
    "    n_splits=3,\n",
    "    step_size=192 # 8 days are skipped between each forecast.\n",
    ")"
   ]
  },
  {
   "cell_type": "markdown",
   "id": "f24efc35",
   "metadata": {},
   "source": [
    "# Experiment 1\n",
    "Pearson reduced. Year 2014"
   ]
  },
  {
   "cell_type": "code",
   "execution_count": null,
   "id": "e1896a20",
   "metadata": {},
   "outputs": [],
   "source": [
    "data = Dataretreiver(reduce='pearson', debug=True, start_date=\"2014-01-01\", end_date=\"2014-12-31\")\n",
    "df = data.combined\n",
    "data.save_selected_areas_to_csv(\"../results/over_time/experiment_1\")\n",
    "\n",
    "# Run the experiments with these custom combinations\n",
    "experiment.run_feature_group_experiments(\n",
    "    df=df,\n",
    "    add_all_columns=True,\n",
    "    add_base_columns=False\n",
    ")"
   ]
  },
  {
   "cell_type": "markdown",
   "id": "87d7b4ad",
   "metadata": {},
   "source": [
    "# Experiment 2\n",
    "No reduction. Year 2014. custom areas and no areas are included"
   ]
  },
  {
   "cell_type": "code",
   "execution_count": null,
   "id": "2df7f6fa",
   "metadata": {},
   "outputs": [],
   "source": [
    "data = Dataretreiver(reduce=None, debug=True, start_date=\"2014-01-01\", end_date=\"2014-12-31\")\n",
    "df = data.combined\n",
    "\n",
    "# Run the experiments with these custom combinations\n",
    "experiment.run_feature_group_experiments(\n",
    "    df=df,\n",
    "    custom_feature_combinations=custom_combinations,\n",
    "    add_all_columns=True,\n",
    "    add_base_columns=True\n",
    ")"
   ]
  },
  {
   "cell_type": "markdown",
   "id": "8e706869",
   "metadata": {},
   "source": [
    "# Experiment 3\n",
    "Pearson reduction, year 2016"
   ]
  },
  {
   "cell_type": "code",
   "execution_count": null,
   "id": "568c6119",
   "metadata": {},
   "outputs": [],
   "source": [
    "data = Dataretreiver(reduce='pearson', debug=True, start_date=\"2016-01-01\", end_date=\"2016-12-31\")\n",
    "df = data.combined\n",
    "data.save_selected_areas_to_csv(\"../results/over_time/experiment_3\")\n",
    "\n",
    "# Run the experiments with these custom combinations\n",
    "experiment.run_feature_group_experiments(\n",
    "    df=df,\n",
    "    add_all_columns=True,\n",
    "    add_base_columns=False\n",
    ")"
   ]
  },
  {
   "cell_type": "markdown",
   "id": "e6791e7b",
   "metadata": {},
   "source": [
    "# Experiment 4\n",
    "No reduction. year 2016. Custom areas and no areas included"
   ]
  },
  {
   "cell_type": "code",
   "execution_count": null,
   "id": "6ad21db7",
   "metadata": {},
   "outputs": [],
   "source": [
    "data = Dataretreiver(reduce=None, debug=True, start_date=\"2016-01-01\", end_date=\"2016-12-31\")\n",
    "df = data.combined\n",
    "\n",
    "# Run the experiments with these custom combinations\n",
    "experiment.run_feature_group_experiments(\n",
    "    df=df,\n",
    "    custom_feature_combinations=custom_combinations,\n",
    "    add_all_columns=True,\n",
    "    add_base_columns=True\n",
    ")"
   ]
  },
  {
   "cell_type": "markdown",
   "id": "ac8edeae",
   "metadata": {},
   "source": [
    "# Experiment 5\n",
    "Pearson reduction, year 2018"
   ]
  },
  {
   "cell_type": "code",
   "execution_count": null,
   "id": "fc9792e1",
   "metadata": {},
   "outputs": [],
   "source": [
    "data = Dataretreiver(reduce='pearson', debug=True, start_date=\"2018-01-01\", end_date=\"2018-12-31\")\n",
    "df = data.combined\n",
    "data.save_selected_areas_to_csv(\"../results/over_time/experiment_5\")\n",
    "\n",
    "# Run the experiments with these custom combinations\n",
    "experiment.run_feature_group_experiments(\n",
    "    df=df,\n",
    "    add_all_columns=True,\n",
    "    add_base_columns=False\n",
    ")"
   ]
  },
  {
   "cell_type": "markdown",
   "id": "80335b0f",
   "metadata": {},
   "source": [
    "# Experiment 6\n",
    "No reduction. Year 2018. Custom area and no area included"
   ]
  },
  {
   "cell_type": "code",
   "execution_count": null,
   "id": "c73327a0",
   "metadata": {},
   "outputs": [],
   "source": [
    "data = Dataretreiver(reduce=None, debug=True, start_date=\"2018-01-01\", end_date=\"2018-12-31\")\n",
    "df = data.combined\n",
    "\n",
    "# Run the experiments with these custom combinations\n",
    "experiment.run_feature_group_experiments(\n",
    "    df=df,\n",
    "    custom_feature_combinations=custom_combinations,\n",
    "    add_all_columns=True,\n",
    "    add_base_columns=True\n",
    ")"
   ]
  },
  {
   "cell_type": "markdown",
   "id": "815adf84",
   "metadata": {},
   "source": [
    "# Experiment 7\n",
    "Pearson reduction, year 2020"
   ]
  },
  {
   "cell_type": "code",
   "execution_count": null,
   "id": "950cac09",
   "metadata": {},
   "outputs": [],
   "source": [
    "data = Dataretreiver(reduce='pearson', debug=True, start_date=\"2020-01-01\", end_date=\"2020-12-31\")\n",
    "df = data.combined\n",
    "data.save_selected_areas_to_csv(\"../results/over_time/experiment_7\")\n",
    "\n",
    "# Run the experiments with these custom combinations\n",
    "experiment.run_feature_group_experiments(\n",
    "    df=df,\n",
    "    add_all_columns=True,\n",
    "    add_base_columns=False\n",
    ")"
   ]
  },
  {
   "cell_type": "markdown",
   "id": "99c94c1e",
   "metadata": {},
   "source": [
    "# Experiment 8\n",
    "No reduction. Year 2020. Custom area and no area included"
   ]
  },
  {
   "cell_type": "code",
   "execution_count": null,
   "id": "499092ed",
   "metadata": {},
   "outputs": [],
   "source": [
    "data = Dataretreiver(reduce=None, debug=True, start_date=\"2020-01-01\", end_date=\"2020-12-31\")\n",
    "df = data.combined\n",
    "\n",
    "# Run the experiments with these custom combinations\n",
    "experiment.run_feature_group_experiments(\n",
    "    df=df,\n",
    "    custom_feature_combinations=custom_combinations,\n",
    "    add_all_columns=True,\n",
    "    add_base_columns=True\n",
    ")"
   ]
  },
  {
   "cell_type": "markdown",
   "id": "4723320c",
   "metadata": {},
   "source": [
    "# Experiment 9\n",
    "pearson reduction. Year 2022. Expecting shitty model due to war"
   ]
  },
  {
   "cell_type": "code",
   "execution_count": null,
   "id": "5e39ecb8",
   "metadata": {},
   "outputs": [],
   "source": [
    "data = Dataretreiver(reduce='pearson', debug=True, start_date=\"2022-01-01\", end_date=\"2022-12-31\")\n",
    "df = data.combined\n",
    "data.save_selected_areas_to_csv(\"../results/over_time/experiment_9\")\n",
    "\n",
    "# Run the experiments with these custom combinations\n",
    "experiment.run_feature_group_experiments(\n",
    "    df=df,\n",
    "    add_all_columns=True,\n",
    "    add_base_columns=False\n",
    ")"
   ]
  },
  {
   "cell_type": "markdown",
   "id": "b7a68293",
   "metadata": {},
   "source": [
    "# Experiment 10\n",
    "No reduction. year 2022. expecting bad model due to war"
   ]
  },
  {
   "cell_type": "code",
   "execution_count": null,
   "id": "320d9c58",
   "metadata": {},
   "outputs": [],
   "source": [
    "data = Dataretreiver(reduce=None, debug=True, start_date=\"2022-01-01\", end_date=\"2022-12-31\")\n",
    "df = data.combined\n",
    "\n",
    "# Run the experiments with these custom combinations\n",
    "experiment.run_feature_group_experiments(\n",
    "    df=df,\n",
    "    custom_feature_combinations=custom_combinations,\n",
    "    add_all_columns=True,\n",
    "    add_base_columns=True\n",
    ")"
   ]
  }
 ],
 "metadata": {
  "language_info": {
   "name": "python"
  }
 },
 "nbformat": 4,
 "nbformat_minor": 5
}
