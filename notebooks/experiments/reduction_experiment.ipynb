{
 "cells": [
  {
   "cell_type": "code",
   "execution_count": null,
   "id": "8e61845f",
   "metadata": {},
   "outputs": [],
   "source": [
    "%load_ext autoreload\n",
    "%autoreload 2"
   ]
  },
  {
   "cell_type": "code",
   "execution_count": null,
   "id": "9fe500a6",
   "metadata": {},
   "outputs": [],
   "source": [
    "import sys\n",
    "sys.path.append('/home/sedroc/Bachelor/FEPCEU')"
   ]
  },
  {
   "cell_type": "code",
   "execution_count": null,
   "id": "6c62a77e",
   "metadata": {},
   "outputs": [],
   "source": [
    "from enhanced_experiment import EnhancedTimeSeriesExperiment\n",
    "from models.arima import Arima\n",
    "from models.baseline import Baseline\n",
    "from models.lgbm import LGBM\n",
    "from models.neuralproph import Neuralprophet\n",
    "\n",
    "from data.data_retriever import Dataretreiver"
   ]
  },
  {
   "cell_type": "code",
   "execution_count": null,
   "id": "4930e5a7",
   "metadata": {},
   "outputs": [],
   "source": [
    "# Define models\n",
    "models = {\n",
    "    'BASELINE': Baseline(),\n",
    "    'LGBM': LGBM(),\n",
    "    'ARIMA': Arima(order=[1,0,1], seasonal_order=[1,1,1,24]),\n",
    "    'NEURALPROPHET': Neuralprophet()\n",
    "}\n",
    "\n",
    "# Initialize the experiment\n",
    "experiment = EnhancedTimeSeriesExperiment(\n",
    "    models=models,\n",
    "    target_column='price',\n",
    "    forecast_horizon=192,\n",
    "    n_splits=5,\n",
    "    step_size=192 # 8 days are skipped between each forecast.\n",
    ")\n",
    "# Define custom combinations of different measurement types with different areas\n",
    "custom_combinations = [\n",
    "    {\n",
    "        #'temp': {1},\n",
    "        'wind': {2,3,7,8,23,24,28,29,13,31,32,36,37,26},\n",
    "        'sun': {13,14,18,19,8,9,17,16,22,26,27,28,31,32,33}\n",
    "    },\n",
    "]"
   ]
  },
  {
   "cell_type": "markdown",
   "id": "9600e620",
   "metadata": {},
   "source": [
    "# Experiment 1\n",
    "No reduction, with custom areas. Additionally, models are trained with no exogenous variables"
   ]
  },
  {
   "cell_type": "code",
   "execution_count": null,
   "id": "de2d30ee",
   "metadata": {},
   "outputs": [],
   "source": [
    "data = Dataretreiver(reduce=None, debug=True)\n",
    "df = data.combined\n",
    "# data.save(\"../results/reduction/fil_navn.csv\") example\n",
    "\n",
    "# Run the experiments with these custom combinations\n",
    "experiment.run_feature_group_experiments(\n",
    "    df=df,\n",
    "    custom_feature_combinations=custom_combinations,\n",
    "    add_all_columns=True,\n",
    "    add_base_columns=True\n",
    ")"
   ]
  },
  {
   "cell_type": "code",
   "execution_count": null,
   "id": "06e22f7e",
   "metadata": {},
   "outputs": [],
   "source": [
    "# Get a table of results\n",
    "results_df_MAE = experiment.summarize_feature_group_results(metric='MAE')\n",
    "results_df_MSE = experiment.summarize_feature_group_results(metric='MSE')\n",
    "\n",
    "print(results_df_MAE)\n",
    "print(results_df_MSE)\n",
    "\n",
    "# Plot the results\n",
    "experiment.plot_feature_group_results(metric='MAE')\n",
    "experiment.plot_feature_group_results(metric='MSE')"
   ]
  },
  {
   "cell_type": "code",
   "execution_count": null,
   "id": "14c4caed",
   "metadata": {},
   "outputs": [],
   "source": [
    "experiment.save_feature_group_results_to_csv(\"../results/reduction/experiment_1_results.csv\")"
   ]
  },
  {
   "cell_type": "markdown",
   "id": "3d3bd1c4",
   "metadata": {},
   "source": [
    "# Experiment 2\n",
    "PCA pure reduction. No custom areas"
   ]
  },
  {
   "cell_type": "code",
   "execution_count": null,
   "id": "a00b1061",
   "metadata": {},
   "outputs": [],
   "source": [
    "data = Dataretreiver(reduce='PCA_pure', debug=True)\n",
    "df = data.combined\n",
    "data.save_selected_areas_to_csv(\"../results/reduction/experiment_2_areas.csv\")\n",
    "\n",
    "\n",
    "# Run the experiments with these custom combinations\n",
    "experiment.run_feature_group_experiments(\n",
    "    df=df,\n",
    "    add_all_columns=True,\n",
    "    add_base_columns=False\n",
    ")"
   ]
  },
  {
   "cell_type": "code",
   "execution_count": null,
   "id": "5c57d406",
   "metadata": {},
   "outputs": [],
   "source": [
    "# Get a table of results\n",
    "results_df_MAE = experiment.summarize_feature_group_results(metric='MAE')\n",
    "results_df_MSE = experiment.summarize_feature_group_results(metric='MSE')\n",
    "\n",
    "print(results_df_MAE)\n",
    "print(results_df_MSE)\n",
    "\n",
    "# Plot the results\n",
    "experiment.plot_feature_group_results(metric='MAE')\n",
    "experiment.plot_feature_group_results(metric='MSE')"
   ]
  },
  {
   "cell_type": "code",
   "execution_count": null,
   "id": "97dde7eb",
   "metadata": {},
   "outputs": [],
   "source": [
    "experiment.save_feature_group_results_to_csv(\"../results/reduction/experiment_2_results.csv\")"
   ]
  },
  {
   "cell_type": "markdown",
   "id": "a4963e71",
   "metadata": {},
   "source": [
    "# Experiment 3\n",
    "PCA KMeans reduction. No custom areas"
   ]
  },
  {
   "cell_type": "code",
   "execution_count": null,
   "id": "45802c98",
   "metadata": {},
   "outputs": [],
   "source": [
    "data = Dataretreiver(reduce='PCA_kmeans', debug=True)\n",
    "df = data.combined\n",
    "data.save_selected_areas_to_csv(\"../results/reduction/experiment_3_areas.csv\")\n",
    "\n",
    "# Run the experiments with these custom combinations\n",
    "experiment.run_feature_group_experiments(\n",
    "    df=df,\n",
    "    add_all_columns=True,\n",
    "    add_base_columns=False\n",
    ")"
   ]
  },
  {
   "cell_type": "code",
   "execution_count": null,
   "id": "5d5dcdbf",
   "metadata": {},
   "outputs": [],
   "source": [
    "# Get a table of results\n",
    "results_df_MAE = experiment.summarize_feature_group_results(metric='MAE')\n",
    "results_df_MSE = experiment.summarize_feature_group_results(metric='MSE')\n",
    "\n",
    "print(results_df_MAE)\n",
    "print(results_df_MSE)\n",
    "\n",
    "# Plot the results\n",
    "experiment.plot_feature_group_results(metric='MAE')\n",
    "experiment.plot_feature_group_results(metric='MSE')"
   ]
  },
  {
   "cell_type": "code",
   "execution_count": null,
   "id": "b60a4268",
   "metadata": {},
   "outputs": [],
   "source": [
    "experiment.save_feature_group_results_to_csv(\"../results/reduction/experiment_3_results.csv\")"
   ]
  },
  {
   "cell_type": "markdown",
   "id": "2972f5b1",
   "metadata": {},
   "source": [
    "# Experiment 4\n",
    "Pearson reduction"
   ]
  },
  {
   "cell_type": "code",
   "execution_count": null,
   "id": "e85bc8f8",
   "metadata": {},
   "outputs": [],
   "source": [
    "data = Dataretreiver(reduce='pearson', debug=True)\n",
    "df = data.combined\n",
    "data.save_selected_areas_to_csv(\"../results/reduction/experiment_4_areas.csv\")\n",
    "\n",
    "\n",
    "# Run the experiments with these custom combinations\n",
    "experiment.run_feature_group_experiments(\n",
    "    df=df,\n",
    "    add_all_columns=True,\n",
    "    add_base_columns=False\n",
    ")"
   ]
  },
  {
   "cell_type": "code",
   "execution_count": null,
   "id": "44e7c583",
   "metadata": {},
   "outputs": [],
   "source": [
    "# Get a table of results\n",
    "results_df_MAE = experiment.summarize_feature_group_results(metric='MAE')\n",
    "results_df_MSE = experiment.summarize_feature_group_results(metric='MSE')\n",
    "\n",
    "print(results_df_MAE)\n",
    "print(results_df_MSE)\n",
    "\n",
    "# Plot the results\n",
    "experiment.plot_feature_group_results(metric='MAE')\n",
    "experiment.plot_feature_group_results(metric='MSE')"
   ]
  },
  {
   "cell_type": "code",
   "execution_count": null,
   "id": "261fdbe4",
   "metadata": {},
   "outputs": [],
   "source": [
    "experiment.save_feature_group_results_to_csv(\"../results/reduction/experiment_4_results.csv\")"
   ]
  }
 ],
 "metadata": {
  "language_info": {
   "name": "python"
  }
 },
 "nbformat": 4,
 "nbformat_minor": 5
}
