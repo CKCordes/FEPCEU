{
 "cells": [
  {
   "cell_type": "code",
   "execution_count": null,
   "id": "8e61845f",
   "metadata": {},
   "outputs": [],
   "source": [
    "%load_ext autoreload\n",
    "%autoreload 2"
   ]
  },
  {
   "cell_type": "code",
   "execution_count": null,
   "id": "9fe500a6",
   "metadata": {},
   "outputs": [],
   "source": [
    "import sys\n",
    "sys.path.append('/home/sedroc/Bachelor/FEPCEU')"
   ]
  },
  {
   "cell_type": "code",
   "execution_count": null,
   "id": "6c62a77e",
   "metadata": {},
   "outputs": [],
   "source": [
    "from enhanced_experiment import EnhancedTimeSeriesExperiment\n",
    "from models.arima import Arima\n",
    "from models.baseline import Baseline\n",
    "from models.lgbm import LGBM\n",
    "from models.neuralproph import Neuralprophet\n",
    "\n",
    "from data.data_retriever import Dataretreiver"
   ]
  },
  {
   "cell_type": "code",
   "execution_count": null,
   "id": "4930e5a7",
   "metadata": {},
   "outputs": [],
   "source": [
    "# Define models\n",
    "models = {\n",
    "    'BASELINE': Baseline(),\n",
    "    'LGBM': LGBM(),\n",
    "    'ARIMA': Arima(order=[1,1,1], seasonal_order=[1,1,1,24]),\n",
    "    'NEURALPROPHET': Neuralprophet()\n",
    "}\n",
    "\n",
    "# Initialize the experiment\n",
    "experiment = EnhancedTimeSeriesExperiment(\n",
    "    models=models,\n",
    "    target_column='price',\n",
    "    forecast_horizon=192,\n",
    "    n_splits=3,\n",
    "    step_size=192 # 8 days are skipped between each forecast.\n",
    ")"
   ]
  },
  {
   "cell_type": "markdown",
   "id": "9600e620",
   "metadata": {},
   "source": [
    "# Experiment 1\n",
    "No reduction, with custom areas. Additionally, models are trained with no exogenous variables"
   ]
  },
  {
   "cell_type": "code",
   "execution_count": null,
   "id": "de2d30ee",
   "metadata": {},
   "outputs": [],
   "source": [
    "data = Dataretreiver(reduce=None, debug=True)\n",
    "df = data.combined\n",
    "# data.save(\"../results/reduction/fil_navn.csv\") example\n",
    "\n",
    "# Define custom combinations of different measurement types with different areas\n",
    "custom_combinations = [\n",
    "    { # NEEDS TO BE LOOKED AT!\n",
    "        'temp': {1},\n",
    "        'wind': {7},\n",
    "        'sun': {13}\n",
    "    },\n",
    "]\n",
    "\n",
    "# Run the experiments with these custom combinations\n",
    "experiment.run_feature_group_experiments(\n",
    "    df=df,\n",
    "    custom_feature_combinations=custom_combinations,\n",
    "    add_all_columns=True,\n",
    "    add_base_columns=True\n",
    ")"
   ]
  },
  {
   "cell_type": "markdown",
   "id": "3d3bd1c4",
   "metadata": {},
   "source": [
    "# Experiment 2\n",
    "PCA pure reduction. No custom areas"
   ]
  },
  {
   "cell_type": "code",
   "execution_count": null,
   "id": "a00b1061",
   "metadata": {},
   "outputs": [],
   "source": [
    "data = Dataretreiver(reduce='PCA_pure', debug=True)\n",
    "df = data.combined\n",
    "\n",
    "# Run the experiments with these custom combinations\n",
    "experiment.run_feature_group_experiments(\n",
    "    df=df,\n",
    "    add_all_columns=True,\n",
    "    add_base_columns=False\n",
    ")"
   ]
  },
  {
   "cell_type": "markdown",
   "id": "a4963e71",
   "metadata": {},
   "source": [
    "# Experiment 3\n",
    "PCA KMeans reduction. No custom areas"
   ]
  },
  {
   "cell_type": "code",
   "execution_count": null,
   "id": "45802c98",
   "metadata": {},
   "outputs": [],
   "source": [
    "data = Dataretreiver(reduce='PCA_kmeans', debug=True)\n",
    "df = data.combined\n",
    "\n",
    "# Run the experiments with these custom combinations\n",
    "experiment.run_feature_group_experiments(\n",
    "    df=df,\n",
    "    add_all_columns=True,\n",
    "    add_base_columns=False\n",
    ")"
   ]
  },
  {
   "cell_type": "markdown",
   "id": "2972f5b1",
   "metadata": {},
   "source": [
    "# Experiment 4\n",
    "Pearson reduction"
   ]
  },
  {
   "cell_type": "code",
   "execution_count": null,
   "id": "e85bc8f8",
   "metadata": {},
   "outputs": [],
   "source": [
    "data = Dataretreiver(reduce='pearson', debug=True)\n",
    "df = data.combined\n",
    "\n",
    "# Run the experiments with these custom combinations\n",
    "experiment.run_feature_group_experiments(\n",
    "    df=df,\n",
    "    add_all_columns=True,\n",
    "    add_base_columns=False\n",
    ")"
   ]
  }
 ],
 "metadata": {
  "language_info": {
   "name": "python"
  }
 },
 "nbformat": 4,
 "nbformat_minor": 5
}
