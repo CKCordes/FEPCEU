{
 "cells": [
  {
   "cell_type": "code",
   "execution_count": 1,
   "id": "0fe19785",
   "metadata": {},
   "outputs": [],
   "source": [
    "%load_ext autoreload\n",
    "%autoreload 2"
   ]
  },
  {
   "cell_type": "code",
   "execution_count": 2,
   "id": "e2360230",
   "metadata": {},
   "outputs": [],
   "source": [
    "import sys\n",
    "sys.path.append('C:/Users/au723200/FEPCEU')"
   ]
  },
  {
   "cell_type": "code",
   "execution_count": 3,
   "id": "c1c681f8",
   "metadata": {},
   "outputs": [],
   "source": [
    "from tqdm import tqdm"
   ]
  },
  {
   "cell_type": "code",
   "execution_count": 4,
   "id": "5d8a65e7",
   "metadata": {},
   "outputs": [
    {
     "name": "stderr",
     "output_type": "stream",
     "text": [
      "Importing plotly failed. Interactive plots will not work.\n",
      "Importing plotly failed. Interactive plots will not work.\n"
     ]
    }
   ],
   "source": [
    "from enhanced_experiment import EnhancedTimeSeriesExperiment\n",
    "from models.arima import Arima\n",
    "from models.baseline import Baseline\n",
    "from models.lgbm import LGBM\n",
    "from models.neuralproph import Neuralprophet\n",
    "from models.timegpt import TimeGPT\n",
    "\n",
    "from data.data_retriever import Dataretreiver"
   ]
  },
  {
   "cell_type": "code",
   "execution_count": 5,
   "id": "e2a5174a",
   "metadata": {},
   "outputs": [],
   "source": [
    "# Define models\n",
    "models = {\n",
    "    'BASELINE': Baseline(),\n",
    "    'LGBM': LGBM(),\n",
    "    'ARIMA': Arima(order=[1,0,1], seasonal_order=[1,1,1,24]),\n",
    "    'NEURALPROPHET': Neuralprophet(),\n",
    "    'TimeGPT': TimeGPT()\n",
    "\n",
    "}"
   ]
  },
  {
   "cell_type": "code",
   "execution_count": null,
   "id": "466595c3",
   "metadata": {},
   "outputs": [],
   "source": [
    "def kmeans():\n",
    "    # Define models\n",
    "    models_kmeans = {\n",
    "        'BASELINE': Baseline(),\n",
    "        'LGBM': LGBM(),\n",
    "        'ARIMA': Arima(order=[1,0,1], seasonal_order=[1,1,1,24]),\n",
    "        'NEURALPROPHET': Neuralprophet(),\n",
    "        'TimeGPT': TimeGPT()\n",
    "\n",
    "    }\n",
    "    print(\"PCA_KMEANS STARTED\")\n",
    "    for i in tqdm(range(23, 40)):\n",
    "        data = Dataretreiver(reduce='pca_kmeans', debug=False, reduction_num_cols=i)\n",
    "        df = data.combined\n",
    "        # Initialize the experiment\n",
    "        experiment = EnhancedTimeSeriesExperiment(\n",
    "            models=models_kmeans,\n",
    "            target_column='price',\n",
    "            forecast_horizon=192,\n",
    "            n_splits=3,\n",
    "            step_size=192 # 8 days are skipped between each forecast.\n",
    "        )\n",
    "        # Run the experiments with these custom combinations\n",
    "        experiment.run_feature_group_experiments(\n",
    "            df=df,\n",
    "            add_all_columns=True,\n",
    "            add_base_columns=False,\n",
    "        )\n",
    "        results_df_MAE = experiment.summarize_feature_group_results(metric='MAE')\n",
    "        results_df_MSE = experiment.summarize_feature_group_results(metric='RMSE')\n",
    "        results_df_time = experiment.summarize_feature_group_results(metric='elapsed_time')\n",
    "        print('='*50)\n",
    "        print(f\"Iterataion {i} results for pca_kmeans\")\n",
    "        print(\"MAE:\")\n",
    "        print(results_df_MAE)\n",
    "        print(\"RMSE\")\n",
    "        print(results_df_MSE)\n",
    "        print(\"Elapsed time\")\n",
    "        print(results_df_time)\n",
    "        print('='*50)\n",
    "        experiment.save_feature_group_results_to_csv(f\"../results/opt_num_areas/pca_kmeans_{i}.csv\")"
   ]
  },
  {
   "cell_type": "code",
   "execution_count": null,
   "id": "6f15c33b",
   "metadata": {},
   "outputs": [],
   "source": [
    "def pure():\n",
    "    print(\"PCA_PURE STARTED\")\n",
    "    # Define models\n",
    "    models_pure = {\n",
    "        'BASELINE': Baseline(),\n",
    "        'LGBM': LGBM(),\n",
    "        'ARIMA': Arima(order=[1,0,1], seasonal_order=[1,1,1,24]),\n",
    "        'NEURALPROPHET': Neuralprophet(),\n",
    "        'TimeGPT': TimeGPT()\n",
    "\n",
    "    }\n",
    "    for i in tqdm(range(1, 40)):\n",
    "        data = Dataretreiver(reduce='pca_pure', debug=False, reduction_num_cols=i)\n",
    "        df = data.combined\n",
    "        # Initialize the experiment\n",
    "        experiment = EnhancedTimeSeriesExperiment(\n",
    "            models=models_pure,\n",
    "            target_column='price',\n",
    "            forecast_horizon=192,\n",
    "            n_splits=3,\n",
    "            step_size=192 # 8 days are skipped between each forecast.\n",
    "        )\n",
    "        # Run the experiments with these custom combinations\n",
    "        experiment.run_feature_group_experiments(\n",
    "            df=df,\n",
    "            add_all_columns=True,\n",
    "            add_base_columns=False,\n",
    "        )\n",
    "        results_df_MAE = experiment.summarize_feature_group_results(metric='MAE')\n",
    "        results_df_MSE = experiment.summarize_feature_group_results(metric='RMSE')\n",
    "        results_df_time = experiment.summarize_feature_group_results(metric='elapsed_time')\n",
    "        print('='*50)\n",
    "        print(f\"Iterataion {i} results for pca_pure\")\n",
    "        print(\"MAE:\")\n",
    "        print(results_df_MAE)\n",
    "        print(\"RMSE\")\n",
    "        print(results_df_MSE)\n",
    "        print(\"Elapsed time\")\n",
    "        print(results_df_time)\n",
    "        print('='*50)\n",
    "        experiment.save_feature_group_results_to_csv(f\"../results/opt_num_areas/pca_pure_{i}.csv\")"
   ]
  },
  {
   "cell_type": "code",
   "execution_count": null,
   "id": "24479919",
   "metadata": {},
   "outputs": [],
   "source": [
    "def pearson():\n",
    "    print(\"PEARSON STARTED\")\n",
    "    models_pearson = {\n",
    "        'BASELINE': Baseline(),\n",
    "        'LGBM': LGBM(),\n",
    "        'ARIMA': Arima(order=[1,0,1], seasonal_order=[1,1,1,24]),\n",
    "        'NEURALPROPHET': Neuralprophet(),\n",
    "        'TimeGPT': TimeGPT()\n",
    "\n",
    "    }\n",
    "    for i in tqdm(range(1, 40)):\n",
    "        data = Dataretreiver(reduce='pearson', debug=True, reduction_num_cols=i)\n",
    "        df = data.combined\n",
    "        # Initialize the experiment\n",
    "        experiment = EnhancedTimeSeriesExperiment(\n",
    "            models=models_pearson,\n",
    "            target_column='price',\n",
    "            forecast_horizon=192,\n",
    "            n_splits=3,\n",
    "            step_size=192 # 8 days are skipped between each forecast.\n",
    "        )   \n",
    "        # Run the experiments with these custom combinations\n",
    "        experiment.run_feature_group_experiments(\n",
    "            df=df,\n",
    "            add_all_columns=True,\n",
    "            add_base_columns=False,\n",
    "        )\n",
    "        results_df_MAE = experiment.summarize_feature_group_results(metric='MAE')\n",
    "        results_df_MSE = experiment.summarize_feature_group_results(metric='RMSE')\n",
    "        results_df_time = experiment.summarize_feature_group_results(metric='elapsed_time')\n",
    "        print('='*50)\n",
    "        print(f\"Iterataion {i} results for pearson\")\n",
    "        print(\"MAE:\")\n",
    "        print(results_df_MAE)\n",
    "        print(\"RMSE\")\n",
    "        print(results_df_MSE)\n",
    "        print(\"Elapsed time\")\n",
    "        print(results_df_time)\n",
    "        print('='*50)\n",
    "        experiment.save_feature_group_results_to_csv(f\"../results/opt_num_areas/pearson_{i}.csv\")"
   ]
  },
  {
   "cell_type": "code",
   "execution_count": null,
   "id": "c86f59bd",
   "metadata": {},
   "outputs": [],
   "source": [
    "import threading\n",
    "\n",
    "pca_kmeans_thread = threading.Thread(target=kmeans)\n",
    "pca_pure_thread = threading.Thread(target=pure)\n",
    "pearson_thread = threading.Thread(target=pearson)\n",
    "\n",
    "pca_kmeans_thread.start()\n",
    "pca_pure_thread.start()\n",
    "pearson_thread.start()"
   ]
  }
 ],
 "metadata": {
  "kernelspec": {
   "display_name": "Python 3",
   "language": "python",
   "name": "python3"
  },
  "language_info": {
   "codemirror_mode": {
    "name": "ipython",
    "version": 3
   },
   "file_extension": ".py",
   "mimetype": "text/x-python",
   "name": "python",
   "nbconvert_exporter": "python",
   "pygments_lexer": "ipython3",
   "version": "3.12.3"
  }
 },
 "nbformat": 4,
 "nbformat_minor": 5
}
