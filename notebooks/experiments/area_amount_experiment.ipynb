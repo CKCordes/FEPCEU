{
 "cells": [
  {
   "cell_type": "code",
   "execution_count": 1,
   "id": "0fe19785",
   "metadata": {},
   "outputs": [],
   "source": [
    "%load_ext autoreload\n",
    "%autoreload 2"
   ]
  },
  {
   "cell_type": "code",
   "execution_count": 2,
   "id": "e2360230",
   "metadata": {},
   "outputs": [],
   "source": [
    "import sys\n",
    "sys.path.append('/home/sedroc/Bachelor/FEPCEU')"
   ]
  },
  {
   "cell_type": "code",
   "execution_count": 3,
   "id": "c1c681f8",
   "metadata": {},
   "outputs": [],
   "source": [
    "from tqdm import tqdm"
   ]
  },
  {
   "cell_type": "code",
   "execution_count": 4,
   "id": "5d8a65e7",
   "metadata": {},
   "outputs": [
    {
     "name": "stderr",
     "output_type": "stream",
     "text": [
      "/home/sedroc/Bachelor/FEPCEU/.venv/lib/python3.13/site-packages/tqdm/auto.py:21: TqdmWarning: IProgress not found. Please update jupyter and ipywidgets. See https://ipywidgets.readthedocs.io/en/stable/user_install.html\n",
      "  from .autonotebook import tqdm as notebook_tqdm\n",
      "Importing plotly failed. Interactive plots will not work.\n",
      "Importing plotly failed. Interactive plots will not work.\n"
     ]
    }
   ],
   "source": [
    "from enhanced_experiment import EnhancedTimeSeriesExperiment\n",
    "from models.arima import Arima\n",
    "from models.baseline import Baseline\n",
    "from models.lgbm import LGBM\n",
    "from models.neuralproph import Neuralprophet\n",
    "from models.timegpt import TimeGPT\n",
    "\n",
    "from data.data_retriever import Dataretreiver"
   ]
  },
  {
   "cell_type": "code",
   "execution_count": 5,
   "id": "e2a5174a",
   "metadata": {},
   "outputs": [],
   "source": [
    "# Define models\n",
    "models = {\n",
    "    'BASELINE': Baseline(),\n",
    "    #'LGBM': LGBM(),\n",
    "    #'ARIMA': Arima(order=[1,0,1], seasonal_order=[1,1,1,24]),\n",
    "    #'NEURALPROPHET': Neuralprophet()\n",
    "    #'TimeGPT': TimeGPT()\n",
    "\n",
    "}"
   ]
  },
  {
   "cell_type": "code",
   "execution_count": 9,
   "id": "466595c3",
   "metadata": {},
   "outputs": [
    {
     "name": "stderr",
     "output_type": "stream",
     "text": [
      " 11%|█         | 1/9 [00:01<00:10,  1.35s/it]"
     ]
    },
    {
     "name": "stdout",
     "output_type": "stream",
     "text": [
      "Identified area columns: {'sun': {21: 'sun_area_21'}, 'wind': {37: 'wind_area_37'}}\n",
      "Cross-validation splits with sliding window:\n",
      "Split 1: Train start = 2024-01-01 00:00:00 (index 0), Train end = 2024-06-29 20:00:00 (index 4340), Test end = 2024-07-07 19:00:00 (index 4531), Training size = 4340\n",
      "\n",
      "================================================================================\n",
      "Running experiment for feature group: all_areas\n",
      "Using columns: ['sun_area_21', 'wind_area_37']\n",
      "Running CV split 1/1 for feature group all_areas\n",
      "==================================================\n",
      "Iterataion 1 results\n",
      "MAE:\n",
      "                    BASELINE\n",
      "all_areas  260.1990 ± 0.0000\n",
      "RMSE\n",
      "                    BASELINE\n",
      "all_areas  357.9761 ± 0.0000\n",
      "Elapsed time\n",
      "                  BASELINE\n",
      "all_areas  0.0237 ± 0.0000\n",
      "==================================================\n"
     ]
    },
    {
     "name": "stderr",
     "output_type": "stream",
     "text": [
      " 22%|██▏       | 2/9 [00:02<00:09,  1.30s/it]"
     ]
    },
    {
     "name": "stdout",
     "output_type": "stream",
     "text": [
      "Identified area columns: {'sun': {28: 'sun_area_28', 13: 'sun_area_13'}, 'wind': {17: 'wind_area_17', 24: 'wind_area_24'}}\n",
      "Cross-validation splits with sliding window:\n",
      "Split 1: Train start = 2024-01-01 00:00:00 (index 0), Train end = 2024-06-29 20:00:00 (index 4340), Test end = 2024-07-07 19:00:00 (index 4531), Training size = 4340\n",
      "\n",
      "================================================================================\n",
      "Running experiment for feature group: all_areas\n",
      "Using columns: ['sun_area_28', 'sun_area_13', 'wind_area_17', 'wind_area_24']\n",
      "Running CV split 1/1 for feature group all_areas\n",
      "==================================================\n",
      "Iterataion 2 results\n",
      "MAE:\n",
      "                    BASELINE\n",
      "all_areas  260.1990 ± 0.0000\n",
      "RMSE\n",
      "                    BASELINE\n",
      "all_areas  357.9761 ± 0.0000\n",
      "Elapsed time\n",
      "                  BASELINE\n",
      "all_areas  0.0217 ± 0.0000\n",
      "==================================================\n"
     ]
    },
    {
     "name": "stderr",
     "output_type": "stream",
     "text": [
      " 33%|███▎      | 3/9 [00:03<00:07,  1.30s/it]"
     ]
    },
    {
     "name": "stdout",
     "output_type": "stream",
     "text": [
      "Identified area columns: {'sun': {28: 'sun_area_28', 12: 'sun_area_12', 14: 'sun_area_14'}, 'wind': {27: 'wind_area_27', 20: 'wind_area_20', 12: 'wind_area_12'}}\n",
      "Cross-validation splits with sliding window:\n",
      "Split 1: Train start = 2024-01-01 00:00:00 (index 0), Train end = 2024-06-29 20:00:00 (index 4340), Test end = 2024-07-07 19:00:00 (index 4531), Training size = 4340\n",
      "\n",
      "================================================================================\n",
      "Running experiment for feature group: all_areas\n",
      "Using columns: ['sun_area_28', 'sun_area_12', 'sun_area_14', 'wind_area_27', 'wind_area_20', 'wind_area_12']\n",
      "Running CV split 1/1 for feature group all_areas\n",
      "==================================================\n",
      "Iterataion 3 results\n",
      "MAE:\n",
      "                    BASELINE\n",
      "all_areas  260.1990 ± 0.0000\n",
      "RMSE\n",
      "                    BASELINE\n",
      "all_areas  357.9761 ± 0.0000\n",
      "Elapsed time\n",
      "                  BASELINE\n",
      "all_areas  0.0217 ± 0.0000\n",
      "==================================================\n"
     ]
    },
    {
     "name": "stderr",
     "output_type": "stream",
     "text": [
      " 44%|████▍     | 4/9 [00:05<00:06,  1.35s/it]"
     ]
    },
    {
     "name": "stdout",
     "output_type": "stream",
     "text": [
      "Identified area columns: {'sun': {27: 'sun_area_27', 7: 'sun_area_7', 14: 'sun_area_14', 34: 'sun_area_34'}, 'wind': {27: 'wind_area_27', 29: 'wind_area_29', 7: 'wind_area_7', 14: 'wind_area_14'}}\n",
      "Cross-validation splits with sliding window:\n",
      "Split 1: Train start = 2024-01-01 00:00:00 (index 0), Train end = 2024-06-29 20:00:00 (index 4340), Test end = 2024-07-07 19:00:00 (index 4531), Training size = 4340\n",
      "\n",
      "================================================================================\n",
      "Running experiment for feature group: all_areas\n",
      "Using columns: ['sun_area_27', 'sun_area_7', 'sun_area_14', 'sun_area_34', 'wind_area_27', 'wind_area_29', 'wind_area_7', 'wind_area_14']\n",
      "Running CV split 1/1 for feature group all_areas\n",
      "==================================================\n",
      "Iterataion 4 results\n",
      "MAE:\n",
      "                    BASELINE\n",
      "all_areas  260.1990 ± 0.0000\n",
      "RMSE\n",
      "                    BASELINE\n",
      "all_areas  357.9761 ± 0.0000\n",
      "Elapsed time\n",
      "                  BASELINE\n",
      "all_areas  0.0233 ± 0.0000\n",
      "==================================================\n"
     ]
    },
    {
     "name": "stderr",
     "output_type": "stream",
     "text": [
      " 56%|█████▌    | 5/9 [00:06<00:05,  1.37s/it]"
     ]
    },
    {
     "name": "stdout",
     "output_type": "stream",
     "text": [
      "Identified area columns: {'sun': {27: 'sun_area_27', 7: 'sun_area_7', 15: 'sun_area_15', 34: 'sun_area_34', 11: 'sun_area_11'}, 'wind': {22: 'wind_area_22', 29: 'wind_area_29', 7: 'wind_area_7', 9: 'wind_area_9', 32: 'wind_area_32'}}\n",
      "Cross-validation splits with sliding window:\n",
      "Split 1: Train start = 2024-01-01 00:00:00 (index 0), Train end = 2024-06-29 20:00:00 (index 4340), Test end = 2024-07-07 19:00:00 (index 4531), Training size = 4340\n",
      "\n",
      "================================================================================\n",
      "Running experiment for feature group: all_areas\n",
      "Using columns: ['sun_area_27', 'sun_area_7', 'sun_area_15', 'sun_area_34', 'sun_area_11', 'wind_area_22', 'wind_area_29', 'wind_area_7', 'wind_area_9', 'wind_area_32']\n",
      "Running CV split 1/1 for feature group all_areas\n",
      "==================================================\n",
      "Iterataion 5 results\n",
      "MAE:\n",
      "                    BASELINE\n",
      "all_areas  260.1990 ± 0.0000\n",
      "RMSE\n",
      "                    BASELINE\n",
      "all_areas  357.9761 ± 0.0000\n",
      "Elapsed time\n",
      "                  BASELINE\n",
      "all_areas  0.0273 ± 0.0000\n",
      "==================================================\n"
     ]
    },
    {
     "name": "stderr",
     "output_type": "stream",
     "text": [
      " 67%|██████▋   | 6/9 [00:07<00:03,  1.32s/it]"
     ]
    },
    {
     "name": "stdout",
     "output_type": "stream",
     "text": [
      "Identified area columns: {'sun': {22: 'sun_area_22', 7: 'sun_area_7', 14: 'sun_area_14', 35: 'sun_area_35', 33: 'sun_area_33', 11: 'sun_area_11'}, 'wind': {27: 'wind_area_27', 34: 'wind_area_34', 11: 'wind_area_11', 9: 'wind_area_9', 12: 'wind_area_12', 20: 'wind_area_20'}}\n",
      "Cross-validation splits with sliding window:\n",
      "Split 1: Train start = 2024-01-01 00:00:00 (index 0), Train end = 2024-06-29 20:00:00 (index 4340), Test end = 2024-07-07 19:00:00 (index 4531), Training size = 4340\n",
      "\n",
      "================================================================================\n",
      "Running experiment for feature group: all_areas\n",
      "Using columns: ['sun_area_22', 'sun_area_7', 'sun_area_14', 'sun_area_35', 'sun_area_33', 'sun_area_11', 'wind_area_27', 'wind_area_34', 'wind_area_11', 'wind_area_9', 'wind_area_12', 'wind_area_20']\n",
      "Running CV split 1/1 for feature group all_areas\n",
      "==================================================\n",
      "Iterataion 6 results\n",
      "MAE:\n",
      "                    BASELINE\n",
      "all_areas  260.1990 ± 0.0000\n",
      "RMSE\n",
      "                    BASELINE\n",
      "all_areas  357.9761 ± 0.0000\n",
      "Elapsed time\n",
      "                  BASELINE\n",
      "all_areas  0.0262 ± 0.0000\n",
      "==================================================\n"
     ]
    },
    {
     "name": "stderr",
     "output_type": "stream",
     "text": [
      " 78%|███████▊  | 7/9 [00:09<00:02,  1.33s/it]"
     ]
    },
    {
     "name": "stdout",
     "output_type": "stream",
     "text": [
      "Identified area columns: {'sun': {22: 'sun_area_22', 7: 'sun_area_7', 9: 'sun_area_9', 39: 'sun_area_39', 11: 'sun_area_11', 25: 'sun_area_25', 32: 'sun_area_32'}, 'wind': {18: 'wind_area_18', 34: 'wind_area_34', 2: 'wind_area_2', 4: 'wind_area_4', 32: 'wind_area_32', 19: 'wind_area_19', 26: 'wind_area_26'}}\n",
      "Cross-validation splits with sliding window:\n",
      "Split 1: Train start = 2024-01-01 00:00:00 (index 0), Train end = 2024-06-29 20:00:00 (index 4340), Test end = 2024-07-07 19:00:00 (index 4531), Training size = 4340\n",
      "\n",
      "================================================================================\n",
      "Running experiment for feature group: all_areas\n",
      "Using columns: ['sun_area_22', 'sun_area_7', 'sun_area_9', 'sun_area_39', 'sun_area_11', 'sun_area_25', 'sun_area_32', 'wind_area_18', 'wind_area_34', 'wind_area_2', 'wind_area_4', 'wind_area_32', 'wind_area_19', 'wind_area_26']\n",
      "Running CV split 1/1 for feature group all_areas\n",
      "==================================================\n",
      "Iterataion 7 results\n",
      "MAE:\n",
      "                    BASELINE\n",
      "all_areas  260.1990 ± 0.0000\n",
      "RMSE\n",
      "                    BASELINE\n",
      "all_areas  357.9761 ± 0.0000\n",
      "Elapsed time\n",
      "                  BASELINE\n",
      "all_areas  0.0391 ± 0.0000\n",
      "==================================================\n"
     ]
    },
    {
     "name": "stderr",
     "output_type": "stream",
     "text": [
      " 89%|████████▉ | 8/9 [00:10<00:01,  1.40s/it]"
     ]
    },
    {
     "name": "stdout",
     "output_type": "stream",
     "text": [
      "Identified area columns: {'sun': {22: 'sun_area_22', 7: 'sun_area_7', 39: 'sun_area_39', 9: 'sun_area_9', 19: 'sun_area_19', 32: 'sun_area_32', 11: 'sun_area_11', 25: 'sun_area_25'}, 'wind': {22: 'wind_area_22', 35: 'wind_area_35', 7: 'wind_area_7', 9: 'wind_area_9', 11: 'wind_area_11', 32: 'wind_area_32', 25: 'wind_area_25', 31: 'wind_area_31'}}\n",
      "Cross-validation splits with sliding window:\n",
      "Split 1: Train start = 2024-01-01 00:00:00 (index 0), Train end = 2024-06-29 20:00:00 (index 4340), Test end = 2024-07-07 19:00:00 (index 4531), Training size = 4340\n",
      "\n",
      "================================================================================\n",
      "Running experiment for feature group: all_areas\n",
      "Using columns: ['sun_area_22', 'sun_area_7', 'sun_area_39', 'sun_area_9', 'sun_area_19', 'sun_area_32', 'sun_area_11', 'sun_area_25', 'wind_area_22', 'wind_area_35', 'wind_area_7', 'wind_area_9', 'wind_area_11', 'wind_area_32', 'wind_area_25', 'wind_area_31']\n",
      "Running CV split 1/1 for feature group all_areas\n",
      "==================================================\n",
      "Iterataion 8 results\n",
      "MAE:\n",
      "                    BASELINE\n",
      "all_areas  260.1990 ± 0.0000\n",
      "RMSE\n",
      "                    BASELINE\n",
      "all_areas  357.9761 ± 0.0000\n",
      "Elapsed time\n",
      "                  BASELINE\n",
      "all_areas  0.0313 ± 0.0000\n",
      "==================================================\n"
     ]
    },
    {
     "name": "stderr",
     "output_type": "stream",
     "text": [
      "100%|██████████| 9/9 [00:12<00:00,  1.39s/it]"
     ]
    },
    {
     "name": "stdout",
     "output_type": "stream",
     "text": [
      "Identified area columns: {'sun': {23: 'sun_area_23', 7: 'sun_area_7', 39: 'sun_area_39', 9: 'sun_area_9', 16: 'sun_area_16', 31: 'sun_area_31', 25: 'sun_area_25', 32: 'sun_area_32', 6: 'sun_area_6'}, 'wind': {22: 'wind_area_22', 34: 'wind_area_34', 7: 'wind_area_7', 9: 'wind_area_9', 16: 'wind_area_16', 32: 'wind_area_32', 20: 'wind_area_20', 31: 'wind_area_31', 6: 'wind_area_6'}}\n",
      "Cross-validation splits with sliding window:\n",
      "Split 1: Train start = 2024-01-01 00:00:00 (index 0), Train end = 2024-06-29 20:00:00 (index 4340), Test end = 2024-07-07 19:00:00 (index 4531), Training size = 4340\n",
      "\n",
      "================================================================================\n",
      "Running experiment for feature group: all_areas\n",
      "Using columns: ['sun_area_23', 'sun_area_7', 'sun_area_39', 'sun_area_9', 'sun_area_16', 'sun_area_31', 'sun_area_25', 'sun_area_32', 'sun_area_6', 'wind_area_22', 'wind_area_34', 'wind_area_7', 'wind_area_9', 'wind_area_16', 'wind_area_32', 'wind_area_20', 'wind_area_31', 'wind_area_6']\n",
      "Running CV split 1/1 for feature group all_areas\n",
      "==================================================\n",
      "Iterataion 9 results\n",
      "MAE:\n",
      "                    BASELINE\n",
      "all_areas  260.1990 ± 0.0000\n",
      "RMSE\n",
      "                    BASELINE\n",
      "all_areas  357.9761 ± 0.0000\n",
      "Elapsed time\n",
      "                  BASELINE\n",
      "all_areas  0.0417 ± 0.0000\n",
      "==================================================\n"
     ]
    },
    {
     "name": "stderr",
     "output_type": "stream",
     "text": [
      "\n"
     ]
    }
   ],
   "source": [
    "for i in tqdm(range(1, 10)):\n",
    "    data = Dataretreiver(reduce='pca_kmeans', debug=False, reduction_num_cols=i)\n",
    "    df = data.combined\n",
    "\n",
    "    # Initialize the experiment\n",
    "    experiment = EnhancedTimeSeriesExperiment(\n",
    "        models=models,\n",
    "        target_column='price',\n",
    "        forecast_horizon=192,\n",
    "        n_splits=1,\n",
    "        step_size=192 # 8 days are skipped between each forecast.\n",
    "    )\n",
    "\n",
    "    # Run the experiments with these custom combinations\n",
    "    experiment.run_feature_group_experiments(\n",
    "        df=df,\n",
    "        add_all_columns=True,\n",
    "        add_base_columns=False,\n",
    "    )\n",
    "\n",
    "    results_df_MAE = experiment.summarize_feature_group_results(metric='MAE')\n",
    "    results_df_MSE = experiment.summarize_feature_group_results(metric='RMSE')\n",
    "    results_df_time = experiment.summarize_feature_group_results(metric='elapsed_time')\n",
    "\n",
    "    print('='*50)\n",
    "    print(f\"Iterataion {i} results\")\n",
    "    print(\"MAE:\")\n",
    "    print(results_df_MAE)\n",
    "    print(\"RMSE\")\n",
    "    print(results_df_MSE)\n",
    "    print(\"Elapsed time\")\n",
    "    print(results_df_time)\n",
    "    print('='*50)\n",
    "    \n",
    "    #experiment.save_feature_group_results_to_csv(f\"../results/opt_num_areas/pca_kmeans_{i}.csv\")"
   ]
  },
  {
   "cell_type": "code",
   "execution_count": null,
   "id": "6f15c33b",
   "metadata": {},
   "outputs": [],
   "source": [
    "for i in tqdm(range(1, 2)):\n",
    "    data = Dataretreiver(reduce='pca_pure', debug=True, reduction_num_cols=i)\n",
    "    df = data.combined\n",
    "\n",
    "    # Run the experiments with these custom combinations\n",
    "    experiment.run_feature_group_experiments(\n",
    "        df=df,\n",
    "        add_all_columns=True,\n",
    "        add_base_columns=False,\n",
    "    )\n",
    "\n",
    "    results_df_MAE = experiment.summarize_feature_group_results(metric='MAE')\n",
    "    results_df_MSE = experiment.summarize_feature_group_results(metric='RMSE')\n",
    "    results_df_time = experiment.summarize_feature_group_results(metric='elapsed_time')\n",
    "\n",
    "    print('='*50)\n",
    "    print(f\"Iterataion {i} results\")\n",
    "    print(results_df_MAE)\n",
    "    print(results_df_MSE)\n",
    "    print(results_df_time)\n",
    "    print('='*50)\n",
    "    \n",
    "    #experiment.save_feature_group_results_to_csv(f\"../results/opt_num_areas/pca_pure_{i}.csv\")"
   ]
  },
  {
   "cell_type": "code",
   "execution_count": null,
   "id": "24479919",
   "metadata": {},
   "outputs": [],
   "source": [
    "for i in tqdm(range(1, 2)):\n",
    "    data = Dataretreiver(reduce='pearson', debug=True, reduction_num_cols=i)\n",
    "    df = data.combined\n",
    "\n",
    "    # Run the experiments with these custom combinations\n",
    "    experiment.run_feature_group_experiments(\n",
    "        df=df,\n",
    "        add_all_columns=True,\n",
    "        add_base_columns=False,\n",
    "    )\n",
    "\n",
    "    results_df_MAE = experiment.summarize_feature_group_results(metric='MAE')\n",
    "    results_df_MSE = experiment.summarize_feature_group_results(metric='RMSE')\n",
    "    results_df_time = experiment.summarize_feature_group_results(metric='elapsed_time')\n",
    "\n",
    "    print('='*50)\n",
    "    print(f\"Iterataion {i} results\")\n",
    "    print(results_df_MAE)\n",
    "    print(results_df_MSE)\n",
    "    print(results_df_time)\n",
    "    print('='*50)\n",
    "    \n",
    "    #experiment.save_feature_group_results_to_csv(f\"../results/opt_num_areas/pearson_{i}.csv\")"
   ]
  }
 ],
 "metadata": {
  "kernelspec": {
   "display_name": ".venv",
   "language": "python",
   "name": "python3"
  },
  "language_info": {
   "codemirror_mode": {
    "name": "ipython",
    "version": 3
   },
   "file_extension": ".py",
   "mimetype": "text/x-python",
   "name": "python",
   "nbconvert_exporter": "python",
   "pygments_lexer": "ipython3",
   "version": "3.13.3"
  }
 },
 "nbformat": 4,
 "nbformat_minor": 5
}
