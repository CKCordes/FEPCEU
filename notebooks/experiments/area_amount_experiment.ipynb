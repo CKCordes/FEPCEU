{
 "cells": [
  {
   "cell_type": "code",
   "execution_count": null,
   "id": "0fe19785",
   "metadata": {},
   "outputs": [],
   "source": [
    "%load_ext autoreload\n",
    "%autoreload 2"
   ]
  },
  {
   "cell_type": "code",
   "execution_count": 1,
   "id": "e2360230",
   "metadata": {},
   "outputs": [],
   "source": [
    "import sys\n",
    "# sys.path.append('C:/Users/au723200/FEPCEU')\n",
    "sys.path.append('C:/Users/madss/Aarhus Universitet/CompTek/6. Semester/Bachelor/github/FEPCEU')"
   ]
  },
  {
   "cell_type": "code",
   "execution_count": 2,
   "id": "c1c681f8",
   "metadata": {},
   "outputs": [],
   "source": [
    "from tqdm import tqdm"
   ]
  },
  {
   "cell_type": "code",
   "execution_count": 3,
   "id": "5d8a65e7",
   "metadata": {},
   "outputs": [
    {
     "name": "stderr",
     "output_type": "stream",
     "text": [
      "c:\\Users\\madss\\AppData\\Local\\Programs\\Python\\Python313\\Lib\\site-packages\\tqdm\\auto.py:21: TqdmWarning: IProgress not found. Please update jupyter and ipywidgets. See https://ipywidgets.readthedocs.io/en/stable/user_install.html\n",
      "  from .autonotebook import tqdm as notebook_tqdm\n"
     ]
    }
   ],
   "source": [
    "from enhanced_experiment import EnhancedTimeSeriesExperiment\n",
    "from models.arima import Arima\n",
    "from models.baseline import Baseline\n",
    "from models.lgbm import LGBM\n",
    "#from models.neuralproph import Neuralprophet\n",
    "#from models.timegpt import TimeGPT\n",
    "\n",
    "from data.data_retriever import Dataretreiver"
   ]
  },
  {
   "cell_type": "code",
   "execution_count": null,
   "id": "e2a5174a",
   "metadata": {},
   "outputs": [],
   "source": [
    "# Define models\n",
    "models = {\n",
    "    #'BASELINE': Baseline(),\n",
    "    #'LGBM': LGBM(),\n",
    "    'ARIMA': Arima(order=[1,0,1], seasonal_order=[1,1,1,24]),\n",
    "    #'NEURALPROPHET': Neuralprophet(),\n",
    "    #'TimeGPT': TimeGPT()\n",
    "}"
   ]
  },
  {
   "cell_type": "code",
   "execution_count": 4,
   "id": "00846035",
   "metadata": {},
   "outputs": [],
   "source": [
    "areas_to_include = [1, 8, 13, 18, 25, 30, 39]"
   ]
  },
  {
   "cell_type": "code",
   "execution_count": 5,
   "id": "466595c3",
   "metadata": {},
   "outputs": [],
   "source": [
    "def kmeans():\n",
    "    # Define models\n",
    "    models_kmeans = {\n",
    "        #'BASELINE': Baseline(),\n",
    "        #'LGBM': LGBM(),\n",
    "        'ARIMA': Arima(order=[1,0,1], seasonal_order=[1,1,1,24]),\n",
    "        #'NEURALPROPHET': Neuralprophet(),\n",
    "        #'TimeGPT': TimeGPT()\n",
    "\n",
    "    }\n",
    "    print(\"PCA_KMEANS STARTED\")\n",
    "    for i in tqdm(areas_to_include):\n",
    "        data = Dataretreiver(reduce='pca_kmeans', debug=False, reduction_num_cols=i)\n",
    "        df = data.combined\n",
    "        # Initialize the experiment\n",
    "        experiment = EnhancedTimeSeriesExperiment(\n",
    "            models=models_kmeans,\n",
    "            target_column='price',\n",
    "            forecast_horizon=192,\n",
    "            n_splits=3,\n",
    "            step_size=192 # 8 days are skipped between each forecast.\n",
    "        )\n",
    "        # Run the experiments with these custom combinations\n",
    "        experiment.run_feature_group_experiments(\n",
    "            df=df,\n",
    "            add_all_columns=True,\n",
    "            add_base_columns=False,\n",
    "        )\n",
    "        results_df_MAE = experiment.summarize_feature_group_results(metric='MAE')\n",
    "        results_df_MSE = experiment.summarize_feature_group_results(metric='RMSE')\n",
    "        results_df_time = experiment.summarize_feature_group_results(metric='elapsed_time')\n",
    "        print('='*50)\n",
    "        print(f\"Iterataion {i} results for pca_kmeans\")\n",
    "        print(\"MAE:\")\n",
    "        print(results_df_MAE)\n",
    "        print(\"RMSE\")\n",
    "        print(results_df_MSE)\n",
    "        print(\"Elapsed time\")\n",
    "        print(results_df_time)\n",
    "        print('='*50)\n",
    "        experiment.save_feature_group_results_to_csv(f\"../results/opt_num_areas/only_arima/pca_kmeans_{i}.csv\")"
   ]
  },
  {
   "cell_type": "code",
   "execution_count": 6,
   "id": "6f15c33b",
   "metadata": {},
   "outputs": [],
   "source": [
    "def pure():\n",
    "    print(\"PCA_PURE STARTED\")\n",
    "    # Define models\n",
    "    models_pure = {\n",
    "        #'BASELINE': Baseline(),\n",
    "        #'LGBM': LGBM(),\n",
    "        'ARIMA': Arima(order=[1,0,1], seasonal_order=[1,1,1,24]),\n",
    "        #'NEURALPROPHET': Neuralprophet(),\n",
    "        #'TimeGPT': TimeGPT()\n",
    "\n",
    "    }\n",
    "    for i in tqdm(areas_to_include):\n",
    "        data = Dataretreiver(reduce='pca_pure', debug=False, reduction_num_cols=i)\n",
    "        df = data.combined\n",
    "        # Initialize the experiment\n",
    "        experiment = EnhancedTimeSeriesExperiment(\n",
    "            models=models_pure,\n",
    "            target_column='price',\n",
    "            forecast_horizon=192,\n",
    "            n_splits=3,\n",
    "            step_size=192 # 8 days are skipped between each forecast.\n",
    "        )\n",
    "        # Run the experiments with these custom combinations\n",
    "        experiment.run_feature_group_experiments(\n",
    "            df=df,\n",
    "            add_all_columns=True,\n",
    "            add_base_columns=False,\n",
    "        )\n",
    "        results_df_MAE = experiment.summarize_feature_group_results(metric='MAE')\n",
    "        results_df_MSE = experiment.summarize_feature_group_results(metric='RMSE')\n",
    "        results_df_time = experiment.summarize_feature_group_results(metric='elapsed_time')\n",
    "        print('='*50)\n",
    "        print(f\"Iterataion {i} results for pca_pure\")\n",
    "        print(\"MAE:\")\n",
    "        print(results_df_MAE)\n",
    "        print(\"RMSE\")\n",
    "        print(results_df_MSE)\n",
    "        print(\"Elapsed time\")\n",
    "        print(results_df_time)\n",
    "        print('='*50)\n",
    "        experiment.save_feature_group_results_to_csv(f\"../results/opt_num_areas/only_arima/pca_pure_{i}.csv\")"
   ]
  },
  {
   "cell_type": "code",
   "execution_count": 7,
   "id": "24479919",
   "metadata": {},
   "outputs": [],
   "source": [
    "def pearson():\n",
    "    print(\"PEARSON STARTED\")\n",
    "    models_pearson = {\n",
    "        #'BASELINE': Baseline(),\n",
    "        # 'LGBM': LGBM(),\n",
    "        'ARIMA': Arima(order=[1,0,1], seasonal_order=[1,1,1,24]),\n",
    "        # 'NEURALPROPHET': Neuralprophet(),\n",
    "        # 'TimeGPT': TimeGPT()\n",
    "\n",
    "    }\n",
    "    for i in tqdm(areas_to_include):\n",
    "        data = Dataretreiver(reduce='pearson', debug=True, reduction_num_cols=i)\n",
    "        df = data.combined\n",
    "        # Initialize the experiment\n",
    "        experiment = EnhancedTimeSeriesExperiment(\n",
    "            models=models_pearson,\n",
    "            target_column='price',\n",
    "            forecast_horizon=192,\n",
    "            n_splits=3,\n",
    "            step_size=192 # 8 days are skipped between each forecast.\n",
    "        )   \n",
    "        # Run the experiments with these custom combinations\n",
    "        experiment.run_feature_group_experiments(\n",
    "            df=df,\n",
    "            add_all_columns=True,\n",
    "            add_base_columns=False,\n",
    "        )\n",
    "        results_df_MAE = experiment.summarize_feature_group_results(metric='MAE')\n",
    "        results_df_MSE = experiment.summarize_feature_group_results(metric='RMSE')\n",
    "        results_df_time = experiment.summarize_feature_group_results(metric='elapsed_time')\n",
    "        print('='*50)\n",
    "        print(f\"Iterataion {i} results for pearson\")\n",
    "        print(\"MAE:\")\n",
    "        print(results_df_MAE)\n",
    "        print(\"RMSE\")\n",
    "        print(results_df_MSE)\n",
    "        print(\"Elapsed time\")\n",
    "        print(results_df_time)\n",
    "        print('='*50)\n",
    "        experiment.save_feature_group_results_to_csv(f\"../results/opt_num_areas/pearson_{i}.csv\")"
   ]
  },
  {
   "cell_type": "code",
   "execution_count": 9,
   "id": "c86f59bd",
   "metadata": {},
   "outputs": [
    {
     "name": "stdout",
     "output_type": "stream",
     "text": [
      "PEARSON STARTED\n"
     ]
    },
    {
     "name": "stderr",
     "output_type": "stream",
     "text": [
      "  0%|          | 0/7 [00:00<?, ?it/s]"
     ]
    },
    {
     "name": "stdout",
     "output_type": "stream",
     "text": [
      "Filling missing values\n",
      "Start date: 2024-01-01 00:00:00\n",
      "End date: 2024-12-31 23:00:00\n",
      "Total expected hours: 8784\n",
      "Hours in original data: 8783\n",
      "Missing hours filled: 1\n",
      "Hours in complete data: 8784\n",
      "Expected hours for the year: 8784\n",
      "WARNING: While correlation reducing, the provided data amount does not match the elspot length. Truncating\n",
      "Top 1 most correlated with elspot price:\n",
      "sun_area_6: correlation = -0.2910\n",
      "WARNING: While correlation reducing, the provided data amount does not match the elspot length. Truncating\n",
      "Top 1 most correlated with elspot price:\n",
      "wind_area_12: correlation = -0.4016\n",
      "WARNING: While correlation reducing, the provided data amount does not match the elspot length. Truncating\n",
      "Top 1 most correlated with elspot price:\n",
      "temp_area_13: correlation = -0.2070\n",
      "Identified area columns: {'sun': {6: 'sun_area_6'}, 'wind': {12: 'wind_area_12'}}\n",
      "Cross-validation splits with sliding window:\n",
      "Split 1: Train start = 2024-01-01 00:00:00 (index 0), Train end = 2024-06-29 20:00:00 (index 4340), Test end = 2024-07-07 19:00:00 (index 4531), Training size = 4340\n",
      "Split 2: Train start = 2024-01-09 00:00:00 (index 192), Train end = 2024-07-07 20:00:00 (index 4532), Test end = 2024-07-15 19:00:00 (index 4723), Training size = 4340\n",
      "Split 3: Train start = 2024-01-17 00:00:00 (index 384), Train end = 2024-07-15 20:00:00 (index 4724), Test end = 2024-07-23 19:00:00 (index 4915), Training size = 4340\n",
      "\n",
      "================================================================================\n",
      "Running experiment for feature group: all_areas\n",
      "Using columns: ['sun_area_6', 'wind_area_12']\n",
      "Running CV split 1/3 for feature group all_areas\n",
      "Fitting ARIMA model with order: [1, 0, 1] and seasonal order: [1, 1, 1, 24]\n"
     ]
    },
    {
     "name": "stderr",
     "output_type": "stream",
     "text": [
      "c:\\Users\\madss\\AppData\\Local\\Programs\\Python\\Python313\\Lib\\site-packages\\statsmodels\\base\\model.py:607: ConvergenceWarning: Maximum Likelihood optimization failed to converge. Check mle_retvals\n",
      "  warnings.warn(\"Maximum Likelihood optimization failed to \"\n"
     ]
    },
    {
     "name": "stdout",
     "output_type": "stream",
     "text": [
      "Model fitted successfully.\n",
      "Forecasting with ARIMA model...\n",
      "Forecasting completed.\n",
      "Running CV split 2/3 for feature group all_areas\n",
      "Fitting ARIMA model with order: [1, 0, 1] and seasonal order: [1, 1, 1, 24]\n",
      "Model fitted successfully.\n",
      "Forecasting with ARIMA model...\n",
      "Forecasting completed.\n",
      "Running CV split 3/3 for feature group all_areas\n",
      "Fitting ARIMA model with order: [1, 0, 1] and seasonal order: [1, 1, 1, 24]\n"
     ]
    },
    {
     "name": "stderr",
     "output_type": "stream",
     "text": [
      "c:\\Users\\madss\\AppData\\Local\\Programs\\Python\\Python313\\Lib\\site-packages\\statsmodels\\base\\model.py:607: ConvergenceWarning: Maximum Likelihood optimization failed to converge. Check mle_retvals\n",
      "  warnings.warn(\"Maximum Likelihood optimization failed to \"\n",
      " 14%|█▍        | 1/7 [03:53<23:18, 233.12s/it]"
     ]
    },
    {
     "name": "stdout",
     "output_type": "stream",
     "text": [
      "Model fitted successfully.\n",
      "Forecasting with ARIMA model...\n",
      "Forecasting completed.\n",
      "==================================================\n",
      "Iterataion 1 results for pearson\n",
      "MAE:\n",
      "                        ARIMA\n",
      "all_areas  189.1568 ± 44.5256\n",
      "RMSE\n",
      "                        ARIMA\n",
      "all_areas  235.7979 ± 48.8185\n",
      "Elapsed time\n",
      "                      ARIMA\n",
      "all_areas  77.3557 ± 3.5705\n",
      "==================================================\n",
      "Saved feature group results to ../results/opt_num_areas/pearson_1_20250516_211127.csv\n",
      "Filling missing values\n",
      "Start date: 2024-01-01 00:00:00\n",
      "End date: 2024-12-31 23:00:00\n",
      "Total expected hours: 8784\n",
      "Hours in original data: 8783\n",
      "Missing hours filled: 1\n",
      "Hours in complete data: 8784\n",
      "Expected hours for the year: 8784\n",
      "WARNING: While correlation reducing, the provided data amount does not match the elspot length. Truncating\n",
      "Top 8 most correlated with elspot price:\n",
      "sun_area_6: correlation = -0.2910\n",
      "sun_area_11: correlation = -0.2882\n",
      "sun_area_1: correlation = -0.2874\n",
      "sun_area_16: correlation = -0.2839\n",
      "sun_area_7: correlation = -0.2830\n",
      "sun_area_2: correlation = -0.2830\n",
      "sun_area_3: correlation = -0.2828\n",
      "sun_area_21: correlation = -0.2828\n",
      "WARNING: While correlation reducing, the provided data amount does not match the elspot length. Truncating\n",
      "Top 8 most correlated with elspot price:\n",
      "wind_area_12: correlation = -0.4016\n",
      "wind_area_13: correlation = -0.3981\n",
      "wind_area_17: correlation = -0.3916\n",
      "wind_area_16: correlation = -0.3907\n",
      "wind_area_18: correlation = -0.3902\n",
      "wind_area_27: correlation = -0.3849\n",
      "wind_area_7: correlation = -0.3843\n",
      "wind_area_11: correlation = -0.3812\n",
      "WARNING: While correlation reducing, the provided data amount does not match the elspot length. Truncating\n",
      "Top 8 most correlated with elspot price:\n",
      "temp_area_13: correlation = -0.2070\n",
      "temp_area_12: correlation = -0.2036\n",
      "temp_area_39: correlation = -0.2010\n",
      "temp_area_40: correlation = -0.1999\n",
      "temp_area_38: correlation = -0.1996\n",
      "temp_area_18: correlation = -0.1970\n",
      "temp_area_16: correlation = -0.1952\n",
      "temp_area_19: correlation = -0.1902\n",
      "Identified area columns: {'sun': {6: 'sun_area_6', 11: 'sun_area_11', 1: 'sun_area_1', 16: 'sun_area_16', 7: 'sun_area_7', 2: 'sun_area_2', 3: 'sun_area_3', 21: 'sun_area_21'}, 'wind': {12: 'wind_area_12', 13: 'wind_area_13', 17: 'wind_area_17', 16: 'wind_area_16', 18: 'wind_area_18', 27: 'wind_area_27', 7: 'wind_area_7', 11: 'wind_area_11'}}\n",
      "Cross-validation splits with sliding window:\n",
      "Split 1: Train start = 2024-01-01 00:00:00 (index 0), Train end = 2024-06-29 20:00:00 (index 4340), Test end = 2024-07-07 19:00:00 (index 4531), Training size = 4340\n",
      "Split 2: Train start = 2024-01-09 00:00:00 (index 192), Train end = 2024-07-07 20:00:00 (index 4532), Test end = 2024-07-15 19:00:00 (index 4723), Training size = 4340\n",
      "Split 3: Train start = 2024-01-17 00:00:00 (index 384), Train end = 2024-07-15 20:00:00 (index 4724), Test end = 2024-07-23 19:00:00 (index 4915), Training size = 4340\n",
      "\n",
      "================================================================================\n",
      "Running experiment for feature group: all_areas\n",
      "Using columns: ['sun_area_6', 'sun_area_11', 'sun_area_1', 'sun_area_16', 'sun_area_7', 'sun_area_2', 'sun_area_3', 'sun_area_21', 'wind_area_12', 'wind_area_13', 'wind_area_17', 'wind_area_16', 'wind_area_18', 'wind_area_27', 'wind_area_7', 'wind_area_11']\n",
      "Running CV split 1/3 for feature group all_areas\n",
      "Fitting ARIMA model with order: [1, 0, 1] and seasonal order: [1, 1, 1, 24]\n"
     ]
    },
    {
     "name": "stderr",
     "output_type": "stream",
     "text": [
      "c:\\Users\\madss\\AppData\\Local\\Programs\\Python\\Python313\\Lib\\site-packages\\statsmodels\\base\\model.py:607: ConvergenceWarning: Maximum Likelihood optimization failed to converge. Check mle_retvals\n",
      "  warnings.warn(\"Maximum Likelihood optimization failed to \"\n"
     ]
    },
    {
     "name": "stdout",
     "output_type": "stream",
     "text": [
      "Model fitted successfully.\n",
      "Forecasting with ARIMA model...\n",
      "Forecasting completed.\n",
      "Running CV split 2/3 for feature group all_areas\n",
      "Fitting ARIMA model with order: [1, 0, 1] and seasonal order: [1, 1, 1, 24]\n"
     ]
    },
    {
     "name": "stderr",
     "output_type": "stream",
     "text": [
      "c:\\Users\\madss\\AppData\\Local\\Programs\\Python\\Python313\\Lib\\site-packages\\statsmodels\\base\\model.py:607: ConvergenceWarning: Maximum Likelihood optimization failed to converge. Check mle_retvals\n",
      "  warnings.warn(\"Maximum Likelihood optimization failed to \"\n"
     ]
    },
    {
     "name": "stdout",
     "output_type": "stream",
     "text": [
      "Model fitted successfully.\n",
      "Forecasting with ARIMA model...\n",
      "Forecasting completed.\n",
      "Running CV split 3/3 for feature group all_areas\n",
      "Fitting ARIMA model with order: [1, 0, 1] and seasonal order: [1, 1, 1, 24]\n"
     ]
    },
    {
     "name": "stderr",
     "output_type": "stream",
     "text": [
      "c:\\Users\\madss\\AppData\\Local\\Programs\\Python\\Python313\\Lib\\site-packages\\statsmodels\\base\\model.py:607: ConvergenceWarning: Maximum Likelihood optimization failed to converge. Check mle_retvals\n",
      "  warnings.warn(\"Maximum Likelihood optimization failed to \"\n",
      " 29%|██▊       | 2/7 [14:50<40:12, 482.58s/it]"
     ]
    },
    {
     "name": "stdout",
     "output_type": "stream",
     "text": [
      "Model fitted successfully.\n",
      "Forecasting with ARIMA model...\n",
      "Forecasting completed.\n",
      "==================================================\n",
      "Iterataion 8 results for pearson\n",
      "MAE:\n",
      "                        ARIMA\n",
      "all_areas  173.9297 ± 40.6618\n",
      "RMSE\n",
      "                        ARIMA\n",
      "all_areas  219.4246 ± 45.3660\n",
      "Elapsed time\n",
      "                        ARIMA\n",
      "all_areas  218.7017 ± 14.8830\n",
      "==================================================\n",
      "Saved feature group results to ../results/opt_num_areas/pearson_8_20250516_212225.csv\n",
      "Filling missing values\n",
      "Start date: 2024-01-01 00:00:00\n",
      "End date: 2024-12-31 23:00:00\n",
      "Total expected hours: 8784\n",
      "Hours in original data: 8783\n",
      "Missing hours filled: 1\n",
      "Hours in complete data: 8784\n",
      "Expected hours for the year: 8784\n",
      "WARNING: While correlation reducing, the provided data amount does not match the elspot length. Truncating\n",
      "Top 13 most correlated with elspot price:\n",
      "sun_area_6: correlation = -0.2910\n",
      "sun_area_11: correlation = -0.2882\n",
      "sun_area_1: correlation = -0.2874\n",
      "sun_area_16: correlation = -0.2839\n",
      "sun_area_7: correlation = -0.2830\n",
      "sun_area_2: correlation = -0.2830\n",
      "sun_area_3: correlation = -0.2828\n",
      "sun_area_21: correlation = -0.2828\n",
      "sun_area_8: correlation = -0.2814\n",
      "sun_area_26: correlation = -0.2802\n",
      "sun_area_4: correlation = -0.2792\n",
      "sun_area_12: correlation = -0.2785\n",
      "sun_area_13: correlation = -0.2783\n",
      "WARNING: While correlation reducing, the provided data amount does not match the elspot length. Truncating\n",
      "Top 13 most correlated with elspot price:\n",
      "wind_area_12: correlation = -0.4016\n",
      "wind_area_13: correlation = -0.3981\n",
      "wind_area_17: correlation = -0.3916\n",
      "wind_area_16: correlation = -0.3907\n",
      "wind_area_18: correlation = -0.3902\n",
      "wind_area_27: correlation = -0.3849\n",
      "wind_area_7: correlation = -0.3843\n",
      "wind_area_11: correlation = -0.3812\n",
      "wind_area_6: correlation = -0.3740\n",
      "wind_area_22: correlation = -0.3728\n",
      "wind_area_2: correlation = -0.3718\n",
      "wind_area_8: correlation = -0.3685\n",
      "wind_area_21: correlation = -0.3636\n",
      "WARNING: While correlation reducing, the provided data amount does not match the elspot length. Truncating\n",
      "Top 13 most correlated with elspot price:\n",
      "temp_area_13: correlation = -0.2070\n",
      "temp_area_12: correlation = -0.2036\n",
      "temp_area_39: correlation = -0.2010\n",
      "temp_area_40: correlation = -0.1999\n",
      "temp_area_38: correlation = -0.1996\n",
      "temp_area_18: correlation = -0.1970\n",
      "temp_area_16: correlation = -0.1952\n",
      "temp_area_19: correlation = -0.1902\n",
      "temp_area_35: correlation = -0.1893\n",
      "temp_area_33: correlation = -0.1884\n",
      "temp_area_22: correlation = -0.1882\n",
      "temp_area_37: correlation = -0.1879\n",
      "temp_area_24: correlation = -0.1852\n",
      "Identified area columns: {'sun': {6: 'sun_area_6', 11: 'sun_area_11', 1: 'sun_area_1', 16: 'sun_area_16', 7: 'sun_area_7', 2: 'sun_area_2', 3: 'sun_area_3', 21: 'sun_area_21', 8: 'sun_area_8', 26: 'sun_area_26', 4: 'sun_area_4', 12: 'sun_area_12', 13: 'sun_area_13'}, 'wind': {12: 'wind_area_12', 13: 'wind_area_13', 17: 'wind_area_17', 16: 'wind_area_16', 18: 'wind_area_18', 27: 'wind_area_27', 7: 'wind_area_7', 11: 'wind_area_11', 6: 'wind_area_6', 22: 'wind_area_22', 2: 'wind_area_2', 8: 'wind_area_8', 21: 'wind_area_21'}}\n",
      "Cross-validation splits with sliding window:\n",
      "Split 1: Train start = 2024-01-01 00:00:00 (index 0), Train end = 2024-06-29 20:00:00 (index 4340), Test end = 2024-07-07 19:00:00 (index 4531), Training size = 4340\n",
      "Split 2: Train start = 2024-01-09 00:00:00 (index 192), Train end = 2024-07-07 20:00:00 (index 4532), Test end = 2024-07-15 19:00:00 (index 4723), Training size = 4340\n",
      "Split 3: Train start = 2024-01-17 00:00:00 (index 384), Train end = 2024-07-15 20:00:00 (index 4724), Test end = 2024-07-23 19:00:00 (index 4915), Training size = 4340\n",
      "\n",
      "================================================================================\n",
      "Running experiment for feature group: all_areas\n",
      "Using columns: ['sun_area_6', 'sun_area_11', 'sun_area_1', 'sun_area_16', 'sun_area_7', 'sun_area_2', 'sun_area_3', 'sun_area_21', 'sun_area_8', 'sun_area_26', 'sun_area_4', 'sun_area_12', 'sun_area_13', 'wind_area_12', 'wind_area_13', 'wind_area_17', 'wind_area_16', 'wind_area_18', 'wind_area_27', 'wind_area_7', 'wind_area_11', 'wind_area_6', 'wind_area_22', 'wind_area_2', 'wind_area_8', 'wind_area_21']\n",
      "Running CV split 1/3 for feature group all_areas\n",
      "Fitting ARIMA model with order: [1, 0, 1] and seasonal order: [1, 1, 1, 24]\n"
     ]
    },
    {
     "name": "stderr",
     "output_type": "stream",
     "text": [
      "c:\\Users\\madss\\AppData\\Local\\Programs\\Python\\Python313\\Lib\\site-packages\\statsmodels\\base\\model.py:607: ConvergenceWarning: Maximum Likelihood optimization failed to converge. Check mle_retvals\n",
      "  warnings.warn(\"Maximum Likelihood optimization failed to \"\n"
     ]
    },
    {
     "name": "stdout",
     "output_type": "stream",
     "text": [
      "Model fitted successfully.\n",
      "Forecasting with ARIMA model...\n",
      "Forecasting completed.\n",
      "Running CV split 2/3 for feature group all_areas\n",
      "Fitting ARIMA model with order: [1, 0, 1] and seasonal order: [1, 1, 1, 24]\n"
     ]
    },
    {
     "name": "stderr",
     "output_type": "stream",
     "text": [
      "c:\\Users\\madss\\AppData\\Local\\Programs\\Python\\Python313\\Lib\\site-packages\\statsmodels\\base\\model.py:607: ConvergenceWarning: Maximum Likelihood optimization failed to converge. Check mle_retvals\n",
      "  warnings.warn(\"Maximum Likelihood optimization failed to \"\n"
     ]
    },
    {
     "name": "stdout",
     "output_type": "stream",
     "text": [
      "Model fitted successfully.\n",
      "Forecasting with ARIMA model...\n",
      "Forecasting completed.\n",
      "Running CV split 3/3 for feature group all_areas\n",
      "Fitting ARIMA model with order: [1, 0, 1] and seasonal order: [1, 1, 1, 24]\n"
     ]
    },
    {
     "name": "stderr",
     "output_type": "stream",
     "text": [
      "c:\\Users\\madss\\AppData\\Local\\Programs\\Python\\Python313\\Lib\\site-packages\\statsmodels\\base\\model.py:607: ConvergenceWarning: Maximum Likelihood optimization failed to converge. Check mle_retvals\n",
      "  warnings.warn(\"Maximum Likelihood optimization failed to \"\n",
      " 43%|████▎     | 3/7 [30:51<46:45, 701.32s/it]"
     ]
    },
    {
     "name": "stdout",
     "output_type": "stream",
     "text": [
      "Model fitted successfully.\n",
      "Forecasting with ARIMA model...\n",
      "Forecasting completed.\n",
      "==================================================\n",
      "Iterataion 13 results for pearson\n",
      "MAE:\n",
      "                        ARIMA\n",
      "all_areas  174.2840 ± 41.5442\n",
      "RMSE\n",
      "                        ARIMA\n",
      "all_areas  219.1503 ± 48.0705\n",
      "Elapsed time\n",
      "                       ARIMA\n",
      "all_areas  320.2178 ± 9.6809\n",
      "==================================================\n",
      "Saved feature group results to ../results/opt_num_areas/pearson_13_20250516_213826.csv\n",
      "Filling missing values\n",
      "Start date: 2024-01-01 00:00:00\n",
      "End date: 2024-12-31 23:00:00\n",
      "Total expected hours: 8784\n",
      "Hours in original data: 8783\n",
      "Missing hours filled: 1\n",
      "Hours in complete data: 8784\n",
      "Expected hours for the year: 8784\n",
      "WARNING: While correlation reducing, the provided data amount does not match the elspot length. Truncating\n",
      "Top 18 most correlated with elspot price:\n",
      "sun_area_6: correlation = -0.2910\n",
      "sun_area_11: correlation = -0.2882\n",
      "sun_area_1: correlation = -0.2874\n",
      "sun_area_16: correlation = -0.2839\n",
      "sun_area_7: correlation = -0.2830\n",
      "sun_area_2: correlation = -0.2830\n",
      "sun_area_3: correlation = -0.2828\n",
      "sun_area_21: correlation = -0.2828\n",
      "sun_area_8: correlation = -0.2814\n",
      "sun_area_26: correlation = -0.2802\n",
      "sun_area_4: correlation = -0.2792\n",
      "sun_area_12: correlation = -0.2785\n",
      "sun_area_13: correlation = -0.2783\n",
      "sun_area_5: correlation = -0.2778\n",
      "sun_area_9: correlation = -0.2751\n",
      "sun_area_31: correlation = -0.2738\n",
      "sun_area_14: correlation = -0.2724\n",
      "sun_area_22: correlation = -0.2715\n",
      "WARNING: While correlation reducing, the provided data amount does not match the elspot length. Truncating\n",
      "Top 18 most correlated with elspot price:\n",
      "wind_area_12: correlation = -0.4016\n",
      "wind_area_13: correlation = -0.3981\n",
      "wind_area_17: correlation = -0.3916\n",
      "wind_area_16: correlation = -0.3907\n",
      "wind_area_18: correlation = -0.3902\n",
      "wind_area_27: correlation = -0.3849\n",
      "wind_area_7: correlation = -0.3843\n",
      "wind_area_11: correlation = -0.3812\n",
      "wind_area_6: correlation = -0.3740\n",
      "wind_area_22: correlation = -0.3728\n",
      "wind_area_2: correlation = -0.3718\n",
      "wind_area_8: correlation = -0.3685\n",
      "wind_area_21: correlation = -0.3636\n",
      "wind_area_37: correlation = -0.3621\n",
      "wind_area_33: correlation = -0.3614\n",
      "wind_area_32: correlation = -0.3601\n",
      "wind_area_3: correlation = -0.3601\n",
      "wind_area_38: correlation = -0.3597\n",
      "WARNING: While correlation reducing, the provided data amount does not match the elspot length. Truncating\n",
      "Top 18 most correlated with elspot price:\n",
      "temp_area_13: correlation = -0.2070\n",
      "temp_area_12: correlation = -0.2036\n",
      "temp_area_39: correlation = -0.2010\n",
      "temp_area_40: correlation = -0.1999\n",
      "temp_area_38: correlation = -0.1996\n",
      "temp_area_18: correlation = -0.1970\n",
      "temp_area_16: correlation = -0.1952\n",
      "temp_area_19: correlation = -0.1902\n",
      "temp_area_35: correlation = -0.1893\n",
      "temp_area_33: correlation = -0.1884\n",
      "temp_area_22: correlation = -0.1882\n",
      "temp_area_37: correlation = -0.1879\n",
      "temp_area_24: correlation = -0.1852\n",
      "temp_area_27: correlation = -0.1804\n",
      "temp_area_14: correlation = -0.1799\n",
      "temp_area_17: correlation = -0.1724\n",
      "temp_area_23: correlation = -0.1713\n",
      "temp_area_36: correlation = -0.1626\n",
      "Identified area columns: {'sun': {6: 'sun_area_6', 11: 'sun_area_11', 1: 'sun_area_1', 16: 'sun_area_16', 7: 'sun_area_7', 2: 'sun_area_2', 3: 'sun_area_3', 21: 'sun_area_21', 8: 'sun_area_8', 26: 'sun_area_26', 4: 'sun_area_4', 12: 'sun_area_12', 13: 'sun_area_13', 5: 'sun_area_5', 9: 'sun_area_9', 31: 'sun_area_31', 14: 'sun_area_14', 22: 'sun_area_22'}, 'wind': {12: 'wind_area_12', 13: 'wind_area_13', 17: 'wind_area_17', 16: 'wind_area_16', 18: 'wind_area_18', 27: 'wind_area_27', 7: 'wind_area_7', 11: 'wind_area_11', 6: 'wind_area_6', 22: 'wind_area_22', 2: 'wind_area_2', 8: 'wind_area_8', 21: 'wind_area_21', 37: 'wind_area_37', 33: 'wind_area_33', 32: 'wind_area_32', 3: 'wind_area_3', 38: 'wind_area_38'}}\n",
      "Cross-validation splits with sliding window:\n",
      "Split 1: Train start = 2024-01-01 00:00:00 (index 0), Train end = 2024-06-29 20:00:00 (index 4340), Test end = 2024-07-07 19:00:00 (index 4531), Training size = 4340\n",
      "Split 2: Train start = 2024-01-09 00:00:00 (index 192), Train end = 2024-07-07 20:00:00 (index 4532), Test end = 2024-07-15 19:00:00 (index 4723), Training size = 4340\n",
      "Split 3: Train start = 2024-01-17 00:00:00 (index 384), Train end = 2024-07-15 20:00:00 (index 4724), Test end = 2024-07-23 19:00:00 (index 4915), Training size = 4340\n",
      "\n",
      "================================================================================\n",
      "Running experiment for feature group: all_areas\n",
      "Using columns: ['sun_area_6', 'sun_area_11', 'sun_area_1', 'sun_area_16', 'sun_area_7', 'sun_area_2', 'sun_area_3', 'sun_area_21', 'sun_area_8', 'sun_area_26', 'sun_area_4', 'sun_area_12', 'sun_area_13', 'sun_area_5', 'sun_area_9', 'sun_area_31', 'sun_area_14', 'sun_area_22', 'wind_area_12', 'wind_area_13', 'wind_area_17', 'wind_area_16', 'wind_area_18', 'wind_area_27', 'wind_area_7', 'wind_area_11', 'wind_area_6', 'wind_area_22', 'wind_area_2', 'wind_area_8', 'wind_area_21', 'wind_area_37', 'wind_area_33', 'wind_area_32', 'wind_area_3', 'wind_area_38']\n",
      "Running CV split 1/3 for feature group all_areas\n",
      "Fitting ARIMA model with order: [1, 0, 1] and seasonal order: [1, 1, 1, 24]\n"
     ]
    },
    {
     "name": "stderr",
     "output_type": "stream",
     "text": [
      "c:\\Users\\madss\\AppData\\Local\\Programs\\Python\\Python313\\Lib\\site-packages\\statsmodels\\base\\model.py:607: ConvergenceWarning: Maximum Likelihood optimization failed to converge. Check mle_retvals\n",
      "  warnings.warn(\"Maximum Likelihood optimization failed to \"\n"
     ]
    },
    {
     "name": "stdout",
     "output_type": "stream",
     "text": [
      "Model fitted successfully.\n",
      "Forecasting with ARIMA model...\n",
      "Forecasting completed.\n",
      "Running CV split 2/3 for feature group all_areas\n",
      "Fitting ARIMA model with order: [1, 0, 1] and seasonal order: [1, 1, 1, 24]\n"
     ]
    },
    {
     "name": "stderr",
     "output_type": "stream",
     "text": [
      "c:\\Users\\madss\\AppData\\Local\\Programs\\Python\\Python313\\Lib\\site-packages\\statsmodels\\base\\model.py:607: ConvergenceWarning: Maximum Likelihood optimization failed to converge. Check mle_retvals\n",
      "  warnings.warn(\"Maximum Likelihood optimization failed to \"\n"
     ]
    },
    {
     "name": "stdout",
     "output_type": "stream",
     "text": [
      "Model fitted successfully.\n",
      "Forecasting with ARIMA model...\n",
      "Forecasting completed.\n",
      "Running CV split 3/3 for feature group all_areas\n",
      "Fitting ARIMA model with order: [1, 0, 1] and seasonal order: [1, 1, 1, 24]\n"
     ]
    }
   ],
   "source": [
    "import threading\n",
    "\n",
    "# pca_kmeans_thread = threading.Thread(target=kmeans)\n",
    "# pca_pure_thread = threading.Thread(target=pure)\n",
    "pearson_thread = threading.Thread(target=pearson)\n",
    "\n",
    "# pca_kmeans_thread.start()\n",
    "# pca_pure_thread.start()\n",
    "pearson_thread.start()"
   ]
  }
 ],
 "metadata": {
  "kernelspec": {
   "display_name": "Python 3",
   "language": "python",
   "name": "python3"
  },
  "language_info": {
   "codemirror_mode": {
    "name": "ipython",
    "version": 3
   },
   "file_extension": ".py",
   "mimetype": "text/x-python",
   "name": "python",
   "nbconvert_exporter": "python",
   "pygments_lexer": "ipython3",
   "version": "3.13.1"
  }
 },
 "nbformat": 4,
 "nbformat_minor": 5
}
