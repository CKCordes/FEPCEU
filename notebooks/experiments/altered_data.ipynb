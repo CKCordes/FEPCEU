{
 "cells": [
  {
   "cell_type": "code",
   "execution_count": 1,
   "id": "3b0170f9",
   "metadata": {},
   "outputs": [],
   "source": [
    "%load_ext autoreload\n",
    "%autoreload 2"
   ]
  },
  {
   "cell_type": "code",
   "execution_count": 2,
   "id": "f273b9e4",
   "metadata": {},
   "outputs": [],
   "source": [
    "import sys\n",
    "sys.path.append('C:/Users/au723200/FEPCEU')"
   ]
  },
  {
   "cell_type": "code",
   "execution_count": 3,
   "id": "9c6c7b42",
   "metadata": {},
   "outputs": [
    {
     "name": "stderr",
     "output_type": "stream",
     "text": [
      "Importing plotly failed. Interactive plots will not work.\n",
      "Importing plotly failed. Interactive plots will not work.\n"
     ]
    }
   ],
   "source": [
    "from enhanced_experiment import EnhancedTimeSeriesExperiment\n",
    "from models.arima import Arima\n",
    "from models.baseline import Baseline\n",
    "from models.lgbm import LGBM\n",
    "from models.neuralproph import Neuralprophet\n",
    "from models.timegpt import TimeGPT\n",
    "\n",
    "from data.data_retriever import Dataretreiver"
   ]
  },
  {
   "cell_type": "code",
   "execution_count": 4,
   "id": "d63b8bc0",
   "metadata": {},
   "outputs": [],
   "source": [
    "# Define models\n",
    "models = {\n",
    "    'BASELINE': Baseline(),\n",
    "    'LGBM': LGBM(),\n",
    "    'ARIMA': Arima(order=[1,0,1], seasonal_order=[1,1,1,24]),\n",
    "    'NEURALPROPHET': Neuralprophet(),\n",
    "    'TimeGPT': TimeGPT()\n",
    "}"
   ]
  },
  {
   "cell_type": "markdown",
   "id": "4c4e0224",
   "metadata": {},
   "source": [
    "# Experiment 1\n",
    "X reduction. Original data"
   ]
  },
  {
   "cell_type": "code",
   "execution_count": 5,
   "id": "5642df17",
   "metadata": {},
   "outputs": [
    {
     "name": "stdout",
     "output_type": "stream",
     "text": [
      "Identified area columns: {'sun': {23: 'sun_area_23', 8: 'sun_area_8', 34: 'sun_area_34', 9: 'sun_area_9', 19: 'sun_area_19', 33: 'sun_area_33', 6: 'sun_area_6', 31: 'sun_area_31', 29: 'sun_area_29', 2: 'sun_area_2', 35: 'sun_area_35', 17: 'sun_area_17', 21: 'sun_area_21'}, 'wind': {22: 'wind_area_22', 35: 'wind_area_35', 12: 'wind_area_12', 9: 'wind_area_9', 16: 'wind_area_16', 31: 'wind_area_31', 19: 'wind_area_19', 32: 'wind_area_32', 1: 'wind_area_1', 2: 'wind_area_2', 25: 'wind_area_25', 10: 'wind_area_10', 24: 'wind_area_24'}}\n",
      "Cross-validation splits with sliding window:\n",
      "Split 1: Train start = 2024-01-01 00:00:00 (index 0), Train end = 2024-06-29 20:00:00 (index 4340), Test end = 2024-07-07 19:00:00 (index 4531), Training size = 4340\n",
      "Split 2: Train start = 2024-01-09 00:00:00 (index 192), Train end = 2024-07-07 20:00:00 (index 4532), Test end = 2024-07-15 19:00:00 (index 4723), Training size = 4340\n",
      "Split 3: Train start = 2024-01-17 00:00:00 (index 384), Train end = 2024-07-15 20:00:00 (index 4724), Test end = 2024-07-23 19:00:00 (index 4915), Training size = 4340\n",
      "Split 4: Train start = 2024-01-25 00:00:00 (index 576), Train end = 2024-07-23 20:00:00 (index 4916), Test end = 2024-07-31 19:00:00 (index 5107), Training size = 4340\n",
      "Split 5: Train start = 2024-02-02 00:00:00 (index 768), Train end = 2024-07-31 20:00:00 (index 5108), Test end = 2024-08-08 19:00:00 (index 5299), Training size = 4340\n",
      "\n",
      "================================================================================\n",
      "Running experiment for feature group: all_areas\n",
      "Using columns: ['sun_area_23', 'sun_area_8', 'sun_area_34', 'sun_area_9', 'sun_area_19', 'sun_area_33', 'sun_area_6', 'sun_area_31', 'sun_area_29', 'sun_area_2', 'sun_area_35', 'sun_area_17', 'sun_area_21', 'wind_area_22', 'wind_area_35', 'wind_area_12', 'wind_area_9', 'wind_area_16', 'wind_area_31', 'wind_area_19', 'wind_area_32', 'wind_area_1', 'wind_area_2', 'wind_area_25', 'wind_area_10', 'wind_area_24']\n",
      "Running CV split 1/5 for feature group all_areas\n"
     ]
    },
    {
     "data": {
      "application/vnd.jupyter.widget-view+json": {
       "model_id": "92a3ff3d06e94c4f8743966284632750",
       "version_major": 2,
       "version_minor": 0
      },
      "text/plain": [
       "  0%|          | 0/20 [00:00<?, ?it/s]"
      ]
     },
     "metadata": {},
     "output_type": "display_data"
    },
    {
     "name": "stdout",
     "output_type": "stream",
     "text": [
      "`Forecaster` refitted using the best-found lags and parameters, and the whole data set: \n",
      "  Lags: [  1   2   3  23  24  25 167 168 169] \n",
      "  Parameters: {'n_estimators': 700, 'max_depth': 8, 'min_data_in_leaf': 28, 'learning_rate': 0.1304758710430311, 'feature_fraction': 0.6688521921397169, 'max_bin': 145, 'reg_alpha': 0.28470912097239576, 'reg_lambda': 0.41590732676882275}\n",
      "  Backtesting metric: 203.0392264518399\n",
      "Fitting ARIMA model with order: [1, 0, 1] and seasonal order: [1, 1, 1, 24]\n"
     ]
    },
    {
     "name": "stderr",
     "output_type": "stream",
     "text": [
      "WARNING - (py.warnings._showwarnmsg) - c:\\Users\\au723200\\AppData\\Local\\Programs\\Python\\Python312\\Lib\\site-packages\\statsmodels\\base\\model.py:607: ConvergenceWarning: Maximum Likelihood optimization failed to converge. Check mle_retvals\n",
      "  warnings.warn(\"Maximum Likelihood optimization failed to \"\n",
      "\n",
      "WARNING:py.warnings:c:\\Users\\au723200\\AppData\\Local\\Programs\\Python\\Python312\\Lib\\site-packages\\statsmodels\\base\\model.py:607: ConvergenceWarning: Maximum Likelihood optimization failed to converge. Check mle_retvals\n",
      "  warnings.warn(\"Maximum Likelihood optimization failed to \"\n",
      "\n"
     ]
    },
    {
     "name": "stdout",
     "output_type": "stream",
     "text": [
      "Model fitted successfully.\n",
      "Forecasting with ARIMA model...\n",
      "Forecasting completed.\n"
     ]
    },
    {
     "data": {
      "application/vnd.jupyter.widget-view+json": {
       "model_id": "6899a96fa8114ccb95fbe9cfe8fe4759",
       "version_major": 2,
       "version_minor": 0
      },
      "text/plain": [
       "Finding best initial lr:   0%|          | 0/241 [00:00<?, ?it/s]"
      ]
     },
     "metadata": {},
     "output_type": "display_data"
    },
    {
     "data": {
      "application/vnd.jupyter.widget-view+json": {
       "model_id": "c6d4595969564c7e9d1a4d0ca0b55fac",
       "version_major": 2,
       "version_minor": 0
      },
      "text/plain": [
       "Training: 0it [00:00, ?it/s]"
      ]
     },
     "metadata": {},
     "output_type": "display_data"
    },
    {
     "data": {
      "application/vnd.jupyter.widget-view+json": {
       "model_id": "e00fa96a1f1e4f8fa8457f91a27d924e",
       "version_major": 2,
       "version_minor": 0
      },
      "text/plain": [
       "Predicting: 65it [00:00, ?it/s]"
      ]
     },
     "metadata": {},
     "output_type": "display_data"
    },
    {
     "name": "stderr",
     "output_type": "stream",
     "text": [
      "INFO:nixtla.nixtla_client:Validating inputs...\n",
      "INFO:nixtla.nixtla_client:Inferred freq: h\n",
      "INFO:nixtla.nixtla_client:Preprocessing dataframes...\n",
      "INFO:nixtla.nixtla_client:Querying model metadata...\n",
      "WARNING:nixtla.nixtla_client:The specified horizon \"h\" exceeds the model horizon, this may lead to less accurate forecasts. Please consider using a smaller horizon.\n",
      "INFO:nixtla.nixtla_client:Using historical exogenous features: ['sun_area_23', 'sun_area_8', 'sun_area_34', 'sun_area_9', 'sun_area_19', 'sun_area_33', 'sun_area_6', 'sun_area_31', 'sun_area_29', 'sun_area_2', 'sun_area_35', 'sun_area_17', 'sun_area_21', 'wind_area_22', 'wind_area_35', 'wind_area_12', 'wind_area_9', 'wind_area_16', 'wind_area_31', 'wind_area_19', 'wind_area_32', 'wind_area_1', 'wind_area_2', 'wind_area_25', 'wind_area_10', 'wind_area_24', 'ds', 'unique_id']\n",
      "INFO:nixtla.nixtla_client:Calling Forecast Endpoint...\n"
     ]
    },
    {
     "name": "stdout",
     "output_type": "stream",
     "text": [
      "Running CV split 2/5 for feature group all_areas\n"
     ]
    },
    {
     "data": {
      "application/vnd.jupyter.widget-view+json": {
       "model_id": "2e9871f5750b493381b6425262495a21",
       "version_major": 2,
       "version_minor": 0
      },
      "text/plain": [
       "  0%|          | 0/20 [00:00<?, ?it/s]"
      ]
     },
     "metadata": {},
     "output_type": "display_data"
    },
    {
     "name": "stdout",
     "output_type": "stream",
     "text": [
      "`Forecaster` refitted using the best-found lags and parameters, and the whole data set: \n",
      "  Lags: [ 1  2  3  4  5  6  7  8  9 10 11 12 13 14 15 16 17 18 19 20 21 22 23 24\n",
      " 25 26 27 28 29 30 31 32 33 34 35 36 37 38 39 40 41 42 43 44 45 46 47 48\n",
      " 49 50 51 52 53 54 55 56 57 58 59 60 61 62 63 64 65 66 67 68 69 70 71 72] \n",
      "  Parameters: {'n_estimators': 1000, 'max_depth': 3, 'min_data_in_leaf': 141, 'learning_rate': 0.3071113078927908, 'feature_fraction': 0.8594596364484144, 'max_bin': 132, 'reg_alpha': 0.8646268187145626, 'reg_lambda': 0.08302077457756918}\n",
      "  Backtesting metric: 191.6254622963154\n",
      "Fitting ARIMA model with order: [1, 0, 1] and seasonal order: [1, 1, 1, 24]\n"
     ]
    },
    {
     "name": "stderr",
     "output_type": "stream",
     "text": [
      "WARNING - (py.warnings._showwarnmsg) - c:\\Users\\au723200\\AppData\\Local\\Programs\\Python\\Python312\\Lib\\site-packages\\statsmodels\\base\\model.py:607: ConvergenceWarning: Maximum Likelihood optimization failed to converge. Check mle_retvals\n",
      "  warnings.warn(\"Maximum Likelihood optimization failed to \"\n",
      "\n",
      "WARNING:py.warnings:c:\\Users\\au723200\\AppData\\Local\\Programs\\Python\\Python312\\Lib\\site-packages\\statsmodels\\base\\model.py:607: ConvergenceWarning: Maximum Likelihood optimization failed to converge. Check mle_retvals\n",
      "  warnings.warn(\"Maximum Likelihood optimization failed to \"\n",
      "\n"
     ]
    },
    {
     "name": "stdout",
     "output_type": "stream",
     "text": [
      "Model fitted successfully.\n",
      "Forecasting with ARIMA model...\n",
      "Forecasting completed.\n"
     ]
    },
    {
     "data": {
      "application/vnd.jupyter.widget-view+json": {
       "model_id": "ab517b0f42b4461e9f393eb7d8bcc2ec",
       "version_major": 2,
       "version_minor": 0
      },
      "text/plain": [
       "Finding best initial lr:   0%|          | 0/241 [00:00<?, ?it/s]"
      ]
     },
     "metadata": {},
     "output_type": "display_data"
    },
    {
     "data": {
      "application/vnd.jupyter.widget-view+json": {
       "model_id": "46f10a651efe4dc7a566e2bc50e3e8d9",
       "version_major": 2,
       "version_minor": 0
      },
      "text/plain": [
       "Training: 0it [00:00, ?it/s]"
      ]
     },
     "metadata": {},
     "output_type": "display_data"
    },
    {
     "data": {
      "application/vnd.jupyter.widget-view+json": {
       "model_id": "533eca57bedc44d6b19fc1d31b32fabd",
       "version_major": 2,
       "version_minor": 0
      },
      "text/plain": [
       "Predicting: 65it [00:00, ?it/s]"
      ]
     },
     "metadata": {},
     "output_type": "display_data"
    },
    {
     "name": "stderr",
     "output_type": "stream",
     "text": [
      "INFO:nixtla.nixtla_client:Validating inputs...\n",
      "INFO:nixtla.nixtla_client:Inferred freq: h\n",
      "INFO:nixtla.nixtla_client:Preprocessing dataframes...\n",
      "INFO:nixtla.nixtla_client:Querying model metadata...\n",
      "WARNING:nixtla.nixtla_client:The specified horizon \"h\" exceeds the model horizon, this may lead to less accurate forecasts. Please consider using a smaller horizon.\n",
      "INFO:nixtla.nixtla_client:Using historical exogenous features: ['sun_area_23', 'sun_area_8', 'sun_area_34', 'sun_area_9', 'sun_area_19', 'sun_area_33', 'sun_area_6', 'sun_area_31', 'sun_area_29', 'sun_area_2', 'sun_area_35', 'sun_area_17', 'sun_area_21', 'wind_area_22', 'wind_area_35', 'wind_area_12', 'wind_area_9', 'wind_area_16', 'wind_area_31', 'wind_area_19', 'wind_area_32', 'wind_area_1', 'wind_area_2', 'wind_area_25', 'wind_area_10', 'wind_area_24', 'ds', 'unique_id']\n",
      "INFO:nixtla.nixtla_client:Calling Forecast Endpoint...\n"
     ]
    },
    {
     "name": "stdout",
     "output_type": "stream",
     "text": [
      "Running CV split 3/5 for feature group all_areas\n"
     ]
    },
    {
     "data": {
      "application/vnd.jupyter.widget-view+json": {
       "model_id": "67690b2a17a346598d4076b89e6ed6b3",
       "version_major": 2,
       "version_minor": 0
      },
      "text/plain": [
       "  0%|          | 0/20 [00:00<?, ?it/s]"
      ]
     },
     "metadata": {},
     "output_type": "display_data"
    },
    {
     "name": "stdout",
     "output_type": "stream",
     "text": [
      "`Forecaster` refitted using the best-found lags and parameters, and the whole data set: \n",
      "  Lags: [ 1  2  3  4  5  6  7  8  9 10 11 12 13 14 15 16 17 18 19 20 21 22 23 24\n",
      " 25 26 27 28 29 30 31 32 33 34 35 36 37 38 39 40 41 42 43 44 45 46 47 48\n",
      " 49 50 51 52 53 54 55 56 57 58 59 60 61 62 63 64 65 66 67 68 69 70 71 72] \n",
      "  Parameters: {'n_estimators': 700, 'max_depth': 4, 'min_data_in_leaf': 85, 'learning_rate': 0.020886337971098762, 'feature_fraction': 0.805029885015916, 'max_bin': 187, 'reg_alpha': 0.2373339424757802, 'reg_lambda': 0.9925168329061415}\n",
      "  Backtesting metric: 190.44101840993164\n",
      "Fitting ARIMA model with order: [1, 0, 1] and seasonal order: [1, 1, 1, 24]\n"
     ]
    },
    {
     "name": "stderr",
     "output_type": "stream",
     "text": [
      "WARNING - (py.warnings._showwarnmsg) - c:\\Users\\au723200\\AppData\\Local\\Programs\\Python\\Python312\\Lib\\site-packages\\statsmodels\\base\\model.py:607: ConvergenceWarning: Maximum Likelihood optimization failed to converge. Check mle_retvals\n",
      "  warnings.warn(\"Maximum Likelihood optimization failed to \"\n",
      "\n",
      "WARNING:py.warnings:c:\\Users\\au723200\\AppData\\Local\\Programs\\Python\\Python312\\Lib\\site-packages\\statsmodels\\base\\model.py:607: ConvergenceWarning: Maximum Likelihood optimization failed to converge. Check mle_retvals\n",
      "  warnings.warn(\"Maximum Likelihood optimization failed to \"\n",
      "\n"
     ]
    },
    {
     "name": "stdout",
     "output_type": "stream",
     "text": [
      "Model fitted successfully.\n",
      "Forecasting with ARIMA model...\n",
      "Forecasting completed.\n"
     ]
    },
    {
     "data": {
      "application/vnd.jupyter.widget-view+json": {
       "model_id": "b12208de17d747eea1e405052b400054",
       "version_major": 2,
       "version_minor": 0
      },
      "text/plain": [
       "Finding best initial lr:   0%|          | 0/241 [00:00<?, ?it/s]"
      ]
     },
     "metadata": {},
     "output_type": "display_data"
    },
    {
     "data": {
      "application/vnd.jupyter.widget-view+json": {
       "model_id": "d40487eb5cb4403f8684630cc2071fd4",
       "version_major": 2,
       "version_minor": 0
      },
      "text/plain": [
       "Training: 0it [00:00, ?it/s]"
      ]
     },
     "metadata": {},
     "output_type": "display_data"
    },
    {
     "data": {
      "application/vnd.jupyter.widget-view+json": {
       "model_id": "e246eaea60554b0dbd9c9830f1b0cdc8",
       "version_major": 2,
       "version_minor": 0
      },
      "text/plain": [
       "Predicting: 65it [00:00, ?it/s]"
      ]
     },
     "metadata": {},
     "output_type": "display_data"
    },
    {
     "name": "stderr",
     "output_type": "stream",
     "text": [
      "INFO:nixtla.nixtla_client:Validating inputs...\n",
      "INFO:nixtla.nixtla_client:Inferred freq: h\n",
      "INFO:nixtla.nixtla_client:Preprocessing dataframes...\n",
      "INFO:nixtla.nixtla_client:Querying model metadata...\n",
      "WARNING:nixtla.nixtla_client:The specified horizon \"h\" exceeds the model horizon, this may lead to less accurate forecasts. Please consider using a smaller horizon.\n",
      "INFO:nixtla.nixtla_client:Using historical exogenous features: ['sun_area_23', 'sun_area_8', 'sun_area_34', 'sun_area_9', 'sun_area_19', 'sun_area_33', 'sun_area_6', 'sun_area_31', 'sun_area_29', 'sun_area_2', 'sun_area_35', 'sun_area_17', 'sun_area_21', 'wind_area_22', 'wind_area_35', 'wind_area_12', 'wind_area_9', 'wind_area_16', 'wind_area_31', 'wind_area_19', 'wind_area_32', 'wind_area_1', 'wind_area_2', 'wind_area_25', 'wind_area_10', 'wind_area_24', 'ds', 'unique_id']\n",
      "INFO:nixtla.nixtla_client:Calling Forecast Endpoint...\n"
     ]
    },
    {
     "name": "stdout",
     "output_type": "stream",
     "text": [
      "Running CV split 4/5 for feature group all_areas\n"
     ]
    },
    {
     "data": {
      "application/vnd.jupyter.widget-view+json": {
       "model_id": "54993baeb5d24484b77db8d8ef30f676",
       "version_major": 2,
       "version_minor": 0
      },
      "text/plain": [
       "  0%|          | 0/20 [00:00<?, ?it/s]"
      ]
     },
     "metadata": {},
     "output_type": "display_data"
    },
    {
     "name": "stdout",
     "output_type": "stream",
     "text": [
      "`Forecaster` refitted using the best-found lags and parameters, and the whole data set: \n",
      "  Lags: [ 1  2  3  4  5  6  7  8  9 10 11 12 13 14 15 16 17 18 19 20 21 22 23 24\n",
      " 25 26 27 28 29 30 31 32 33 34 35 36 37 38 39 40 41 42 43 44 45 46 47 48\n",
      " 49 50 51 52 53 54 55 56 57 58 59 60 61 62 63 64 65 66 67 68 69 70 71 72] \n",
      "  Parameters: {'n_estimators': 1000, 'max_depth': 8, 'min_data_in_leaf': 97, 'learning_rate': 0.30957502841668466, 'feature_fraction': 0.6688521921397169, 'max_bin': 82, 'reg_alpha': 0.46498361148581296, 'reg_lambda': 0.503153547975238}\n",
      "  Backtesting metric: 196.1432063832457\n",
      "Fitting ARIMA model with order: [1, 0, 1] and seasonal order: [1, 1, 1, 24]\n"
     ]
    },
    {
     "name": "stderr",
     "output_type": "stream",
     "text": [
      "WARNING - (py.warnings._showwarnmsg) - c:\\Users\\au723200\\AppData\\Local\\Programs\\Python\\Python312\\Lib\\site-packages\\statsmodels\\base\\model.py:607: ConvergenceWarning: Maximum Likelihood optimization failed to converge. Check mle_retvals\n",
      "  warnings.warn(\"Maximum Likelihood optimization failed to \"\n",
      "\n",
      "WARNING:py.warnings:c:\\Users\\au723200\\AppData\\Local\\Programs\\Python\\Python312\\Lib\\site-packages\\statsmodels\\base\\model.py:607: ConvergenceWarning: Maximum Likelihood optimization failed to converge. Check mle_retvals\n",
      "  warnings.warn(\"Maximum Likelihood optimization failed to \"\n",
      "\n"
     ]
    },
    {
     "name": "stdout",
     "output_type": "stream",
     "text": [
      "Model fitted successfully.\n",
      "Forecasting with ARIMA model...\n",
      "Forecasting completed.\n"
     ]
    },
    {
     "data": {
      "application/vnd.jupyter.widget-view+json": {
       "model_id": "7310fec293384847affda1a1b04663b4",
       "version_major": 2,
       "version_minor": 0
      },
      "text/plain": [
       "Finding best initial lr:   0%|          | 0/241 [00:00<?, ?it/s]"
      ]
     },
     "metadata": {},
     "output_type": "display_data"
    },
    {
     "data": {
      "application/vnd.jupyter.widget-view+json": {
       "model_id": "0265a13413e741a98e136b701fa67d14",
       "version_major": 2,
       "version_minor": 0
      },
      "text/plain": [
       "Training: 0it [00:00, ?it/s]"
      ]
     },
     "metadata": {},
     "output_type": "display_data"
    },
    {
     "data": {
      "application/vnd.jupyter.widget-view+json": {
       "model_id": "6cad46b4050d45e0aa253721aa8dd7b6",
       "version_major": 2,
       "version_minor": 0
      },
      "text/plain": [
       "Predicting: 65it [00:00, ?it/s]"
      ]
     },
     "metadata": {},
     "output_type": "display_data"
    },
    {
     "name": "stderr",
     "output_type": "stream",
     "text": [
      "INFO:nixtla.nixtla_client:Validating inputs...\n",
      "INFO:nixtla.nixtla_client:Inferred freq: h\n",
      "INFO:nixtla.nixtla_client:Preprocessing dataframes...\n",
      "INFO:nixtla.nixtla_client:Querying model metadata...\n",
      "WARNING:nixtla.nixtla_client:The specified horizon \"h\" exceeds the model horizon, this may lead to less accurate forecasts. Please consider using a smaller horizon.\n",
      "INFO:nixtla.nixtla_client:Using historical exogenous features: ['sun_area_23', 'sun_area_8', 'sun_area_34', 'sun_area_9', 'sun_area_19', 'sun_area_33', 'sun_area_6', 'sun_area_31', 'sun_area_29', 'sun_area_2', 'sun_area_35', 'sun_area_17', 'sun_area_21', 'wind_area_22', 'wind_area_35', 'wind_area_12', 'wind_area_9', 'wind_area_16', 'wind_area_31', 'wind_area_19', 'wind_area_32', 'wind_area_1', 'wind_area_2', 'wind_area_25', 'wind_area_10', 'wind_area_24', 'ds', 'unique_id']\n",
      "INFO:nixtla.nixtla_client:Calling Forecast Endpoint...\n"
     ]
    },
    {
     "name": "stdout",
     "output_type": "stream",
     "text": [
      "Running CV split 5/5 for feature group all_areas\n"
     ]
    },
    {
     "data": {
      "application/vnd.jupyter.widget-view+json": {
       "model_id": "dcc9f2ec261d420dbe65246b49932f5f",
       "version_major": 2,
       "version_minor": 0
      },
      "text/plain": [
       "  0%|          | 0/20 [00:00<?, ?it/s]"
      ]
     },
     "metadata": {},
     "output_type": "display_data"
    },
    {
     "name": "stdout",
     "output_type": "stream",
     "text": [
      "`Forecaster` refitted using the best-found lags and parameters, and the whole data set: \n",
      "  Lags: [  1   2   3  23  24  25 167 168 169] \n",
      "  Parameters: {'n_estimators': 700, 'max_depth': 3, 'min_data_in_leaf': 26, 'learning_rate': 0.36960067306777755, 'feature_fraction': 0.6219225607374572, 'max_bin': 136, 'reg_alpha': 0.9675542218097184, 'reg_lambda': 0.26883639834949075}\n",
      "  Backtesting metric: 192.907383030216\n",
      "Fitting ARIMA model with order: [1, 0, 1] and seasonal order: [1, 1, 1, 24]\n"
     ]
    },
    {
     "name": "stderr",
     "output_type": "stream",
     "text": [
      "WARNING - (py.warnings._showwarnmsg) - c:\\Users\\au723200\\AppData\\Local\\Programs\\Python\\Python312\\Lib\\site-packages\\statsmodels\\base\\model.py:607: ConvergenceWarning: Maximum Likelihood optimization failed to converge. Check mle_retvals\n",
      "  warnings.warn(\"Maximum Likelihood optimization failed to \"\n",
      "\n",
      "WARNING:py.warnings:c:\\Users\\au723200\\AppData\\Local\\Programs\\Python\\Python312\\Lib\\site-packages\\statsmodels\\base\\model.py:607: ConvergenceWarning: Maximum Likelihood optimization failed to converge. Check mle_retvals\n",
      "  warnings.warn(\"Maximum Likelihood optimization failed to \"\n",
      "\n"
     ]
    },
    {
     "name": "stdout",
     "output_type": "stream",
     "text": [
      "Model fitted successfully.\n",
      "Forecasting with ARIMA model...\n",
      "Forecasting completed.\n"
     ]
    },
    {
     "data": {
      "application/vnd.jupyter.widget-view+json": {
       "model_id": "d64c875511db42d084679f7e96b0ce6b",
       "version_major": 2,
       "version_minor": 0
      },
      "text/plain": [
       "Finding best initial lr:   0%|          | 0/241 [00:00<?, ?it/s]"
      ]
     },
     "metadata": {},
     "output_type": "display_data"
    },
    {
     "data": {
      "application/vnd.jupyter.widget-view+json": {
       "model_id": "31a695a3546b4c8cbc123a16470135f2",
       "version_major": 2,
       "version_minor": 0
      },
      "text/plain": [
       "Training: 0it [00:00, ?it/s]"
      ]
     },
     "metadata": {},
     "output_type": "display_data"
    },
    {
     "data": {
      "application/vnd.jupyter.widget-view+json": {
       "model_id": "60cf488297224cfc9c42b4c207ef0d5d",
       "version_major": 2,
       "version_minor": 0
      },
      "text/plain": [
       "Predicting: 65it [00:00, ?it/s]"
      ]
     },
     "metadata": {},
     "output_type": "display_data"
    },
    {
     "name": "stderr",
     "output_type": "stream",
     "text": [
      "INFO:nixtla.nixtla_client:Validating inputs...\n",
      "INFO:nixtla.nixtla_client:Inferred freq: h\n",
      "INFO:nixtla.nixtla_client:Preprocessing dataframes...\n",
      "INFO:nixtla.nixtla_client:Querying model metadata...\n",
      "WARNING:nixtla.nixtla_client:The specified horizon \"h\" exceeds the model horizon, this may lead to less accurate forecasts. Please consider using a smaller horizon.\n",
      "INFO:nixtla.nixtla_client:Using historical exogenous features: ['sun_area_23', 'sun_area_8', 'sun_area_34', 'sun_area_9', 'sun_area_19', 'sun_area_33', 'sun_area_6', 'sun_area_31', 'sun_area_29', 'sun_area_2', 'sun_area_35', 'sun_area_17', 'sun_area_21', 'wind_area_22', 'wind_area_35', 'wind_area_12', 'wind_area_9', 'wind_area_16', 'wind_area_31', 'wind_area_19', 'wind_area_32', 'wind_area_1', 'wind_area_2', 'wind_area_25', 'wind_area_10', 'wind_area_24', 'ds', 'unique_id']\n",
      "INFO:nixtla.nixtla_client:Calling Forecast Endpoint...\n"
     ]
    },
    {
     "name": "stdout",
     "output_type": "stream",
     "text": [
      "==================================================\n",
      "MAE:\n",
      "                     BASELINE                LGBM               ARIMA  \\\n",
      "all_areas  200.2838 ± 61.1400  160.6040 ± 25.3427  157.0214 ± 33.0034   \n",
      "\n",
      "                NEURALPROPHET              TimeGPT  \n",
      "all_areas  216.6602 ± 39.0806  355.1647 ± 172.2376  \n",
      "RMSE\n",
      "                     BASELINE                LGBM               ARIMA  \\\n",
      "all_areas  262.0008 ± 83.8358  204.5803 ± 33.2407  198.9006 ± 37.2171   \n",
      "\n",
      "                NEURALPROPHET              TimeGPT  \n",
      "all_areas  267.7769 ± 49.2719  424.1502 ± 158.6697  \n",
      "Elapsed time\n",
      "                  BASELINE              LGBM              ARIMA  \\\n",
      "all_areas  0.0086 ± 0.0017  78.6913 ± 1.8407  210.1923 ± 7.0177   \n",
      "\n",
      "               NEURALPROPHET          TimeGPT  \n",
      "all_areas  131.6134 ± 1.3498  8.2819 ± 6.1500  \n",
      "==================================================\n",
      "Saved feature group results to ../results/manipulate/original_20250516_090809.csv\n"
     ]
    }
   ],
   "source": [
    "data = Dataretreiver(reduce='pca_kmeans', debug=False, reduction_num_cols=13)\n",
    "df = data.combined\n",
    "# Initialize the experiment\n",
    "experiment = EnhancedTimeSeriesExperiment(\n",
    "    models=models,\n",
    "    target_column='price',\n",
    "    forecast_horizon=192,\n",
    "    n_splits=5,\n",
    "    step_size=192 # 8 days are skipped between each forecast.\n",
    ")\n",
    "# Run the experiments with these custom combinations\n",
    "experiment.run_feature_group_experiments(\n",
    "    df=df,\n",
    "    add_all_columns=True,\n",
    "    add_base_columns=False,\n",
    ")\n",
    "results_df_MAE = experiment.summarize_feature_group_results(metric='MAE')\n",
    "results_df_MSE = experiment.summarize_feature_group_results(metric='RMSE')\n",
    "results_df_time = experiment.summarize_feature_group_results(metric='elapsed_time')\n",
    "print('='*50)\n",
    "print(\"MAE:\")\n",
    "print(results_df_MAE)\n",
    "print(\"RMSE\")\n",
    "print(results_df_MSE)\n",
    "print(\"Elapsed time\")\n",
    "print(results_df_time)\n",
    "print('='*50)\n",
    "\n",
    "experiment.save_feature_group_results_to_csv(f\"../results/manipulate/original.csv\")"
   ]
  },
  {
   "cell_type": "markdown",
   "id": "c20be029",
   "metadata": {},
   "source": [
    "# Experiment 2\n",
    "X reduction. slightly manipulated data."
   ]
  },
  {
   "cell_type": "code",
   "execution_count": 6,
   "id": "c066f7ae",
   "metadata": {},
   "outputs": [
    {
     "name": "stderr",
     "output_type": "stream",
     "text": [
      "WARNING - (py.warnings._showwarnmsg) - C:\\Users/au723200/FEPCEU\\data\\data_retriever.py:163: FutureWarning: 'H' is deprecated and will be removed in a future version, please use 'h' instead.\n",
      "  df = df.resample('H').ffill()\n",
      "\n",
      "WARNING:py.warnings:C:\\Users/au723200/FEPCEU\\data\\data_retriever.py:163: FutureWarning: 'H' is deprecated and will be removed in a future version, please use 'h' instead.\n",
      "  df = df.resample('H').ffill()\n",
      "\n",
      "WARNING - (py.warnings._showwarnmsg) - C:\\Users/au723200/FEPCEU\\data\\data_retriever.py:164: FutureWarning: DataFrame.fillna with 'method' is deprecated and will raise in a future version. Use obj.ffill() or obj.bfill() instead.\n",
      "  df.fillna(method='ffill', inplace=True)\n",
      "\n",
      "WARNING:py.warnings:C:\\Users/au723200/FEPCEU\\data\\data_retriever.py:164: FutureWarning: DataFrame.fillna with 'method' is deprecated and will raise in a future version. Use obj.ffill() or obj.bfill() instead.\n",
      "  df.fillna(method='ffill', inplace=True)\n",
      "\n",
      "WARNING - (py.warnings._showwarnmsg) - C:\\Users/au723200/FEPCEU\\data\\data_retriever.py:173: FutureWarning: 'H' is deprecated and will be removed in a future version, please use 'h' instead.\n",
      "  complete_date_range = pd.date_range(start=start_date, end=end_date, freq='H')\n",
      "\n",
      "WARNING:py.warnings:C:\\Users/au723200/FEPCEU\\data\\data_retriever.py:173: FutureWarning: 'H' is deprecated and will be removed in a future version, please use 'h' instead.\n",
      "  complete_date_range = pd.date_range(start=start_date, end=end_date, freq='H')\n",
      "\n",
      "WARNING - (py.warnings._showwarnmsg) - C:\\Users/au723200/FEPCEU\\data\\data_retriever.py:209: FutureWarning: 'H' is deprecated and will be removed in a future version, please use 'h' instead.\n",
      "  df = df.resample('H').ffill()\n",
      "\n",
      "WARNING:py.warnings:C:\\Users/au723200/FEPCEU\\data\\data_retriever.py:209: FutureWarning: 'H' is deprecated and will be removed in a future version, please use 'h' instead.\n",
      "  df = df.resample('H').ffill()\n",
      "\n",
      "WARNING - (py.warnings._showwarnmsg) - C:\\Users/au723200/FEPCEU\\data\\data_retriever.py:209: FutureWarning: 'H' is deprecated and will be removed in a future version, please use 'h' instead.\n",
      "  df = df.resample('H').ffill()\n",
      "\n",
      "WARNING:py.warnings:C:\\Users/au723200/FEPCEU\\data\\data_retriever.py:209: FutureWarning: 'H' is deprecated and will be removed in a future version, please use 'h' instead.\n",
      "  df = df.resample('H').ffill()\n",
      "\n",
      "WARNING - (py.warnings._showwarnmsg) - C:\\Users/au723200/FEPCEU\\data\\data_retriever.py:209: FutureWarning: 'H' is deprecated and will be removed in a future version, please use 'h' instead.\n",
      "  df = df.resample('H').ffill()\n",
      "\n",
      "WARNING:py.warnings:C:\\Users/au723200/FEPCEU\\data\\data_retriever.py:209: FutureWarning: 'H' is deprecated and will be removed in a future version, please use 'h' instead.\n",
      "  df = df.resample('H').ffill()\n",
      "\n"
     ]
    },
    {
     "name": "stdout",
     "output_type": "stream",
     "text": [
      "Identified area columns: {'sun': {27: 'sun_area_27', 8: 'sun_area_8', 34: 'sun_area_34', 9: 'sun_area_9', 19: 'sun_area_19', 37: 'sun_area_37', 6: 'sun_area_6', 31: 'sun_area_31', 29: 'sun_area_29', 3: 'sun_area_3', 40: 'sun_area_40', 17: 'sun_area_17', 21: 'sun_area_21'}, 'wind': {22: 'wind_area_22', 35: 'wind_area_35', 12: 'wind_area_12', 9: 'wind_area_9', 16: 'wind_area_16', 31: 'wind_area_31', 20: 'wind_area_20', 32: 'wind_area_32', 1: 'wind_area_1', 3: 'wind_area_3', 30: 'wind_area_30', 10: 'wind_area_10', 29: 'wind_area_29'}}\n",
      "Cross-validation splits with sliding window:\n",
      "Split 1: Train start = 2024-01-01 00:00:00 (index 0), Train end = 2024-06-29 20:00:00 (index 4340), Test end = 2024-07-07 19:00:00 (index 4531), Training size = 4340\n",
      "Split 2: Train start = 2024-01-09 00:00:00 (index 192), Train end = 2024-07-07 20:00:00 (index 4532), Test end = 2024-07-15 19:00:00 (index 4723), Training size = 4340\n",
      "Split 3: Train start = 2024-01-17 00:00:00 (index 384), Train end = 2024-07-15 20:00:00 (index 4724), Test end = 2024-07-23 19:00:00 (index 4915), Training size = 4340\n",
      "Split 4: Train start = 2024-01-25 00:00:00 (index 576), Train end = 2024-07-23 20:00:00 (index 4916), Test end = 2024-07-31 19:00:00 (index 5107), Training size = 4340\n",
      "Split 5: Train start = 2024-02-02 00:00:00 (index 768), Train end = 2024-07-31 20:00:00 (index 5108), Test end = 2024-08-08 19:00:00 (index 5299), Training size = 4340\n",
      "\n",
      "================================================================================\n",
      "Running experiment for feature group: all_areas\n",
      "Using columns: ['sun_area_27', 'sun_area_8', 'sun_area_34', 'sun_area_9', 'sun_area_19', 'sun_area_37', 'sun_area_6', 'sun_area_31', 'sun_area_29', 'sun_area_3', 'sun_area_40', 'sun_area_17', 'sun_area_21', 'wind_area_22', 'wind_area_35', 'wind_area_12', 'wind_area_9', 'wind_area_16', 'wind_area_31', 'wind_area_20', 'wind_area_32', 'wind_area_1', 'wind_area_3', 'wind_area_30', 'wind_area_10', 'wind_area_29']\n",
      "Running CV split 1/5 for feature group all_areas\n",
      "----------------------------------------------------------------------\n",
      "\n",
      "Overall Renewable Correlation:\n",
      "Original correlation: -0.5469\n",
      "Adjusted correlation: -0.5685\n",
      "Change: -0.0216\n",
      "----------------------------------------------------------------------\n",
      "\n",
      "Wind Correlation:\n",
      "Original correlation between prices and wind: -0.5308\n",
      "Adjusted correlation between prices and wind: -0.5429\n",
      "Change: -0.0121\n",
      "----------------------------------------------------------------------\n",
      "\n",
      "Sun Correlation:\n",
      "Original correlation between prices and sun: -0.3213\n",
      "Adjusted correlation between prices and sun: -0.3416\n",
      "Change: -0.0203\n",
      "----------------------------------------------------------------------\n"
     ]
    },
    {
     "data": {
      "application/vnd.jupyter.widget-view+json": {
       "model_id": "c1212d65cf2145c19187007221842f5a",
       "version_major": 2,
       "version_minor": 0
      },
      "text/plain": [
       "  0%|          | 0/20 [00:00<?, ?it/s]"
      ]
     },
     "metadata": {},
     "output_type": "display_data"
    },
    {
     "name": "stdout",
     "output_type": "stream",
     "text": [
      "`Forecaster` refitted using the best-found lags and parameters, and the whole data set: \n",
      "  Lags: [  1   2   3  23  24  25 167 168 169] \n",
      "  Parameters: {'n_estimators': 1000, 'max_depth': 10, 'min_data_in_leaf': 31, 'learning_rate': 0.017627004844245262, 'feature_fraction': 0.9914051578268095, 'max_bin': 50, 'reg_alpha': 0.055560237654553785, 'reg_lambda': 0.22785658420818355}\n",
      "  Backtesting metric: 208.4368738423809\n",
      "Fitting ARIMA model with order: [1, 0, 1] and seasonal order: [1, 1, 1, 24]\n"
     ]
    },
    {
     "name": "stderr",
     "output_type": "stream",
     "text": [
      "WARNING - (py.warnings._showwarnmsg) - c:\\Users\\au723200\\AppData\\Local\\Programs\\Python\\Python312\\Lib\\site-packages\\statsmodels\\base\\model.py:607: ConvergenceWarning: Maximum Likelihood optimization failed to converge. Check mle_retvals\n",
      "  warnings.warn(\"Maximum Likelihood optimization failed to \"\n",
      "\n",
      "WARNING:py.warnings:c:\\Users\\au723200\\AppData\\Local\\Programs\\Python\\Python312\\Lib\\site-packages\\statsmodels\\base\\model.py:607: ConvergenceWarning: Maximum Likelihood optimization failed to converge. Check mle_retvals\n",
      "  warnings.warn(\"Maximum Likelihood optimization failed to \"\n",
      "\n"
     ]
    },
    {
     "name": "stdout",
     "output_type": "stream",
     "text": [
      "Model fitted successfully.\n",
      "Forecasting with ARIMA model...\n",
      "Forecasting completed.\n"
     ]
    },
    {
     "data": {
      "application/vnd.jupyter.widget-view+json": {
       "model_id": "cd183168f8be4f66a5130bf131b2a55b",
       "version_major": 2,
       "version_minor": 0
      },
      "text/plain": [
       "Finding best initial lr:   0%|          | 0/241 [00:00<?, ?it/s]"
      ]
     },
     "metadata": {},
     "output_type": "display_data"
    },
    {
     "data": {
      "application/vnd.jupyter.widget-view+json": {
       "model_id": "eef080e9a4da488f8fe7d9e35709361a",
       "version_major": 2,
       "version_minor": 0
      },
      "text/plain": [
       "Training: 0it [00:00, ?it/s]"
      ]
     },
     "metadata": {},
     "output_type": "display_data"
    },
    {
     "data": {
      "application/vnd.jupyter.widget-view+json": {
       "model_id": "fcf13d3868ef40909b83b3bcb9c33e67",
       "version_major": 2,
       "version_minor": 0
      },
      "text/plain": [
       "Predicting: 65it [00:00, ?it/s]"
      ]
     },
     "metadata": {},
     "output_type": "display_data"
    },
    {
     "name": "stderr",
     "output_type": "stream",
     "text": [
      "INFO:nixtla.nixtla_client:Validating inputs...\n",
      "INFO:nixtla.nixtla_client:Inferred freq: h\n",
      "INFO:nixtla.nixtla_client:Preprocessing dataframes...\n",
      "INFO:nixtla.nixtla_client:Querying model metadata...\n",
      "WARNING:nixtla.nixtla_client:The specified horizon \"h\" exceeds the model horizon, this may lead to less accurate forecasts. Please consider using a smaller horizon.\n",
      "INFO:nixtla.nixtla_client:Using historical exogenous features: ['sun_area_27', 'sun_area_8', 'sun_area_34', 'sun_area_9', 'sun_area_19', 'sun_area_37', 'sun_area_6', 'sun_area_31', 'sun_area_29', 'sun_area_3', 'sun_area_40', 'sun_area_17', 'sun_area_21', 'wind_area_22', 'wind_area_35', 'wind_area_12', 'wind_area_9', 'wind_area_16', 'wind_area_31', 'wind_area_20', 'wind_area_32', 'wind_area_1', 'wind_area_3', 'wind_area_30', 'wind_area_10', 'wind_area_29', 'ds', 'unique_id']\n",
      "INFO:nixtla.nixtla_client:Calling Forecast Endpoint...\n"
     ]
    },
    {
     "name": "stdout",
     "output_type": "stream",
     "text": [
      "Running CV split 2/5 for feature group all_areas\n",
      "----------------------------------------------------------------------\n",
      "\n",
      "Overall Renewable Correlation:\n",
      "Original correlation: -0.6752\n",
      "Adjusted correlation: -0.7001\n",
      "Change: -0.0249\n",
      "----------------------------------------------------------------------\n",
      "\n",
      "Wind Correlation:\n",
      "Original correlation between prices and wind: -0.5173\n",
      "Adjusted correlation between prices and wind: -0.5321\n",
      "Change: -0.0148\n",
      "----------------------------------------------------------------------\n",
      "\n",
      "Sun Correlation:\n",
      "Original correlation between prices and sun: -0.4163\n",
      "Adjusted correlation between prices and sun: -0.4353\n",
      "Change: -0.0190\n",
      "----------------------------------------------------------------------\n"
     ]
    },
    {
     "data": {
      "application/vnd.jupyter.widget-view+json": {
       "model_id": "9bf4ebbd35364a0aa4224c4b3e8398af",
       "version_major": 2,
       "version_minor": 0
      },
      "text/plain": [
       "  0%|          | 0/20 [00:00<?, ?it/s]"
      ]
     },
     "metadata": {},
     "output_type": "display_data"
    },
    {
     "name": "stdout",
     "output_type": "stream",
     "text": [
      "`Forecaster` refitted using the best-found lags and parameters, and the whole data set: \n",
      "  Lags: [  1   2   3  23  24  25 167 168 169] \n",
      "  Parameters: {'n_estimators': 600, 'max_depth': 5, 'min_data_in_leaf': 105, 'learning_rate': 0.12106754990104161, 'feature_fraction': 0.9291874835747144, 'max_bin': 139, 'reg_alpha': 0.016279994350587745, 'reg_lambda': 0.76060461497565}\n",
      "  Backtesting metric: 185.33454507268056\n",
      "Fitting ARIMA model with order: [1, 0, 1] and seasonal order: [1, 1, 1, 24]\n"
     ]
    },
    {
     "name": "stderr",
     "output_type": "stream",
     "text": [
      "WARNING - (py.warnings._showwarnmsg) - c:\\Users\\au723200\\AppData\\Local\\Programs\\Python\\Python312\\Lib\\site-packages\\statsmodels\\base\\model.py:607: ConvergenceWarning: Maximum Likelihood optimization failed to converge. Check mle_retvals\n",
      "  warnings.warn(\"Maximum Likelihood optimization failed to \"\n",
      "\n",
      "WARNING:py.warnings:c:\\Users\\au723200\\AppData\\Local\\Programs\\Python\\Python312\\Lib\\site-packages\\statsmodels\\base\\model.py:607: ConvergenceWarning: Maximum Likelihood optimization failed to converge. Check mle_retvals\n",
      "  warnings.warn(\"Maximum Likelihood optimization failed to \"\n",
      "\n"
     ]
    },
    {
     "name": "stdout",
     "output_type": "stream",
     "text": [
      "Model fitted successfully.\n",
      "Forecasting with ARIMA model...\n",
      "Forecasting completed.\n"
     ]
    },
    {
     "data": {
      "application/vnd.jupyter.widget-view+json": {
       "model_id": "551ca2a0adef4906b68d3dc043a44e59",
       "version_major": 2,
       "version_minor": 0
      },
      "text/plain": [
       "Finding best initial lr:   0%|          | 0/241 [00:00<?, ?it/s]"
      ]
     },
     "metadata": {},
     "output_type": "display_data"
    },
    {
     "data": {
      "application/vnd.jupyter.widget-view+json": {
       "model_id": "dc4dc34fca1340b4b5d332d97ca68c42",
       "version_major": 2,
       "version_minor": 0
      },
      "text/plain": [
       "Training: 0it [00:00, ?it/s]"
      ]
     },
     "metadata": {},
     "output_type": "display_data"
    },
    {
     "data": {
      "application/vnd.jupyter.widget-view+json": {
       "model_id": "cf4510033e4c4c0dad2d0f726b7e8ea8",
       "version_major": 2,
       "version_minor": 0
      },
      "text/plain": [
       "Predicting: 65it [00:00, ?it/s]"
      ]
     },
     "metadata": {},
     "output_type": "display_data"
    },
    {
     "name": "stderr",
     "output_type": "stream",
     "text": [
      "INFO:nixtla.nixtla_client:Validating inputs...\n",
      "INFO:nixtla.nixtla_client:Inferred freq: h\n",
      "INFO:nixtla.nixtla_client:Preprocessing dataframes...\n",
      "INFO:nixtla.nixtla_client:Querying model metadata...\n",
      "WARNING:nixtla.nixtla_client:The specified horizon \"h\" exceeds the model horizon, this may lead to less accurate forecasts. Please consider using a smaller horizon.\n",
      "INFO:nixtla.nixtla_client:Using historical exogenous features: ['sun_area_27', 'sun_area_8', 'sun_area_34', 'sun_area_9', 'sun_area_19', 'sun_area_37', 'sun_area_6', 'sun_area_31', 'sun_area_29', 'sun_area_3', 'sun_area_40', 'sun_area_17', 'sun_area_21', 'wind_area_22', 'wind_area_35', 'wind_area_12', 'wind_area_9', 'wind_area_16', 'wind_area_31', 'wind_area_20', 'wind_area_32', 'wind_area_1', 'wind_area_3', 'wind_area_30', 'wind_area_10', 'wind_area_29', 'ds', 'unique_id']\n",
      "INFO:nixtla.nixtla_client:Calling Forecast Endpoint...\n",
      "ERROR:nixtla.nixtla_client:Attempt 1 failed with error: The read operation timed out\n"
     ]
    },
    {
     "name": "stdout",
     "output_type": "stream",
     "text": [
      "Running CV split 3/5 for feature group all_areas\n",
      "----------------------------------------------------------------------\n",
      "\n",
      "Overall Renewable Correlation:\n",
      "Original correlation: -0.5375\n",
      "Adjusted correlation: -0.5800\n",
      "Change: -0.0424\n",
      "----------------------------------------------------------------------\n",
      "\n",
      "Wind Correlation:\n",
      "Original correlation between prices and wind: -0.1173\n",
      "Adjusted correlation between prices and wind: -0.1608\n",
      "Change: -0.0435\n",
      "----------------------------------------------------------------------\n",
      "\n",
      "Sun Correlation:\n",
      "Original correlation between prices and sun: -0.6007\n",
      "Adjusted correlation between prices and sun: -0.6177\n",
      "Change: -0.0170\n",
      "----------------------------------------------------------------------\n"
     ]
    },
    {
     "data": {
      "application/vnd.jupyter.widget-view+json": {
       "model_id": "9a894ec59aa644b191975744d4ee9ce6",
       "version_major": 2,
       "version_minor": 0
      },
      "text/plain": [
       "  0%|          | 0/20 [00:00<?, ?it/s]"
      ]
     },
     "metadata": {},
     "output_type": "display_data"
    },
    {
     "name": "stdout",
     "output_type": "stream",
     "text": [
      "`Forecaster` refitted using the best-found lags and parameters, and the whole data set: \n",
      "  Lags: [ 1  2  3  4  5  6  7  8  9 10 11 12 13 14 15 16 17 18 19 20 21 22 23 24\n",
      " 25 26 27 28 29 30 31 32 33 34 35 36 37 38 39 40 41 42 43 44 45 46 47 48\n",
      " 49 50 51 52 53 54 55 56 57 58 59 60 61 62 63 64 65 66 67 68 69 70 71 72] \n",
      "  Parameters: {'n_estimators': 900, 'max_depth': 4, 'min_data_in_leaf': 96, 'learning_rate': 0.11917784571666898, 'feature_fraction': 0.7936222977105213, 'max_bin': 190, 'reg_alpha': 0.2823225271637953, 'reg_lambda': 0.9781048150719602}\n",
      "  Backtesting metric: 190.6664015892153\n",
      "Fitting ARIMA model with order: [1, 0, 1] and seasonal order: [1, 1, 1, 24]\n"
     ]
    },
    {
     "name": "stderr",
     "output_type": "stream",
     "text": [
      "WARNING - (py.warnings._showwarnmsg) - c:\\Users\\au723200\\AppData\\Local\\Programs\\Python\\Python312\\Lib\\site-packages\\statsmodels\\base\\model.py:607: ConvergenceWarning: Maximum Likelihood optimization failed to converge. Check mle_retvals\n",
      "  warnings.warn(\"Maximum Likelihood optimization failed to \"\n",
      "\n",
      "WARNING:py.warnings:c:\\Users\\au723200\\AppData\\Local\\Programs\\Python\\Python312\\Lib\\site-packages\\statsmodels\\base\\model.py:607: ConvergenceWarning: Maximum Likelihood optimization failed to converge. Check mle_retvals\n",
      "  warnings.warn(\"Maximum Likelihood optimization failed to \"\n",
      "\n"
     ]
    },
    {
     "name": "stdout",
     "output_type": "stream",
     "text": [
      "Model fitted successfully.\n",
      "Forecasting with ARIMA model...\n",
      "Forecasting completed.\n"
     ]
    },
    {
     "data": {
      "application/vnd.jupyter.widget-view+json": {
       "model_id": "cf31c3f98f9b4911b6242676e36ce7c8",
       "version_major": 2,
       "version_minor": 0
      },
      "text/plain": [
       "Finding best initial lr:   0%|          | 0/241 [00:00<?, ?it/s]"
      ]
     },
     "metadata": {},
     "output_type": "display_data"
    },
    {
     "data": {
      "application/vnd.jupyter.widget-view+json": {
       "model_id": "d1df9805da8a470a8fa1872db5990609",
       "version_major": 2,
       "version_minor": 0
      },
      "text/plain": [
       "Training: 0it [00:00, ?it/s]"
      ]
     },
     "metadata": {},
     "output_type": "display_data"
    },
    {
     "data": {
      "application/vnd.jupyter.widget-view+json": {
       "model_id": "91101b3e63e0402890f089199b30267e",
       "version_major": 2,
       "version_minor": 0
      },
      "text/plain": [
       "Predicting: 65it [00:00, ?it/s]"
      ]
     },
     "metadata": {},
     "output_type": "display_data"
    },
    {
     "name": "stderr",
     "output_type": "stream",
     "text": [
      "INFO:nixtla.nixtla_client:Validating inputs...\n",
      "INFO:nixtla.nixtla_client:Inferred freq: h\n",
      "INFO:nixtla.nixtla_client:Preprocessing dataframes...\n",
      "INFO:nixtla.nixtla_client:Querying model metadata...\n",
      "WARNING:nixtla.nixtla_client:The specified horizon \"h\" exceeds the model horizon, this may lead to less accurate forecasts. Please consider using a smaller horizon.\n",
      "INFO:nixtla.nixtla_client:Using historical exogenous features: ['sun_area_27', 'sun_area_8', 'sun_area_34', 'sun_area_9', 'sun_area_19', 'sun_area_37', 'sun_area_6', 'sun_area_31', 'sun_area_29', 'sun_area_3', 'sun_area_40', 'sun_area_17', 'sun_area_21', 'wind_area_22', 'wind_area_35', 'wind_area_12', 'wind_area_9', 'wind_area_16', 'wind_area_31', 'wind_area_20', 'wind_area_32', 'wind_area_1', 'wind_area_3', 'wind_area_30', 'wind_area_10', 'wind_area_29', 'ds', 'unique_id']\n",
      "INFO:nixtla.nixtla_client:Calling Forecast Endpoint...\n"
     ]
    },
    {
     "name": "stdout",
     "output_type": "stream",
     "text": [
      "Running CV split 4/5 for feature group all_areas\n",
      "----------------------------------------------------------------------\n",
      "\n",
      "Overall Renewable Correlation:\n",
      "Original correlation: -0.7555\n",
      "Adjusted correlation: -0.7741\n",
      "Change: -0.0187\n",
      "----------------------------------------------------------------------\n",
      "\n",
      "Wind Correlation:\n",
      "Original correlation between prices and wind: -0.3128\n",
      "Adjusted correlation between prices and wind: -0.3276\n",
      "Change: -0.0148\n",
      "----------------------------------------------------------------------\n",
      "\n",
      "Sun Correlation:\n",
      "Original correlation between prices and sun: -0.7003\n",
      "Adjusted correlation between prices and sun: -0.7128\n",
      "Change: -0.0125\n",
      "----------------------------------------------------------------------\n"
     ]
    },
    {
     "data": {
      "application/vnd.jupyter.widget-view+json": {
       "model_id": "ee374bb9ec674255bfdfa5911eed915b",
       "version_major": 2,
       "version_minor": 0
      },
      "text/plain": [
       "  0%|          | 0/20 [00:00<?, ?it/s]"
      ]
     },
     "metadata": {},
     "output_type": "display_data"
    },
    {
     "name": "stdout",
     "output_type": "stream",
     "text": [
      "`Forecaster` refitted using the best-found lags and parameters, and the whole data set: \n",
      "  Lags: [ 1  2  3  4  5  6  7  8  9 10 11 12 13 14 15 16 17 18 19 20 21 22 23 24\n",
      " 25 26 27 28 29 30 31 32 33 34 35 36 37 38 39 40 41 42 43 44 45 46 47 48\n",
      " 49 50 51 52 53 54 55 56 57 58 59 60 61 62 63 64 65 66 67 68 69 70 71 72] \n",
      "  Parameters: {'n_estimators': 900, 'max_depth': 10, 'min_data_in_leaf': 27, 'learning_rate': 0.3732343204321192, 'feature_fraction': 0.5060288821740505, 'max_bin': 138, 'reg_alpha': 0.26952159055147545, 'reg_lambda': 0.4327777476949051}\n",
      "  Backtesting metric: 192.9669485147546\n",
      "Fitting ARIMA model with order: [1, 0, 1] and seasonal order: [1, 1, 1, 24]\n"
     ]
    },
    {
     "name": "stderr",
     "output_type": "stream",
     "text": [
      "WARNING - (py.warnings._showwarnmsg) - c:\\Users\\au723200\\AppData\\Local\\Programs\\Python\\Python312\\Lib\\site-packages\\statsmodels\\base\\model.py:607: ConvergenceWarning: Maximum Likelihood optimization failed to converge. Check mle_retvals\n",
      "  warnings.warn(\"Maximum Likelihood optimization failed to \"\n",
      "\n",
      "WARNING:py.warnings:c:\\Users\\au723200\\AppData\\Local\\Programs\\Python\\Python312\\Lib\\site-packages\\statsmodels\\base\\model.py:607: ConvergenceWarning: Maximum Likelihood optimization failed to converge. Check mle_retvals\n",
      "  warnings.warn(\"Maximum Likelihood optimization failed to \"\n",
      "\n"
     ]
    },
    {
     "name": "stdout",
     "output_type": "stream",
     "text": [
      "Model fitted successfully.\n",
      "Forecasting with ARIMA model...\n",
      "Forecasting completed.\n"
     ]
    },
    {
     "data": {
      "application/vnd.jupyter.widget-view+json": {
       "model_id": "942e4b74c25c457b9ffbb368e142dd09",
       "version_major": 2,
       "version_minor": 0
      },
      "text/plain": [
       "Finding best initial lr:   0%|          | 0/241 [00:00<?, ?it/s]"
      ]
     },
     "metadata": {},
     "output_type": "display_data"
    },
    {
     "data": {
      "application/vnd.jupyter.widget-view+json": {
       "model_id": "ac0d57fe6dde43b2800a96670fb57c7f",
       "version_major": 2,
       "version_minor": 0
      },
      "text/plain": [
       "Training: 0it [00:00, ?it/s]"
      ]
     },
     "metadata": {},
     "output_type": "display_data"
    },
    {
     "data": {
      "application/vnd.jupyter.widget-view+json": {
       "model_id": "a76ed4d8f480448cbd13fe2e0d4bffb9",
       "version_major": 2,
       "version_minor": 0
      },
      "text/plain": [
       "Predicting: 65it [00:00, ?it/s]"
      ]
     },
     "metadata": {},
     "output_type": "display_data"
    },
    {
     "name": "stderr",
     "output_type": "stream",
     "text": [
      "INFO:nixtla.nixtla_client:Validating inputs...\n",
      "INFO:nixtla.nixtla_client:Inferred freq: h\n",
      "INFO:nixtla.nixtla_client:Preprocessing dataframes...\n",
      "INFO:nixtla.nixtla_client:Querying model metadata...\n",
      "WARNING:nixtla.nixtla_client:The specified horizon \"h\" exceeds the model horizon, this may lead to less accurate forecasts. Please consider using a smaller horizon.\n",
      "INFO:nixtla.nixtla_client:Using historical exogenous features: ['sun_area_27', 'sun_area_8', 'sun_area_34', 'sun_area_9', 'sun_area_19', 'sun_area_37', 'sun_area_6', 'sun_area_31', 'sun_area_29', 'sun_area_3', 'sun_area_40', 'sun_area_17', 'sun_area_21', 'wind_area_22', 'wind_area_35', 'wind_area_12', 'wind_area_9', 'wind_area_16', 'wind_area_31', 'wind_area_20', 'wind_area_32', 'wind_area_1', 'wind_area_3', 'wind_area_30', 'wind_area_10', 'wind_area_29', 'ds', 'unique_id']\n",
      "INFO:nixtla.nixtla_client:Calling Forecast Endpoint...\n"
     ]
    },
    {
     "name": "stdout",
     "output_type": "stream",
     "text": [
      "Running CV split 5/5 for feature group all_areas\n",
      "----------------------------------------------------------------------\n",
      "\n",
      "Overall Renewable Correlation:\n",
      "Original correlation: -0.5938\n",
      "Adjusted correlation: -0.6344\n",
      "Change: -0.0406\n",
      "----------------------------------------------------------------------\n",
      "\n",
      "Wind Correlation:\n",
      "Original correlation between prices and wind: -0.1939\n",
      "Adjusted correlation between prices and wind: -0.2211\n",
      "Change: -0.0272\n",
      "----------------------------------------------------------------------\n",
      "\n",
      "Sun Correlation:\n",
      "Original correlation between prices and sun: -0.5386\n",
      "Adjusted correlation between prices and sun: -0.5655\n",
      "Change: -0.0270\n",
      "----------------------------------------------------------------------\n"
     ]
    },
    {
     "data": {
      "application/vnd.jupyter.widget-view+json": {
       "model_id": "ee243f8e394441808820bdf5394f6853",
       "version_major": 2,
       "version_minor": 0
      },
      "text/plain": [
       "  0%|          | 0/20 [00:00<?, ?it/s]"
      ]
     },
     "metadata": {},
     "output_type": "display_data"
    },
    {
     "name": "stdout",
     "output_type": "stream",
     "text": [
      "`Forecaster` refitted using the best-found lags and parameters, and the whole data set: \n",
      "  Lags: [  1   2   3  23  24  25 167 168 169] \n",
      "  Parameters: {'n_estimators': 1000, 'max_depth': 9, 'min_data_in_leaf': 25, 'learning_rate': 0.09837377903135672, 'feature_fraction': 0.8999182324406598, 'max_bin': 52, 'reg_alpha': 0.18112786809839324, 'reg_lambda': 0.32121257564389666}\n",
      "  Backtesting metric: 189.61513958980552\n",
      "Fitting ARIMA model with order: [1, 0, 1] and seasonal order: [1, 1, 1, 24]\n"
     ]
    },
    {
     "name": "stderr",
     "output_type": "stream",
     "text": [
      "WARNING - (py.warnings._showwarnmsg) - c:\\Users\\au723200\\AppData\\Local\\Programs\\Python\\Python312\\Lib\\site-packages\\statsmodels\\base\\model.py:607: ConvergenceWarning: Maximum Likelihood optimization failed to converge. Check mle_retvals\n",
      "  warnings.warn(\"Maximum Likelihood optimization failed to \"\n",
      "\n",
      "WARNING:py.warnings:c:\\Users\\au723200\\AppData\\Local\\Programs\\Python\\Python312\\Lib\\site-packages\\statsmodels\\base\\model.py:607: ConvergenceWarning: Maximum Likelihood optimization failed to converge. Check mle_retvals\n",
      "  warnings.warn(\"Maximum Likelihood optimization failed to \"\n",
      "\n"
     ]
    },
    {
     "name": "stdout",
     "output_type": "stream",
     "text": [
      "Model fitted successfully.\n",
      "Forecasting with ARIMA model...\n",
      "Forecasting completed.\n"
     ]
    },
    {
     "data": {
      "application/vnd.jupyter.widget-view+json": {
       "model_id": "ed6643f3a16744eb8bbfff2ef1d89e24",
       "version_major": 2,
       "version_minor": 0
      },
      "text/plain": [
       "Finding best initial lr:   0%|          | 0/241 [00:00<?, ?it/s]"
      ]
     },
     "metadata": {},
     "output_type": "display_data"
    },
    {
     "data": {
      "application/vnd.jupyter.widget-view+json": {
       "model_id": "a576261bb4c14f2ba54c6a9308e2a8f8",
       "version_major": 2,
       "version_minor": 0
      },
      "text/plain": [
       "Training: 0it [00:00, ?it/s]"
      ]
     },
     "metadata": {},
     "output_type": "display_data"
    },
    {
     "data": {
      "application/vnd.jupyter.widget-view+json": {
       "model_id": "f8982ee56f4e47f3a579ba8907a26b51",
       "version_major": 2,
       "version_minor": 0
      },
      "text/plain": [
       "Predicting: 65it [00:00, ?it/s]"
      ]
     },
     "metadata": {},
     "output_type": "display_data"
    },
    {
     "name": "stderr",
     "output_type": "stream",
     "text": [
      "INFO:nixtla.nixtla_client:Validating inputs...\n",
      "INFO:nixtla.nixtla_client:Inferred freq: h\n",
      "INFO:nixtla.nixtla_client:Preprocessing dataframes...\n",
      "INFO:nixtla.nixtla_client:Querying model metadata...\n",
      "WARNING:nixtla.nixtla_client:The specified horizon \"h\" exceeds the model horizon, this may lead to less accurate forecasts. Please consider using a smaller horizon.\n",
      "INFO:nixtla.nixtla_client:Using historical exogenous features: ['sun_area_27', 'sun_area_8', 'sun_area_34', 'sun_area_9', 'sun_area_19', 'sun_area_37', 'sun_area_6', 'sun_area_31', 'sun_area_29', 'sun_area_3', 'sun_area_40', 'sun_area_17', 'sun_area_21', 'wind_area_22', 'wind_area_35', 'wind_area_12', 'wind_area_9', 'wind_area_16', 'wind_area_31', 'wind_area_20', 'wind_area_32', 'wind_area_1', 'wind_area_3', 'wind_area_30', 'wind_area_10', 'wind_area_29', 'ds', 'unique_id']\n",
      "INFO:nixtla.nixtla_client:Calling Forecast Endpoint...\n"
     ]
    },
    {
     "name": "stdout",
     "output_type": "stream",
     "text": [
      "==================================================\n",
      "MAE:\n",
      "                     BASELINE                LGBM               ARIMA  \\\n",
      "all_areas  195.9928 ± 64.6572  154.5181 ± 17.0528  146.1071 ± 34.5401   \n",
      "\n",
      "                NEURALPROPHET              TimeGPT  \n",
      "all_areas  215.6296 ± 56.4069  392.8200 ± 187.7644  \n",
      "RMSE\n",
      "                     BASELINE                LGBM               ARIMA  \\\n",
      "all_areas  256.5994 ± 87.0257  196.3020 ± 23.2159  188.4775 ± 40.5920   \n",
      "\n",
      "                NEURALPROPHET              TimeGPT  \n",
      "all_areas  264.7702 ± 69.0809  460.5236 ± 169.9246  \n",
      "Elapsed time\n",
      "                  BASELINE              LGBM              ARIMA  \\\n",
      "all_areas  0.0114 ± 0.0076  80.5704 ± 4.0359  216.0755 ± 9.4252   \n",
      "\n",
      "               NEURALPROPHET            TimeGPT  \n",
      "all_areas  134.8164 ± 9.8504  19.9914 ± 28.0532  \n",
      "==================================================\n",
      "Saved feature group results to ../results/manipulate/point1_20250516_094548.csv\n"
     ]
    }
   ],
   "source": [
    "data = Dataretreiver(reduce='pca_kmeans', debug=False, reduction_num_cols=13)\n",
    "df = data.combined\n",
    "# Initialize the experiment\n",
    "experiment = EnhancedTimeSeriesExperiment(\n",
    "    models=models,\n",
    "    target_column='price',\n",
    "    forecast_horizon=192,\n",
    "    n_splits=5,\n",
    "    step_size=192 # 8 days are skipped between each forecast.\n",
    ")\n",
    "# Run the experiments with these custom combinations\n",
    "experiment.run_feature_group_experiments(\n",
    "    df=df,\n",
    "    add_all_columns=True,\n",
    "    add_base_columns=False,\n",
    "    manipulate=True,\n",
    "    manipulate_factor_sun=0.1,\n",
    "    manipulate_factor_wind=0.1,\n",
    ")\n",
    "results_df_MAE = experiment.summarize_feature_group_results(metric='MAE')\n",
    "results_df_MSE = experiment.summarize_feature_group_results(metric='RMSE')\n",
    "results_df_time = experiment.summarize_feature_group_results(metric='elapsed_time')\n",
    "print('='*50)\n",
    "print(\"MAE:\")\n",
    "print(results_df_MAE)\n",
    "print(\"RMSE\")\n",
    "print(results_df_MSE)\n",
    "print(\"Elapsed time\")\n",
    "print(results_df_time)\n",
    "print('='*50)\n",
    "\n",
    "experiment.save_feature_group_results_to_csv(f\"../results/manipulate/point1.csv\")"
   ]
  },
  {
   "cell_type": "markdown",
   "id": "8e27f880",
   "metadata": {},
   "source": [
    "# Experiment 3\n",
    "X reduction. More manipulated data"
   ]
  },
  {
   "cell_type": "code",
   "execution_count": 7,
   "id": "4e957964",
   "metadata": {},
   "outputs": [
    {
     "name": "stderr",
     "output_type": "stream",
     "text": [
      "WARNING - (py.warnings._showwarnmsg) - C:\\Users/au723200/FEPCEU\\data\\data_retriever.py:163: FutureWarning: 'H' is deprecated and will be removed in a future version, please use 'h' instead.\n",
      "  df = df.resample('H').ffill()\n",
      "\n",
      "WARNING:py.warnings:C:\\Users/au723200/FEPCEU\\data\\data_retriever.py:163: FutureWarning: 'H' is deprecated and will be removed in a future version, please use 'h' instead.\n",
      "  df = df.resample('H').ffill()\n",
      "\n",
      "WARNING - (py.warnings._showwarnmsg) - C:\\Users/au723200/FEPCEU\\data\\data_retriever.py:164: FutureWarning: DataFrame.fillna with 'method' is deprecated and will raise in a future version. Use obj.ffill() or obj.bfill() instead.\n",
      "  df.fillna(method='ffill', inplace=True)\n",
      "\n",
      "WARNING:py.warnings:C:\\Users/au723200/FEPCEU\\data\\data_retriever.py:164: FutureWarning: DataFrame.fillna with 'method' is deprecated and will raise in a future version. Use obj.ffill() or obj.bfill() instead.\n",
      "  df.fillna(method='ffill', inplace=True)\n",
      "\n",
      "WARNING - (py.warnings._showwarnmsg) - C:\\Users/au723200/FEPCEU\\data\\data_retriever.py:173: FutureWarning: 'H' is deprecated and will be removed in a future version, please use 'h' instead.\n",
      "  complete_date_range = pd.date_range(start=start_date, end=end_date, freq='H')\n",
      "\n",
      "WARNING:py.warnings:C:\\Users/au723200/FEPCEU\\data\\data_retriever.py:173: FutureWarning: 'H' is deprecated and will be removed in a future version, please use 'h' instead.\n",
      "  complete_date_range = pd.date_range(start=start_date, end=end_date, freq='H')\n",
      "\n",
      "WARNING - (py.warnings._showwarnmsg) - C:\\Users/au723200/FEPCEU\\data\\data_retriever.py:209: FutureWarning: 'H' is deprecated and will be removed in a future version, please use 'h' instead.\n",
      "  df = df.resample('H').ffill()\n",
      "\n",
      "WARNING:py.warnings:C:\\Users/au723200/FEPCEU\\data\\data_retriever.py:209: FutureWarning: 'H' is deprecated and will be removed in a future version, please use 'h' instead.\n",
      "  df = df.resample('H').ffill()\n",
      "\n",
      "WARNING - (py.warnings._showwarnmsg) - C:\\Users/au723200/FEPCEU\\data\\data_retriever.py:209: FutureWarning: 'H' is deprecated and will be removed in a future version, please use 'h' instead.\n",
      "  df = df.resample('H').ffill()\n",
      "\n",
      "WARNING:py.warnings:C:\\Users/au723200/FEPCEU\\data\\data_retriever.py:209: FutureWarning: 'H' is deprecated and will be removed in a future version, please use 'h' instead.\n",
      "  df = df.resample('H').ffill()\n",
      "\n",
      "WARNING - (py.warnings._showwarnmsg) - C:\\Users/au723200/FEPCEU\\data\\data_retriever.py:209: FutureWarning: 'H' is deprecated and will be removed in a future version, please use 'h' instead.\n",
      "  df = df.resample('H').ffill()\n",
      "\n",
      "WARNING:py.warnings:C:\\Users/au723200/FEPCEU\\data\\data_retriever.py:209: FutureWarning: 'H' is deprecated and will be removed in a future version, please use 'h' instead.\n",
      "  df = df.resample('H').ffill()\n",
      "\n"
     ]
    },
    {
     "name": "stdout",
     "output_type": "stream",
     "text": [
      "Identified area columns: {'sun': {23: 'sun_area_23', 8: 'sun_area_8', 34: 'sun_area_34', 10: 'sun_area_10', 16: 'sun_area_16', 37: 'sun_area_37', 25: 'sun_area_25', 31: 'sun_area_31', 6: 'sun_area_6', 5: 'sun_area_5', 3: 'sun_area_3', 35: 'sun_area_35', 17: 'sun_area_17'}, 'wind': {22: 'wind_area_22', 35: 'wind_area_35', 12: 'wind_area_12', 9: 'wind_area_9', 16: 'wind_area_16', 31: 'wind_area_31', 19: 'wind_area_19', 32: 'wind_area_32', 1: 'wind_area_1', 2: 'wind_area_2', 30: 'wind_area_30', 10: 'wind_area_10', 29: 'wind_area_29'}}\n",
      "Cross-validation splits with sliding window:\n",
      "Split 1: Train start = 2024-01-01 00:00:00 (index 0), Train end = 2024-06-29 20:00:00 (index 4340), Test end = 2024-07-07 19:00:00 (index 4531), Training size = 4340\n",
      "Split 2: Train start = 2024-01-09 00:00:00 (index 192), Train end = 2024-07-07 20:00:00 (index 4532), Test end = 2024-07-15 19:00:00 (index 4723), Training size = 4340\n",
      "Split 3: Train start = 2024-01-17 00:00:00 (index 384), Train end = 2024-07-15 20:00:00 (index 4724), Test end = 2024-07-23 19:00:00 (index 4915), Training size = 4340\n",
      "Split 4: Train start = 2024-01-25 00:00:00 (index 576), Train end = 2024-07-23 20:00:00 (index 4916), Test end = 2024-07-31 19:00:00 (index 5107), Training size = 4340\n",
      "Split 5: Train start = 2024-02-02 00:00:00 (index 768), Train end = 2024-07-31 20:00:00 (index 5108), Test end = 2024-08-08 19:00:00 (index 5299), Training size = 4340\n",
      "\n",
      "================================================================================\n",
      "Running experiment for feature group: all_areas\n",
      "Using columns: ['sun_area_23', 'sun_area_8', 'sun_area_34', 'sun_area_10', 'sun_area_16', 'sun_area_37', 'sun_area_25', 'sun_area_31', 'sun_area_6', 'sun_area_5', 'sun_area_3', 'sun_area_35', 'sun_area_17', 'wind_area_22', 'wind_area_35', 'wind_area_12', 'wind_area_9', 'wind_area_16', 'wind_area_31', 'wind_area_19', 'wind_area_32', 'wind_area_1', 'wind_area_2', 'wind_area_30', 'wind_area_10', 'wind_area_29']\n",
      "Running CV split 1/5 for feature group all_areas\n",
      "----------------------------------------------------------------------\n",
      "\n",
      "Overall Renewable Correlation:\n",
      "Original correlation: -0.5615\n",
      "Adjusted correlation: -0.6282\n",
      "Change: -0.0667\n",
      "----------------------------------------------------------------------\n",
      "\n",
      "Wind Correlation:\n",
      "Original correlation between prices and wind: -0.5538\n",
      "Adjusted correlation between prices and wind: -0.5867\n",
      "Change: -0.0329\n",
      "----------------------------------------------------------------------\n",
      "\n",
      "Sun Correlation:\n",
      "Original correlation between prices and sun: -0.3215\n",
      "Adjusted correlation between prices and sun: -0.3879\n",
      "Change: -0.0664\n",
      "----------------------------------------------------------------------\n"
     ]
    },
    {
     "data": {
      "application/vnd.jupyter.widget-view+json": {
       "model_id": "14eacad7e48241dc84f5392b8c03ff2a",
       "version_major": 2,
       "version_minor": 0
      },
      "text/plain": [
       "  0%|          | 0/20 [00:00<?, ?it/s]"
      ]
     },
     "metadata": {},
     "output_type": "display_data"
    },
    {
     "name": "stdout",
     "output_type": "stream",
     "text": [
      "`Forecaster` refitted using the best-found lags and parameters, and the whole data set: \n",
      "  Lags: [  1   2   3  23  24  25 167 168 169] \n",
      "  Parameters: {'n_estimators': 700, 'max_depth': 8, 'min_data_in_leaf': 28, 'learning_rate': 0.1304758710430311, 'feature_fraction': 0.6688521921397169, 'max_bin': 145, 'reg_alpha': 0.28470912097239576, 'reg_lambda': 0.41590732676882275}\n",
      "  Backtesting metric: 201.59632326987852\n",
      "Fitting ARIMA model with order: [1, 0, 1] and seasonal order: [1, 1, 1, 24]\n"
     ]
    },
    {
     "name": "stderr",
     "output_type": "stream",
     "text": [
      "WARNING - (py.warnings._showwarnmsg) - c:\\Users\\au723200\\AppData\\Local\\Programs\\Python\\Python312\\Lib\\site-packages\\statsmodels\\base\\model.py:607: ConvergenceWarning: Maximum Likelihood optimization failed to converge. Check mle_retvals\n",
      "  warnings.warn(\"Maximum Likelihood optimization failed to \"\n",
      "\n",
      "WARNING:py.warnings:c:\\Users\\au723200\\AppData\\Local\\Programs\\Python\\Python312\\Lib\\site-packages\\statsmodels\\base\\model.py:607: ConvergenceWarning: Maximum Likelihood optimization failed to converge. Check mle_retvals\n",
      "  warnings.warn(\"Maximum Likelihood optimization failed to \"\n",
      "\n"
     ]
    },
    {
     "name": "stdout",
     "output_type": "stream",
     "text": [
      "Model fitted successfully.\n",
      "Forecasting with ARIMA model...\n",
      "Forecasting completed.\n"
     ]
    },
    {
     "data": {
      "application/vnd.jupyter.widget-view+json": {
       "model_id": "0b222f5ae885457eab385efb943e8505",
       "version_major": 2,
       "version_minor": 0
      },
      "text/plain": [
       "Finding best initial lr:   0%|          | 0/241 [00:00<?, ?it/s]"
      ]
     },
     "metadata": {},
     "output_type": "display_data"
    },
    {
     "data": {
      "application/vnd.jupyter.widget-view+json": {
       "model_id": "4bd250cb36dc408caf90fccb5c9a8156",
       "version_major": 2,
       "version_minor": 0
      },
      "text/plain": [
       "Training: 0it [00:00, ?it/s]"
      ]
     },
     "metadata": {},
     "output_type": "display_data"
    },
    {
     "data": {
      "application/vnd.jupyter.widget-view+json": {
       "model_id": "428e2f62270640139cef9abe4b4d83b3",
       "version_major": 2,
       "version_minor": 0
      },
      "text/plain": [
       "Predicting: 65it [00:00, ?it/s]"
      ]
     },
     "metadata": {},
     "output_type": "display_data"
    },
    {
     "name": "stderr",
     "output_type": "stream",
     "text": [
      "INFO:nixtla.nixtla_client:Validating inputs...\n",
      "INFO:nixtla.nixtla_client:Inferred freq: h\n",
      "INFO:nixtla.nixtla_client:Preprocessing dataframes...\n",
      "INFO:nixtla.nixtla_client:Querying model metadata...\n",
      "WARNING:nixtla.nixtla_client:The specified horizon \"h\" exceeds the model horizon, this may lead to less accurate forecasts. Please consider using a smaller horizon.\n",
      "INFO:nixtla.nixtla_client:Using historical exogenous features: ['sun_area_23', 'sun_area_8', 'sun_area_34', 'sun_area_10', 'sun_area_16', 'sun_area_37', 'sun_area_25', 'sun_area_31', 'sun_area_6', 'sun_area_5', 'sun_area_3', 'sun_area_35', 'sun_area_17', 'wind_area_22', 'wind_area_35', 'wind_area_12', 'wind_area_9', 'wind_area_16', 'wind_area_31', 'wind_area_19', 'wind_area_32', 'wind_area_1', 'wind_area_2', 'wind_area_30', 'wind_area_10', 'wind_area_29', 'ds', 'unique_id']\n",
      "INFO:nixtla.nixtla_client:Calling Forecast Endpoint...\n",
      "ERROR:nixtla.nixtla_client:Attempt 1 failed with error: The read operation timed out\n"
     ]
    },
    {
     "name": "stdout",
     "output_type": "stream",
     "text": [
      "Running CV split 2/5 for feature group all_areas\n",
      "----------------------------------------------------------------------\n",
      "\n",
      "Overall Renewable Correlation:\n",
      "Original correlation: -0.6836\n",
      "Adjusted correlation: -0.7542\n",
      "Change: -0.0706\n",
      "----------------------------------------------------------------------\n",
      "\n",
      "Wind Correlation:\n",
      "Original correlation between prices and wind: -0.5343\n",
      "Adjusted correlation between prices and wind: -0.5772\n",
      "Change: -0.0429\n",
      "----------------------------------------------------------------------\n",
      "\n",
      "Sun Correlation:\n",
      "Original correlation between prices and sun: -0.4164\n",
      "Adjusted correlation between prices and sun: -0.4699\n",
      "Change: -0.0536\n",
      "----------------------------------------------------------------------\n"
     ]
    },
    {
     "data": {
      "application/vnd.jupyter.widget-view+json": {
       "model_id": "a5b1bba6aa3e45b3bc80b0a1f6ef92c9",
       "version_major": 2,
       "version_minor": 0
      },
      "text/plain": [
       "  0%|          | 0/20 [00:00<?, ?it/s]"
      ]
     },
     "metadata": {},
     "output_type": "display_data"
    },
    {
     "name": "stdout",
     "output_type": "stream",
     "text": [
      "`Forecaster` refitted using the best-found lags and parameters, and the whole data set: \n",
      "  Lags: [  1   2   3  23  24  25 167 168 169] \n",
      "  Parameters: {'n_estimators': 600, 'max_depth': 5, 'min_data_in_leaf': 105, 'learning_rate': 0.12106754990104161, 'feature_fraction': 0.9291874835747144, 'max_bin': 139, 'reg_alpha': 0.016279994350587745, 'reg_lambda': 0.76060461497565}\n",
      "  Backtesting metric: 186.9488472918157\n",
      "Fitting ARIMA model with order: [1, 0, 1] and seasonal order: [1, 1, 1, 24]\n"
     ]
    },
    {
     "name": "stderr",
     "output_type": "stream",
     "text": [
      "WARNING - (py.warnings._showwarnmsg) - c:\\Users\\au723200\\AppData\\Local\\Programs\\Python\\Python312\\Lib\\site-packages\\statsmodels\\base\\model.py:607: ConvergenceWarning: Maximum Likelihood optimization failed to converge. Check mle_retvals\n",
      "  warnings.warn(\"Maximum Likelihood optimization failed to \"\n",
      "\n",
      "WARNING:py.warnings:c:\\Users\\au723200\\AppData\\Local\\Programs\\Python\\Python312\\Lib\\site-packages\\statsmodels\\base\\model.py:607: ConvergenceWarning: Maximum Likelihood optimization failed to converge. Check mle_retvals\n",
      "  warnings.warn(\"Maximum Likelihood optimization failed to \"\n",
      "\n"
     ]
    },
    {
     "name": "stdout",
     "output_type": "stream",
     "text": [
      "Model fitted successfully.\n",
      "Forecasting with ARIMA model...\n",
      "Forecasting completed.\n"
     ]
    },
    {
     "data": {
      "application/vnd.jupyter.widget-view+json": {
       "model_id": "a185db9eca6e4cdab9256f3d0d0f10f2",
       "version_major": 2,
       "version_minor": 0
      },
      "text/plain": [
       "Finding best initial lr:   0%|          | 0/241 [00:00<?, ?it/s]"
      ]
     },
     "metadata": {},
     "output_type": "display_data"
    },
    {
     "data": {
      "application/vnd.jupyter.widget-view+json": {
       "model_id": "49e3cad3e0a046439bb44a410a84d8a2",
       "version_major": 2,
       "version_minor": 0
      },
      "text/plain": [
       "Training: 0it [00:00, ?it/s]"
      ]
     },
     "metadata": {},
     "output_type": "display_data"
    },
    {
     "data": {
      "application/vnd.jupyter.widget-view+json": {
       "model_id": "e242a467fc9b4863bb63e11fde0c1641",
       "version_major": 2,
       "version_minor": 0
      },
      "text/plain": [
       "Predicting: 65it [00:00, ?it/s]"
      ]
     },
     "metadata": {},
     "output_type": "display_data"
    },
    {
     "name": "stderr",
     "output_type": "stream",
     "text": [
      "INFO:nixtla.nixtla_client:Validating inputs...\n",
      "INFO:nixtla.nixtla_client:Inferred freq: h\n",
      "INFO:nixtla.nixtla_client:Preprocessing dataframes...\n",
      "INFO:nixtla.nixtla_client:Querying model metadata...\n",
      "WARNING:nixtla.nixtla_client:The specified horizon \"h\" exceeds the model horizon, this may lead to less accurate forecasts. Please consider using a smaller horizon.\n",
      "INFO:nixtla.nixtla_client:Using historical exogenous features: ['sun_area_23', 'sun_area_8', 'sun_area_34', 'sun_area_10', 'sun_area_16', 'sun_area_37', 'sun_area_25', 'sun_area_31', 'sun_area_6', 'sun_area_5', 'sun_area_3', 'sun_area_35', 'sun_area_17', 'wind_area_22', 'wind_area_35', 'wind_area_12', 'wind_area_9', 'wind_area_16', 'wind_area_31', 'wind_area_19', 'wind_area_32', 'wind_area_1', 'wind_area_2', 'wind_area_30', 'wind_area_10', 'wind_area_29', 'ds', 'unique_id']\n",
      "INFO:nixtla.nixtla_client:Calling Forecast Endpoint...\n"
     ]
    },
    {
     "name": "stdout",
     "output_type": "stream",
     "text": [
      "Running CV split 3/5 for feature group all_areas\n",
      "----------------------------------------------------------------------\n",
      "\n",
      "Overall Renewable Correlation:\n",
      "Original correlation: -0.5447\n",
      "Adjusted correlation: -0.6767\n",
      "Change: -0.1320\n",
      "----------------------------------------------------------------------\n",
      "\n",
      "Wind Correlation:\n",
      "Original correlation between prices and wind: -0.1374\n",
      "Adjusted correlation between prices and wind: -0.2798\n",
      "Change: -0.1425\n",
      "----------------------------------------------------------------------\n",
      "\n",
      "Sun Correlation:\n",
      "Original correlation between prices and sun: -0.5982\n",
      "Adjusted correlation between prices and sun: -0.6438\n",
      "Change: -0.0456\n",
      "----------------------------------------------------------------------\n"
     ]
    },
    {
     "data": {
      "application/vnd.jupyter.widget-view+json": {
       "model_id": "1001e19138d94b40b85c75849d683899",
       "version_major": 2,
       "version_minor": 0
      },
      "text/plain": [
       "  0%|          | 0/20 [00:00<?, ?it/s]"
      ]
     },
     "metadata": {},
     "output_type": "display_data"
    },
    {
     "name": "stdout",
     "output_type": "stream",
     "text": [
      "`Forecaster` refitted using the best-found lags and parameters, and the whole data set: \n",
      "  Lags: [ 1  2  3  4  5  6  7  8  9 10 11 12 13 14 15 16 17 18 19 20 21 22 23 24\n",
      " 25 26 27 28 29 30 31 32 33 34 35 36 37 38 39 40 41 42 43 44 45 46 47 48\n",
      " 49 50 51 52 53 54 55 56 57 58 59 60 61 62 63 64 65 66 67 68 69 70 71 72] \n",
      "  Parameters: {'n_estimators': 1000, 'max_depth': 4, 'min_data_in_leaf': 98, 'learning_rate': 0.3889561822065921, 'feature_fraction': 0.6303137342241427, 'max_bin': 218, 'reg_alpha': 0.029607646016092393, 'reg_lambda': 0.42060598440750224}\n",
      "  Backtesting metric: 199.063094382838\n",
      "Fitting ARIMA model with order: [1, 0, 1] and seasonal order: [1, 1, 1, 24]\n"
     ]
    },
    {
     "name": "stderr",
     "output_type": "stream",
     "text": [
      "WARNING - (py.warnings._showwarnmsg) - c:\\Users\\au723200\\AppData\\Local\\Programs\\Python\\Python312\\Lib\\site-packages\\statsmodels\\base\\model.py:607: ConvergenceWarning: Maximum Likelihood optimization failed to converge. Check mle_retvals\n",
      "  warnings.warn(\"Maximum Likelihood optimization failed to \"\n",
      "\n",
      "WARNING:py.warnings:c:\\Users\\au723200\\AppData\\Local\\Programs\\Python\\Python312\\Lib\\site-packages\\statsmodels\\base\\model.py:607: ConvergenceWarning: Maximum Likelihood optimization failed to converge. Check mle_retvals\n",
      "  warnings.warn(\"Maximum Likelihood optimization failed to \"\n",
      "\n"
     ]
    },
    {
     "name": "stdout",
     "output_type": "stream",
     "text": [
      "Model fitted successfully.\n",
      "Forecasting with ARIMA model...\n",
      "Forecasting completed.\n"
     ]
    },
    {
     "data": {
      "application/vnd.jupyter.widget-view+json": {
       "model_id": "66cd2015577d4791bb269cdadcd9742a",
       "version_major": 2,
       "version_minor": 0
      },
      "text/plain": [
       "Finding best initial lr:   0%|          | 0/241 [00:00<?, ?it/s]"
      ]
     },
     "metadata": {},
     "output_type": "display_data"
    },
    {
     "data": {
      "application/vnd.jupyter.widget-view+json": {
       "model_id": "132d583faf1f4661bb1390a4953ac146",
       "version_major": 2,
       "version_minor": 0
      },
      "text/plain": [
       "Training: 0it [00:00, ?it/s]"
      ]
     },
     "metadata": {},
     "output_type": "display_data"
    },
    {
     "data": {
      "application/vnd.jupyter.widget-view+json": {
       "model_id": "4545b99f2c7a4944ac41b6cd6a783702",
       "version_major": 2,
       "version_minor": 0
      },
      "text/plain": [
       "Predicting: 65it [00:00, ?it/s]"
      ]
     },
     "metadata": {},
     "output_type": "display_data"
    },
    {
     "name": "stderr",
     "output_type": "stream",
     "text": [
      "INFO:nixtla.nixtla_client:Validating inputs...\n",
      "INFO:nixtla.nixtla_client:Inferred freq: h\n",
      "INFO:nixtla.nixtla_client:Preprocessing dataframes...\n",
      "INFO:nixtla.nixtla_client:Querying model metadata...\n",
      "WARNING:nixtla.nixtla_client:The specified horizon \"h\" exceeds the model horizon, this may lead to less accurate forecasts. Please consider using a smaller horizon.\n",
      "INFO:nixtla.nixtla_client:Using historical exogenous features: ['sun_area_23', 'sun_area_8', 'sun_area_34', 'sun_area_10', 'sun_area_16', 'sun_area_37', 'sun_area_25', 'sun_area_31', 'sun_area_6', 'sun_area_5', 'sun_area_3', 'sun_area_35', 'sun_area_17', 'wind_area_22', 'wind_area_35', 'wind_area_12', 'wind_area_9', 'wind_area_16', 'wind_area_31', 'wind_area_19', 'wind_area_32', 'wind_area_1', 'wind_area_2', 'wind_area_30', 'wind_area_10', 'wind_area_29', 'ds', 'unique_id']\n",
      "INFO:nixtla.nixtla_client:Calling Forecast Endpoint...\n"
     ]
    },
    {
     "name": "stdout",
     "output_type": "stream",
     "text": [
      "Running CV split 4/5 for feature group all_areas\n",
      "----------------------------------------------------------------------\n",
      "\n",
      "Overall Renewable Correlation:\n",
      "Original correlation: -0.7617\n",
      "Adjusted correlation: -0.8138\n",
      "Change: -0.0521\n",
      "----------------------------------------------------------------------\n",
      "\n",
      "Wind Correlation:\n",
      "Original correlation between prices and wind: -0.3258\n",
      "Adjusted correlation between prices and wind: -0.3717\n",
      "Change: -0.0459\n",
      "----------------------------------------------------------------------\n",
      "\n",
      "Sun Correlation:\n",
      "Original correlation between prices and sun: -0.7082\n",
      "Adjusted correlation between prices and sun: -0.7405\n",
      "Change: -0.0323\n",
      "----------------------------------------------------------------------\n"
     ]
    },
    {
     "data": {
      "application/vnd.jupyter.widget-view+json": {
       "model_id": "70862089af2b426b9cda701d417a863a",
       "version_major": 2,
       "version_minor": 0
      },
      "text/plain": [
       "  0%|          | 0/20 [00:00<?, ?it/s]"
      ]
     },
     "metadata": {},
     "output_type": "display_data"
    },
    {
     "name": "stdout",
     "output_type": "stream",
     "text": [
      "`Forecaster` refitted using the best-found lags and parameters, and the whole data set: \n",
      "  Lags: [ 1  2  3  4  5  6  7  8  9 10 11 12 13 14 15 16 17 18 19 20 21 22 23 24\n",
      " 25 26 27 28 29 30 31 32 33 34 35 36 37 38 39 40 41 42 43 44 45 46 47 48\n",
      " 49 50 51 52 53 54 55 56 57 58 59 60 61 62 63 64 65 66 67 68 69 70 71 72] \n",
      "  Parameters: {'n_estimators': 900, 'max_depth': 10, 'min_data_in_leaf': 27, 'learning_rate': 0.3732343204321192, 'feature_fraction': 0.5060288821740505, 'max_bin': 138, 'reg_alpha': 0.26952159055147545, 'reg_lambda': 0.4327777476949051}\n",
      "  Backtesting metric: 188.8437230692546\n",
      "Fitting ARIMA model with order: [1, 0, 1] and seasonal order: [1, 1, 1, 24]\n"
     ]
    },
    {
     "name": "stderr",
     "output_type": "stream",
     "text": [
      "WARNING - (py.warnings._showwarnmsg) - c:\\Users\\au723200\\AppData\\Local\\Programs\\Python\\Python312\\Lib\\site-packages\\statsmodels\\base\\model.py:607: ConvergenceWarning: Maximum Likelihood optimization failed to converge. Check mle_retvals\n",
      "  warnings.warn(\"Maximum Likelihood optimization failed to \"\n",
      "\n",
      "WARNING:py.warnings:c:\\Users\\au723200\\AppData\\Local\\Programs\\Python\\Python312\\Lib\\site-packages\\statsmodels\\base\\model.py:607: ConvergenceWarning: Maximum Likelihood optimization failed to converge. Check mle_retvals\n",
      "  warnings.warn(\"Maximum Likelihood optimization failed to \"\n",
      "\n"
     ]
    },
    {
     "name": "stdout",
     "output_type": "stream",
     "text": [
      "Model fitted successfully.\n",
      "Forecasting with ARIMA model...\n",
      "Forecasting completed.\n"
     ]
    },
    {
     "data": {
      "application/vnd.jupyter.widget-view+json": {
       "model_id": "70a080f030574a7e9bbf39410c2d3b02",
       "version_major": 2,
       "version_minor": 0
      },
      "text/plain": [
       "Finding best initial lr:   0%|          | 0/241 [00:00<?, ?it/s]"
      ]
     },
     "metadata": {},
     "output_type": "display_data"
    },
    {
     "data": {
      "application/vnd.jupyter.widget-view+json": {
       "model_id": "adb8988876094ea6911d6bad91c5cbf6",
       "version_major": 2,
       "version_minor": 0
      },
      "text/plain": [
       "Training: 0it [00:00, ?it/s]"
      ]
     },
     "metadata": {},
     "output_type": "display_data"
    },
    {
     "data": {
      "application/vnd.jupyter.widget-view+json": {
       "model_id": "ec7aa893696344ad8a8c4d8716406114",
       "version_major": 2,
       "version_minor": 0
      },
      "text/plain": [
       "Predicting: 65it [00:00, ?it/s]"
      ]
     },
     "metadata": {},
     "output_type": "display_data"
    },
    {
     "name": "stderr",
     "output_type": "stream",
     "text": [
      "INFO:nixtla.nixtla_client:Validating inputs...\n",
      "INFO:nixtla.nixtla_client:Inferred freq: h\n",
      "INFO:nixtla.nixtla_client:Preprocessing dataframes...\n",
      "INFO:nixtla.nixtla_client:Querying model metadata...\n",
      "WARNING:nixtla.nixtla_client:The specified horizon \"h\" exceeds the model horizon, this may lead to less accurate forecasts. Please consider using a smaller horizon.\n",
      "INFO:nixtla.nixtla_client:Using historical exogenous features: ['sun_area_23', 'sun_area_8', 'sun_area_34', 'sun_area_10', 'sun_area_16', 'sun_area_37', 'sun_area_25', 'sun_area_31', 'sun_area_6', 'sun_area_5', 'sun_area_3', 'sun_area_35', 'sun_area_17', 'wind_area_22', 'wind_area_35', 'wind_area_12', 'wind_area_9', 'wind_area_16', 'wind_area_31', 'wind_area_19', 'wind_area_32', 'wind_area_1', 'wind_area_2', 'wind_area_30', 'wind_area_10', 'wind_area_29', 'ds', 'unique_id']\n",
      "INFO:nixtla.nixtla_client:Calling Forecast Endpoint...\n"
     ]
    },
    {
     "name": "stdout",
     "output_type": "stream",
     "text": [
      "Running CV split 5/5 for feature group all_areas\n",
      "----------------------------------------------------------------------\n",
      "\n",
      "Overall Renewable Correlation:\n",
      "Original correlation: -0.6095\n",
      "Adjusted correlation: -0.7281\n",
      "Change: -0.1185\n",
      "----------------------------------------------------------------------\n",
      "\n",
      "Wind Correlation:\n",
      "Original correlation between prices and wind: -0.2166\n",
      "Adjusted correlation between prices and wind: -0.2935\n",
      "Change: -0.0770\n",
      "----------------------------------------------------------------------\n",
      "\n",
      "Sun Correlation:\n",
      "Original correlation between prices and sun: -0.5428\n",
      "Adjusted correlation between prices and sun: -0.6252\n",
      "Change: -0.0824\n",
      "----------------------------------------------------------------------\n"
     ]
    },
    {
     "data": {
      "application/vnd.jupyter.widget-view+json": {
       "model_id": "771991ffd1094749be4d5ab1344fb60e",
       "version_major": 2,
       "version_minor": 0
      },
      "text/plain": [
       "  0%|          | 0/20 [00:00<?, ?it/s]"
      ]
     },
     "metadata": {},
     "output_type": "display_data"
    },
    {
     "name": "stdout",
     "output_type": "stream",
     "text": [
      "`Forecaster` refitted using the best-found lags and parameters, and the whole data set: \n",
      "  Lags: [  1   2   3  23  24  25 167 168 169] \n",
      "  Parameters: {'n_estimators': 1000, 'max_depth': 9, 'min_data_in_leaf': 25, 'learning_rate': 0.09837377903135672, 'feature_fraction': 0.8999182324406598, 'max_bin': 52, 'reg_alpha': 0.18112786809839324, 'reg_lambda': 0.32121257564389666}\n",
      "  Backtesting metric: 188.56273357898917\n",
      "Fitting ARIMA model with order: [1, 0, 1] and seasonal order: [1, 1, 1, 24]\n"
     ]
    },
    {
     "name": "stderr",
     "output_type": "stream",
     "text": [
      "WARNING - (py.warnings._showwarnmsg) - c:\\Users\\au723200\\AppData\\Local\\Programs\\Python\\Python312\\Lib\\site-packages\\statsmodels\\base\\model.py:607: ConvergenceWarning: Maximum Likelihood optimization failed to converge. Check mle_retvals\n",
      "  warnings.warn(\"Maximum Likelihood optimization failed to \"\n",
      "\n",
      "WARNING:py.warnings:c:\\Users\\au723200\\AppData\\Local\\Programs\\Python\\Python312\\Lib\\site-packages\\statsmodels\\base\\model.py:607: ConvergenceWarning: Maximum Likelihood optimization failed to converge. Check mle_retvals\n",
      "  warnings.warn(\"Maximum Likelihood optimization failed to \"\n",
      "\n"
     ]
    },
    {
     "name": "stdout",
     "output_type": "stream",
     "text": [
      "Model fitted successfully.\n",
      "Forecasting with ARIMA model...\n",
      "Forecasting completed.\n"
     ]
    },
    {
     "data": {
      "application/vnd.jupyter.widget-view+json": {
       "model_id": "88437f12fbb04d1b9fa15b3c94bbbbdd",
       "version_major": 2,
       "version_minor": 0
      },
      "text/plain": [
       "Finding best initial lr:   0%|          | 0/241 [00:00<?, ?it/s]"
      ]
     },
     "metadata": {},
     "output_type": "display_data"
    },
    {
     "data": {
      "application/vnd.jupyter.widget-view+json": {
       "model_id": "996564d43e324f1a886bedc1f4a312c2",
       "version_major": 2,
       "version_minor": 0
      },
      "text/plain": [
       "Training: 0it [00:00, ?it/s]"
      ]
     },
     "metadata": {},
     "output_type": "display_data"
    },
    {
     "data": {
      "application/vnd.jupyter.widget-view+json": {
       "model_id": "8272dd2aeb9a45dfa28cdda215e4485d",
       "version_major": 2,
       "version_minor": 0
      },
      "text/plain": [
       "Predicting: 65it [00:00, ?it/s]"
      ]
     },
     "metadata": {},
     "output_type": "display_data"
    },
    {
     "name": "stderr",
     "output_type": "stream",
     "text": [
      "INFO:nixtla.nixtla_client:Validating inputs...\n",
      "INFO:nixtla.nixtla_client:Inferred freq: h\n",
      "INFO:nixtla.nixtla_client:Preprocessing dataframes...\n",
      "INFO:nixtla.nixtla_client:Querying model metadata...\n",
      "WARNING:nixtla.nixtla_client:The specified horizon \"h\" exceeds the model horizon, this may lead to less accurate forecasts. Please consider using a smaller horizon.\n",
      "INFO:nixtla.nixtla_client:Using historical exogenous features: ['sun_area_23', 'sun_area_8', 'sun_area_34', 'sun_area_10', 'sun_area_16', 'sun_area_37', 'sun_area_25', 'sun_area_31', 'sun_area_6', 'sun_area_5', 'sun_area_3', 'sun_area_35', 'sun_area_17', 'wind_area_22', 'wind_area_35', 'wind_area_12', 'wind_area_9', 'wind_area_16', 'wind_area_31', 'wind_area_19', 'wind_area_32', 'wind_area_1', 'wind_area_2', 'wind_area_30', 'wind_area_10', 'wind_area_29', 'ds', 'unique_id']\n",
      "INFO:nixtla.nixtla_client:Calling Forecast Endpoint...\n"
     ]
    },
    {
     "name": "stdout",
     "output_type": "stream",
     "text": [
      "==================================================\n",
      "MAE:\n",
      "                     BASELINE                LGBM               ARIMA  \\\n",
      "all_areas  201.3229 ± 64.7151  157.5023 ± 37.3734  142.7507 ± 46.4815   \n",
      "\n",
      "                NEURALPROPHET              TimeGPT  \n",
      "all_areas  193.9902 ± 78.3697  401.2833 ± 191.2049  \n",
      "RMSE\n",
      "                     BASELINE                LGBM               ARIMA  \\\n",
      "all_areas  260.1812 ± 87.5927  196.7713 ± 42.5147  187.2377 ± 55.3338   \n",
      "\n",
      "                NEURALPROPHET              TimeGPT  \n",
      "all_areas  244.1989 ± 84.6335  460.0641 ± 174.9253  \n",
      "Elapsed time\n",
      "                  BASELINE              LGBM               ARIMA  \\\n",
      "all_areas  0.0091 ± 0.0008  83.1269 ± 5.4557  218.0722 ± 16.5258   \n",
      "\n",
      "               NEURALPROPHET            TimeGPT  \n",
      "all_areas  134.5401 ± 6.0048  23.6074 ± 27.4221  \n",
      "==================================================\n",
      "Saved feature group results to ../results/manipulate/point3_20250516_102406.csv\n"
     ]
    }
   ],
   "source": [
    "data = Dataretreiver(reduce='pca_kmeans', debug=False, reduction_num_cols=13)\n",
    "df = data.combined\n",
    "# Initialize the experiment\n",
    "experiment = EnhancedTimeSeriesExperiment(\n",
    "    models=models,\n",
    "    target_column='price',\n",
    "    forecast_horizon=192,\n",
    "    n_splits=5,\n",
    "    step_size=192 # 8 days are skipped between each forecast.\n",
    ")\n",
    "# Run the experiments with these custom combinations\n",
    "experiment.run_feature_group_experiments(\n",
    "    df=df,\n",
    "    add_all_columns=True,\n",
    "    add_base_columns=False,\n",
    "    manipulate=True,\n",
    "    manipulate_factor_sun=0.3,\n",
    "    manipulate_factor_wind=0.3,\n",
    "    \n",
    ")\n",
    "results_df_MAE = experiment.summarize_feature_group_results(metric='MAE')\n",
    "results_df_MSE = experiment.summarize_feature_group_results(metric='RMSE')\n",
    "results_df_time = experiment.summarize_feature_group_results(metric='elapsed_time')\n",
    "print('='*50)\n",
    "print(\"MAE:\")\n",
    "print(results_df_MAE)\n",
    "print(\"RMSE\")\n",
    "print(results_df_MSE)\n",
    "print(\"Elapsed time\")\n",
    "print(results_df_time)\n",
    "print('='*50)\n",
    "\n",
    "experiment.save_feature_group_results_to_csv(f\"../results/manipulate/point3.csv\")"
   ]
  },
  {
   "cell_type": "markdown",
   "id": "ddd3af34",
   "metadata": {},
   "source": [
    "# Experiment 4\n",
    "X reduction. Massive manipulated data."
   ]
  },
  {
   "cell_type": "code",
   "execution_count": 8,
   "id": "bcaac807",
   "metadata": {},
   "outputs": [
    {
     "name": "stderr",
     "output_type": "stream",
     "text": [
      "WARNING - (py.warnings._showwarnmsg) - C:\\Users/au723200/FEPCEU\\data\\data_retriever.py:163: FutureWarning: 'H' is deprecated and will be removed in a future version, please use 'h' instead.\n",
      "  df = df.resample('H').ffill()\n",
      "\n",
      "WARNING:py.warnings:C:\\Users/au723200/FEPCEU\\data\\data_retriever.py:163: FutureWarning: 'H' is deprecated and will be removed in a future version, please use 'h' instead.\n",
      "  df = df.resample('H').ffill()\n",
      "\n",
      "WARNING - (py.warnings._showwarnmsg) - C:\\Users/au723200/FEPCEU\\data\\data_retriever.py:164: FutureWarning: DataFrame.fillna with 'method' is deprecated and will raise in a future version. Use obj.ffill() or obj.bfill() instead.\n",
      "  df.fillna(method='ffill', inplace=True)\n",
      "\n",
      "WARNING:py.warnings:C:\\Users/au723200/FEPCEU\\data\\data_retriever.py:164: FutureWarning: DataFrame.fillna with 'method' is deprecated and will raise in a future version. Use obj.ffill() or obj.bfill() instead.\n",
      "  df.fillna(method='ffill', inplace=True)\n",
      "\n",
      "WARNING - (py.warnings._showwarnmsg) - C:\\Users/au723200/FEPCEU\\data\\data_retriever.py:173: FutureWarning: 'H' is deprecated and will be removed in a future version, please use 'h' instead.\n",
      "  complete_date_range = pd.date_range(start=start_date, end=end_date, freq='H')\n",
      "\n",
      "WARNING:py.warnings:C:\\Users/au723200/FEPCEU\\data\\data_retriever.py:173: FutureWarning: 'H' is deprecated and will be removed in a future version, please use 'h' instead.\n",
      "  complete_date_range = pd.date_range(start=start_date, end=end_date, freq='H')\n",
      "\n",
      "WARNING - (py.warnings._showwarnmsg) - C:\\Users/au723200/FEPCEU\\data\\data_retriever.py:209: FutureWarning: 'H' is deprecated and will be removed in a future version, please use 'h' instead.\n",
      "  df = df.resample('H').ffill()\n",
      "\n",
      "WARNING:py.warnings:C:\\Users/au723200/FEPCEU\\data\\data_retriever.py:209: FutureWarning: 'H' is deprecated and will be removed in a future version, please use 'h' instead.\n",
      "  df = df.resample('H').ffill()\n",
      "\n",
      "WARNING - (py.warnings._showwarnmsg) - C:\\Users/au723200/FEPCEU\\data\\data_retriever.py:209: FutureWarning: 'H' is deprecated and will be removed in a future version, please use 'h' instead.\n",
      "  df = df.resample('H').ffill()\n",
      "\n",
      "WARNING:py.warnings:C:\\Users/au723200/FEPCEU\\data\\data_retriever.py:209: FutureWarning: 'H' is deprecated and will be removed in a future version, please use 'h' instead.\n",
      "  df = df.resample('H').ffill()\n",
      "\n",
      "WARNING - (py.warnings._showwarnmsg) - C:\\Users/au723200/FEPCEU\\data\\data_retriever.py:209: FutureWarning: 'H' is deprecated and will be removed in a future version, please use 'h' instead.\n",
      "  df = df.resample('H').ffill()\n",
      "\n",
      "WARNING:py.warnings:C:\\Users/au723200/FEPCEU\\data\\data_retriever.py:209: FutureWarning: 'H' is deprecated and will be removed in a future version, please use 'h' instead.\n",
      "  df = df.resample('H').ffill()\n",
      "\n"
     ]
    },
    {
     "name": "stdout",
     "output_type": "stream",
     "text": [
      "Identified area columns: {'sun': {23: 'sun_area_23', 8: 'sun_area_8', 39: 'sun_area_39', 9: 'sun_area_9', 19: 'sun_area_19', 33: 'sun_area_33', 6: 'sun_area_6', 36: 'sun_area_36', 29: 'sun_area_29', 2: 'sun_area_2', 35: 'sun_area_35', 17: 'sun_area_17', 21: 'sun_area_21'}, 'wind': {22: 'wind_area_22', 35: 'wind_area_35', 12: 'wind_area_12', 9: 'wind_area_9', 16: 'wind_area_16', 31: 'wind_area_31', 19: 'wind_area_19', 32: 'wind_area_32', 1: 'wind_area_1', 2: 'wind_area_2', 25: 'wind_area_25', 10: 'wind_area_10', 24: 'wind_area_24'}}\n",
      "Cross-validation splits with sliding window:\n",
      "Split 1: Train start = 2024-01-01 00:00:00 (index 0), Train end = 2024-06-29 20:00:00 (index 4340), Test end = 2024-07-07 19:00:00 (index 4531), Training size = 4340\n",
      "Split 2: Train start = 2024-01-09 00:00:00 (index 192), Train end = 2024-07-07 20:00:00 (index 4532), Test end = 2024-07-15 19:00:00 (index 4723), Training size = 4340\n",
      "Split 3: Train start = 2024-01-17 00:00:00 (index 384), Train end = 2024-07-15 20:00:00 (index 4724), Test end = 2024-07-23 19:00:00 (index 4915), Training size = 4340\n",
      "Split 4: Train start = 2024-01-25 00:00:00 (index 576), Train end = 2024-07-23 20:00:00 (index 4916), Test end = 2024-07-31 19:00:00 (index 5107), Training size = 4340\n",
      "Split 5: Train start = 2024-02-02 00:00:00 (index 768), Train end = 2024-07-31 20:00:00 (index 5108), Test end = 2024-08-08 19:00:00 (index 5299), Training size = 4340\n",
      "\n",
      "================================================================================\n",
      "Running experiment for feature group: all_areas\n",
      "Using columns: ['sun_area_23', 'sun_area_8', 'sun_area_39', 'sun_area_9', 'sun_area_19', 'sun_area_33', 'sun_area_6', 'sun_area_36', 'sun_area_29', 'sun_area_2', 'sun_area_35', 'sun_area_17', 'sun_area_21', 'wind_area_22', 'wind_area_35', 'wind_area_12', 'wind_area_9', 'wind_area_16', 'wind_area_31', 'wind_area_19', 'wind_area_32', 'wind_area_1', 'wind_area_2', 'wind_area_25', 'wind_area_10', 'wind_area_24']\n",
      "Running CV split 1/5 for feature group all_areas\n",
      "----------------------------------------------------------------------\n",
      "\n",
      "Overall Renewable Correlation:\n",
      "Original correlation: -0.5443\n",
      "Adjusted correlation: -0.6487\n",
      "Change: -0.1044\n",
      "----------------------------------------------------------------------\n",
      "\n",
      "Wind Correlation:\n",
      "Original correlation between prices and wind: -0.5395\n",
      "Adjusted correlation between prices and wind: -0.5971\n",
      "Change: -0.0577\n",
      "----------------------------------------------------------------------\n",
      "\n",
      "Sun Correlation:\n",
      "Original correlation between prices and sun: -0.3188\n",
      "Adjusted correlation between prices and sun: -0.4193\n",
      "Change: -0.1005\n",
      "----------------------------------------------------------------------\n"
     ]
    },
    {
     "data": {
      "application/vnd.jupyter.widget-view+json": {
       "model_id": "822824b93d2b48c18a4ea3529afc39eb",
       "version_major": 2,
       "version_minor": 0
      },
      "text/plain": [
       "  0%|          | 0/20 [00:00<?, ?it/s]"
      ]
     },
     "metadata": {},
     "output_type": "display_data"
    },
    {
     "name": "stdout",
     "output_type": "stream",
     "text": [
      "`Forecaster` refitted using the best-found lags and parameters, and the whole data set: \n",
      "  Lags: [  1   2   3  23  24  25 167 168 169] \n",
      "  Parameters: {'n_estimators': 700, 'max_depth': 8, 'min_data_in_leaf': 28, 'learning_rate': 0.1304758710430311, 'feature_fraction': 0.6688521921397169, 'max_bin': 145, 'reg_alpha': 0.28470912097239576, 'reg_lambda': 0.41590732676882275}\n",
      "  Backtesting metric: 202.65597326832875\n",
      "Fitting ARIMA model with order: [1, 0, 1] and seasonal order: [1, 1, 1, 24]\n"
     ]
    },
    {
     "name": "stderr",
     "output_type": "stream",
     "text": [
      "WARNING - (py.warnings._showwarnmsg) - c:\\Users\\au723200\\AppData\\Local\\Programs\\Python\\Python312\\Lib\\site-packages\\statsmodels\\base\\model.py:607: ConvergenceWarning: Maximum Likelihood optimization failed to converge. Check mle_retvals\n",
      "  warnings.warn(\"Maximum Likelihood optimization failed to \"\n",
      "\n",
      "WARNING:py.warnings:c:\\Users\\au723200\\AppData\\Local\\Programs\\Python\\Python312\\Lib\\site-packages\\statsmodels\\base\\model.py:607: ConvergenceWarning: Maximum Likelihood optimization failed to converge. Check mle_retvals\n",
      "  warnings.warn(\"Maximum Likelihood optimization failed to \"\n",
      "\n"
     ]
    },
    {
     "name": "stdout",
     "output_type": "stream",
     "text": [
      "Model fitted successfully.\n",
      "Forecasting with ARIMA model...\n",
      "Forecasting completed.\n"
     ]
    },
    {
     "data": {
      "application/vnd.jupyter.widget-view+json": {
       "model_id": "56c4df9d762d4998b5da53531a536fa6",
       "version_major": 2,
       "version_minor": 0
      },
      "text/plain": [
       "Finding best initial lr:   0%|          | 0/241 [00:00<?, ?it/s]"
      ]
     },
     "metadata": {},
     "output_type": "display_data"
    },
    {
     "data": {
      "application/vnd.jupyter.widget-view+json": {
       "model_id": "268b03975f034b3e8c13c165f184dd9d",
       "version_major": 2,
       "version_minor": 0
      },
      "text/plain": [
       "Training: 0it [00:00, ?it/s]"
      ]
     },
     "metadata": {},
     "output_type": "display_data"
    },
    {
     "data": {
      "application/vnd.jupyter.widget-view+json": {
       "model_id": "1ae202fc03ac4abfb687ab9bda3b6adc",
       "version_major": 2,
       "version_minor": 0
      },
      "text/plain": [
       "Predicting: 65it [00:00, ?it/s]"
      ]
     },
     "metadata": {},
     "output_type": "display_data"
    },
    {
     "name": "stderr",
     "output_type": "stream",
     "text": [
      "INFO:nixtla.nixtla_client:Validating inputs...\n",
      "INFO:nixtla.nixtla_client:Inferred freq: h\n",
      "INFO:nixtla.nixtla_client:Preprocessing dataframes...\n",
      "INFO:nixtla.nixtla_client:Querying model metadata...\n",
      "WARNING:nixtla.nixtla_client:The specified horizon \"h\" exceeds the model horizon, this may lead to less accurate forecasts. Please consider using a smaller horizon.\n",
      "INFO:nixtla.nixtla_client:Using historical exogenous features: ['sun_area_23', 'sun_area_8', 'sun_area_39', 'sun_area_9', 'sun_area_19', 'sun_area_33', 'sun_area_6', 'sun_area_36', 'sun_area_29', 'sun_area_2', 'sun_area_35', 'sun_area_17', 'sun_area_21', 'wind_area_22', 'wind_area_35', 'wind_area_12', 'wind_area_9', 'wind_area_16', 'wind_area_31', 'wind_area_19', 'wind_area_32', 'wind_area_1', 'wind_area_2', 'wind_area_25', 'wind_area_10', 'wind_area_24', 'ds', 'unique_id']\n",
      "INFO:nixtla.nixtla_client:Calling Forecast Endpoint...\n"
     ]
    },
    {
     "name": "stdout",
     "output_type": "stream",
     "text": [
      "Running CV split 2/5 for feature group all_areas\n",
      "----------------------------------------------------------------------\n",
      "\n",
      "Overall Renewable Correlation:\n",
      "Original correlation: -0.6847\n",
      "Adjusted correlation: -0.7859\n",
      "Change: -0.1013\n",
      "----------------------------------------------------------------------\n",
      "\n",
      "Wind Correlation:\n",
      "Original correlation between prices and wind: -0.5322\n",
      "Adjusted correlation between prices and wind: -0.5953\n",
      "Change: -0.0631\n",
      "----------------------------------------------------------------------\n",
      "\n",
      "Sun Correlation:\n",
      "Original correlation between prices and sun: -0.4079\n",
      "Adjusted correlation between prices and sun: -0.4821\n",
      "Change: -0.0742\n",
      "----------------------------------------------------------------------\n"
     ]
    },
    {
     "data": {
      "application/vnd.jupyter.widget-view+json": {
       "model_id": "a2329e457d8641c68704ef2fef65d1d8",
       "version_major": 2,
       "version_minor": 0
      },
      "text/plain": [
       "  0%|          | 0/20 [00:00<?, ?it/s]"
      ]
     },
     "metadata": {},
     "output_type": "display_data"
    },
    {
     "name": "stdout",
     "output_type": "stream",
     "text": [
      "`Forecaster` refitted using the best-found lags and parameters, and the whole data set: \n",
      "  Lags: [ 1  2  3  4  5  6  7  8  9 10 11 12 13 14 15 16 17 18 19 20 21 22 23 24\n",
      " 25 26 27 28 29 30 31 32 33 34 35 36 37 38 39 40 41 42 43 44 45 46 47 48\n",
      " 49 50 51 52 53 54 55 56 57 58 59 60 61 62 63 64 65 66 67 68 69 70 71 72] \n",
      "  Parameters: {'n_estimators': 1000, 'max_depth': 3, 'min_data_in_leaf': 141, 'learning_rate': 0.3071113078927908, 'feature_fraction': 0.8594596364484144, 'max_bin': 132, 'reg_alpha': 0.8646268187145626, 'reg_lambda': 0.08302077457756918}\n",
      "  Backtesting metric: 191.6254622963154\n",
      "Fitting ARIMA model with order: [1, 0, 1] and seasonal order: [1, 1, 1, 24]\n"
     ]
    },
    {
     "name": "stderr",
     "output_type": "stream",
     "text": [
      "WARNING - (py.warnings._showwarnmsg) - c:\\Users\\au723200\\AppData\\Local\\Programs\\Python\\Python312\\Lib\\site-packages\\statsmodels\\base\\model.py:607: ConvergenceWarning: Maximum Likelihood optimization failed to converge. Check mle_retvals\n",
      "  warnings.warn(\"Maximum Likelihood optimization failed to \"\n",
      "\n",
      "WARNING:py.warnings:c:\\Users\\au723200\\AppData\\Local\\Programs\\Python\\Python312\\Lib\\site-packages\\statsmodels\\base\\model.py:607: ConvergenceWarning: Maximum Likelihood optimization failed to converge. Check mle_retvals\n",
      "  warnings.warn(\"Maximum Likelihood optimization failed to \"\n",
      "\n"
     ]
    },
    {
     "name": "stdout",
     "output_type": "stream",
     "text": [
      "Model fitted successfully.\n",
      "Forecasting with ARIMA model...\n",
      "Forecasting completed.\n"
     ]
    },
    {
     "data": {
      "application/vnd.jupyter.widget-view+json": {
       "model_id": "06f0ab549c304ba9ba549fd1c435c7a4",
       "version_major": 2,
       "version_minor": 0
      },
      "text/plain": [
       "Finding best initial lr:   0%|          | 0/241 [00:00<?, ?it/s]"
      ]
     },
     "metadata": {},
     "output_type": "display_data"
    },
    {
     "data": {
      "application/vnd.jupyter.widget-view+json": {
       "model_id": "30137950f09a41758bdf22348f6765a0",
       "version_major": 2,
       "version_minor": 0
      },
      "text/plain": [
       "Training: 0it [00:00, ?it/s]"
      ]
     },
     "metadata": {},
     "output_type": "display_data"
    },
    {
     "data": {
      "application/vnd.jupyter.widget-view+json": {
       "model_id": "03a645605947435db7e858a4c2f40a12",
       "version_major": 2,
       "version_minor": 0
      },
      "text/plain": [
       "Predicting: 65it [00:00, ?it/s]"
      ]
     },
     "metadata": {},
     "output_type": "display_data"
    },
    {
     "name": "stderr",
     "output_type": "stream",
     "text": [
      "INFO:nixtla.nixtla_client:Validating inputs...\n",
      "INFO:nixtla.nixtla_client:Inferred freq: h\n",
      "INFO:nixtla.nixtla_client:Preprocessing dataframes...\n",
      "INFO:nixtla.nixtla_client:Querying model metadata...\n",
      "WARNING:nixtla.nixtla_client:The specified horizon \"h\" exceeds the model horizon, this may lead to less accurate forecasts. Please consider using a smaller horizon.\n",
      "INFO:nixtla.nixtla_client:Using historical exogenous features: ['sun_area_23', 'sun_area_8', 'sun_area_39', 'sun_area_9', 'sun_area_19', 'sun_area_33', 'sun_area_6', 'sun_area_36', 'sun_area_29', 'sun_area_2', 'sun_area_35', 'sun_area_17', 'sun_area_21', 'wind_area_22', 'wind_area_35', 'wind_area_12', 'wind_area_9', 'wind_area_16', 'wind_area_31', 'wind_area_19', 'wind_area_32', 'wind_area_1', 'wind_area_2', 'wind_area_25', 'wind_area_10', 'wind_area_24', 'ds', 'unique_id']\n",
      "INFO:nixtla.nixtla_client:Calling Forecast Endpoint...\n"
     ]
    },
    {
     "name": "stdout",
     "output_type": "stream",
     "text": [
      "Running CV split 3/5 for feature group all_areas\n",
      "----------------------------------------------------------------------\n",
      "\n",
      "Overall Renewable Correlation:\n",
      "Original correlation: -0.5623\n",
      "Adjusted correlation: -0.7405\n",
      "Change: -0.1782\n",
      "----------------------------------------------------------------------\n",
      "\n",
      "Wind Correlation:\n",
      "Original correlation between prices and wind: -0.1773\n",
      "Adjusted correlation between prices and wind: -0.3970\n",
      "Change: -0.2197\n",
      "----------------------------------------------------------------------\n",
      "\n",
      "Sun Correlation:\n",
      "Original correlation between prices and sun: -0.5987\n",
      "Adjusted correlation between prices and sun: -0.6385\n",
      "Change: -0.0398\n",
      "----------------------------------------------------------------------\n"
     ]
    },
    {
     "data": {
      "application/vnd.jupyter.widget-view+json": {
       "model_id": "f491e7e9890648ee8ce78806f04a3d4f",
       "version_major": 2,
       "version_minor": 0
      },
      "text/plain": [
       "  0%|          | 0/20 [00:00<?, ?it/s]"
      ]
     },
     "metadata": {},
     "output_type": "display_data"
    },
    {
     "name": "stdout",
     "output_type": "stream",
     "text": [
      "`Forecaster` refitted using the best-found lags and parameters, and the whole data set: \n",
      "  Lags: [ 1  2  3  4  5  6  7  8  9 10 11 12 13 14 15 16 17 18 19 20 21 22 23 24\n",
      " 25 26 27 28 29 30 31 32 33 34 35 36 37 38 39 40 41 42 43 44 45 46 47 48\n",
      " 49 50 51 52 53 54 55 56 57 58 59 60 61 62 63 64 65 66 67 68 69 70 71 72] \n",
      "  Parameters: {'n_estimators': 1000, 'max_depth': 4, 'min_data_in_leaf': 98, 'learning_rate': 0.3958771655876468, 'feature_fraction': 0.5842437584538303, 'max_bin': 218, 'reg_alpha': 0.011136800699511618, 'reg_lambda': 0.24624364338197002}\n",
      "  Backtesting metric: 194.5330026353947\n",
      "Fitting ARIMA model with order: [1, 0, 1] and seasonal order: [1, 1, 1, 24]\n"
     ]
    },
    {
     "name": "stderr",
     "output_type": "stream",
     "text": [
      "WARNING - (py.warnings._showwarnmsg) - c:\\Users\\au723200\\AppData\\Local\\Programs\\Python\\Python312\\Lib\\site-packages\\statsmodels\\base\\model.py:607: ConvergenceWarning: Maximum Likelihood optimization failed to converge. Check mle_retvals\n",
      "  warnings.warn(\"Maximum Likelihood optimization failed to \"\n",
      "\n",
      "WARNING:py.warnings:c:\\Users\\au723200\\AppData\\Local\\Programs\\Python\\Python312\\Lib\\site-packages\\statsmodels\\base\\model.py:607: ConvergenceWarning: Maximum Likelihood optimization failed to converge. Check mle_retvals\n",
      "  warnings.warn(\"Maximum Likelihood optimization failed to \"\n",
      "\n"
     ]
    },
    {
     "name": "stdout",
     "output_type": "stream",
     "text": [
      "Model fitted successfully.\n",
      "Forecasting with ARIMA model...\n",
      "Forecasting completed.\n"
     ]
    },
    {
     "data": {
      "application/vnd.jupyter.widget-view+json": {
       "model_id": "d57af74135214b4fba8523bbf2b6df44",
       "version_major": 2,
       "version_minor": 0
      },
      "text/plain": [
       "Finding best initial lr:   0%|          | 0/241 [00:00<?, ?it/s]"
      ]
     },
     "metadata": {},
     "output_type": "display_data"
    },
    {
     "data": {
      "application/vnd.jupyter.widget-view+json": {
       "model_id": "fc68e592fbe245afa091e16668088dff",
       "version_major": 2,
       "version_minor": 0
      },
      "text/plain": [
       "Training: 0it [00:00, ?it/s]"
      ]
     },
     "metadata": {},
     "output_type": "display_data"
    },
    {
     "data": {
      "application/vnd.jupyter.widget-view+json": {
       "model_id": "ee9345b840dd4eb586561a80cf750628",
       "version_major": 2,
       "version_minor": 0
      },
      "text/plain": [
       "Predicting: 65it [00:00, ?it/s]"
      ]
     },
     "metadata": {},
     "output_type": "display_data"
    },
    {
     "name": "stderr",
     "output_type": "stream",
     "text": [
      "INFO:nixtla.nixtla_client:Validating inputs...\n",
      "INFO:nixtla.nixtla_client:Inferred freq: h\n",
      "INFO:nixtla.nixtla_client:Preprocessing dataframes...\n",
      "INFO:nixtla.nixtla_client:Querying model metadata...\n",
      "WARNING:nixtla.nixtla_client:The specified horizon \"h\" exceeds the model horizon, this may lead to less accurate forecasts. Please consider using a smaller horizon.\n",
      "INFO:nixtla.nixtla_client:Using historical exogenous features: ['sun_area_23', 'sun_area_8', 'sun_area_39', 'sun_area_9', 'sun_area_19', 'sun_area_33', 'sun_area_6', 'sun_area_36', 'sun_area_29', 'sun_area_2', 'sun_area_35', 'sun_area_17', 'sun_area_21', 'wind_area_22', 'wind_area_35', 'wind_area_12', 'wind_area_9', 'wind_area_16', 'wind_area_31', 'wind_area_19', 'wind_area_32', 'wind_area_1', 'wind_area_2', 'wind_area_25', 'wind_area_10', 'wind_area_24', 'ds', 'unique_id']\n",
      "INFO:nixtla.nixtla_client:Calling Forecast Endpoint...\n"
     ]
    },
    {
     "name": "stdout",
     "output_type": "stream",
     "text": [
      "Running CV split 4/5 for feature group all_areas\n",
      "----------------------------------------------------------------------\n",
      "\n",
      "Overall Renewable Correlation:\n",
      "Original correlation: -0.7648\n",
      "Adjusted correlation: -0.8413\n",
      "Change: -0.0765\n",
      "----------------------------------------------------------------------\n",
      "\n",
      "Wind Correlation:\n",
      "Original correlation between prices and wind: -0.3313\n",
      "Adjusted correlation between prices and wind: -0.4169\n",
      "Change: -0.0856\n",
      "----------------------------------------------------------------------\n",
      "\n",
      "Sun Correlation:\n",
      "Original correlation between prices and sun: -0.7047\n",
      "Adjusted correlation between prices and sun: -0.7396\n",
      "Change: -0.0348\n",
      "----------------------------------------------------------------------\n"
     ]
    },
    {
     "data": {
      "application/vnd.jupyter.widget-view+json": {
       "model_id": "1bfe606088df4f20bee14f2874d67023",
       "version_major": 2,
       "version_minor": 0
      },
      "text/plain": [
       "  0%|          | 0/20 [00:00<?, ?it/s]"
      ]
     },
     "metadata": {},
     "output_type": "display_data"
    },
    {
     "name": "stdout",
     "output_type": "stream",
     "text": [
      "`Forecaster` refitted using the best-found lags and parameters, and the whole data set: \n",
      "  Lags: [  1   2   3  23  24  25 167 168 169] \n",
      "  Parameters: {'n_estimators': 800, 'max_depth': 3, 'min_data_in_leaf': 36, 'learning_rate': 0.3457694489223766, 'feature_fraction': 0.5011369857069405, 'max_bin': 250, 'reg_alpha': 0.82769454819645, 'reg_lambda': 0.35263538940871203}\n",
      "  Backtesting metric: 196.96049347408365\n",
      "Fitting ARIMA model with order: [1, 0, 1] and seasonal order: [1, 1, 1, 24]\n"
     ]
    },
    {
     "name": "stderr",
     "output_type": "stream",
     "text": [
      "WARNING - (py.warnings._showwarnmsg) - c:\\Users\\au723200\\AppData\\Local\\Programs\\Python\\Python312\\Lib\\site-packages\\statsmodels\\base\\model.py:607: ConvergenceWarning: Maximum Likelihood optimization failed to converge. Check mle_retvals\n",
      "  warnings.warn(\"Maximum Likelihood optimization failed to \"\n",
      "\n",
      "WARNING:py.warnings:c:\\Users\\au723200\\AppData\\Local\\Programs\\Python\\Python312\\Lib\\site-packages\\statsmodels\\base\\model.py:607: ConvergenceWarning: Maximum Likelihood optimization failed to converge. Check mle_retvals\n",
      "  warnings.warn(\"Maximum Likelihood optimization failed to \"\n",
      "\n"
     ]
    },
    {
     "name": "stdout",
     "output_type": "stream",
     "text": [
      "Model fitted successfully.\n",
      "Forecasting with ARIMA model...\n",
      "Forecasting completed.\n"
     ]
    },
    {
     "data": {
      "application/vnd.jupyter.widget-view+json": {
       "model_id": "3d497c7c989a4b7e9b44ab54599f0001",
       "version_major": 2,
       "version_minor": 0
      },
      "text/plain": [
       "Finding best initial lr:   0%|          | 0/241 [00:00<?, ?it/s]"
      ]
     },
     "metadata": {},
     "output_type": "display_data"
    },
    {
     "data": {
      "application/vnd.jupyter.widget-view+json": {
       "model_id": "3622e018a3994bf2b4bac0ce70450e95",
       "version_major": 2,
       "version_minor": 0
      },
      "text/plain": [
       "Training: 0it [00:00, ?it/s]"
      ]
     },
     "metadata": {},
     "output_type": "display_data"
    },
    {
     "data": {
      "application/vnd.jupyter.widget-view+json": {
       "model_id": "d97214719e164ba7a90c8b900e0dfc18",
       "version_major": 2,
       "version_minor": 0
      },
      "text/plain": [
       "Predicting: 65it [00:00, ?it/s]"
      ]
     },
     "metadata": {},
     "output_type": "display_data"
    },
    {
     "name": "stderr",
     "output_type": "stream",
     "text": [
      "INFO:nixtla.nixtla_client:Validating inputs...\n",
      "INFO:nixtla.nixtla_client:Inferred freq: h\n",
      "INFO:nixtla.nixtla_client:Preprocessing dataframes...\n",
      "INFO:nixtla.nixtla_client:Querying model metadata...\n",
      "WARNING:nixtla.nixtla_client:The specified horizon \"h\" exceeds the model horizon, this may lead to less accurate forecasts. Please consider using a smaller horizon.\n",
      "INFO:nixtla.nixtla_client:Using historical exogenous features: ['sun_area_23', 'sun_area_8', 'sun_area_39', 'sun_area_9', 'sun_area_19', 'sun_area_33', 'sun_area_6', 'sun_area_36', 'sun_area_29', 'sun_area_2', 'sun_area_35', 'sun_area_17', 'sun_area_21', 'wind_area_22', 'wind_area_35', 'wind_area_12', 'wind_area_9', 'wind_area_16', 'wind_area_31', 'wind_area_19', 'wind_area_32', 'wind_area_1', 'wind_area_2', 'wind_area_25', 'wind_area_10', 'wind_area_24', 'ds', 'unique_id']\n",
      "INFO:nixtla.nixtla_client:Calling Forecast Endpoint...\n"
     ]
    },
    {
     "name": "stdout",
     "output_type": "stream",
     "text": [
      "Running CV split 5/5 for feature group all_areas\n",
      "----------------------------------------------------------------------\n",
      "\n",
      "Overall Renewable Correlation:\n",
      "Original correlation: -0.6170\n",
      "Adjusted correlation: -0.7717\n",
      "Change: -0.1546\n",
      "----------------------------------------------------------------------\n",
      "\n",
      "Wind Correlation:\n",
      "Original correlation between prices and wind: -0.2364\n",
      "Adjusted correlation between prices and wind: -0.3461\n",
      "Change: -0.1097\n",
      "----------------------------------------------------------------------\n",
      "\n",
      "Sun Correlation:\n",
      "Original correlation between prices and sun: -0.5342\n",
      "Adjusted correlation between prices and sun: -0.6331\n",
      "Change: -0.0989\n",
      "----------------------------------------------------------------------\n"
     ]
    },
    {
     "data": {
      "application/vnd.jupyter.widget-view+json": {
       "model_id": "ed40ddb5078444b8a1fe25104afc6fae",
       "version_major": 2,
       "version_minor": 0
      },
      "text/plain": [
       "  0%|          | 0/20 [00:00<?, ?it/s]"
      ]
     },
     "metadata": {},
     "output_type": "display_data"
    },
    {
     "name": "stdout",
     "output_type": "stream",
     "text": [
      "`Forecaster` refitted using the best-found lags and parameters, and the whole data set: \n",
      "  Lags: [  1   2   3  23  24  25 167 168 169] \n",
      "  Parameters: {'n_estimators': 800, 'max_depth': 3, 'min_data_in_leaf': 36, 'learning_rate': 0.3457694489223766, 'feature_fraction': 0.5011369857069405, 'max_bin': 250, 'reg_alpha': 0.82769454819645, 'reg_lambda': 0.35263538940871203}\n",
      "  Backtesting metric: 194.97628229076633\n",
      "Fitting ARIMA model with order: [1, 0, 1] and seasonal order: [1, 1, 1, 24]\n"
     ]
    },
    {
     "name": "stderr",
     "output_type": "stream",
     "text": [
      "WARNING - (py.warnings._showwarnmsg) - c:\\Users\\au723200\\AppData\\Local\\Programs\\Python\\Python312\\Lib\\site-packages\\statsmodels\\base\\model.py:607: ConvergenceWarning: Maximum Likelihood optimization failed to converge. Check mle_retvals\n",
      "  warnings.warn(\"Maximum Likelihood optimization failed to \"\n",
      "\n",
      "WARNING:py.warnings:c:\\Users\\au723200\\AppData\\Local\\Programs\\Python\\Python312\\Lib\\site-packages\\statsmodels\\base\\model.py:607: ConvergenceWarning: Maximum Likelihood optimization failed to converge. Check mle_retvals\n",
      "  warnings.warn(\"Maximum Likelihood optimization failed to \"\n",
      "\n"
     ]
    },
    {
     "name": "stdout",
     "output_type": "stream",
     "text": [
      "Model fitted successfully.\n",
      "Forecasting with ARIMA model...\n",
      "Forecasting completed.\n"
     ]
    },
    {
     "data": {
      "application/vnd.jupyter.widget-view+json": {
       "model_id": "042f9d38666d489c9b0534a39a8acf3d",
       "version_major": 2,
       "version_minor": 0
      },
      "text/plain": [
       "Finding best initial lr:   0%|          | 0/241 [00:00<?, ?it/s]"
      ]
     },
     "metadata": {},
     "output_type": "display_data"
    },
    {
     "data": {
      "application/vnd.jupyter.widget-view+json": {
       "model_id": "2999c442eecf42c2ae4cb5977d2f20b5",
       "version_major": 2,
       "version_minor": 0
      },
      "text/plain": [
       "Training: 0it [00:00, ?it/s]"
      ]
     },
     "metadata": {},
     "output_type": "display_data"
    },
    {
     "data": {
      "application/vnd.jupyter.widget-view+json": {
       "model_id": "a8ff3454efe4427ba091f22d53e497d3",
       "version_major": 2,
       "version_minor": 0
      },
      "text/plain": [
       "Predicting: 65it [00:00, ?it/s]"
      ]
     },
     "metadata": {},
     "output_type": "display_data"
    },
    {
     "name": "stderr",
     "output_type": "stream",
     "text": [
      "INFO:nixtla.nixtla_client:Validating inputs...\n",
      "INFO:nixtla.nixtla_client:Inferred freq: h\n",
      "INFO:nixtla.nixtla_client:Preprocessing dataframes...\n",
      "INFO:nixtla.nixtla_client:Querying model metadata...\n",
      "WARNING:nixtla.nixtla_client:The specified horizon \"h\" exceeds the model horizon, this may lead to less accurate forecasts. Please consider using a smaller horizon.\n",
      "INFO:nixtla.nixtla_client:Using historical exogenous features: ['sun_area_23', 'sun_area_8', 'sun_area_39', 'sun_area_9', 'sun_area_19', 'sun_area_33', 'sun_area_6', 'sun_area_36', 'sun_area_29', 'sun_area_2', 'sun_area_35', 'sun_area_17', 'sun_area_21', 'wind_area_22', 'wind_area_35', 'wind_area_12', 'wind_area_9', 'wind_area_16', 'wind_area_31', 'wind_area_19', 'wind_area_32', 'wind_area_1', 'wind_area_2', 'wind_area_25', 'wind_area_10', 'wind_area_24', 'ds', 'unique_id']\n",
      "INFO:nixtla.nixtla_client:Calling Forecast Endpoint...\n"
     ]
    },
    {
     "name": "stdout",
     "output_type": "stream",
     "text": [
      "==================================================\n",
      "MAE:\n",
      "                     BASELINE                LGBM               ARIMA  \\\n",
      "all_areas  221.6721 ± 56.0038  177.3416 ± 26.8851  157.0919 ± 45.0574   \n",
      "\n",
      "                NEURALPROPHET              TimeGPT  \n",
      "all_areas  190.1961 ± 75.0422  435.7359 ± 196.8719  \n",
      "RMSE\n",
      "                     BASELINE                LGBM               ARIMA  \\\n",
      "all_areas  280.5985 ± 78.6639  219.6052 ± 28.7697  201.9175 ± 51.2590   \n",
      "\n",
      "                NEURALPROPHET              TimeGPT  \n",
      "all_areas  238.3791 ± 87.4579  486.5204 ± 182.4591  \n",
      "Elapsed time\n",
      "                  BASELINE              LGBM               ARIMA  \\\n",
      "all_areas  0.0113 ± 0.0082  80.5889 ± 5.1970  221.7603 ± 21.6397   \n",
      "\n",
      "               NEURALPROPHET           TimeGPT  \n",
      "all_areas  133.6262 ± 4.3942  18.6433 ± 0.8331  \n",
      "==================================================\n",
      "Saved feature group results to ../results/manipulate/ponit5_20250516_110201.csv\n"
     ]
    }
   ],
   "source": [
    "data = Dataretreiver(reduce='pca_kmeans', debug=False, reduction_num_cols=13)\n",
    "df = data.combined\n",
    "# Initialize the experiment\n",
    "experiment = EnhancedTimeSeriesExperiment(\n",
    "    models=models,\n",
    "    target_column='price',\n",
    "    forecast_horizon=192,\n",
    "    n_splits=5,\n",
    "    step_size=192 # 8 days are skipped between each forecast.\n",
    ")\n",
    "# Run the experiments with these custom combinations\n",
    "experiment.run_feature_group_experiments(\n",
    "    df=df,\n",
    "    add_all_columns=True,\n",
    "    add_base_columns=False,\n",
    "    manipulate=True,\n",
    "    manipulate_factor_sun=0.5,\n",
    "    manipulate_factor_wind=0.5,\n",
    ")\n",
    "results_df_MAE = experiment.summarize_feature_group_results(metric='MAE')\n",
    "results_df_MSE = experiment.summarize_feature_group_results(metric='RMSE')\n",
    "results_df_time = experiment.summarize_feature_group_results(metric='elapsed_time')\n",
    "print('='*50)\n",
    "print(\"MAE:\")\n",
    "print(results_df_MAE)\n",
    "print(\"RMSE\")\n",
    "print(results_df_MSE)\n",
    "print(\"Elapsed time\")\n",
    "print(results_df_time)\n",
    "print('='*50)\n",
    "\n",
    "experiment.save_feature_group_results_to_csv(f\"../results/manipulate/ponit5.csv\")"
   ]
  }
 ],
 "metadata": {
  "kernelspec": {
   "display_name": "Python 3",
   "language": "python",
   "name": "python3"
  },
  "language_info": {
   "codemirror_mode": {
    "name": "ipython",
    "version": 3
   },
   "file_extension": ".py",
   "mimetype": "text/x-python",
   "name": "python",
   "nbconvert_exporter": "python",
   "pygments_lexer": "ipython3",
   "version": "3.12.3"
  }
 },
 "nbformat": 4,
 "nbformat_minor": 5
}
