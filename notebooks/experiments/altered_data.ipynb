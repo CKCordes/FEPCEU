{
 "cells": [
  {
   "cell_type": "code",
   "execution_count": 1,
   "id": "3b0170f9",
   "metadata": {},
   "outputs": [],
   "source": [
    "%load_ext autoreload\n",
    "%autoreload 2"
   ]
  },
  {
   "cell_type": "code",
   "execution_count": null,
   "id": "f273b9e4",
   "metadata": {},
   "outputs": [],
   "source": [
    "import sys\n",
    "sys.path.append('')"
   ]
  },
  {
   "cell_type": "code",
   "execution_count": 3,
   "id": "9c6c7b42",
   "metadata": {},
   "outputs": [
    {
     "name": "stderr",
     "output_type": "stream",
     "text": [
      "Importing plotly failed. Interactive plots will not work.\n",
      "Importing plotly failed. Interactive plots will not work.\n"
     ]
    }
   ],
   "source": [
    "from enhanced_experiment import EnhancedTimeSeriesExperiment\n",
    "from models.arima import Arima\n",
    "from models.baseline import Baseline\n",
    "from models.lgbm import LGBM\n",
    "from models.neuralproph import Neuralprophet\n",
    "from models.timegpt import TimeGPT\n",
    "\n",
    "from data.data_retriever import Dataretreiver"
   ]
  },
  {
   "cell_type": "code",
   "execution_count": 4,
   "id": "d63b8bc0",
   "metadata": {},
   "outputs": [],
   "source": [
    "# Define models\n",
    "models = {\n",
    "    'BASELINE': Baseline(),\n",
    "    'LGBM': LGBM(),\n",
    "    'ARIMA': Arima(order=[1,0,1], seasonal_order=[1,1,1,24]),\n",
    "    'NEURALPROPHET': Neuralprophet(),\n",
    "    'TimeGPT': TimeGPT()\n",
    "}"
   ]
  },
  {
   "cell_type": "markdown",
   "id": "4c4e0224",
   "metadata": {},
   "source": [
    "# Experiment 1\n",
    "X reduction. Original data"
   ]
  },
  {
   "cell_type": "code",
   "execution_count": null,
   "id": "5642df17",
   "metadata": {},
   "outputs": [],
   "source": [
    "data = Dataretreiver(reduce='pca_kmeans', debug=False, reduction_num_cols=13)\n",
    "df = data.combined\n",
    "# Initialize the experiment\n",
    "experiment = EnhancedTimeSeriesExperiment(\n",
    "    models=models,\n",
    "    target_column='price',\n",
    "    forecast_horizon=192,\n",
    "    n_splits=5,\n",
    "    step_size=192 # 8 days are skipped between each forecast.\n",
    ")\n",
    "# Run the experiments with these custom combinations\n",
    "experiment.run_feature_group_experiments(\n",
    "    df=df,\n",
    "    add_all_columns=True,\n",
    "    add_base_columns=False,\n",
    ")\n",
    "results_df_MAE = experiment.summarize_feature_group_results(metric='MAE')\n",
    "results_df_MSE = experiment.summarize_feature_group_results(metric='RMSE')\n",
    "results_df_time = experiment.summarize_feature_group_results(metric='elapsed_time')\n",
    "print('='*50)\n",
    "print(\"MAE:\")\n",
    "print(results_df_MAE)\n",
    "print(\"RMSE\")\n",
    "print(results_df_MSE)\n",
    "print(\"Elapsed time\")\n",
    "print(results_df_time)\n",
    "print('='*50)\n",
    "\n",
    "experiment.save_feature_group_results_to_csv(f\"../results/manipulate/original.csv\")"
   ]
  },
  {
   "cell_type": "markdown",
   "id": "c20be029",
   "metadata": {},
   "source": [
    "# Experiment 2\n",
    "X reduction. slightly manipulated data."
   ]
  },
  {
   "cell_type": "code",
   "execution_count": null,
   "id": "c066f7ae",
   "metadata": {},
   "outputs": [],
   "source": [
    "data = Dataretreiver(reduce='pca_kmeans', debug=False, reduction_num_cols=13)\n",
    "df = data.combined\n",
    "# Initialize the experiment\n",
    "experiment = EnhancedTimeSeriesExperiment(\n",
    "    models=models,\n",
    "    target_column='price',\n",
    "    forecast_horizon=192,\n",
    "    n_splits=5,\n",
    "    step_size=192 # 8 days are skipped between each forecast.\n",
    ")\n",
    "# Run the experiments with these custom combinations\n",
    "experiment.run_feature_group_experiments(\n",
    "    df=df,\n",
    "    add_all_columns=True,\n",
    "    add_base_columns=False,\n",
    "    manipulate=True,\n",
    "    manipulate_factor_sun=0.1,\n",
    "    manipulate_factor_wind=0.1,\n",
    ")\n",
    "results_df_MAE = experiment.summarize_feature_group_results(metric='MAE')\n",
    "results_df_MSE = experiment.summarize_feature_group_results(metric='RMSE')\n",
    "results_df_time = experiment.summarize_feature_group_results(metric='elapsed_time')\n",
    "print('='*50)\n",
    "print(\"MAE:\")\n",
    "print(results_df_MAE)\n",
    "print(\"RMSE\")\n",
    "print(results_df_MSE)\n",
    "print(\"Elapsed time\")\n",
    "print(results_df_time)\n",
    "print('='*50)\n",
    "\n",
    "experiment.save_feature_group_results_to_csv(f\"../results/manipulate/point1.csv\")"
   ]
  },
  {
   "cell_type": "markdown",
   "id": "8e27f880",
   "metadata": {},
   "source": [
    "# Experiment 3\n",
    "X reduction. More manipulated data"
   ]
  },
  {
   "cell_type": "code",
   "execution_count": null,
   "id": "4e957964",
   "metadata": {},
   "outputs": [],
   "source": [
    "data = Dataretreiver(reduce='pca_kmeans', debug=False, reduction_num_cols=13)\n",
    "df = data.combined\n",
    "# Initialize the experiment\n",
    "experiment = EnhancedTimeSeriesExperiment(\n",
    "    models=models,\n",
    "    target_column='price',\n",
    "    forecast_horizon=192,\n",
    "    n_splits=5,\n",
    "    step_size=192 # 8 days are skipped between each forecast.\n",
    ")\n",
    "# Run the experiments with these custom combinations\n",
    "experiment.run_feature_group_experiments(\n",
    "    df=df,\n",
    "    add_all_columns=True,\n",
    "    add_base_columns=False,\n",
    "    manipulate=True,\n",
    "    manipulate_factor_sun=0.3,\n",
    "    manipulate_factor_wind=0.3,\n",
    "    \n",
    ")\n",
    "results_df_MAE = experiment.summarize_feature_group_results(metric='MAE')\n",
    "results_df_MSE = experiment.summarize_feature_group_results(metric='RMSE')\n",
    "results_df_time = experiment.summarize_feature_group_results(metric='elapsed_time')\n",
    "print('='*50)\n",
    "print(\"MAE:\")\n",
    "print(results_df_MAE)\n",
    "print(\"RMSE\")\n",
    "print(results_df_MSE)\n",
    "print(\"Elapsed time\")\n",
    "print(results_df_time)\n",
    "print('='*50)\n",
    "\n",
    "experiment.save_feature_group_results_to_csv(f\"../results/manipulate/point3.csv\")"
   ]
  },
  {
   "cell_type": "markdown",
   "id": "ddd3af34",
   "metadata": {},
   "source": [
    "# Experiment 4\n",
    "X reduction. Massive manipulated data."
   ]
  },
  {
   "cell_type": "code",
   "execution_count": null,
   "id": "bcaac807",
   "metadata": {},
   "outputs": [],
   "source": [
    "data = Dataretreiver(reduce='pca_kmeans', debug=False, reduction_num_cols=13)\n",
    "df = data.combined\n",
    "# Initialize the experiment\n",
    "experiment = EnhancedTimeSeriesExperiment(\n",
    "    models=models,\n",
    "    target_column='price',\n",
    "    forecast_horizon=192,\n",
    "    n_splits=5,\n",
    "    step_size=192 # 8 days are skipped between each forecast.\n",
    ")\n",
    "# Run the experiments with these custom combinations\n",
    "experiment.run_feature_group_experiments(\n",
    "    df=df,\n",
    "    add_all_columns=True,\n",
    "    add_base_columns=False,\n",
    "    manipulate=True,\n",
    "    manipulate_factor_sun=0.5,\n",
    "    manipulate_factor_wind=0.5,\n",
    ")\n",
    "results_df_MAE = experiment.summarize_feature_group_results(metric='MAE')\n",
    "results_df_MSE = experiment.summarize_feature_group_results(metric='RMSE')\n",
    "results_df_time = experiment.summarize_feature_group_results(metric='elapsed_time')\n",
    "print('='*50)\n",
    "print(\"MAE:\")\n",
    "print(results_df_MAE)\n",
    "print(\"RMSE\")\n",
    "print(results_df_MSE)\n",
    "print(\"Elapsed time\")\n",
    "print(results_df_time)\n",
    "print('='*50)\n",
    "\n",
    "experiment.save_feature_group_results_to_csv(f\"../results/manipulate/ponit5.csv\")"
   ]
  }
 ],
 "metadata": {
  "kernelspec": {
   "display_name": "Python 3",
   "language": "python",
   "name": "python3"
  },
  "language_info": {
   "codemirror_mode": {
    "name": "ipython",
    "version": 3
   },
   "file_extension": ".py",
   "mimetype": "text/x-python",
   "name": "python",
   "nbconvert_exporter": "python",
   "pygments_lexer": "ipython3",
   "version": "3.12.3"
  }
 },
 "nbformat": 4,
 "nbformat_minor": 5
}
