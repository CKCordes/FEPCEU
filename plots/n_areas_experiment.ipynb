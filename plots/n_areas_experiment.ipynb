{
 "cells": [
  {
   "cell_type": "markdown",
   "id": "d303cfea",
   "metadata": {},
   "source": [
    "# Investigate optimal number of areas\n",
    "\n",
    "format: ../results/opt_num_areas/pca_kmeans_{i}.csv"
   ]
  },
  {
   "cell_type": "code",
   "execution_count": null,
   "id": "08f5a99c",
   "metadata": {},
   "outputs": [],
   "source": [
    "from plotter import Plotter\n",
    "plotter = Plotter('C:/Users/madss/Aarhus Universitet/CompTek/6. Semester/Bachelor/github/FEPCEU/notebooks/results/opt_num_areas')"
   ]
  },
  {
   "cell_type": "code",
   "execution_count": null,
   "id": "fe96308b",
   "metadata": {},
   "outputs": [
    {
     "data": {
      "text/plain": [
       "195"
      ]
     },
     "execution_count": 25,
     "metadata": {},
     "output_type": "execute_result"
    }
   ],
   "source": [
    "data = plotter.load_csv_files('pca_kmeans', interpolate=False)\n",
    "len(data)"
   ]
  },
  {
   "cell_type": "code",
   "execution_count": 26,
   "id": "0dc96912",
   "metadata": {},
   "outputs": [
    {
     "data": {
      "text/html": [
       "<div>\n",
       "<style scoped>\n",
       "    .dataframe tbody tr th:only-of-type {\n",
       "        vertical-align: middle;\n",
       "    }\n",
       "\n",
       "    .dataframe tbody tr th {\n",
       "        vertical-align: top;\n",
       "    }\n",
       "\n",
       "    .dataframe thead th {\n",
       "        text-align: right;\n",
       "    }\n",
       "</style>\n",
       "<table border=\"1\" class=\"dataframe\">\n",
       "  <thead>\n",
       "    <tr style=\"text-align: right;\">\n",
       "      <th></th>\n",
       "      <th>feature_group</th>\n",
       "      <th>model</th>\n",
       "      <th>RMSE_mean</th>\n",
       "      <th>RMSE_std</th>\n",
       "      <th>MAE_mean</th>\n",
       "      <th>MAE_std</th>\n",
       "      <th>MAPE_mean</th>\n",
       "      <th>MAPE_std</th>\n",
       "      <th>R2_mean</th>\n",
       "      <th>R2_std</th>\n",
       "      <th>elapsed_time_mean</th>\n",
       "      <th>elapsed_time_std</th>\n",
       "      <th>index</th>\n",
       "    </tr>\n",
       "  </thead>\n",
       "  <tbody>\n",
       "    <tr>\n",
       "      <th>0</th>\n",
       "      <td>all_areas</td>\n",
       "      <td>BASELINE</td>\n",
       "      <td>320.120884</td>\n",
       "      <td>56.789735</td>\n",
       "      <td>243.175919</td>\n",
       "      <td>39.282158</td>\n",
       "      <td>3.191535e+15</td>\n",
       "      <td>4.508538e+15</td>\n",
       "      <td>-1.670175e-01</td>\n",
       "      <td>3.767701e-01</td>\n",
       "      <td>0.013662</td>\n",
       "      <td>0.009004</td>\n",
       "      <td>1</td>\n",
       "    </tr>\n",
       "    <tr>\n",
       "      <th>1</th>\n",
       "      <td>all_areas</td>\n",
       "      <td>LGBM</td>\n",
       "      <td>266.684386</td>\n",
       "      <td>52.513860</td>\n",
       "      <td>208.489219</td>\n",
       "      <td>42.696733</td>\n",
       "      <td>1.455611e+16</td>\n",
       "      <td>1.803161e+16</td>\n",
       "      <td>1.891980e-01</td>\n",
       "      <td>2.734375e-01</td>\n",
       "      <td>76.203726</td>\n",
       "      <td>2.017945</td>\n",
       "      <td>1</td>\n",
       "    </tr>\n",
       "    <tr>\n",
       "      <th>2</th>\n",
       "      <td>all_areas</td>\n",
       "      <td>ARIMA</td>\n",
       "      <td>242.967711</td>\n",
       "      <td>50.983298</td>\n",
       "      <td>209.283589</td>\n",
       "      <td>28.461245</td>\n",
       "      <td>7.577771e+18</td>\n",
       "      <td>1.069418e+19</td>\n",
       "      <td>-3.483876e+06</td>\n",
       "      <td>4.926945e+06</td>\n",
       "      <td>44.303931</td>\n",
       "      <td>6.448263</td>\n",
       "      <td>1</td>\n",
       "    </tr>\n",
       "    <tr>\n",
       "      <th>3</th>\n",
       "      <td>all_areas</td>\n",
       "      <td>NEURALPROPHET</td>\n",
       "      <td>262.464377</td>\n",
       "      <td>63.922764</td>\n",
       "      <td>214.328216</td>\n",
       "      <td>52.986464</td>\n",
       "      <td>9.998825e+15</td>\n",
       "      <td>1.175260e+16</td>\n",
       "      <td>1.714782e-01</td>\n",
       "      <td>4.594503e-01</td>\n",
       "      <td>124.600465</td>\n",
       "      <td>4.481718</td>\n",
       "      <td>1</td>\n",
       "    </tr>\n",
       "    <tr>\n",
       "      <th>4</th>\n",
       "      <td>all_areas</td>\n",
       "      <td>TimeGPT</td>\n",
       "      <td>354.507352</td>\n",
       "      <td>79.714232</td>\n",
       "      <td>293.836998</td>\n",
       "      <td>78.829859</td>\n",
       "      <td>2.732731e+16</td>\n",
       "      <td>2.945914e+16</td>\n",
       "      <td>-5.026382e-01</td>\n",
       "      <td>7.628535e-01</td>\n",
       "      <td>5.258429</td>\n",
       "      <td>1.017437</td>\n",
       "      <td>1</td>\n",
       "    </tr>\n",
       "    <tr>\n",
       "      <th>...</th>\n",
       "      <td>...</td>\n",
       "      <td>...</td>\n",
       "      <td>...</td>\n",
       "      <td>...</td>\n",
       "      <td>...</td>\n",
       "      <td>...</td>\n",
       "      <td>...</td>\n",
       "      <td>...</td>\n",
       "      <td>...</td>\n",
       "      <td>...</td>\n",
       "      <td>...</td>\n",
       "      <td>...</td>\n",
       "      <td>...</td>\n",
       "    </tr>\n",
       "    <tr>\n",
       "      <th>190</th>\n",
       "      <td>all_areas</td>\n",
       "      <td>BASELINE</td>\n",
       "      <td>320.120884</td>\n",
       "      <td>56.789735</td>\n",
       "      <td>243.175919</td>\n",
       "      <td>39.282158</td>\n",
       "      <td>3.191535e+15</td>\n",
       "      <td>4.508538e+15</td>\n",
       "      <td>-1.670175e-01</td>\n",
       "      <td>3.767701e-01</td>\n",
       "      <td>0.022135</td>\n",
       "      <td>0.001461</td>\n",
       "      <td>39</td>\n",
       "    </tr>\n",
       "    <tr>\n",
       "      <th>191</th>\n",
       "      <td>all_areas</td>\n",
       "      <td>LGBM</td>\n",
       "      <td>225.192434</td>\n",
       "      <td>41.785158</td>\n",
       "      <td>175.087811</td>\n",
       "      <td>29.523573</td>\n",
       "      <td>8.333185e+15</td>\n",
       "      <td>9.248635e+15</td>\n",
       "      <td>4.202197e-01</td>\n",
       "      <td>1.973280e-01</td>\n",
       "      <td>88.079636</td>\n",
       "      <td>0.419915</td>\n",
       "      <td>39</td>\n",
       "    </tr>\n",
       "    <tr>\n",
       "      <th>192</th>\n",
       "      <td>all_areas</td>\n",
       "      <td>ARIMA</td>\n",
       "      <td>222.357400</td>\n",
       "      <td>55.044662</td>\n",
       "      <td>175.234092</td>\n",
       "      <td>37.889352</td>\n",
       "      <td>1.483785e+16</td>\n",
       "      <td>1.527420e+16</td>\n",
       "      <td>4.573769e-01</td>\n",
       "      <td>2.018354e-01</td>\n",
       "      <td>417.336340</td>\n",
       "      <td>47.374562</td>\n",
       "      <td>39</td>\n",
       "    </tr>\n",
       "    <tr>\n",
       "      <th>193</th>\n",
       "      <td>all_areas</td>\n",
       "      <td>NEURALPROPHET</td>\n",
       "      <td>328.620791</td>\n",
       "      <td>39.619133</td>\n",
       "      <td>264.546651</td>\n",
       "      <td>34.769499</td>\n",
       "      <td>1.004428e+16</td>\n",
       "      <td>1.197010e+16</td>\n",
       "      <td>-2.068373e-01</td>\n",
       "      <td>2.565842e-01</td>\n",
       "      <td>212.069456</td>\n",
       "      <td>1.650720</td>\n",
       "      <td>39</td>\n",
       "    </tr>\n",
       "    <tr>\n",
       "      <th>194</th>\n",
       "      <td>all_areas</td>\n",
       "      <td>TimeGPT</td>\n",
       "      <td>526.363156</td>\n",
       "      <td>163.294673</td>\n",
       "      <td>469.178303</td>\n",
       "      <td>170.098876</td>\n",
       "      <td>4.880159e+16</td>\n",
       "      <td>5.293438e+16</td>\n",
       "      <td>-2.478164e+00</td>\n",
       "      <td>1.886040e+00</td>\n",
       "      <td>7.731490</td>\n",
       "      <td>0.583149</td>\n",
       "      <td>39</td>\n",
       "    </tr>\n",
       "  </tbody>\n",
       "</table>\n",
       "<p>195 rows × 13 columns</p>\n",
       "</div>"
      ],
      "text/plain": [
       "    feature_group          model   RMSE_mean    RMSE_std    MAE_mean  \\\n",
       "0       all_areas       BASELINE  320.120884   56.789735  243.175919   \n",
       "1       all_areas           LGBM  266.684386   52.513860  208.489219   \n",
       "2       all_areas          ARIMA  242.967711   50.983298  209.283589   \n",
       "3       all_areas  NEURALPROPHET  262.464377   63.922764  214.328216   \n",
       "4       all_areas        TimeGPT  354.507352   79.714232  293.836998   \n",
       "..            ...            ...         ...         ...         ...   \n",
       "190     all_areas       BASELINE  320.120884   56.789735  243.175919   \n",
       "191     all_areas           LGBM  225.192434   41.785158  175.087811   \n",
       "192     all_areas          ARIMA  222.357400   55.044662  175.234092   \n",
       "193     all_areas  NEURALPROPHET  328.620791   39.619133  264.546651   \n",
       "194     all_areas        TimeGPT  526.363156  163.294673  469.178303   \n",
       "\n",
       "        MAE_std     MAPE_mean      MAPE_std       R2_mean        R2_std  \\\n",
       "0     39.282158  3.191535e+15  4.508538e+15 -1.670175e-01  3.767701e-01   \n",
       "1     42.696733  1.455611e+16  1.803161e+16  1.891980e-01  2.734375e-01   \n",
       "2     28.461245  7.577771e+18  1.069418e+19 -3.483876e+06  4.926945e+06   \n",
       "3     52.986464  9.998825e+15  1.175260e+16  1.714782e-01  4.594503e-01   \n",
       "4     78.829859  2.732731e+16  2.945914e+16 -5.026382e-01  7.628535e-01   \n",
       "..          ...           ...           ...           ...           ...   \n",
       "190   39.282158  3.191535e+15  4.508538e+15 -1.670175e-01  3.767701e-01   \n",
       "191   29.523573  8.333185e+15  9.248635e+15  4.202197e-01  1.973280e-01   \n",
       "192   37.889352  1.483785e+16  1.527420e+16  4.573769e-01  2.018354e-01   \n",
       "193   34.769499  1.004428e+16  1.197010e+16 -2.068373e-01  2.565842e-01   \n",
       "194  170.098876  4.880159e+16  5.293438e+16 -2.478164e+00  1.886040e+00   \n",
       "\n",
       "     elapsed_time_mean  elapsed_time_std  index  \n",
       "0             0.013662          0.009004      1  \n",
       "1            76.203726          2.017945      1  \n",
       "2            44.303931          6.448263      1  \n",
       "3           124.600465          4.481718      1  \n",
       "4             5.258429          1.017437      1  \n",
       "..                 ...               ...    ...  \n",
       "190           0.022135          0.001461     39  \n",
       "191          88.079636          0.419915     39  \n",
       "192         417.336340         47.374562     39  \n",
       "193         212.069456          1.650720     39  \n",
       "194           7.731490          0.583149     39  \n",
       "\n",
       "[195 rows x 13 columns]"
      ]
     },
     "execution_count": 26,
     "metadata": {},
     "output_type": "execute_result"
    }
   ],
   "source": [
    "data"
   ]
  },
  {
   "cell_type": "code",
   "execution_count": 30,
   "id": "679435aa",
   "metadata": {},
   "outputs": [
    {
     "data": {
      "application/vnd.plotly.v1+json": {
       "config": {
        "plotlyServerURL": "https://plot.ly"
       },
       "data": [
        {
         "error_y": {
          "array": [
           52.51385990987706,
           29.974470452599608,
           12.472445805849814,
           8.079950454646786,
           47.25621135607643,
           42.765625947144684,
           37.51955399274665,
           24.064594204754588,
           23.680688877238964,
           32.875525796797035,
           27.069822719889757,
           36.45277365395416,
           31.892898974522,
           7.8306699995690465,
           45.9032422732561,
           19.999864975678324,
           50.759512972379575,
           39.230681827353536,
           42.683888544828605,
           41.72889818581491,
           41.61461650497956,
           35.09367159774878,
           44.79312990982982,
           37.16705050607142,
           50.022673192534256,
           35.103456638533466,
           26.339109057948647,
           39.412751336170594,
           20.621157422465608,
           36.74904789568636,
           0.8469901211643931,
           19.84885965470024,
           44.92208269101296,
           59.44555234605077,
           56.7742943119269,
           48.63555817616829,
           51.8296991092864,
           52.3444368057922,
           41.78515806202653
          ],
          "type": "data",
          "visible": true
         },
         "mode": "markers+lines",
         "name": "LGBM",
         "type": "scatter",
         "x": [
          1,
          2,
          3,
          4,
          5,
          6,
          7,
          8,
          9,
          10,
          11,
          12,
          13,
          14,
          15,
          16,
          17,
          18,
          19,
          20,
          21,
          22,
          23,
          24,
          25,
          26,
          27,
          28,
          29,
          30,
          31,
          32,
          33,
          34,
          35,
          36,
          37,
          38,
          39
         ],
         "y": [
          266.68438623609,
          273.71068706088573,
          241.5663836218192,
          228.38581263120795,
          254.9960903068381,
          257.6978163548754,
          255.1510933278538,
          214.62319487871696,
          234.2974518147313,
          228.67064433137008,
          226.08489093336695,
          225.15016037330415,
          207.1399548528592,
          252.10126165974256,
          231.22145631147143,
          235.40365048140575,
          241.71876383401863,
          230.9314229458921,
          229.4241026161371,
          236.50375481307287,
          219.71752294547423,
          251.18875385669895,
          235.8319313474915,
          234.39579137668437,
          212.976513358561,
          233.97128767997015,
          231.3407506775686,
          226.7149318943524,
          243.7354326914273,
          224.5640928724344,
          224.96785046351,
          229.8311539862332,
          226.3111365950101,
          244.8247147955232,
          242.62769420849773,
          212.97107270921197,
          214.9340721278088,
          246.38675693742996,
          225.19243391833933
         ]
        },
        {
         "error_y": {
          "array": [
           50.983297566838274,
           41.00625739874605,
           51.64621241474754,
           45.35997720941555,
           44.71636621506636,
           58.34714453530009,
           48.53063640734336,
           36.41649699788403,
           36.551188140234345,
           41.021781120699366,
           51.18847199121065,
           34.60105261597381,
           38.323481366454864,
           34.400222618251775,
           38.46555222504208,
           34.23293139424375,
           35.772128650483026,
           37.03956585103702,
           36.518426350694966,
           38.36066341860036,
           35.183802711016206,
           34.61590397936196,
           35.16238205424271,
           38.1621361456581,
           31.260714688522764,
           43.38238739117943,
           35.379256285105,
           50.66224026267963,
           48.47503404482141,
           60.59888748486233,
           22.34551401177076,
           50.51905376409722,
           43.62237959672217,
           44.70183009206889,
           41.90947832512974,
           44.67522389887481,
           42.20172739881836,
           36.07609926764337,
           55.04466190456152
          ],
          "type": "data",
          "visible": true
         },
         "mode": "markers+lines",
         "name": "SARIMAX",
         "type": "scatter",
         "x": [
          1,
          2,
          3,
          4,
          5,
          6,
          7,
          8,
          9,
          10,
          11,
          12,
          13,
          14,
          15,
          16,
          17,
          18,
          19,
          20,
          21,
          22,
          23,
          24,
          25,
          26,
          27,
          28,
          29,
          30,
          31,
          32,
          33,
          34,
          35,
          36,
          37,
          38,
          39
         ],
         "y": [
          242.9677108558396,
          246.85689836733192,
          237.38997091773112,
          231.60770088873105,
          229.21811727987676,
          236.8737175264797,
          231.93998906307385,
          219.5429860381828,
          222.26191028254277,
          219.5597995254541,
          227.4851818537842,
          221.1893773101166,
          221.5956639049377,
          219.61779279088287,
          217.8483189417935,
          218.97126585948695,
          219.20415549300003,
          217.5976290483528,
          221.040882554012,
          216.73436023894536,
          219.61332126257864,
          217.05510472225887,
          218.97567661480767,
          219.4051910270541,
          215.28334505335863,
          219.8045178912305,
          217.21806175771815,
          216.7406050213212,
          215.3842569077192,
          220.6234512183707,
          225.20904114885124,
          210.99930548303865,
          215.00006664753235,
          216.5534935146445,
          235.33977631705403,
          213.24543655261573,
          213.50396203664144,
          217.1994422377004,
          222.3574000288675
         ]
        },
        {
         "error_y": {
          "array": [
           63.92276441574613,
           56.49612333682538,
           78.16722509595694,
           47.31509588818247,
           66.52767239434392,
           64.00871695283877,
           53.52835617162435,
           50.410196126270094,
           56.40883509704034,
           50.84045823030377,
           48.13177138798027,
           47.09219167345905,
           37.72767377266533,
           59.66538344992224,
           66.25431284637894,
           55.68980146839346,
           54.12123628299749,
           64.06716413545101,
           84.1382695754319,
           57.57163455799613,
           54.41180672539536,
           53.0243487760666,
           58.97141942715748,
           53.087378358470296,
           54.56919255563348,
           60.55001287561935,
           58.1352592833441,
           55.164930698499695,
           42.52513975376936,
           42.14245766848661,
           58.37223216210139,
           62.53816765649802,
           55.7637039005465,
           72.74954460321142,
           48.27095099111841,
           41.27069490996236,
           60.461610349461424,
           51.070956549929576,
           39.6191328438485
          ],
          "type": "data",
          "visible": true
         },
         "mode": "markers+lines",
         "name": "NEURALPROPHET",
         "type": "scatter",
         "x": [
          1,
          2,
          3,
          4,
          5,
          6,
          7,
          8,
          9,
          10,
          11,
          12,
          13,
          14,
          15,
          16,
          17,
          18,
          19,
          20,
          21,
          22,
          23,
          24,
          25,
          26,
          27,
          28,
          29,
          30,
          31,
          32,
          33,
          34,
          35,
          36,
          37,
          38,
          39
         ],
         "y": [
          262.4643768344121,
          289.254312182658,
          321.4810184318302,
          269.82741223111594,
          277.2491883288177,
          251.61619389299085,
          262.8531081359173,
          271.3454104562736,
          258.6325440888156,
          271.0284329760429,
          259.0830249850408,
          255.7506604073404,
          275.11920021991824,
          293.3727118553317,
          269.47890660148386,
          265.65488335768345,
          270.15055244381324,
          300.97359806923106,
          292.67900812713646,
          274.19129256067464,
          289.4527133581795,
          326.348696737839,
          332.5234700907261,
          291.3453422902966,
          294.0178093891089,
          312.6324342917424,
          297.5078231834037,
          267.7858876713683,
          285.81450338066264,
          308.5954903400434,
          307.73747510603613,
          308.16245152792635,
          287.646236244333,
          308.09541710413333,
          303.1930313315929,
          325.24654243553056,
          275.5596525385027,
          281.6008190381013,
          328.62079056634656
         ]
        }
       ],
       "layout": {
        "height": 400,
        "template": {
         "data": {
          "bar": [
           {
            "error_x": {
             "color": "#2a3f5f"
            },
            "error_y": {
             "color": "#2a3f5f"
            },
            "marker": {
             "line": {
              "color": "white",
              "width": 0.5
             },
             "pattern": {
              "fillmode": "overlay",
              "size": 10,
              "solidity": 0.2
             }
            },
            "type": "bar"
           }
          ],
          "barpolar": [
           {
            "marker": {
             "line": {
              "color": "white",
              "width": 0.5
             },
             "pattern": {
              "fillmode": "overlay",
              "size": 10,
              "solidity": 0.2
             }
            },
            "type": "barpolar"
           }
          ],
          "carpet": [
           {
            "aaxis": {
             "endlinecolor": "#2a3f5f",
             "gridcolor": "#C8D4E3",
             "linecolor": "#C8D4E3",
             "minorgridcolor": "#C8D4E3",
             "startlinecolor": "#2a3f5f"
            },
            "baxis": {
             "endlinecolor": "#2a3f5f",
             "gridcolor": "#C8D4E3",
             "linecolor": "#C8D4E3",
             "minorgridcolor": "#C8D4E3",
             "startlinecolor": "#2a3f5f"
            },
            "type": "carpet"
           }
          ],
          "choropleth": [
           {
            "colorbar": {
             "outlinewidth": 0,
             "ticks": ""
            },
            "type": "choropleth"
           }
          ],
          "contour": [
           {
            "colorbar": {
             "outlinewidth": 0,
             "ticks": ""
            },
            "colorscale": [
             [
              0,
              "#0d0887"
             ],
             [
              0.1111111111111111,
              "#46039f"
             ],
             [
              0.2222222222222222,
              "#7201a8"
             ],
             [
              0.3333333333333333,
              "#9c179e"
             ],
             [
              0.4444444444444444,
              "#bd3786"
             ],
             [
              0.5555555555555556,
              "#d8576b"
             ],
             [
              0.6666666666666666,
              "#ed7953"
             ],
             [
              0.7777777777777778,
              "#fb9f3a"
             ],
             [
              0.8888888888888888,
              "#fdca26"
             ],
             [
              1,
              "#f0f921"
             ]
            ],
            "type": "contour"
           }
          ],
          "contourcarpet": [
           {
            "colorbar": {
             "outlinewidth": 0,
             "ticks": ""
            },
            "type": "contourcarpet"
           }
          ],
          "heatmap": [
           {
            "colorbar": {
             "outlinewidth": 0,
             "ticks": ""
            },
            "colorscale": [
             [
              0,
              "#0d0887"
             ],
             [
              0.1111111111111111,
              "#46039f"
             ],
             [
              0.2222222222222222,
              "#7201a8"
             ],
             [
              0.3333333333333333,
              "#9c179e"
             ],
             [
              0.4444444444444444,
              "#bd3786"
             ],
             [
              0.5555555555555556,
              "#d8576b"
             ],
             [
              0.6666666666666666,
              "#ed7953"
             ],
             [
              0.7777777777777778,
              "#fb9f3a"
             ],
             [
              0.8888888888888888,
              "#fdca26"
             ],
             [
              1,
              "#f0f921"
             ]
            ],
            "type": "heatmap"
           }
          ],
          "heatmapgl": [
           {
            "colorbar": {
             "outlinewidth": 0,
             "ticks": ""
            },
            "colorscale": [
             [
              0,
              "#0d0887"
             ],
             [
              0.1111111111111111,
              "#46039f"
             ],
             [
              0.2222222222222222,
              "#7201a8"
             ],
             [
              0.3333333333333333,
              "#9c179e"
             ],
             [
              0.4444444444444444,
              "#bd3786"
             ],
             [
              0.5555555555555556,
              "#d8576b"
             ],
             [
              0.6666666666666666,
              "#ed7953"
             ],
             [
              0.7777777777777778,
              "#fb9f3a"
             ],
             [
              0.8888888888888888,
              "#fdca26"
             ],
             [
              1,
              "#f0f921"
             ]
            ],
            "type": "heatmapgl"
           }
          ],
          "histogram": [
           {
            "marker": {
             "pattern": {
              "fillmode": "overlay",
              "size": 10,
              "solidity": 0.2
             }
            },
            "type": "histogram"
           }
          ],
          "histogram2d": [
           {
            "colorbar": {
             "outlinewidth": 0,
             "ticks": ""
            },
            "colorscale": [
             [
              0,
              "#0d0887"
             ],
             [
              0.1111111111111111,
              "#46039f"
             ],
             [
              0.2222222222222222,
              "#7201a8"
             ],
             [
              0.3333333333333333,
              "#9c179e"
             ],
             [
              0.4444444444444444,
              "#bd3786"
             ],
             [
              0.5555555555555556,
              "#d8576b"
             ],
             [
              0.6666666666666666,
              "#ed7953"
             ],
             [
              0.7777777777777778,
              "#fb9f3a"
             ],
             [
              0.8888888888888888,
              "#fdca26"
             ],
             [
              1,
              "#f0f921"
             ]
            ],
            "type": "histogram2d"
           }
          ],
          "histogram2dcontour": [
           {
            "colorbar": {
             "outlinewidth": 0,
             "ticks": ""
            },
            "colorscale": [
             [
              0,
              "#0d0887"
             ],
             [
              0.1111111111111111,
              "#46039f"
             ],
             [
              0.2222222222222222,
              "#7201a8"
             ],
             [
              0.3333333333333333,
              "#9c179e"
             ],
             [
              0.4444444444444444,
              "#bd3786"
             ],
             [
              0.5555555555555556,
              "#d8576b"
             ],
             [
              0.6666666666666666,
              "#ed7953"
             ],
             [
              0.7777777777777778,
              "#fb9f3a"
             ],
             [
              0.8888888888888888,
              "#fdca26"
             ],
             [
              1,
              "#f0f921"
             ]
            ],
            "type": "histogram2dcontour"
           }
          ],
          "mesh3d": [
           {
            "colorbar": {
             "outlinewidth": 0,
             "ticks": ""
            },
            "type": "mesh3d"
           }
          ],
          "parcoords": [
           {
            "line": {
             "colorbar": {
              "outlinewidth": 0,
              "ticks": ""
             }
            },
            "type": "parcoords"
           }
          ],
          "pie": [
           {
            "automargin": true,
            "type": "pie"
           }
          ],
          "scatter": [
           {
            "fillpattern": {
             "fillmode": "overlay",
             "size": 10,
             "solidity": 0.2
            },
            "type": "scatter"
           }
          ],
          "scatter3d": [
           {
            "line": {
             "colorbar": {
              "outlinewidth": 0,
              "ticks": ""
             }
            },
            "marker": {
             "colorbar": {
              "outlinewidth": 0,
              "ticks": ""
             }
            },
            "type": "scatter3d"
           }
          ],
          "scattercarpet": [
           {
            "marker": {
             "colorbar": {
              "outlinewidth": 0,
              "ticks": ""
             }
            },
            "type": "scattercarpet"
           }
          ],
          "scattergeo": [
           {
            "marker": {
             "colorbar": {
              "outlinewidth": 0,
              "ticks": ""
             }
            },
            "type": "scattergeo"
           }
          ],
          "scattergl": [
           {
            "marker": {
             "colorbar": {
              "outlinewidth": 0,
              "ticks": ""
             }
            },
            "type": "scattergl"
           }
          ],
          "scattermapbox": [
           {
            "marker": {
             "colorbar": {
              "outlinewidth": 0,
              "ticks": ""
             }
            },
            "type": "scattermapbox"
           }
          ],
          "scatterpolar": [
           {
            "marker": {
             "colorbar": {
              "outlinewidth": 0,
              "ticks": ""
             }
            },
            "type": "scatterpolar"
           }
          ],
          "scatterpolargl": [
           {
            "marker": {
             "colorbar": {
              "outlinewidth": 0,
              "ticks": ""
             }
            },
            "type": "scatterpolargl"
           }
          ],
          "scatterternary": [
           {
            "marker": {
             "colorbar": {
              "outlinewidth": 0,
              "ticks": ""
             }
            },
            "type": "scatterternary"
           }
          ],
          "surface": [
           {
            "colorbar": {
             "outlinewidth": 0,
             "ticks": ""
            },
            "colorscale": [
             [
              0,
              "#0d0887"
             ],
             [
              0.1111111111111111,
              "#46039f"
             ],
             [
              0.2222222222222222,
              "#7201a8"
             ],
             [
              0.3333333333333333,
              "#9c179e"
             ],
             [
              0.4444444444444444,
              "#bd3786"
             ],
             [
              0.5555555555555556,
              "#d8576b"
             ],
             [
              0.6666666666666666,
              "#ed7953"
             ],
             [
              0.7777777777777778,
              "#fb9f3a"
             ],
             [
              0.8888888888888888,
              "#fdca26"
             ],
             [
              1,
              "#f0f921"
             ]
            ],
            "type": "surface"
           }
          ],
          "table": [
           {
            "cells": {
             "fill": {
              "color": "#EBF0F8"
             },
             "line": {
              "color": "white"
             }
            },
            "header": {
             "fill": {
              "color": "#C8D4E3"
             },
             "line": {
              "color": "white"
             }
            },
            "type": "table"
           }
          ]
         },
         "layout": {
          "annotationdefaults": {
           "arrowcolor": "#2a3f5f",
           "arrowhead": 0,
           "arrowwidth": 1
          },
          "autotypenumbers": "strict",
          "coloraxis": {
           "colorbar": {
            "outlinewidth": 0,
            "ticks": ""
           }
          },
          "colorscale": {
           "diverging": [
            [
             0,
             "#8e0152"
            ],
            [
             0.1,
             "#c51b7d"
            ],
            [
             0.2,
             "#de77ae"
            ],
            [
             0.3,
             "#f1b6da"
            ],
            [
             0.4,
             "#fde0ef"
            ],
            [
             0.5,
             "#f7f7f7"
            ],
            [
             0.6,
             "#e6f5d0"
            ],
            [
             0.7,
             "#b8e186"
            ],
            [
             0.8,
             "#7fbc41"
            ],
            [
             0.9,
             "#4d9221"
            ],
            [
             1,
             "#276419"
            ]
           ],
           "sequential": [
            [
             0,
             "#0d0887"
            ],
            [
             0.1111111111111111,
             "#46039f"
            ],
            [
             0.2222222222222222,
             "#7201a8"
            ],
            [
             0.3333333333333333,
             "#9c179e"
            ],
            [
             0.4444444444444444,
             "#bd3786"
            ],
            [
             0.5555555555555556,
             "#d8576b"
            ],
            [
             0.6666666666666666,
             "#ed7953"
            ],
            [
             0.7777777777777778,
             "#fb9f3a"
            ],
            [
             0.8888888888888888,
             "#fdca26"
            ],
            [
             1,
             "#f0f921"
            ]
           ],
           "sequentialminus": [
            [
             0,
             "#0d0887"
            ],
            [
             0.1111111111111111,
             "#46039f"
            ],
            [
             0.2222222222222222,
             "#7201a8"
            ],
            [
             0.3333333333333333,
             "#9c179e"
            ],
            [
             0.4444444444444444,
             "#bd3786"
            ],
            [
             0.5555555555555556,
             "#d8576b"
            ],
            [
             0.6666666666666666,
             "#ed7953"
            ],
            [
             0.7777777777777778,
             "#fb9f3a"
            ],
            [
             0.8888888888888888,
             "#fdca26"
            ],
            [
             1,
             "#f0f921"
            ]
           ]
          },
          "colorway": [
           "#636efa",
           "#EF553B",
           "#00cc96",
           "#ab63fa",
           "#FFA15A",
           "#19d3f3",
           "#FF6692",
           "#B6E880",
           "#FF97FF",
           "#FECB52"
          ],
          "font": {
           "color": "#2a3f5f"
          },
          "geo": {
           "bgcolor": "white",
           "lakecolor": "white",
           "landcolor": "white",
           "showlakes": true,
           "showland": true,
           "subunitcolor": "#C8D4E3"
          },
          "hoverlabel": {
           "align": "left"
          },
          "hovermode": "closest",
          "mapbox": {
           "style": "light"
          },
          "paper_bgcolor": "white",
          "plot_bgcolor": "white",
          "polar": {
           "angularaxis": {
            "gridcolor": "#EBF0F8",
            "linecolor": "#EBF0F8",
            "ticks": ""
           },
           "bgcolor": "white",
           "radialaxis": {
            "gridcolor": "#EBF0F8",
            "linecolor": "#EBF0F8",
            "ticks": ""
           }
          },
          "scene": {
           "xaxis": {
            "backgroundcolor": "white",
            "gridcolor": "#DFE8F3",
            "gridwidth": 2,
            "linecolor": "#EBF0F8",
            "showbackground": true,
            "ticks": "",
            "zerolinecolor": "#EBF0F8"
           },
           "yaxis": {
            "backgroundcolor": "white",
            "gridcolor": "#DFE8F3",
            "gridwidth": 2,
            "linecolor": "#EBF0F8",
            "showbackground": true,
            "ticks": "",
            "zerolinecolor": "#EBF0F8"
           },
           "zaxis": {
            "backgroundcolor": "white",
            "gridcolor": "#DFE8F3",
            "gridwidth": 2,
            "linecolor": "#EBF0F8",
            "showbackground": true,
            "ticks": "",
            "zerolinecolor": "#EBF0F8"
           }
          },
          "shapedefaults": {
           "line": {
            "color": "#2a3f5f"
           }
          },
          "ternary": {
           "aaxis": {
            "gridcolor": "#DFE8F3",
            "linecolor": "#A2B1C6",
            "ticks": ""
           },
           "baxis": {
            "gridcolor": "#DFE8F3",
            "linecolor": "#A2B1C6",
            "ticks": ""
           },
           "bgcolor": "white",
           "caxis": {
            "gridcolor": "#DFE8F3",
            "linecolor": "#A2B1C6",
            "ticks": ""
           }
          },
          "title": {
           "x": 0.05
          },
          "xaxis": {
           "automargin": true,
           "gridcolor": "#EBF0F8",
           "linecolor": "#EBF0F8",
           "ticks": "",
           "title": {
            "standoff": 15
           },
           "zerolinecolor": "#EBF0F8",
           "zerolinewidth": 2
          },
          "yaxis": {
           "automargin": true,
           "gridcolor": "#EBF0F8",
           "linecolor": "#EBF0F8",
           "ticks": "",
           "title": {
            "standoff": 15
           },
           "zerolinecolor": "#EBF0F8",
           "zerolinewidth": 2
          }
         }
        },
        "title": {
         "text": "Optimal number of areas included<br><sup>Reduction method: pca_kmeans</sup>"
        },
        "width": 900,
        "xaxis": {
         "title": {
          "text": "Number of areas included in training"
         }
        },
        "yaxis": {
         "range": [
          0,
          450
         ],
         "title": {
          "text": "Metric: RMSE"
         }
        }
       }
      }
     },
     "metadata": {},
     "output_type": "display_data"
    }
   ],
   "source": [
    "plotter.plot_metrics('RMSE', \n",
    "                     f'Optimal number of areas included', \n",
    "                     y_lim=[0,450], \n",
    "                     models_to_skip=['BASELINE', 'TimeGPT'],\n",
    "                     export_path='./opt_num_areas/RMSE_plot.pdf'\n",
    "                    )\n",
    "                    #, export_path='./RMSE_plot.pdf')"
   ]
  },
  {
   "cell_type": "code",
   "execution_count": 27,
   "id": "e735136f",
   "metadata": {},
   "outputs": [],
   "source": [
    "import pandas as pd\n",
    "import numpy as np\n",
    "import glob\n",
    "import os\n",
    "import re\n",
    "\n",
    "def update_arima_rows(directory, pattern_prefix, interpolated_df):\n",
    "    file_pattern = os.path.join(directory, pattern_prefix + '*.csv')\n",
    "    files = glob.glob(file_pattern)\n",
    "\n",
    "    print(f\"Found {len(files)} files matching pattern '{pattern_prefix}*.csv'\")\n",
    "\n",
    "    metric_cols = [\n",
    "        'RMSE_mean', 'RMSE_std',\n",
    "        'MAE_mean', 'MAE_std',\n",
    "        'MAPE_mean', 'MAPE_std',\n",
    "        'R2_mean', 'R2_std',\n",
    "        'elapsed_time_mean', 'elapsed_time_std'\n",
    "    ]\n",
    "\n",
    "    model_order = ['BASELINE', 'LGBM', 'ARIMA', 'NEURALPROPHET', 'TimeGPT']\n",
    "\n",
    "    for file in files:\n",
    "        basename = os.path.basename(file)\n",
    "        match = re.search(r'_(\\d+)', basename)\n",
    "\n",
    "        if not match:\n",
    "            print(f\"Could not extract index from {basename}. Skipping.\")\n",
    "            continue\n",
    "\n",
    "        index_value = int(match.group(1))\n",
    "        print(f\"Processing {basename} with index {index_value}\")\n",
    "\n",
    "        df_csv = pd.read_csv(file)\n",
    "        column_order = df_csv.columns.tolist()\n",
    "\n",
    "        # Extract the correct ARIMA row from interpolation\n",
    "        arima_row = interpolated_df[\n",
    "            (interpolated_df['model'] == 'ARIMA') &\n",
    "            (interpolated_df['feature_group'] == 'all_areas') &\n",
    "            (interpolated_df['index'].astype(int) == index_value)\n",
    "        ]\n",
    "\n",
    "        if arima_row.empty:\n",
    "            print(f\"No ARIMA data for index {index_value}. Skipping.\")\n",
    "            continue\n",
    "\n",
    "        arima_row = arima_row.iloc[0]\n",
    "\n",
    "        arima_idx = df_csv[\n",
    "            (df_csv['model'] == 'ARIMA') &\n",
    "            (df_csv['feature_group'] == 'all_areas')\n",
    "        ].index\n",
    "\n",
    "        if arima_idx.empty:\n",
    "            print(f\"No ARIMA row found in {basename}. Adding new row.\")\n",
    "\n",
    "            new_row = {col: arima_row.get(col, np.nan) for col in metric_cols}\n",
    "            new_row.update({\n",
    "                'model': 'ARIMA',\n",
    "                'feature_group': 'all_areas'\n",
    "            })\n",
    "\n",
    "            # Fill in any other missing columns from the original file\n",
    "            for col in column_order:\n",
    "                if col not in new_row:\n",
    "                    new_row[col] = np.nan\n",
    "\n",
    "            new_row_df = pd.DataFrame([new_row])[column_order]\n",
    "            df_csv = pd.concat([df_csv, new_row_df], ignore_index=True)\n",
    "\n",
    "        else:\n",
    "            print(f\"Updating existing ARIMA row in {basename}.\")\n",
    "            for col in metric_cols:\n",
    "                df_csv.loc[arima_idx, col] = arima_row[col]\n",
    "\n",
    "        # Reorder rows by desired model order\n",
    "        df_csv['model'] = pd.Categorical(df_csv['model'], categories=model_order, ordered=True)\n",
    "        df_csv = df_csv.sort_values('model').reset_index(drop=True)\n",
    "\n",
    "        # Ensure column order is preserved\n",
    "        df_csv = df_csv[column_order]\n",
    "\n",
    "        df_csv.to_csv(file, index=False)\n",
    "        print(f\"Saved updated file: {basename}\\n\")\n"
   ]
  },
  {
   "cell_type": "code",
   "execution_count": 29,
   "id": "f925fefe",
   "metadata": {},
   "outputs": [
    {
     "name": "stdout",
     "output_type": "stream",
     "text": [
      "Found 39 files matching pattern 'pearson*.csv'\n",
      "Processing pearson_10_20250516_015540.csv with index 10\n",
      "No ARIMA row found in pearson_10_20250516_015540.csv. Adding new row.\n",
      "Saved updated file: pearson_10_20250516_015540.csv\n",
      "\n",
      "Processing pearson_11_20250516_020748.csv with index 11\n",
      "No ARIMA row found in pearson_11_20250516_020748.csv. Adding new row.\n",
      "Saved updated file: pearson_11_20250516_020748.csv\n",
      "\n",
      "Processing pearson_12_20250516_022027.csv with index 12\n",
      "No ARIMA row found in pearson_12_20250516_022027.csv. Adding new row.\n",
      "Saved updated file: pearson_12_20250516_022027.csv\n",
      "\n",
      "Processing pearson_13_20250516_023244.csv with index 13\n",
      "No ARIMA row found in pearson_13_20250516_023244.csv. Adding new row.\n",
      "Saved updated file: pearson_13_20250516_023244.csv\n",
      "\n",
      "Processing pearson_14_20250516_024509.csv with index 14\n",
      "No ARIMA row found in pearson_14_20250516_024509.csv. Adding new row.\n",
      "Saved updated file: pearson_14_20250516_024509.csv\n",
      "\n",
      "Processing pearson_15_20250516_025738.csv with index 15\n",
      "No ARIMA row found in pearson_15_20250516_025738.csv. Adding new row.\n",
      "Saved updated file: pearson_15_20250516_025738.csv\n",
      "\n",
      "Processing pearson_16_20250516_031012.csv with index 16\n",
      "No ARIMA row found in pearson_16_20250516_031012.csv. Adding new row.\n",
      "Saved updated file: pearson_16_20250516_031012.csv\n",
      "\n",
      "Processing pearson_17_20250516_032252.csv with index 17\n",
      "No ARIMA row found in pearson_17_20250516_032252.csv. Adding new row.\n",
      "Saved updated file: pearson_17_20250516_032252.csv\n",
      "\n",
      "Processing pearson_18_20250516_033533.csv with index 18\n",
      "No ARIMA row found in pearson_18_20250516_033533.csv. Adding new row.\n",
      "Saved updated file: pearson_18_20250516_033533.csv\n",
      "\n",
      "Processing pearson_19_20250516_034835.csv with index 19\n",
      "No ARIMA row found in pearson_19_20250516_034835.csv. Adding new row.\n",
      "Saved updated file: pearson_19_20250516_034835.csv\n",
      "\n",
      "Processing pearson_1_20250516_000949.csv with index 1\n",
      "No ARIMA row found in pearson_1_20250516_000949.csv. Adding new row.\n",
      "Saved updated file: pearson_1_20250516_000949.csv\n",
      "\n",
      "Processing pearson_20_20250516_040145.csv with index 20\n",
      "No ARIMA row found in pearson_20_20250516_040145.csv. Adding new row.\n",
      "Saved updated file: pearson_20_20250516_040145.csv\n",
      "\n",
      "Processing pearson_21_20250516_041445.csv with index 21\n",
      "No ARIMA row found in pearson_21_20250516_041445.csv. Adding new row.\n",
      "Saved updated file: pearson_21_20250516_041445.csv\n",
      "\n",
      "Processing pearson_22_20250516_042747.csv with index 22\n",
      "No ARIMA row found in pearson_22_20250516_042747.csv. Adding new row.\n",
      "Saved updated file: pearson_22_20250516_042747.csv\n",
      "\n",
      "Processing pearson_23_20250516_044059.csv with index 23\n",
      "No ARIMA row found in pearson_23_20250516_044059.csv. Adding new row.\n",
      "Saved updated file: pearson_23_20250516_044059.csv\n",
      "\n",
      "Processing pearson_24_20250516_045415.csv with index 24\n",
      "No ARIMA row found in pearson_24_20250516_045415.csv. Adding new row.\n",
      "Saved updated file: pearson_24_20250516_045415.csv\n",
      "\n",
      "Processing pearson_25_20250516_050737.csv with index 25\n",
      "No ARIMA row found in pearson_25_20250516_050737.csv. Adding new row.\n",
      "Saved updated file: pearson_25_20250516_050737.csv\n",
      "\n",
      "Processing pearson_26_20250516_052100.csv with index 26\n",
      "No ARIMA row found in pearson_26_20250516_052100.csv. Adding new row.\n",
      "Saved updated file: pearson_26_20250516_052100.csv\n",
      "\n",
      "Processing pearson_27_20250516_053435.csv with index 27\n",
      "No ARIMA row found in pearson_27_20250516_053435.csv. Adding new row.\n",
      "Saved updated file: pearson_27_20250516_053435.csv\n",
      "\n",
      "Processing pearson_28_20250516_054819.csv with index 28\n",
      "No ARIMA row found in pearson_28_20250516_054819.csv. Adding new row.\n",
      "Saved updated file: pearson_28_20250516_054819.csv\n",
      "\n",
      "Processing pearson_29_20250516_060248.csv with index 29\n",
      "No ARIMA row found in pearson_29_20250516_060248.csv. Adding new row.\n",
      "Saved updated file: pearson_29_20250516_060248.csv\n",
      "\n",
      "Processing pearson_2_20250516_002110.csv with index 2\n",
      "No ARIMA row found in pearson_2_20250516_002110.csv. Adding new row.\n",
      "Saved updated file: pearson_2_20250516_002110.csv\n",
      "\n",
      "Processing pearson_30_20250516_061641.csv with index 30\n",
      "No ARIMA row found in pearson_30_20250516_061641.csv. Adding new row.\n",
      "Saved updated file: pearson_30_20250516_061641.csv\n",
      "\n",
      "Processing pearson_31_20250516_063100.csv with index 31\n",
      "No ARIMA row found in pearson_31_20250516_063100.csv. Adding new row.\n",
      "Saved updated file: pearson_31_20250516_063100.csv\n",
      "\n",
      "Processing pearson_32_20250516_064514.csv with index 32\n",
      "No ARIMA row found in pearson_32_20250516_064514.csv. Adding new row.\n",
      "Saved updated file: pearson_32_20250516_064514.csv\n",
      "\n",
      "Processing pearson_33_20250516_065931.csv with index 33\n",
      "No ARIMA row found in pearson_33_20250516_065931.csv. Adding new row.\n",
      "Saved updated file: pearson_33_20250516_065931.csv\n",
      "\n",
      "Processing pearson_34_20250516_071522.csv with index 34\n",
      "No ARIMA row found in pearson_34_20250516_071522.csv. Adding new row.\n",
      "Saved updated file: pearson_34_20250516_071522.csv\n",
      "\n",
      "Processing pearson_35_20250516_072820.csv with index 35\n",
      "No ARIMA row found in pearson_35_20250516_072820.csv. Adding new row.\n",
      "Saved updated file: pearson_35_20250516_072820.csv\n",
      "\n",
      "Processing pearson_36_20250516_074300.csv with index 36\n",
      "No ARIMA row found in pearson_36_20250516_074300.csv. Adding new row.\n",
      "Saved updated file: pearson_36_20250516_074300.csv\n",
      "\n",
      "Processing pearson_37_20250516_075633.csv with index 37\n",
      "No ARIMA row found in pearson_37_20250516_075633.csv. Adding new row.\n",
      "Saved updated file: pearson_37_20250516_075633.csv\n",
      "\n",
      "Processing pearson_38_20250516_080930.csv with index 38\n",
      "No ARIMA row found in pearson_38_20250516_080930.csv. Adding new row.\n",
      "Saved updated file: pearson_38_20250516_080930.csv\n",
      "\n",
      "Processing pearson_39_20250516_082347.csv with index 39\n",
      "No ARIMA row found in pearson_39_20250516_082347.csv. Adding new row.\n",
      "Saved updated file: pearson_39_20250516_082347.csv\n",
      "\n",
      "Processing pearson_3_20250516_003235.csv with index 3\n",
      "No ARIMA row found in pearson_3_20250516_003235.csv. Adding new row.\n",
      "Saved updated file: pearson_3_20250516_003235.csv\n",
      "\n",
      "Processing pearson_4_20250516_004436.csv with index 4\n",
      "No ARIMA row found in pearson_4_20250516_004436.csv. Adding new row.\n",
      "Saved updated file: pearson_4_20250516_004436.csv\n",
      "\n",
      "Processing pearson_5_20250516_005617.csv with index 5\n",
      "No ARIMA row found in pearson_5_20250516_005617.csv. Adding new row.\n",
      "Saved updated file: pearson_5_20250516_005617.csv\n",
      "\n",
      "Processing pearson_6_20250516_010754.csv with index 6\n",
      "No ARIMA row found in pearson_6_20250516_010754.csv. Adding new row.\n",
      "Saved updated file: pearson_6_20250516_010754.csv\n",
      "\n",
      "Processing pearson_7_20250516_011946.csv with index 7\n",
      "No ARIMA row found in pearson_7_20250516_011946.csv. Adding new row.\n",
      "Saved updated file: pearson_7_20250516_011946.csv\n",
      "\n",
      "Processing pearson_8_20250516_013135.csv with index 8\n",
      "No ARIMA row found in pearson_8_20250516_013135.csv. Adding new row.\n",
      "Saved updated file: pearson_8_20250516_013135.csv\n",
      "\n",
      "Processing pearson_9_20250516_014329.csv with index 9\n",
      "No ARIMA row found in pearson_9_20250516_014329.csv. Adding new row.\n",
      "Saved updated file: pearson_9_20250516_014329.csv\n",
      "\n"
     ]
    }
   ],
   "source": [
    "update_arima_rows('../notebooks/results/opt_num_areas', 'pearson', data)"
   ]
  }
 ],
 "metadata": {
  "kernelspec": {
   "display_name": "Python 3",
   "language": "python",
   "name": "python3"
  },
  "language_info": {
   "codemirror_mode": {
    "name": "ipython",
    "version": 3
   },
   "file_extension": ".py",
   "mimetype": "text/x-python",
   "name": "python",
   "nbconvert_exporter": "python",
   "pygments_lexer": "ipython3",
   "version": "3.13.1"
  }
 },
 "nbformat": 4,
 "nbformat_minor": 5
}
