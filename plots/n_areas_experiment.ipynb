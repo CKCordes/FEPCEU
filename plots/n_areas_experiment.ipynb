{
 "cells": [
  {
   "cell_type": "markdown",
   "id": "d303cfea",
   "metadata": {},
   "source": [
    "# Investigate optimal number of areas\n",
    "\n",
    "format: ../results/opt_num_areas/pca_kmeans_{i}.csv"
   ]
  },
  {
   "cell_type": "code",
   "execution_count": 1,
   "id": "08f5a99c",
   "metadata": {},
   "outputs": [],
   "source": [
    "from plotter import Plotter"
   ]
  },
  {
   "cell_type": "code",
   "execution_count": 2,
   "id": "b1ea8101",
   "metadata": {},
   "outputs": [],
   "source": [
    "plot = Plotter('C:/Users/madss/Aarhus Universitet/CompTek/6. Semester/Bachelor/github/FEPCEU/results/')"
   ]
  },
  {
   "cell_type": "code",
   "execution_count": 3,
   "id": "fe96308b",
   "metadata": {},
   "outputs": [
    {
     "data": {
      "text/plain": [
       "[  feature_group      model       MSE_mean  MSE_std    MAE_mean  MAE_std  \\\n",
       " 0     base_only   BASELINE   69360.048926      0.0  211.732498      0.0   \n",
       " 1     base_only  BASELINE2   69360.048926      0.0  211.732498      0.0   \n",
       " 2     base_only  BASELINE3   69360.048926      0.0  211.732498      0.0   \n",
       " 3     base_only       LGBM   79647.003655      0.0  239.162397      0.0   \n",
       " 4     base_only      LGBM2   79647.003655      0.0  239.162397      0.0   \n",
       " 5     all_areas   BASELINE   69360.048926      0.0  211.732498      0.0   \n",
       " 6     all_areas  BASELINE2   69360.048926      0.0  211.732498      0.0   \n",
       " 7     all_areas  BASELINE3   69360.048926      0.0  211.732498      0.0   \n",
       " 8     all_areas       LGBM  114624.518261      0.0  302.400693      0.0   \n",
       " 9     all_areas      LGBM2  114624.518261      0.0  302.400693      0.0   \n",
       " \n",
       "       MAPE_mean  MAPE_std   R2_mean  R2_std  elapsed_time_mean  \\\n",
       " 0  9.281168e+15       0.0  0.285864     0.0           0.005599   \n",
       " 1  9.281168e+15       0.0  0.285864     0.0           0.005191   \n",
       " 2  9.281168e+15       0.0  0.285864     0.0           0.005321   \n",
       " 3  2.087146e+17       0.0  0.179948     0.0         160.043453   \n",
       " 4  2.087146e+17       0.0  0.179948     0.0         152.507650   \n",
       " 5  9.281168e+15       0.0  0.285864     0.0           0.018356   \n",
       " 6  9.281168e+15       0.0  0.285864     0.0           0.006424   \n",
       " 7  9.281168e+15       0.0  0.285864     0.0           0.009903   \n",
       " 8  2.604643e+17       0.0 -0.180183     0.0         183.865935   \n",
       " 9  2.604643e+17       0.0 -0.180183     0.0         224.585544   \n",
       " \n",
       "    elapsed_time_std  \n",
       " 0               0.0  \n",
       " 1               0.0  \n",
       " 2               0.0  \n",
       " 3               0.0  \n",
       " 4               0.0  \n",
       " 5               0.0  \n",
       " 6               0.0  \n",
       " 7               0.0  \n",
       " 8               0.0  \n",
       " 9               0.0  ,\n",
       "   feature_group      model       MSE_mean  MSE_std    MAE_mean  MAE_std  \\\n",
       " 0     base_only   BASELINE   69369.048926      0.0  211.732498      0.0   \n",
       " 1     base_only  BASELINE2   69361.048926      0.0  211.732498      0.0   \n",
       " 2     base_only  BASELINE3   69365.048926      0.0  211.732498      0.0   \n",
       " 3     base_only       LGBM   79447.003655      0.0  239.162397      0.0   \n",
       " 4     base_only      LGBM2   75647.003655      0.0  239.162397      0.0   \n",
       " 5     all_areas   BASELINE   69560.048926      0.0  211.732498      0.0   \n",
       " 6     all_areas  BASELINE2   61360.048926      0.0  211.732498      0.0   \n",
       " 7     all_areas  BASELINE3   80360.048926      0.0  211.732498      0.0   \n",
       " 8     all_areas       LGBM  214624.518261      0.0  302.400693      0.0   \n",
       " 9     all_areas      LGBM2  104624.518261      0.0  302.400693      0.0   \n",
       " \n",
       "       MAPE_mean  MAPE_std   R2_mean  R2_std  elapsed_time_mean  \\\n",
       " 0  9.281168e+15       0.0  0.285864     0.0           0.005599   \n",
       " 1  9.281168e+15       0.0  0.285864     0.0           0.005191   \n",
       " 2  9.281168e+15       0.0  0.285864     0.0           0.005321   \n",
       " 3  2.087146e+17       0.0  0.179948     0.0         160.043453   \n",
       " 4  2.087146e+17       0.0  0.179948     0.0         152.507650   \n",
       " 5  9.281168e+15       0.0  0.285864     0.0           0.018356   \n",
       " 6  9.281168e+15       0.0  0.285864     0.0           0.006424   \n",
       " 7  9.281168e+15       0.0  0.285864     0.0           0.009903   \n",
       " 8  2.604643e+17       0.0 -0.180183     0.0         183.865935   \n",
       " 9  2.604643e+17       0.0 -0.180183     0.0         224.585544   \n",
       " \n",
       "    elapsed_time_std  \n",
       " 0               0.0  \n",
       " 1               0.0  \n",
       " 2               0.0  \n",
       " 3               0.0  \n",
       " 4               0.0  \n",
       " 5               0.0  \n",
       " 6               0.0  \n",
       " 7               0.0  \n",
       " 8               0.0  \n",
       " 9               0.0  ]"
      ]
     },
     "execution_count": 3,
     "metadata": {},
     "output_type": "execute_result"
    }
   ],
   "source": [
    "data = plot.load_csv_files('pca_kmeans')\n",
    "data"
   ]
  },
  {
   "cell_type": "code",
   "execution_count": 5,
   "id": "679435aa",
   "metadata": {},
   "outputs": [
    {
     "data": {
      "application/vnd.plotly.v1+json": {
       "config": {
        "plotlyServerURL": "https://plot.ly"
       },
       "data": [
        {
         "error_y": {
          "array": [
           0
          ],
          "type": "data",
          "visible": true
         },
         "mode": "markers+lines",
         "name": "base_only_BASELINE",
         "type": "scatter",
         "x": [
          1
         ],
         "y": [
          69369.0489261695
         ]
        },
        {
         "error_y": {
          "array": [
           0
          ],
          "type": "data",
          "visible": true
         },
         "mode": "markers+lines",
         "name": "base_only_BASELINE2",
         "type": "scatter",
         "x": [
          1
         ],
         "y": [
          69361.0489261695
         ]
        },
        {
         "error_y": {
          "array": [
           0
          ],
          "type": "data",
          "visible": true
         },
         "mode": "markers+lines",
         "name": "base_only_BASELINE3",
         "type": "scatter",
         "x": [
          1
         ],
         "y": [
          69365.0489261695
         ]
        },
        {
         "error_y": {
          "array": [
           0
          ],
          "type": "data",
          "visible": true
         },
         "mode": "markers+lines",
         "name": "base_only_LGBM",
         "type": "scatter",
         "x": [
          1
         ],
         "y": [
          79447.00365479453
         ]
        },
        {
         "error_y": {
          "array": [
           0
          ],
          "type": "data",
          "visible": true
         },
         "mode": "markers+lines",
         "name": "base_only_LGBM2",
         "type": "scatter",
         "x": [
          1
         ],
         "y": [
          75647.00365479453
         ]
        },
        {
         "error_y": {
          "array": [
           0
          ],
          "type": "data",
          "visible": true
         },
         "mode": "markers+lines",
         "name": "all_areas_BASELINE",
         "type": "scatter",
         "x": [
          1
         ],
         "y": [
          69560.0489261695
         ]
        },
        {
         "error_y": {
          "array": [
           0
          ],
          "type": "data",
          "visible": true
         },
         "mode": "markers+lines",
         "name": "all_areas_BASELINE2",
         "type": "scatter",
         "x": [
          1
         ],
         "y": [
          61360.0489261695
         ]
        },
        {
         "error_y": {
          "array": [
           0
          ],
          "type": "data",
          "visible": true
         },
         "mode": "markers+lines",
         "name": "all_areas_BASELINE3",
         "type": "scatter",
         "x": [
          1
         ],
         "y": [
          80360.0489261695
         ]
        },
        {
         "error_y": {
          "array": [
           0
          ],
          "type": "data",
          "visible": true
         },
         "mode": "markers+lines",
         "name": "all_areas_LGBM",
         "type": "scatter",
         "x": [
          1
         ],
         "y": [
          214624.51826095505
         ]
        },
        {
         "error_y": {
          "array": [
           0
          ],
          "type": "data",
          "visible": true
         },
         "mode": "markers+lines",
         "name": "all_areas_LGBM2",
         "type": "scatter",
         "x": [
          1
         ],
         "y": [
          104624.51826095504
         ]
        }
       ],
       "layout": {
        "template": {
         "data": {
          "bar": [
           {
            "error_x": {
             "color": "#2a3f5f"
            },
            "error_y": {
             "color": "#2a3f5f"
            },
            "marker": {
             "line": {
              "color": "white",
              "width": 0.5
             },
             "pattern": {
              "fillmode": "overlay",
              "size": 10,
              "solidity": 0.2
             }
            },
            "type": "bar"
           }
          ],
          "barpolar": [
           {
            "marker": {
             "line": {
              "color": "white",
              "width": 0.5
             },
             "pattern": {
              "fillmode": "overlay",
              "size": 10,
              "solidity": 0.2
             }
            },
            "type": "barpolar"
           }
          ],
          "carpet": [
           {
            "aaxis": {
             "endlinecolor": "#2a3f5f",
             "gridcolor": "#C8D4E3",
             "linecolor": "#C8D4E3",
             "minorgridcolor": "#C8D4E3",
             "startlinecolor": "#2a3f5f"
            },
            "baxis": {
             "endlinecolor": "#2a3f5f",
             "gridcolor": "#C8D4E3",
             "linecolor": "#C8D4E3",
             "minorgridcolor": "#C8D4E3",
             "startlinecolor": "#2a3f5f"
            },
            "type": "carpet"
           }
          ],
          "choropleth": [
           {
            "colorbar": {
             "outlinewidth": 0,
             "ticks": ""
            },
            "type": "choropleth"
           }
          ],
          "contour": [
           {
            "colorbar": {
             "outlinewidth": 0,
             "ticks": ""
            },
            "colorscale": [
             [
              0,
              "#0d0887"
             ],
             [
              0.1111111111111111,
              "#46039f"
             ],
             [
              0.2222222222222222,
              "#7201a8"
             ],
             [
              0.3333333333333333,
              "#9c179e"
             ],
             [
              0.4444444444444444,
              "#bd3786"
             ],
             [
              0.5555555555555556,
              "#d8576b"
             ],
             [
              0.6666666666666666,
              "#ed7953"
             ],
             [
              0.7777777777777778,
              "#fb9f3a"
             ],
             [
              0.8888888888888888,
              "#fdca26"
             ],
             [
              1,
              "#f0f921"
             ]
            ],
            "type": "contour"
           }
          ],
          "contourcarpet": [
           {
            "colorbar": {
             "outlinewidth": 0,
             "ticks": ""
            },
            "type": "contourcarpet"
           }
          ],
          "heatmap": [
           {
            "colorbar": {
             "outlinewidth": 0,
             "ticks": ""
            },
            "colorscale": [
             [
              0,
              "#0d0887"
             ],
             [
              0.1111111111111111,
              "#46039f"
             ],
             [
              0.2222222222222222,
              "#7201a8"
             ],
             [
              0.3333333333333333,
              "#9c179e"
             ],
             [
              0.4444444444444444,
              "#bd3786"
             ],
             [
              0.5555555555555556,
              "#d8576b"
             ],
             [
              0.6666666666666666,
              "#ed7953"
             ],
             [
              0.7777777777777778,
              "#fb9f3a"
             ],
             [
              0.8888888888888888,
              "#fdca26"
             ],
             [
              1,
              "#f0f921"
             ]
            ],
            "type": "heatmap"
           }
          ],
          "heatmapgl": [
           {
            "colorbar": {
             "outlinewidth": 0,
             "ticks": ""
            },
            "colorscale": [
             [
              0,
              "#0d0887"
             ],
             [
              0.1111111111111111,
              "#46039f"
             ],
             [
              0.2222222222222222,
              "#7201a8"
             ],
             [
              0.3333333333333333,
              "#9c179e"
             ],
             [
              0.4444444444444444,
              "#bd3786"
             ],
             [
              0.5555555555555556,
              "#d8576b"
             ],
             [
              0.6666666666666666,
              "#ed7953"
             ],
             [
              0.7777777777777778,
              "#fb9f3a"
             ],
             [
              0.8888888888888888,
              "#fdca26"
             ],
             [
              1,
              "#f0f921"
             ]
            ],
            "type": "heatmapgl"
           }
          ],
          "histogram": [
           {
            "marker": {
             "pattern": {
              "fillmode": "overlay",
              "size": 10,
              "solidity": 0.2
             }
            },
            "type": "histogram"
           }
          ],
          "histogram2d": [
           {
            "colorbar": {
             "outlinewidth": 0,
             "ticks": ""
            },
            "colorscale": [
             [
              0,
              "#0d0887"
             ],
             [
              0.1111111111111111,
              "#46039f"
             ],
             [
              0.2222222222222222,
              "#7201a8"
             ],
             [
              0.3333333333333333,
              "#9c179e"
             ],
             [
              0.4444444444444444,
              "#bd3786"
             ],
             [
              0.5555555555555556,
              "#d8576b"
             ],
             [
              0.6666666666666666,
              "#ed7953"
             ],
             [
              0.7777777777777778,
              "#fb9f3a"
             ],
             [
              0.8888888888888888,
              "#fdca26"
             ],
             [
              1,
              "#f0f921"
             ]
            ],
            "type": "histogram2d"
           }
          ],
          "histogram2dcontour": [
           {
            "colorbar": {
             "outlinewidth": 0,
             "ticks": ""
            },
            "colorscale": [
             [
              0,
              "#0d0887"
             ],
             [
              0.1111111111111111,
              "#46039f"
             ],
             [
              0.2222222222222222,
              "#7201a8"
             ],
             [
              0.3333333333333333,
              "#9c179e"
             ],
             [
              0.4444444444444444,
              "#bd3786"
             ],
             [
              0.5555555555555556,
              "#d8576b"
             ],
             [
              0.6666666666666666,
              "#ed7953"
             ],
             [
              0.7777777777777778,
              "#fb9f3a"
             ],
             [
              0.8888888888888888,
              "#fdca26"
             ],
             [
              1,
              "#f0f921"
             ]
            ],
            "type": "histogram2dcontour"
           }
          ],
          "mesh3d": [
           {
            "colorbar": {
             "outlinewidth": 0,
             "ticks": ""
            },
            "type": "mesh3d"
           }
          ],
          "parcoords": [
           {
            "line": {
             "colorbar": {
              "outlinewidth": 0,
              "ticks": ""
             }
            },
            "type": "parcoords"
           }
          ],
          "pie": [
           {
            "automargin": true,
            "type": "pie"
           }
          ],
          "scatter": [
           {
            "fillpattern": {
             "fillmode": "overlay",
             "size": 10,
             "solidity": 0.2
            },
            "type": "scatter"
           }
          ],
          "scatter3d": [
           {
            "line": {
             "colorbar": {
              "outlinewidth": 0,
              "ticks": ""
             }
            },
            "marker": {
             "colorbar": {
              "outlinewidth": 0,
              "ticks": ""
             }
            },
            "type": "scatter3d"
           }
          ],
          "scattercarpet": [
           {
            "marker": {
             "colorbar": {
              "outlinewidth": 0,
              "ticks": ""
             }
            },
            "type": "scattercarpet"
           }
          ],
          "scattergeo": [
           {
            "marker": {
             "colorbar": {
              "outlinewidth": 0,
              "ticks": ""
             }
            },
            "type": "scattergeo"
           }
          ],
          "scattergl": [
           {
            "marker": {
             "colorbar": {
              "outlinewidth": 0,
              "ticks": ""
             }
            },
            "type": "scattergl"
           }
          ],
          "scattermapbox": [
           {
            "marker": {
             "colorbar": {
              "outlinewidth": 0,
              "ticks": ""
             }
            },
            "type": "scattermapbox"
           }
          ],
          "scatterpolar": [
           {
            "marker": {
             "colorbar": {
              "outlinewidth": 0,
              "ticks": ""
             }
            },
            "type": "scatterpolar"
           }
          ],
          "scatterpolargl": [
           {
            "marker": {
             "colorbar": {
              "outlinewidth": 0,
              "ticks": ""
             }
            },
            "type": "scatterpolargl"
           }
          ],
          "scatterternary": [
           {
            "marker": {
             "colorbar": {
              "outlinewidth": 0,
              "ticks": ""
             }
            },
            "type": "scatterternary"
           }
          ],
          "surface": [
           {
            "colorbar": {
             "outlinewidth": 0,
             "ticks": ""
            },
            "colorscale": [
             [
              0,
              "#0d0887"
             ],
             [
              0.1111111111111111,
              "#46039f"
             ],
             [
              0.2222222222222222,
              "#7201a8"
             ],
             [
              0.3333333333333333,
              "#9c179e"
             ],
             [
              0.4444444444444444,
              "#bd3786"
             ],
             [
              0.5555555555555556,
              "#d8576b"
             ],
             [
              0.6666666666666666,
              "#ed7953"
             ],
             [
              0.7777777777777778,
              "#fb9f3a"
             ],
             [
              0.8888888888888888,
              "#fdca26"
             ],
             [
              1,
              "#f0f921"
             ]
            ],
            "type": "surface"
           }
          ],
          "table": [
           {
            "cells": {
             "fill": {
              "color": "#EBF0F8"
             },
             "line": {
              "color": "white"
             }
            },
            "header": {
             "fill": {
              "color": "#C8D4E3"
             },
             "line": {
              "color": "white"
             }
            },
            "type": "table"
           }
          ]
         },
         "layout": {
          "annotationdefaults": {
           "arrowcolor": "#2a3f5f",
           "arrowhead": 0,
           "arrowwidth": 1
          },
          "autotypenumbers": "strict",
          "coloraxis": {
           "colorbar": {
            "outlinewidth": 0,
            "ticks": ""
           }
          },
          "colorscale": {
           "diverging": [
            [
             0,
             "#8e0152"
            ],
            [
             0.1,
             "#c51b7d"
            ],
            [
             0.2,
             "#de77ae"
            ],
            [
             0.3,
             "#f1b6da"
            ],
            [
             0.4,
             "#fde0ef"
            ],
            [
             0.5,
             "#f7f7f7"
            ],
            [
             0.6,
             "#e6f5d0"
            ],
            [
             0.7,
             "#b8e186"
            ],
            [
             0.8,
             "#7fbc41"
            ],
            [
             0.9,
             "#4d9221"
            ],
            [
             1,
             "#276419"
            ]
           ],
           "sequential": [
            [
             0,
             "#0d0887"
            ],
            [
             0.1111111111111111,
             "#46039f"
            ],
            [
             0.2222222222222222,
             "#7201a8"
            ],
            [
             0.3333333333333333,
             "#9c179e"
            ],
            [
             0.4444444444444444,
             "#bd3786"
            ],
            [
             0.5555555555555556,
             "#d8576b"
            ],
            [
             0.6666666666666666,
             "#ed7953"
            ],
            [
             0.7777777777777778,
             "#fb9f3a"
            ],
            [
             0.8888888888888888,
             "#fdca26"
            ],
            [
             1,
             "#f0f921"
            ]
           ],
           "sequentialminus": [
            [
             0,
             "#0d0887"
            ],
            [
             0.1111111111111111,
             "#46039f"
            ],
            [
             0.2222222222222222,
             "#7201a8"
            ],
            [
             0.3333333333333333,
             "#9c179e"
            ],
            [
             0.4444444444444444,
             "#bd3786"
            ],
            [
             0.5555555555555556,
             "#d8576b"
            ],
            [
             0.6666666666666666,
             "#ed7953"
            ],
            [
             0.7777777777777778,
             "#fb9f3a"
            ],
            [
             0.8888888888888888,
             "#fdca26"
            ],
            [
             1,
             "#f0f921"
            ]
           ]
          },
          "colorway": [
           "#636efa",
           "#EF553B",
           "#00cc96",
           "#ab63fa",
           "#FFA15A",
           "#19d3f3",
           "#FF6692",
           "#B6E880",
           "#FF97FF",
           "#FECB52"
          ],
          "font": {
           "color": "#2a3f5f"
          },
          "geo": {
           "bgcolor": "white",
           "lakecolor": "white",
           "landcolor": "white",
           "showlakes": true,
           "showland": true,
           "subunitcolor": "#C8D4E3"
          },
          "hoverlabel": {
           "align": "left"
          },
          "hovermode": "closest",
          "mapbox": {
           "style": "light"
          },
          "paper_bgcolor": "white",
          "plot_bgcolor": "white",
          "polar": {
           "angularaxis": {
            "gridcolor": "#EBF0F8",
            "linecolor": "#EBF0F8",
            "ticks": ""
           },
           "bgcolor": "white",
           "radialaxis": {
            "gridcolor": "#EBF0F8",
            "linecolor": "#EBF0F8",
            "ticks": ""
           }
          },
          "scene": {
           "xaxis": {
            "backgroundcolor": "white",
            "gridcolor": "#DFE8F3",
            "gridwidth": 2,
            "linecolor": "#EBF0F8",
            "showbackground": true,
            "ticks": "",
            "zerolinecolor": "#EBF0F8"
           },
           "yaxis": {
            "backgroundcolor": "white",
            "gridcolor": "#DFE8F3",
            "gridwidth": 2,
            "linecolor": "#EBF0F8",
            "showbackground": true,
            "ticks": "",
            "zerolinecolor": "#EBF0F8"
           },
           "zaxis": {
            "backgroundcolor": "white",
            "gridcolor": "#DFE8F3",
            "gridwidth": 2,
            "linecolor": "#EBF0F8",
            "showbackground": true,
            "ticks": "",
            "zerolinecolor": "#EBF0F8"
           }
          },
          "shapedefaults": {
           "line": {
            "color": "#2a3f5f"
           }
          },
          "ternary": {
           "aaxis": {
            "gridcolor": "#DFE8F3",
            "linecolor": "#A2B1C6",
            "ticks": ""
           },
           "baxis": {
            "gridcolor": "#DFE8F3",
            "linecolor": "#A2B1C6",
            "ticks": ""
           },
           "bgcolor": "white",
           "caxis": {
            "gridcolor": "#DFE8F3",
            "linecolor": "#A2B1C6",
            "ticks": ""
           }
          },
          "title": {
           "x": 0.05
          },
          "xaxis": {
           "automargin": true,
           "gridcolor": "#EBF0F8",
           "linecolor": "#EBF0F8",
           "ticks": "",
           "title": {
            "standoff": 15
           },
           "zerolinecolor": "#EBF0F8",
           "zerolinewidth": 2
          },
          "yaxis": {
           "automargin": true,
           "gridcolor": "#EBF0F8",
           "linecolor": "#EBF0F8",
           "ticks": "",
           "title": {
            "standoff": 15
           },
           "zerolinecolor": "#EBF0F8",
           "zerolinewidth": 2
          }
         }
        },
        "title": {
         "text": "MSE"
        },
        "xaxis": {
         "title": {
          "text": "Index (i)"
         }
        },
        "yaxis": {
         "title": {
          "text": "MSE"
         }
        }
       }
      }
     },
     "metadata": {},
     "output_type": "display_data"
    }
   ],
   "source": [
    "plot.plot_metrics('MSE', 'MSE')"
   ]
  }
 ],
 "metadata": {
  "kernelspec": {
   "display_name": "Python 3",
   "language": "python",
   "name": "python3"
  },
  "language_info": {
   "codemirror_mode": {
    "name": "ipython",
    "version": 3
   },
   "file_extension": ".py",
   "mimetype": "text/x-python",
   "name": "python",
   "nbconvert_exporter": "python",
   "pygments_lexer": "ipython3",
   "version": "3.13.1"
  }
 },
 "nbformat": 4,
 "nbformat_minor": 5
}
