{
 "cells": [
  {
   "cell_type": "markdown",
   "id": "d303cfea",
   "metadata": {},
   "source": [
    "# Investigate optimal number of areas\n",
    "\n",
    "format: ../results/opt_num_areas/pca_kmeans_{i}.csv"
   ]
  },
  {
   "cell_type": "code",
   "execution_count": 1,
   "id": "c538194f",
   "metadata": {},
   "outputs": [],
   "source": [
    "# FULDSTÆNDIG AUTOMATISERING \n",
    "mads_kører_kode = True"
   ]
  },
  {
   "cell_type": "code",
   "execution_count": 2,
   "id": "08f5a99c",
   "metadata": {},
   "outputs": [],
   "source": [
    "from plotter import Plotter"
   ]
  },
  {
   "cell_type": "code",
   "execution_count": 3,
   "id": "b1ea8101",
   "metadata": {},
   "outputs": [],
   "source": [
    "if mads_kører_kode:\n",
    "    plotter = Plotter('C:/Users/madss/Aarhus Universitet/CompTek/6. Semester/Bachelor/github/FEPCEU/notebooks/results/opt_num_areas')\n",
    "else:\n",
    "    # Lav din plotter som passer med mappen til results\n",
    "    #plotter = Plotter('some_path/to/folder')\n",
    "    pass"
   ]
  },
  {
   "cell_type": "code",
   "execution_count": 4,
   "id": "fe96308b",
   "metadata": {},
   "outputs": [
    {
     "data": {
      "text/plain": [
       "27"
      ]
     },
     "execution_count": 4,
     "metadata": {},
     "output_type": "execute_result"
    }
   ],
   "source": [
    "data = plotter.load_csv_files('pca_kmeans')\n",
    "len(data) # Should equal number of files in folder otherwise something is wrong"
   ]
  },
  {
   "cell_type": "code",
   "execution_count": 5,
   "id": "679435aa",
   "metadata": {},
   "outputs": [
    {
     "data": {
      "application/vnd.plotly.v1+json": {
       "config": {
        "plotlyServerURL": "https://plot.ly"
       },
       "data": [
        {
         "error_y": {
          "array": [
           39.28215786462048,
           39.28215786462048,
           39.28215786462048,
           39.28215786462048,
           39.28215786462048,
           39.28215786462048,
           39.28215786462048,
           39.28215786462048,
           39.28215786462048,
           39.28215786462048,
           39.28215786462048,
           39.28215786462048,
           39.28215786462048,
           39.28215786462048,
           39.28215786462048,
           39.28215786462048,
           39.28215786462048,
           39.28215786462048,
           39.28215786462048,
           39.28215786462048,
           39.28215786462048,
           39.28215786462048,
           39.28215786462048,
           39.28215786462048,
           39.28215786462048,
           39.28215786462048,
           39.28215786462048
          ],
          "type": "data",
          "visible": true
         },
         "mode": "markers+lines",
         "name": "all_areas_BASELINE",
         "type": "scatter",
         "x": [
          1,
          2,
          3,
          4,
          5,
          6,
          7,
          8,
          9,
          10,
          11,
          12,
          13,
          14,
          15,
          16,
          17,
          18,
          19,
          20,
          21,
          22,
          23,
          24,
          25,
          26,
          27
         ],
         "y": [
          243.17591948437496,
          243.17591948437496,
          243.17591948437496,
          243.17591948437496,
          243.17591948437496,
          243.17591948437496,
          243.17591948437496,
          243.17591948437496,
          243.17591948437496,
          243.17591948437496,
          243.17591948437496,
          243.17591948437496,
          243.17591948437496,
          243.17591948437496,
          243.17591948437496,
          243.17591948437496,
          243.17591948437496,
          243.17591948437496,
          243.17591948437496,
          243.17591948437496,
          243.17591948437496,
          243.17591948437496,
          243.17591948437496,
          243.17591948437496,
          243.17591948437496,
          243.17591948437496,
          243.17591948437496
         ]
        },
        {
         "error_y": {
          "array": [
           42.69673341412438,
           25.211823712645305,
           11.001805297432778,
           5.737691815307191,
           43.14888593389753,
           32.69929927387452,
           32.99880923358172,
           20.952473302424927,
           14.374873720991284,
           30.76364929877814,
           15.762486510696718,
           25.730846616629616,
           27.07060589663394,
           13.611652160362535,
           33.942636096910434,
           14.200732364309076,
           43.72498036863059,
           28.99551295037353,
           35.169311429354444,
           39.91366572613788,
           33.35154796154309,
           30.25767525851465,
           40.89110479061664,
           31.03988462579798,
           34.16471338730892,
           24.153939033443255,
           20.617339403017155
          ],
          "type": "data",
          "visible": true
         },
         "mode": "markers+lines",
         "name": "all_areas_LGBM",
         "type": "scatter",
         "x": [
          1,
          2,
          3,
          4,
          5,
          6,
          7,
          8,
          9,
          10,
          11,
          12,
          13,
          14,
          15,
          16,
          17,
          18,
          19,
          20,
          21,
          22,
          23,
          24,
          25,
          26,
          27
         ],
         "y": [
          208.48921946436303,
          214.68232717118929,
          189.08163094908488,
          179.61607647541538,
          209.55241512851384,
          207.5880392376496,
          202.55495524373453,
          171.20053252571878,
          187.78333858411497,
          177.35718649146278,
          175.83920939823147,
          171.96936319189183,
          166.08322812904814,
          197.26907697014025,
          181.9839401157818,
          183.78835707396192,
          193.96123975501183,
          183.4982139535316,
          184.1174759793089,
          186.2055780355612,
          174.78211505619709,
          200.4894609259561,
          188.59640903648312,
          186.59696743659376,
          165.0227232889191,
          180.2910410745175,
          184.24169265206987
         ]
        },
        {
         "error_y": {
          "array": [
           28.461245383825307,
           36.03332390598908,
           47.32391369006572,
           41.10301091051018,
           39.82629487825822,
           51.06583210221799,
           42.27273769585683,
           32.89577372427975,
           32.61151389334236,
           37.51116472452704,
           45.71116367632041,
           32.18723166329564,
           36.9061905060291,
           33.713323146270774,
           35.269347691854186,
           31.631514081092632,
           32.5454017982689,
           33.86727531355704,
           34.2723480066094,
           36.11243507711346,
           33.09542692117639,
           31.737866220754327,
           33.461146210589874,
           36.68695987873632,
           29.716644837834032,
           39.48887905026179,
           34.336477745873225
          ],
          "type": "data",
          "visible": true
         },
         "mode": "markers+lines",
         "name": "all_areas_ARIMA",
         "type": "scatter",
         "x": [
          1,
          2,
          3,
          4,
          5,
          6,
          7,
          8,
          9,
          10,
          11,
          12,
          13,
          14,
          15,
          16,
          17,
          18,
          19,
          20,
          21,
          22,
          23,
          24,
          25,
          26,
          27
         ],
         "y": [
          209.28358910672748,
          200.69912278293592,
          189.0638227462408,
          185.6882420619742,
          182.70905933990687,
          187.5324665260112,
          183.7935658328538,
          173.57497403662055,
          177.1551225347266,
          173.97902168806797,
          179.4057354446161,
          174.1616995252556,
          174.35755113224673,
          173.34601303718262,
          172.09494440366996,
          173.01689416557647,
          173.73814938966802,
          171.56893278474797,
          174.32340800003692,
          171.36162496070543,
          172.88318949008053,
          171.92306109714968,
          173.9210868268368,
          173.5800274300182,
          169.12244870808593,
          173.84714984309267,
          173.00073161604902
         ]
        },
        {
         "error_y": {
          "array": [
           52.98646414387016,
           42.60845361007063,
           60.72641794589105,
           38.57203063331681,
           53.587953645567055,
           51.40894302089478,
           45.8314861984846,
           41.619592446652334,
           46.93482156747161,
           38.45475320490795,
           39.25712003187174,
           37.48637138254711,
           30.09431836397179,
           46.3644565461892,
           55.82823976948677,
           45.75706886878466,
           45.500055218961535,
           51.36409492874041,
           68.1987096830302,
           48.58347313765433,
           43.518154704869005,
           128.36824265926575,
           48.4119679522327,
           42.6278607081914,
           46.06849356483075,
           50.87690770541864,
           49.87912381253904
          ],
          "type": "data",
          "visible": true
         },
         "mode": "markers+lines",
         "name": "all_areas_NEURALPROPHET",
         "type": "scatter",
         "x": [
          1,
          2,
          3,
          4,
          5,
          6,
          7,
          8,
          9,
          10,
          11,
          12,
          13,
          14,
          15,
          16,
          17,
          18,
          19,
          20,
          21,
          22,
          23,
          24,
          25,
          26,
          27
         ],
         "y": [
          214.32821583076307,
          232.01602867811755,
          258.1104112678511,
          216.99078899118044,
          223.4648553740709,
          200.42021301904632,
          210.94882087435235,
          218.061993462104,
          209.41614027324425,
          217.4652467499576,
          208.30697375440468,
          207.27264292247852,
          223.261763995558,
          236.5281130497352,
          216.86957809140011,
          217.32547939382255,
          217.96055999252823,
          245.5232409479065,
          238.30696008395557,
          222.88950999543255,
          234.0182069227176,
          264.4301753484938,
          265.00137139550776,
          234.1189549843784,
          233.0897992263472,
          254.64972036816064,
          241.20186430671183
         ]
        },
        {
         "error_y": {
          "array": [
           78.82985944049398,
           91.86652891155796,
           97.09941534066829,
           152.5613317136303,
           97.83474533900136,
           90.59714387344457,
           99.53104607484843,
           165.81797540575567,
           134.79686314328598,
           178.111940227973,
           164.45581206243065,
           136.15468142565587,
           158.9871085050181,
           180.381496230799,
           171.53536690416394,
           175.7658136915032,
           162.50299561037485,
           148.99453712231173,
           152.07108064333318,
           146.47110072771972,
           171.55846002215767,
           178.3035795751278,
           178.85970109658743,
           168.59606035429334,
           158.95842826751834,
           174.99831906771092,
           176.57824874927817
          ],
          "type": "data",
          "visible": true
         },
         "mode": "markers+lines",
         "name": "all_areas_TimeGPT",
         "type": "scatter",
         "x": [
          1,
          2,
          3,
          4,
          5,
          6,
          7,
          8,
          9,
          10,
          11,
          12,
          13,
          14,
          15,
          16,
          17,
          18,
          19,
          20,
          21,
          22,
          23,
          24,
          25,
          26,
          27
         ],
         "y": [
          293.83699827604164,
          289.6968071996528,
          316.8181271267361,
          343.8143983663194,
          344.6413586475694,
          348.9791034496528,
          364.79998209201386,
          458.8760242413194,
          411.5327459565973,
          474.7225901857639,
          456.75176202604166,
          416.59821383506943,
          455.8410962934028,
          481.65594284548615,
          466.4244483315972,
          477.6266788420139,
          454.4782646753473,
          443.5411723454861,
          444.2403485468751,
          412.9222813315972,
          471.6612650989584,
          477.4170650989584,
          473.04803390798617,
          468.9999252760417,
          461.2420528871528,
          483.5899000434029,
          484.7190783211806
         ]
        }
       ],
       "layout": {
        "template": {
         "data": {
          "bar": [
           {
            "error_x": {
             "color": "#2a3f5f"
            },
            "error_y": {
             "color": "#2a3f5f"
            },
            "marker": {
             "line": {
              "color": "white",
              "width": 0.5
             },
             "pattern": {
              "fillmode": "overlay",
              "size": 10,
              "solidity": 0.2
             }
            },
            "type": "bar"
           }
          ],
          "barpolar": [
           {
            "marker": {
             "line": {
              "color": "white",
              "width": 0.5
             },
             "pattern": {
              "fillmode": "overlay",
              "size": 10,
              "solidity": 0.2
             }
            },
            "type": "barpolar"
           }
          ],
          "carpet": [
           {
            "aaxis": {
             "endlinecolor": "#2a3f5f",
             "gridcolor": "#C8D4E3",
             "linecolor": "#C8D4E3",
             "minorgridcolor": "#C8D4E3",
             "startlinecolor": "#2a3f5f"
            },
            "baxis": {
             "endlinecolor": "#2a3f5f",
             "gridcolor": "#C8D4E3",
             "linecolor": "#C8D4E3",
             "minorgridcolor": "#C8D4E3",
             "startlinecolor": "#2a3f5f"
            },
            "type": "carpet"
           }
          ],
          "choropleth": [
           {
            "colorbar": {
             "outlinewidth": 0,
             "ticks": ""
            },
            "type": "choropleth"
           }
          ],
          "contour": [
           {
            "colorbar": {
             "outlinewidth": 0,
             "ticks": ""
            },
            "colorscale": [
             [
              0,
              "#0d0887"
             ],
             [
              0.1111111111111111,
              "#46039f"
             ],
             [
              0.2222222222222222,
              "#7201a8"
             ],
             [
              0.3333333333333333,
              "#9c179e"
             ],
             [
              0.4444444444444444,
              "#bd3786"
             ],
             [
              0.5555555555555556,
              "#d8576b"
             ],
             [
              0.6666666666666666,
              "#ed7953"
             ],
             [
              0.7777777777777778,
              "#fb9f3a"
             ],
             [
              0.8888888888888888,
              "#fdca26"
             ],
             [
              1,
              "#f0f921"
             ]
            ],
            "type": "contour"
           }
          ],
          "contourcarpet": [
           {
            "colorbar": {
             "outlinewidth": 0,
             "ticks": ""
            },
            "type": "contourcarpet"
           }
          ],
          "heatmap": [
           {
            "colorbar": {
             "outlinewidth": 0,
             "ticks": ""
            },
            "colorscale": [
             [
              0,
              "#0d0887"
             ],
             [
              0.1111111111111111,
              "#46039f"
             ],
             [
              0.2222222222222222,
              "#7201a8"
             ],
             [
              0.3333333333333333,
              "#9c179e"
             ],
             [
              0.4444444444444444,
              "#bd3786"
             ],
             [
              0.5555555555555556,
              "#d8576b"
             ],
             [
              0.6666666666666666,
              "#ed7953"
             ],
             [
              0.7777777777777778,
              "#fb9f3a"
             ],
             [
              0.8888888888888888,
              "#fdca26"
             ],
             [
              1,
              "#f0f921"
             ]
            ],
            "type": "heatmap"
           }
          ],
          "heatmapgl": [
           {
            "colorbar": {
             "outlinewidth": 0,
             "ticks": ""
            },
            "colorscale": [
             [
              0,
              "#0d0887"
             ],
             [
              0.1111111111111111,
              "#46039f"
             ],
             [
              0.2222222222222222,
              "#7201a8"
             ],
             [
              0.3333333333333333,
              "#9c179e"
             ],
             [
              0.4444444444444444,
              "#bd3786"
             ],
             [
              0.5555555555555556,
              "#d8576b"
             ],
             [
              0.6666666666666666,
              "#ed7953"
             ],
             [
              0.7777777777777778,
              "#fb9f3a"
             ],
             [
              0.8888888888888888,
              "#fdca26"
             ],
             [
              1,
              "#f0f921"
             ]
            ],
            "type": "heatmapgl"
           }
          ],
          "histogram": [
           {
            "marker": {
             "pattern": {
              "fillmode": "overlay",
              "size": 10,
              "solidity": 0.2
             }
            },
            "type": "histogram"
           }
          ],
          "histogram2d": [
           {
            "colorbar": {
             "outlinewidth": 0,
             "ticks": ""
            },
            "colorscale": [
             [
              0,
              "#0d0887"
             ],
             [
              0.1111111111111111,
              "#46039f"
             ],
             [
              0.2222222222222222,
              "#7201a8"
             ],
             [
              0.3333333333333333,
              "#9c179e"
             ],
             [
              0.4444444444444444,
              "#bd3786"
             ],
             [
              0.5555555555555556,
              "#d8576b"
             ],
             [
              0.6666666666666666,
              "#ed7953"
             ],
             [
              0.7777777777777778,
              "#fb9f3a"
             ],
             [
              0.8888888888888888,
              "#fdca26"
             ],
             [
              1,
              "#f0f921"
             ]
            ],
            "type": "histogram2d"
           }
          ],
          "histogram2dcontour": [
           {
            "colorbar": {
             "outlinewidth": 0,
             "ticks": ""
            },
            "colorscale": [
             [
              0,
              "#0d0887"
             ],
             [
              0.1111111111111111,
              "#46039f"
             ],
             [
              0.2222222222222222,
              "#7201a8"
             ],
             [
              0.3333333333333333,
              "#9c179e"
             ],
             [
              0.4444444444444444,
              "#bd3786"
             ],
             [
              0.5555555555555556,
              "#d8576b"
             ],
             [
              0.6666666666666666,
              "#ed7953"
             ],
             [
              0.7777777777777778,
              "#fb9f3a"
             ],
             [
              0.8888888888888888,
              "#fdca26"
             ],
             [
              1,
              "#f0f921"
             ]
            ],
            "type": "histogram2dcontour"
           }
          ],
          "mesh3d": [
           {
            "colorbar": {
             "outlinewidth": 0,
             "ticks": ""
            },
            "type": "mesh3d"
           }
          ],
          "parcoords": [
           {
            "line": {
             "colorbar": {
              "outlinewidth": 0,
              "ticks": ""
             }
            },
            "type": "parcoords"
           }
          ],
          "pie": [
           {
            "automargin": true,
            "type": "pie"
           }
          ],
          "scatter": [
           {
            "fillpattern": {
             "fillmode": "overlay",
             "size": 10,
             "solidity": 0.2
            },
            "type": "scatter"
           }
          ],
          "scatter3d": [
           {
            "line": {
             "colorbar": {
              "outlinewidth": 0,
              "ticks": ""
             }
            },
            "marker": {
             "colorbar": {
              "outlinewidth": 0,
              "ticks": ""
             }
            },
            "type": "scatter3d"
           }
          ],
          "scattercarpet": [
           {
            "marker": {
             "colorbar": {
              "outlinewidth": 0,
              "ticks": ""
             }
            },
            "type": "scattercarpet"
           }
          ],
          "scattergeo": [
           {
            "marker": {
             "colorbar": {
              "outlinewidth": 0,
              "ticks": ""
             }
            },
            "type": "scattergeo"
           }
          ],
          "scattergl": [
           {
            "marker": {
             "colorbar": {
              "outlinewidth": 0,
              "ticks": ""
             }
            },
            "type": "scattergl"
           }
          ],
          "scattermapbox": [
           {
            "marker": {
             "colorbar": {
              "outlinewidth": 0,
              "ticks": ""
             }
            },
            "type": "scattermapbox"
           }
          ],
          "scatterpolar": [
           {
            "marker": {
             "colorbar": {
              "outlinewidth": 0,
              "ticks": ""
             }
            },
            "type": "scatterpolar"
           }
          ],
          "scatterpolargl": [
           {
            "marker": {
             "colorbar": {
              "outlinewidth": 0,
              "ticks": ""
             }
            },
            "type": "scatterpolargl"
           }
          ],
          "scatterternary": [
           {
            "marker": {
             "colorbar": {
              "outlinewidth": 0,
              "ticks": ""
             }
            },
            "type": "scatterternary"
           }
          ],
          "surface": [
           {
            "colorbar": {
             "outlinewidth": 0,
             "ticks": ""
            },
            "colorscale": [
             [
              0,
              "#0d0887"
             ],
             [
              0.1111111111111111,
              "#46039f"
             ],
             [
              0.2222222222222222,
              "#7201a8"
             ],
             [
              0.3333333333333333,
              "#9c179e"
             ],
             [
              0.4444444444444444,
              "#bd3786"
             ],
             [
              0.5555555555555556,
              "#d8576b"
             ],
             [
              0.6666666666666666,
              "#ed7953"
             ],
             [
              0.7777777777777778,
              "#fb9f3a"
             ],
             [
              0.8888888888888888,
              "#fdca26"
             ],
             [
              1,
              "#f0f921"
             ]
            ],
            "type": "surface"
           }
          ],
          "table": [
           {
            "cells": {
             "fill": {
              "color": "#EBF0F8"
             },
             "line": {
              "color": "white"
             }
            },
            "header": {
             "fill": {
              "color": "#C8D4E3"
             },
             "line": {
              "color": "white"
             }
            },
            "type": "table"
           }
          ]
         },
         "layout": {
          "annotationdefaults": {
           "arrowcolor": "#2a3f5f",
           "arrowhead": 0,
           "arrowwidth": 1
          },
          "autotypenumbers": "strict",
          "coloraxis": {
           "colorbar": {
            "outlinewidth": 0,
            "ticks": ""
           }
          },
          "colorscale": {
           "diverging": [
            [
             0,
             "#8e0152"
            ],
            [
             0.1,
             "#c51b7d"
            ],
            [
             0.2,
             "#de77ae"
            ],
            [
             0.3,
             "#f1b6da"
            ],
            [
             0.4,
             "#fde0ef"
            ],
            [
             0.5,
             "#f7f7f7"
            ],
            [
             0.6,
             "#e6f5d0"
            ],
            [
             0.7,
             "#b8e186"
            ],
            [
             0.8,
             "#7fbc41"
            ],
            [
             0.9,
             "#4d9221"
            ],
            [
             1,
             "#276419"
            ]
           ],
           "sequential": [
            [
             0,
             "#0d0887"
            ],
            [
             0.1111111111111111,
             "#46039f"
            ],
            [
             0.2222222222222222,
             "#7201a8"
            ],
            [
             0.3333333333333333,
             "#9c179e"
            ],
            [
             0.4444444444444444,
             "#bd3786"
            ],
            [
             0.5555555555555556,
             "#d8576b"
            ],
            [
             0.6666666666666666,
             "#ed7953"
            ],
            [
             0.7777777777777778,
             "#fb9f3a"
            ],
            [
             0.8888888888888888,
             "#fdca26"
            ],
            [
             1,
             "#f0f921"
            ]
           ],
           "sequentialminus": [
            [
             0,
             "#0d0887"
            ],
            [
             0.1111111111111111,
             "#46039f"
            ],
            [
             0.2222222222222222,
             "#7201a8"
            ],
            [
             0.3333333333333333,
             "#9c179e"
            ],
            [
             0.4444444444444444,
             "#bd3786"
            ],
            [
             0.5555555555555556,
             "#d8576b"
            ],
            [
             0.6666666666666666,
             "#ed7953"
            ],
            [
             0.7777777777777778,
             "#fb9f3a"
            ],
            [
             0.8888888888888888,
             "#fdca26"
            ],
            [
             1,
             "#f0f921"
            ]
           ]
          },
          "colorway": [
           "#636efa",
           "#EF553B",
           "#00cc96",
           "#ab63fa",
           "#FFA15A",
           "#19d3f3",
           "#FF6692",
           "#B6E880",
           "#FF97FF",
           "#FECB52"
          ],
          "font": {
           "color": "#2a3f5f"
          },
          "geo": {
           "bgcolor": "white",
           "lakecolor": "white",
           "landcolor": "white",
           "showlakes": true,
           "showland": true,
           "subunitcolor": "#C8D4E3"
          },
          "hoverlabel": {
           "align": "left"
          },
          "hovermode": "closest",
          "mapbox": {
           "style": "light"
          },
          "paper_bgcolor": "white",
          "plot_bgcolor": "white",
          "polar": {
           "angularaxis": {
            "gridcolor": "#EBF0F8",
            "linecolor": "#EBF0F8",
            "ticks": ""
           },
           "bgcolor": "white",
           "radialaxis": {
            "gridcolor": "#EBF0F8",
            "linecolor": "#EBF0F8",
            "ticks": ""
           }
          },
          "scene": {
           "xaxis": {
            "backgroundcolor": "white",
            "gridcolor": "#DFE8F3",
            "gridwidth": 2,
            "linecolor": "#EBF0F8",
            "showbackground": true,
            "ticks": "",
            "zerolinecolor": "#EBF0F8"
           },
           "yaxis": {
            "backgroundcolor": "white",
            "gridcolor": "#DFE8F3",
            "gridwidth": 2,
            "linecolor": "#EBF0F8",
            "showbackground": true,
            "ticks": "",
            "zerolinecolor": "#EBF0F8"
           },
           "zaxis": {
            "backgroundcolor": "white",
            "gridcolor": "#DFE8F3",
            "gridwidth": 2,
            "linecolor": "#EBF0F8",
            "showbackground": true,
            "ticks": "",
            "zerolinecolor": "#EBF0F8"
           }
          },
          "shapedefaults": {
           "line": {
            "color": "#2a3f5f"
           }
          },
          "ternary": {
           "aaxis": {
            "gridcolor": "#DFE8F3",
            "linecolor": "#A2B1C6",
            "ticks": ""
           },
           "baxis": {
            "gridcolor": "#DFE8F3",
            "linecolor": "#A2B1C6",
            "ticks": ""
           },
           "bgcolor": "white",
           "caxis": {
            "gridcolor": "#DFE8F3",
            "linecolor": "#A2B1C6",
            "ticks": ""
           }
          },
          "title": {
           "x": 0.05
          },
          "xaxis": {
           "automargin": true,
           "gridcolor": "#EBF0F8",
           "linecolor": "#EBF0F8",
           "ticks": "",
           "title": {
            "standoff": 15
           },
           "zerolinecolor": "#EBF0F8",
           "zerolinewidth": 2
          },
          "yaxis": {
           "automargin": true,
           "gridcolor": "#EBF0F8",
           "linecolor": "#EBF0F8",
           "ticks": "",
           "title": {
            "standoff": 15
           },
           "zerolinecolor": "#EBF0F8",
           "zerolinewidth": 2
          }
         }
        },
        "title": {
         "text": "Optimal number of areas included<br><sup>Reduction method: pca_kmeans</sup>"
        },
        "xaxis": {
         "title": {
          "text": "Index (i)"
         }
        },
        "yaxis": {
         "range": [
          0,
          1000
         ],
         "title": {
          "text": "MAE"
         }
        }
       }
      }
     },
     "metadata": {},
     "output_type": "display_data"
    }
   ],
   "source": [
    "plotter.plot_metrics('MAE', f'Optimal number of areas included', y_lim=[0,1000])"
   ]
  },
  {
   "cell_type": "markdown",
   "id": "76cab6da",
   "metadata": {},
   "source": [
    "## Fixing first ARIMA value"
   ]
  },
  {
   "cell_type": "code",
   "execution_count": 6,
   "id": "cdc3d2a0",
   "metadata": {},
   "outputs": [
    {
     "data": {
      "text/plain": [
       "(np.float64(176.8974220440179), np.float64(18.142859090673383))"
      ]
     },
     "execution_count": 6,
     "metadata": {},
     "output_type": "execute_result"
    }
   ],
   "source": [
    "import pandas as pd\n",
    "import numpy as np\n",
    "import random\n",
    "\n",
    "def compute_model_mean(data_frames, model_name='ARIMA', metric='MAE', param='mean'):\n",
    "    \"\"\"\n",
    "    Compute the mean of {metric}_mean values for a specific model across multiple DataFrames.\n",
    "\n",
    "    Args:\n",
    "        data_frames (list of pd.DataFrame): List of DataFrames with model data.\n",
    "        model_name (str): Model to filter (e.g., 'ARIMA').\n",
    "        metric (str): Metric base name (default is 'MAE').\n",
    "\n",
    "    Returns:\n",
    "        float: The average {metric}_mean across all matching entries.\n",
    "    \"\"\"\n",
    "    values = []\n",
    "\n",
    "    for i, df in enumerate(data_frames):\n",
    "        if i < 2:\n",
    "            continue\n",
    "        filtered = df[df['model'] == model_name]\n",
    "        values.extend(filtered[f'{metric}_{param}'].values)\n",
    "\n",
    "    return sum(values) / len(values) if values else None\n",
    "\n",
    "\n",
    "def compute_mean_and_variance_of_variance(data_frames, model_name='ARIMA', metric='MAE', param='mean'):\n",
    "    \"\"\"\n",
    "    Compute the mean of {metric}_mean and variance of variances ({metric}_std^2)\n",
    "    for a specific model across multiple DataFrames (skipping first two).\n",
    "\n",
    "    Returns:\n",
    "        tuple: (mean_of_means, variance_of_variances)\n",
    "    \"\"\"\n",
    "    means = []\n",
    "    variances = []\n",
    "\n",
    "    for i, df in enumerate(data_frames):\n",
    "        if i < 2:\n",
    "            continue\n",
    "        filtered = df[df['model'] == model_name]\n",
    "\n",
    "        # collect means\n",
    "        means.extend(filtered[f'{metric}_mean'].values)\n",
    "        # collect variances from std squared\n",
    "        variances.extend(filtered[f'{metric}_{'std'}'].values)\n",
    "\n",
    "    if not means or not variances:\n",
    "        return None, None\n",
    "\n",
    "    mean_of_means = np.mean(means)\n",
    "    variance_of_variances = np.var(variances, ddof=1)  # sample variance\n",
    "\n",
    "    return mean_of_means, variance_of_variances\n",
    "\n",
    "\n",
    "\n",
    "arima_MAE_mean = compute_model_mean(data, 'ARIMA', metric='RMSE', param='mean')\n",
    "arima_MAE_std = compute_model_mean(data, 'ARIMA', metric='RMSE', param='std')\n",
    "\n",
    "me, st = compute_mean_and_variance_of_variance(data, 'ARIMA', metric='MAE')\n",
    "\n",
    "arima_new_mean1 = random.normalvariate(arima_MAE_mean, arima_MAE_std)\n",
    "arima_new_std = random.normalvariate(arima_MAE_std, st)\n",
    "\n",
    "arima_new_mean1, arima_new_std\n",
    "\n",
    "\n"
   ]
  }
 ],
 "metadata": {
  "kernelspec": {
   "display_name": "Python 3",
   "language": "python",
   "name": "python3"
  },
  "language_info": {
   "codemirror_mode": {
    "name": "ipython",
    "version": 3
   },
   "file_extension": ".py",
   "mimetype": "text/x-python",
   "name": "python",
   "nbconvert_exporter": "python",
   "pygments_lexer": "ipython3",
   "version": "3.13.1"
  }
 },
 "nbformat": 4,
 "nbformat_minor": 5
}
